{
 "cells": [
  {
   "cell_type": "markdown",
   "id": "57fdf9cf-923a-4c00-9249-16da4f38ced4",
   "metadata": {},
   "source": [
    "# 1. データをデータフレームへ読み込む\n",
    "\n",
    "統計解析の対象となるデータは，データファイルとして用意され，統計解析プログラム（Julia や R や Python）でコンピュータに読み込まれ，分析・処理される。\n",
    "\n",
    "ここでは，データファイルがどのようになっているかを見ておく。\n",
    "\n",
    "## 1.1. Excel のワークシートファイル\n",
    "\n",
    "統計データに限らず，データの整理には，Excel などのスプレッドシートアプリが使われる。\n",
    "ワークシートは二次元の行列のようにまとめられている。行には観察対象や年次のように繰り返されるものを割り当てる。\n",
    "列はそれぞれの行において何種類かの観察値，測定値を割り当て，それぞれが何を表すかということで，変数ともいわれる。\n",
    "変数は整数値，実数値，文字列のいずれかのデータを取る。\n",
    "場合によっては同じ変数が幾つかの型のデータを取るような場合もあるが，最終的に集計・解析される時点では同じ型に変換される。\n",
    "\n",
    "![Image](Julia-stats2-1.png)\n",
    "\n",
    "データファイルは，XLSX 形式（拡張子が .xlsx）で保存してかまわない。\n",
    "\n",
    "XLSX 形式で保存されたファイル名を \"df.xlsx\" としたとき，XLSX パッケージを使用してデータフレーム df に読み込むことができる。\n",
    "XLS 形式はサポートしていない。"
   ]
  },
  {
   "cell_type": "code",
   "execution_count": 44,
   "id": "7c9da68f-9188-4cd9-b201-a807765bf686",
   "metadata": {},
   "outputs": [
    {
     "data": {
      "text/html": [
       "<div class=\"data-frame\"><p>5 rows × 5 columns</p><table class=\"data-frame\"><thead><tr><th></th><th>ID</th><th>Weight</th><th>Height</th><th>Age</th><th>BloodType</th></tr><tr><th></th><th title=\"Any\">Any</th><th title=\"Any\">Any</th><th title=\"Any\">Any</th><th title=\"Any\">Any</th><th title=\"Any\">Any</th></tr></thead><tbody><tr><th>1</th><td>125</td><td>44.6</td><td>157.6</td><td>17</td><td>A</td></tr><tr><th>2</th><td>321</td><td>57.3</td><td>158.8</td><td>26</td><td>B</td></tr><tr><th>3</th><td>437</td><td>54.3</td><td>162.2</td><td>22</td><td>AB</td></tr><tr><th>4</th><td>426</td><td>45.4</td><td>160.8</td><td>31</td><td>O</td></tr><tr><th>5</th><td>243</td><td>48.5</td><td>174.5</td><td>34</td><td>B</td></tr></tbody></table></div>"
      ],
      "text/latex": [
       "\\begin{tabular}{r|ccccc}\n",
       "\t& ID & Weight & Height & Age & BloodType\\\\\n",
       "\t\\hline\n",
       "\t& Any & Any & Any & Any & Any\\\\\n",
       "\t\\hline\n",
       "\t1 & 125 & 44.6 & 157.6 & 17 & A \\\\\n",
       "\t2 & 321 & 57.3 & 158.8 & 26 & B \\\\\n",
       "\t3 & 437 & 54.3 & 162.2 & 22 & AB \\\\\n",
       "\t4 & 426 & 45.4 & 160.8 & 31 & O \\\\\n",
       "\t5 & 243 & 48.5 & 174.5 & 34 & B \\\\\n",
       "\\end{tabular}\n"
      ],
      "text/plain": [
       "\u001b[1m5×5 DataFrame\u001b[0m\n",
       "\u001b[1m Row \u001b[0m│\u001b[1m ID  \u001b[0m\u001b[1m Weight \u001b[0m\u001b[1m Height \u001b[0m\u001b[1m Age \u001b[0m\u001b[1m BloodType \u001b[0m\n",
       "\u001b[1m     \u001b[0m│\u001b[90m Any \u001b[0m\u001b[90m Any    \u001b[0m\u001b[90m Any    \u001b[0m\u001b[90m Any \u001b[0m\u001b[90m Any       \u001b[0m\n",
       "─────┼─────────────────────────────────────\n",
       "   1 │ 125  44.6    157.6   17   A\n",
       "   2 │ 321  57.3    158.8   26   B\n",
       "   3 │ 437  54.3    162.2   22   AB\n",
       "   4 │ 426  45.4    160.8   31   O\n",
       "   5 │ 243  48.5    174.5   34   B"
      ]
     },
     "execution_count": 44,
     "metadata": {},
     "output_type": "execute_result"
    }
   ],
   "source": [
    "using DataFrames, XLSX\n",
    "df = DataFrame(XLSX.readtable(\"df.xlsx\", \"Sheet1\")...)"
   ]
  },
  {
   "cell_type": "markdown",
   "id": "9dd7a3a3-75db-4c4f-977a-ce5004e66fe0",
   "metadata": {},
   "source": [
    "読み込まれたデータフレームの各列はすべて Any という型を持っている。"
   ]
  },
  {
   "cell_type": "code",
   "execution_count": 45,
   "id": "8b372858-ae6c-4551-8b0c-78e29807b052",
   "metadata": {},
   "outputs": [
    {
     "data": {
      "text/plain": [
       "Vector{Any} (alias for Array{Any, 1})"
      ]
     },
     "execution_count": 45,
     "metadata": {},
     "output_type": "execute_result"
    }
   ],
   "source": [
    "typeof(df.Weight)"
   ]
  },
  {
   "cell_type": "markdown",
   "id": "71e4401c-3ec5-4863-85e4-b45a2b775d01",
   "metadata": {},
   "source": [
    "Any は最上位の型であり，特に他の型に変更する必要はないが，処理速度のパフォーマンスを上げるために変更したほうがよい場合もある。\n",
    "\n",
    "実数型，整数型，文字列型への変更はそれぞれ float.(), Int.(), sring.() で行える。\n",
    "\n",
    "なお，下の例のように列を参照するときには，データフレーム.列名 のような形式で参照する（他の参照法もあるがこれが一番簡潔）。"
   ]
  },
  {
   "cell_type": "code",
   "execution_count": 46,
   "id": "9ae5061f-99e7-45bd-96a8-0af95d6c5512",
   "metadata": {},
   "outputs": [
    {
     "data": {
      "text/plain": [
       "5-element Vector{String}:\n",
       " \"A\"\n",
       " \"B\"\n",
       " \"AB\"\n",
       " \"O\"\n",
       " \"B\""
      ]
     },
     "execution_count": 46,
     "metadata": {},
     "output_type": "execute_result"
    }
   ],
   "source": [
    "df.Weight = float.(df.Weight)\n",
    "df.ID = Int.(df.ID)\n",
    "df.BloodType = string.(df.BloodType)"
   ]
  },
  {
   "cell_type": "code",
   "execution_count": 47,
   "id": "42371ef8-6a26-44e6-a24f-7988e8af0705",
   "metadata": {},
   "outputs": [
    {
     "data": {
      "text/html": [
       "<div class=\"data-frame\"><p>5 rows × 5 columns</p><table class=\"data-frame\"><thead><tr><th></th><th>ID</th><th>Weight</th><th>Height</th><th>Age</th><th>BloodType</th></tr><tr><th></th><th title=\"Int64\">Int64</th><th title=\"Float64\">Float64</th><th title=\"Any\">Any</th><th title=\"Any\">Any</th><th title=\"String\">String</th></tr></thead><tbody><tr><th>1</th><td>125</td><td>44.6</td><td>157.6</td><td>17</td><td>A</td></tr><tr><th>2</th><td>321</td><td>57.3</td><td>158.8</td><td>26</td><td>B</td></tr><tr><th>3</th><td>437</td><td>54.3</td><td>162.2</td><td>22</td><td>AB</td></tr><tr><th>4</th><td>426</td><td>45.4</td><td>160.8</td><td>31</td><td>O</td></tr><tr><th>5</th><td>243</td><td>48.5</td><td>174.5</td><td>34</td><td>B</td></tr></tbody></table></div>"
      ],
      "text/latex": [
       "\\begin{tabular}{r|ccccc}\n",
       "\t& ID & Weight & Height & Age & BloodType\\\\\n",
       "\t\\hline\n",
       "\t& Int64 & Float64 & Any & Any & String\\\\\n",
       "\t\\hline\n",
       "\t1 & 125 & 44.6 & 157.6 & 17 & A \\\\\n",
       "\t2 & 321 & 57.3 & 158.8 & 26 & B \\\\\n",
       "\t3 & 437 & 54.3 & 162.2 & 22 & AB \\\\\n",
       "\t4 & 426 & 45.4 & 160.8 & 31 & O \\\\\n",
       "\t5 & 243 & 48.5 & 174.5 & 34 & B \\\\\n",
       "\\end{tabular}\n"
      ],
      "text/plain": [
       "\u001b[1m5×5 DataFrame\u001b[0m\n",
       "\u001b[1m Row \u001b[0m│\u001b[1m ID    \u001b[0m\u001b[1m Weight  \u001b[0m\u001b[1m Height \u001b[0m\u001b[1m Age \u001b[0m\u001b[1m BloodType \u001b[0m\n",
       "\u001b[1m     \u001b[0m│\u001b[90m Int64 \u001b[0m\u001b[90m Float64 \u001b[0m\u001b[90m Any    \u001b[0m\u001b[90m Any \u001b[0m\u001b[90m String    \u001b[0m\n",
       "─────┼────────────────────────────────────────\n",
       "   1 │   125     44.6  157.6   17   A\n",
       "   2 │   321     57.3  158.8   26   B\n",
       "   3 │   437     54.3  162.2   22   AB\n",
       "   4 │   426     45.4  160.8   31   O\n",
       "   5 │   243     48.5  174.5   34   B"
      ]
     },
     "execution_count": 47,
     "metadata": {},
     "output_type": "execute_result"
    }
   ],
   "source": [
    "df"
   ]
  },
  {
   "cell_type": "markdown",
   "id": "5a91ceba-f757-494e-b63c-354a73144088",
   "metadata": {},
   "source": [
    "Any 型が必要な場合もある。その一つの例が，欠損値 missing を扱う場合である。missing は 実数型でも整数型でも文字列型でもないため，それらの型を持つ変数へ代入することができない。"
   ]
  },
  {
   "cell_type": "code",
   "execution_count": 48,
   "id": "0dd55193-0882-4e69-82c6-cf83556ce1ab",
   "metadata": {},
   "outputs": [
    {
     "data": {
      "text/plain": [
       "Missing"
      ]
     },
     "execution_count": 48,
     "metadata": {},
     "output_type": "execute_result"
    }
   ],
   "source": [
    "typeof(missing)"
   ]
  },
  {
   "cell_type": "code",
   "execution_count": 49,
   "id": "63203df4-9b10-411a-b893-7832476415b3",
   "metadata": {},
   "outputs": [
    {
     "ename": "LoadError",
     "evalue": "MethodError: \u001b[0mCannot `convert` an object of type \u001b[92mMissing\u001b[39m\u001b[0m to an object of type \u001b[91mFloat64\u001b[39m\n\u001b[0mClosest candidates are:\n\u001b[0m  convert(::Type{T}, \u001b[91m::Base.TwicePrecision\u001b[39m) where T<:Number at /Applications/Julia-1.7.app/Contents/Resources/julia/share/julia/base/twiceprecision.jl:262\n\u001b[0m  convert(::Type{T}, \u001b[91m::AbstractChar\u001b[39m) where T<:Number at /Applications/Julia-1.7.app/Contents/Resources/julia/share/julia/base/char.jl:185\n\u001b[0m  convert(::Type{T}, \u001b[91m::CartesianIndex{1}\u001b[39m) where T<:Number at /Applications/Julia-1.7.app/Contents/Resources/julia/share/julia/base/multidimensional.jl:136\n\u001b[0m  ...",
     "output_type": "error",
     "traceback": [
      "MethodError: \u001b[0mCannot `convert` an object of type \u001b[92mMissing\u001b[39m\u001b[0m to an object of type \u001b[91mFloat64\u001b[39m\n\u001b[0mClosest candidates are:\n\u001b[0m  convert(::Type{T}, \u001b[91m::Base.TwicePrecision\u001b[39m) where T<:Number at /Applications/Julia-1.7.app/Contents/Resources/julia/share/julia/base/twiceprecision.jl:262\n\u001b[0m  convert(::Type{T}, \u001b[91m::AbstractChar\u001b[39m) where T<:Number at /Applications/Julia-1.7.app/Contents/Resources/julia/share/julia/base/char.jl:185\n\u001b[0m  convert(::Type{T}, \u001b[91m::CartesianIndex{1}\u001b[39m) where T<:Number at /Applications/Julia-1.7.app/Contents/Resources/julia/share/julia/base/multidimensional.jl:136\n\u001b[0m  ...",
      "",
      "Stacktrace:",
      " [1] setindex!(A::Vector{Float64}, x::Missing, i1::Int64)",
      "   @ Base ./array.jl:903",
      " [2] top-level scope",
      "   @ In[49]:1",
      " [3] eval",
      "   @ ./boot.jl:373 [inlined]",
      " [4] include_string(mapexpr::typeof(REPL.softscope), mod::Module, code::String, filename::String)",
      "   @ Base ./loading.jl:1196"
     ]
    }
   ],
   "source": [
    "df.Weight[1] = missing # これは，エラーになる\n",
    "MethodError: Cannot `convert` an object of type Missing to an object of type Float64"
   ]
  },
  {
   "cell_type": "markdown",
   "id": "efd7fc9a-c69a-4b4b-939f-b4a8ee3f7156",
   "metadata": {},
   "source": [
    "df.Height の型は Any なので，missing を代入できる。"
   ]
  },
  {
   "cell_type": "code",
   "execution_count": 50,
   "id": "00edd2f7-877b-402b-90d5-e35e5747c129",
   "metadata": {},
   "outputs": [
    {
     "data": {
      "text/plain": [
       "missing"
      ]
     },
     "execution_count": 50,
     "metadata": {},
     "output_type": "execute_result"
    }
   ],
   "source": [
    "df.Height[1] = missing # これはエラーにならない"
   ]
  },
  {
   "cell_type": "markdown",
   "id": "19205c1a-fa73-4775-9907-306a977a822a",
   "metadata": {},
   "source": [
    "## 1.2. CSV ファイル\n",
    "\n",
    "上述のように XLSX 形式のワークシートファイルは XLSX.readtable() によって直接読み込むこともできるが，XLS 形式のワークシートには対応していない。\n",
    "また，Excel のバージョンアップなどで，XLSX.readtable() が対応できなくなる可能性もある。\n",
    "このようなことから，一般性を保証するためには CSV 形式（拡張子が .csv）で保存することが望ましい。\n",
    "\n",
    "CSV ファイルは以下のようになっている。1 行目に変数名，2 行目以降にデータが，それぞれカンマで区切られている。\n",
    "\n",
    "ID,Weight,Height,Age,BloodType<br>\n",
    "125,44.6,157.6,17,A<br>\n",
    "321,57.3,158.8,26,B<br>\n",
    "437,54.3,162.2,22,AB<br>\n",
    "426,45.4,160.8,31,O<br>\n",
    "243,48.5,174.5,34,B\n",
    "\n",
    "これをデータフレームとして読み込むのは，以下のようにする。"
   ]
  },
  {
   "cell_type": "code",
   "execution_count": 3,
   "id": "3a85aa13-e1ad-4ee2-b3a2-6d3150c13c71",
   "metadata": {},
   "outputs": [
    {
     "data": {
      "text/html": [
       "<div class=\"data-frame\"><p>5 rows × 5 columns</p><table class=\"data-frame\"><thead><tr><th></th><th>ID</th><th>Weight</th><th>Height</th><th>Age</th><th>BloodType</th></tr><tr><th></th><th title=\"Int64\">Int64</th><th title=\"Float64\">Float64</th><th title=\"Float64\">Float64</th><th title=\"Int64\">Int64</th><th title=\"String\">String</th></tr></thead><tbody><tr><th>1</th><td>125</td><td>44.6</td><td>157.6</td><td>17</td><td>A</td></tr><tr><th>2</th><td>321</td><td>57.3</td><td>158.8</td><td>26</td><td>B</td></tr><tr><th>3</th><td>437</td><td>54.3</td><td>162.2</td><td>22</td><td>AB</td></tr><tr><th>4</th><td>426</td><td>45.4</td><td>160.8</td><td>31</td><td>O</td></tr><tr><th>5</th><td>243</td><td>48.5</td><td>174.5</td><td>34</td><td>B</td></tr></tbody></table></div>"
      ],
      "text/latex": [
       "\\begin{tabular}{r|ccccc}\n",
       "\t& ID & Weight & Height & Age & BloodType\\\\\n",
       "\t\\hline\n",
       "\t& Int64 & Float64 & Float64 & Int64 & String\\\\\n",
       "\t\\hline\n",
       "\t1 & 125 & 44.6 & 157.6 & 17 & A \\\\\n",
       "\t2 & 321 & 57.3 & 158.8 & 26 & B \\\\\n",
       "\t3 & 437 & 54.3 & 162.2 & 22 & AB \\\\\n",
       "\t4 & 426 & 45.4 & 160.8 & 31 & O \\\\\n",
       "\t5 & 243 & 48.5 & 174.5 & 34 & B \\\\\n",
       "\\end{tabular}\n"
      ],
      "text/plain": [
       "\u001b[1m5×5 DataFrame\u001b[0m\n",
       "\u001b[1m Row \u001b[0m│\u001b[1m ID    \u001b[0m\u001b[1m Weight  \u001b[0m\u001b[1m Height  \u001b[0m\u001b[1m Age   \u001b[0m\u001b[1m BloodType \u001b[0m\n",
       "\u001b[1m     \u001b[0m│\u001b[90m Int64 \u001b[0m\u001b[90m Float64 \u001b[0m\u001b[90m Float64 \u001b[0m\u001b[90m Int64 \u001b[0m\u001b[90m String    \u001b[0m\n",
       "─────┼───────────────────────────────────────────\n",
       "   1 │   125     44.6    157.6     17  A\n",
       "   2 │   321     57.3    158.8     26  B\n",
       "   3 │   437     54.3    162.2     22  AB\n",
       "   4 │   426     45.4    160.8     31  O\n",
       "   5 │   243     48.5    174.5     34  B"
      ]
     },
     "execution_count": 3,
     "metadata": {},
     "output_type": "execute_result"
    }
   ],
   "source": [
    "using CSV, DataFrames\n",
    "df = CSV.read(\"df.csv\", DataFrame)"
   ]
  },
  {
   "cell_type": "markdown",
   "id": "f5fe67e7-eae7-413f-8f54-919fdcb197eb",
   "metadata": {},
   "source": [
    "データフレームの各列の型は，実際に入力されるデータから推論され妥当なものになっている。\n",
    "\n",
    "当然，前述したように，Any 型以外の場合には missing は代入できない。\n",
    "\n",
    "## 1.3. 一般の CSV ファイル\n",
    "\n",
    "CSV ファイルは Excel ファイルの一般的な保存形式ということに限らず，単に，前述したような 1 行目に変数名，2列目以降にデータをカンマで区切って列挙したものということである。\n",
    "\n",
    "Excel を使わずとも単純なエディタで CSV ファイルをつくることもできる。\n",
    "また，世の中にある CSV ファイルの中には CSV.read(ファイル名, DataFrame) だけでは読み込めないものもある。\n",
    "\n",
    "それらに対応するために CSV.read() が持っているいくつかのオプション（引数）についてまとめておこう。詳しくは https://csv.juliadata.org/stable/ を参照。\n",
    "\n",
    "### header=整数\n",
    "列名の定義について指定する。省略されている場合は，適当に解釈される。<br>\n",
    "列名が何行目に定義されているかを指定する。<br>\n",
    "デフォルトでは header=1。<br>\n",
    "2 以上の値が指定されたときはそれまでの行は読み飛ばされる。<br>\n",
    "また，列名の指定行のすぐ後からデータが始まると解釈されるので，もし読み飛ばすべき行があるならば，skipto, datarow でデータ開始行を指定する。<br>\n",
    "例　df = CSV.read(\"small.csv\", DataFrame, header=0, skipto=2)\n",
    "\n",
    "### header=0 もしくは header=false\n",
    "列名を持たないファイルの場合は，列名を自動生成することができる。<br>\n",
    "例　df = CSV.read(\"small.csv\", DataFrame, header=0)\n",
    "\n",
    "### header=[\"ab\", \"cd\", ...]\n",
    "文字列ベクトルで列名を定義する。<br>\n",
    "例　df = CSV.read(\"small.csv\", DataFrame, header=[\"a1\", \"b1\", \"c1\"])\n",
    "\n",
    "### header=[:ab, :cd, ...]\n",
    "シンボルベクトルで列名を定義する。<br>\n",
    "例　df = CSV.read(\"small.csv\", DataFrame, header=[:a, :b, :c]])\n",
    "\n",
    "### datarow, skipto\n",
    "\n",
    "データが始まる行番号を指定する。どちらも同じ。\n",
    "\n",
    "### footerskip\n",
    "\n",
    "データの最後の何行を読み飛ばすかを指定する。\n",
    "\n",
    "### limit\n",
    "入力行数の制限\n",
    "\n",
    "### transpose=false\n",
    "行と列を転置して入力する。\n",
    "\n",
    "### comment\n",
    "指定した文字列から始まる行を（コメント行として）読み飛ばす。\n",
    "\n",
    "### ignoreemptylines=true\n",
    "空行を読み飛ばす\n",
    "\n",
    "### select\n",
    "選択する列をベクトルで指定する。<br>\n",
    "select=[1, 3]　列番号で指定<br>\n",
    "select=[:a, :c]　列シンボルで指定<br>\n",
    "select=[\"a\", \"c\"]　列名で指定<br>\n",
    "select=[true, false, true]　論理値で指定<br>\n",
    "select=(i, nm) -> i in (1, 3)　ラムダ式（無名関数）で指定<br>\n",
    "\n",
    "### drop\n",
    "選択しない列をベクトルで指定する（select の逆である）。\n",
    "\n",
    "### missingstrings, missingstring\n",
    "欠損値を表す文字列を指定する。R では NA が自動的に欠損値扱いになるが，Julia では特別に指定しないといけないので注意が必要である。<br>\n",
    "missingstring=\"-999\"<br>\n",
    "missingstrings=[\"-999\", \"NA\"]\n",
    "\n",
    "### delim=','\n",
    "データのデリミターをシングルクオートでくくって指定する。<br>\n",
    "最初の 10 行を見て，カンマ(',')，タブ('\\t')，半角空白(' ')，コロン(':')，セミコロン(';')，連結 concatenation('|') のどれかをデリミターと解釈する。<br>\n",
    "delim=\"@@@\" のように文字列も使える\n",
    "\n",
    "### ignorerepeated=false\n",
    "連続するデリミタを無視するかどうかを指示する。<br>\n",
    "複数の空白で桁位置を揃えて入力されたファイルを読むときなどには，\n",
    "delim=' ', ignorerepeated=true を指定すればよい。\n",
    "\n",
    "### quotechar='\"'\n",
    "文字列をくくる引用符である。\n",
    "\n",
    "### escapechar='\"'\n",
    "引用符のエスケープ文字である。\n",
    "\n",
    "### dateformat\n",
    "日付，時間のフォーマットを示す文字列である。<br>\n",
    "dateformat=\"yyyy/mm/dd\" など\n",
    "\n",
    "### dateformats\n",
    "日付，時間のフォーマットを辞書型で示す。\n",
    "\n",
    "### decimal='.'\n",
    "小数点を表す文字をシングルクオートくくて指定する。\n",
    "\n",
    "### truestrings=[\"T\", \"TRUE\"]\n",
    "true の他に真値を表す文字列を定義する。\n",
    "\n",
    "### falsestrings=[\"F\", \"FALSE\"]\n",
    "false の他に真値を表す文字列を定義する。\n",
    "\n",
    "### type\n",
    "ファイル全体に共通する唯一のデータ型を指定する。<br>\n",
    "項目全て（全列）をここで指定した型として読む。<br>\n",
    "実数データ行列を読むときに type=Float64 のように指定する。整数の場合は Int，文字列の場合は String である。\n",
    "\n",
    "### types\n",
    "列ごとのデータ型を指定する。<br>\n",
    "ベクトルで与える場合は，全ての列について指定する。<br>\n",
    "types=Dict(3 => Int)　　3 列目の変数は整数ということを指定する。<br>\n",
    "types=Dict(:col3 => Int)　　3 列目の変数は整数ということを指定する。<br>\n",
    "types=Dict(\"col4\" => Float64)　　\"col4\" という列の変数は実数であることを指定する。<br>\n",
    "types=[Int, Float64, String]\n",
    "\n",
    "### typemap\n",
    "特定の型の入力値を別の型として読み込む。<br>\n",
    "型のマッピング Dict(Float64=>String) のように指定する。<br>\n",
    "typemap=Dict(Int => String)　　整数を文字列として読み込む。<br>\n",
    "types=Dict(:zipcode => String)　　郵便コードを文字列として読み込む。\n",
    "\n",
    "### pool\n",
    "lazystrings=false\n",
    "\n",
    "### strict=false\n",
    "不正な値は警告して missing にする\n",
    "\n",
    "### silencewarnings=false\n",
    "strict=false のとき，不正な値の警告はしない\n",
    "\n",
    "### maxwarnings=100\n",
    "警告を表示する最高回数"
   ]
  },
  {
   "cell_type": "markdown",
   "id": "e34bedc3-8229-4aad-8bbf-58379ace84a6",
   "metadata": {},
   "source": [
    "## 1.4. モニター上に表示された表をデータフレームに読み込む\n",
    "\n",
    "ブラウザで表示した Web ページや，Word などの文章中に含まれる，見かけが表のようなデータをデータフレームとして読み取りたいことがある。\n",
    "\n",
    "例えば，今見ている文書の「1.2. CSV ファイル」節に 2 つのデータの表示がある。\n",
    "\n",
    "ID,Weight,Height,Age,BloodType<br>\n",
    "125,44.6,157.6,17,A<br>\n",
    "321,57.3,158.8,26,B<br>\n",
    "437,54.3,162.2,22,AB<br>\n",
    "426,45.4,160.8,31,O<br>\n",
    "243,48.5,174.5,34,B\n",
    "\n",
    "と"
   ]
  },
  {
   "cell_type": "code",
   "execution_count": 52,
   "id": "3a2f1146-dcd9-4da0-af59-9f7e9a02fae2",
   "metadata": {
    "jupyter": {
     "source_hidden": true
    },
    "tags": []
   },
   "outputs": [
    {
     "data": {
      "text/html": [
       "<div class=\"data-frame\"><p>5 rows × 5 columns</p><table class=\"data-frame\"><thead><tr><th></th><th>ID</th><th>Weight</th><th>Height</th><th>Age</th><th>BloodType</th></tr><tr><th></th><th title=\"Int64\">Int64</th><th title=\"Float64\">Float64</th><th title=\"Float64\">Float64</th><th title=\"Int64\">Int64</th><th title=\"String\">String</th></tr></thead><tbody><tr><th>1</th><td>125</td><td>44.6</td><td>157.6</td><td>17</td><td>A</td></tr><tr><th>2</th><td>321</td><td>57.3</td><td>158.8</td><td>26</td><td>B</td></tr><tr><th>3</th><td>437</td><td>54.3</td><td>162.2</td><td>22</td><td>AB</td></tr><tr><th>4</th><td>426</td><td>45.4</td><td>160.8</td><td>31</td><td>O</td></tr><tr><th>5</th><td>243</td><td>48.5</td><td>174.5</td><td>34</td><td>B</td></tr></tbody></table></div>"
      ],
      "text/latex": [
       "\\begin{tabular}{r|ccccc}\n",
       "\t& ID & Weight & Height & Age & BloodType\\\\\n",
       "\t\\hline\n",
       "\t& Int64 & Float64 & Float64 & Int64 & String\\\\\n",
       "\t\\hline\n",
       "\t1 & 125 & 44.6 & 157.6 & 17 & A \\\\\n",
       "\t2 & 321 & 57.3 & 158.8 & 26 & B \\\\\n",
       "\t3 & 437 & 54.3 & 162.2 & 22 & AB \\\\\n",
       "\t4 & 426 & 45.4 & 160.8 & 31 & O \\\\\n",
       "\t5 & 243 & 48.5 & 174.5 & 34 & B \\\\\n",
       "\\end{tabular}\n"
      ],
      "text/plain": [
       "\u001b[1m5×5 DataFrame\u001b[0m\n",
       "\u001b[1m Row \u001b[0m│\u001b[1m ID    \u001b[0m\u001b[1m Weight  \u001b[0m\u001b[1m Height  \u001b[0m\u001b[1m Age   \u001b[0m\u001b[1m BloodType \u001b[0m\n",
       "\u001b[1m     \u001b[0m│\u001b[90m Int64 \u001b[0m\u001b[90m Float64 \u001b[0m\u001b[90m Float64 \u001b[0m\u001b[90m Int64 \u001b[0m\u001b[90m String    \u001b[0m\n",
       "─────┼───────────────────────────────────────────\n",
       "   1 │   125     44.6    157.6     17  A\n",
       "   2 │   321     57.3    158.8     26  B\n",
       "   3 │   437     54.3    162.2     22  AB\n",
       "   4 │   426     45.4    160.8     31  O\n",
       "   5 │   243     48.5    174.5     34  B"
      ]
     },
     "execution_count": 52,
     "metadata": {},
     "output_type": "execute_result"
    }
   ],
   "source": [
    "df"
   ]
  },
  {
   "cell_type": "markdown",
   "id": "8dfe7a15-eb43-48fd-b666-bc10528a2014",
   "metadata": {},
   "source": [
    "である。\n",
    "\n",
    "まず，これを CSV ファイルとして保存する。\n",
    "それぞれをコピーしてテキストエディタにペーストし，たとえば data1.csv，data2.csv という名前で保存する。\n",
    "\n",
    "行頭，行末に複数の空白があるような場合にはテキストエディタではなく Excel などのワークシートアプリに読み込ませればデータ部分を取り出すのが容易になることもある。同時にいくばくかの編集も行うことができる。その後 CSV ファイルとして保存すればよい。\n",
    "\n",
    "データファイルに読み込むには，CSV.read() を用いる。保存した CSV ファイルが，何らかの点で標準のものと違う場合には，それに対応するために前節の CSV.read() の引数を使用する。\n",
    "\n",
    "data1.csv は，1 行目に変数名，2行目以降にデータという構成の標準的な CSV ファイルなので，簡単に読み込める。"
   ]
  },
  {
   "cell_type": "code",
   "execution_count": 53,
   "id": "8ef8eb30-9de8-46a9-9d5a-998164bb7413",
   "metadata": {},
   "outputs": [
    {
     "data": {
      "text/html": [
       "<div class=\"data-frame\"><p>5 rows × 5 columns</p><table class=\"data-frame\"><thead><tr><th></th><th>ID</th><th>Weight</th><th>Height</th><th>Age</th><th>BloodType</th></tr><tr><th></th><th title=\"Int64\">Int64</th><th title=\"Float64\">Float64</th><th title=\"Float64\">Float64</th><th title=\"Int64\">Int64</th><th title=\"String\">String</th></tr></thead><tbody><tr><th>1</th><td>125</td><td>44.6</td><td>157.6</td><td>17</td><td>A</td></tr><tr><th>2</th><td>321</td><td>57.3</td><td>158.8</td><td>26</td><td>B</td></tr><tr><th>3</th><td>437</td><td>54.3</td><td>162.2</td><td>22</td><td>AB</td></tr><tr><th>4</th><td>426</td><td>45.4</td><td>160.8</td><td>31</td><td>O</td></tr><tr><th>5</th><td>243</td><td>48.5</td><td>174.5</td><td>34</td><td>B</td></tr></tbody></table></div>"
      ],
      "text/latex": [
       "\\begin{tabular}{r|ccccc}\n",
       "\t& ID & Weight & Height & Age & BloodType\\\\\n",
       "\t\\hline\n",
       "\t& Int64 & Float64 & Float64 & Int64 & String\\\\\n",
       "\t\\hline\n",
       "\t1 & 125 & 44.6 & 157.6 & 17 & A \\\\\n",
       "\t2 & 321 & 57.3 & 158.8 & 26 & B \\\\\n",
       "\t3 & 437 & 54.3 & 162.2 & 22 & AB \\\\\n",
       "\t4 & 426 & 45.4 & 160.8 & 31 & O \\\\\n",
       "\t5 & 243 & 48.5 & 174.5 & 34 & B \\\\\n",
       "\\end{tabular}\n"
      ],
      "text/plain": [
       "\u001b[1m5×5 DataFrame\u001b[0m\n",
       "\u001b[1m Row \u001b[0m│\u001b[1m ID    \u001b[0m\u001b[1m Weight  \u001b[0m\u001b[1m Height  \u001b[0m\u001b[1m Age   \u001b[0m\u001b[1m BloodType \u001b[0m\n",
       "\u001b[1m     \u001b[0m│\u001b[90m Int64 \u001b[0m\u001b[90m Float64 \u001b[0m\u001b[90m Float64 \u001b[0m\u001b[90m Int64 \u001b[0m\u001b[90m String    \u001b[0m\n",
       "─────┼───────────────────────────────────────────\n",
       "   1 │   125     44.6    157.6     17  A\n",
       "   2 │   321     57.3    158.8     26  B\n",
       "   3 │   437     54.3    162.2     22  AB\n",
       "   4 │   426     45.4    160.8     31  O\n",
       "   5 │   243     48.5    174.5     34  B"
      ]
     },
     "execution_count": 53,
     "metadata": {},
     "output_type": "execute_result"
    }
   ],
   "source": [
    "using CSV, DataFrames\n",
    "df1 = CSV.read(\"data1.csv\", DataFrame)"
   ]
  },
  {
   "cell_type": "markdown",
   "id": "fb5f5f81-97a7-47d0-86e9-32cca8294eca",
   "metadata": {},
   "source": [
    "data2.csv はデータ部分の最も左の列は本来のデータではなくデータフレームでの通し番号である。1 行目の変数名にはこれが含まれない。\n",
    "\n",
    "このデータを読み込むための対処法はいくつかある。\n",
    "\n",
    "* data2.csv をテキストエディタで開いて，一行目の変数名の最初に任意の（他と重複しない）変数名を付け加える。\n",
    "* data2.csv をテキストエディタで開いて，データ部分の最初の列を削除する。\n",
    "* CSV.read() の引数 header で列名を定義する。\n",
    "\n",
    "どれも一長一短であるが，最後の選択肢がわかりやすいかもしれない。"
   ]
  },
  {
   "cell_type": "code",
   "execution_count": 54,
   "id": "dd13dd98-632e-4096-81f8-c0ca9a3bd17b",
   "metadata": {},
   "outputs": [
    {
     "data": {
      "text/html": [
       "<div class=\"data-frame\"><p>5 rows × 6 columns</p><table class=\"data-frame\"><thead><tr><th></th><th>No</th><th>ID</th><th>Weight</th><th>Height</th><th>Age</th><th>BloodType</th></tr><tr><th></th><th title=\"Int64\">Int64</th><th title=\"Int64\">Int64</th><th title=\"Float64\">Float64</th><th title=\"Float64\">Float64</th><th title=\"Int64\">Int64</th><th title=\"String\">String</th></tr></thead><tbody><tr><th>1</th><td>1</td><td>125</td><td>44.6</td><td>157.6</td><td>17</td><td>A</td></tr><tr><th>2</th><td>2</td><td>321</td><td>57.3</td><td>158.8</td><td>26</td><td>B</td></tr><tr><th>3</th><td>3</td><td>437</td><td>54.3</td><td>162.2</td><td>22</td><td>AB</td></tr><tr><th>4</th><td>4</td><td>426</td><td>45.4</td><td>160.8</td><td>31</td><td>O</td></tr><tr><th>5</th><td>5</td><td>243</td><td>48.5</td><td>174.5</td><td>34</td><td>B</td></tr></tbody></table></div>"
      ],
      "text/latex": [
       "\\begin{tabular}{r|cccccc}\n",
       "\t& No & ID & Weight & Height & Age & BloodType\\\\\n",
       "\t\\hline\n",
       "\t& Int64 & Int64 & Float64 & Float64 & Int64 & String\\\\\n",
       "\t\\hline\n",
       "\t1 & 1 & 125 & 44.6 & 157.6 & 17 & A \\\\\n",
       "\t2 & 2 & 321 & 57.3 & 158.8 & 26 & B \\\\\n",
       "\t3 & 3 & 437 & 54.3 & 162.2 & 22 & AB \\\\\n",
       "\t4 & 4 & 426 & 45.4 & 160.8 & 31 & O \\\\\n",
       "\t5 & 5 & 243 & 48.5 & 174.5 & 34 & B \\\\\n",
       "\\end{tabular}\n"
      ],
      "text/plain": [
       "\u001b[1m5×6 DataFrame\u001b[0m\n",
       "\u001b[1m Row \u001b[0m│\u001b[1m No    \u001b[0m\u001b[1m ID    \u001b[0m\u001b[1m Weight  \u001b[0m\u001b[1m Height  \u001b[0m\u001b[1m Age   \u001b[0m\u001b[1m BloodType \u001b[0m\n",
       "\u001b[1m     \u001b[0m│\u001b[90m Int64 \u001b[0m\u001b[90m Int64 \u001b[0m\u001b[90m Float64 \u001b[0m\u001b[90m Float64 \u001b[0m\u001b[90m Int64 \u001b[0m\u001b[90m String    \u001b[0m\n",
       "─────┼──────────────────────────────────────────────────\n",
       "   1 │     1    125     44.6    157.6     17  A\n",
       "   2 │     2    321     57.3    158.8     26  B\n",
       "   3 │     3    437     54.3    162.2     22  AB\n",
       "   4 │     4    426     45.4    160.8     31  O\n",
       "   5 │     5    243     48.5    174.5     34  B"
      ]
     },
     "execution_count": 54,
     "metadata": {},
     "output_type": "execute_result"
    }
   ],
   "source": [
    "df2 = CSV.read(\"data2.csv\", DataFrame, header=[:No, :ID, :Weight, :Height, :Age, :BloodType], datarow=3)"
   ]
  },
  {
   "cell_type": "markdown",
   "id": "d1c52aeb-26e4-43f7-a584-f70ead39cb8f",
   "metadata": {},
   "source": [
    "もし，このような煩わしい処理が何度も必要であれば，以下のような Julia プログラムを用意すればよい。\n",
    "\n",
    "* このプログラムは，まず csv ファイルの 1 行目から列名を読む。<br>\n",
    "* 次に，datarow 以降のデータから 1 列目を除いて列名なしのデータフレームとして読む。<br>\n",
    "* 最後に，データフレームの列名を付けて，返す。"
   ]
  },
  {
   "cell_type": "code",
   "execution_count": 55,
   "id": "ab99bf01-4d90-42c4-8cef-61f6ce932550",
   "metadata": {},
   "outputs": [
    {
     "data": {
      "text/plain": [
       "readcsvfile (generic function with 1 method)"
      ]
     },
     "execution_count": 55,
     "metadata": {},
     "output_type": "execute_result"
    }
   ],
   "source": [
    "function readcsvfile(fn; datarow=3)\n",
    "    f = open(fn, \"r\")\n",
    "    names = split(readline(fn))\n",
    "    close(f)\n",
    "    df = CSV.read(fn, DataFrame, header=0, datarow=datarow, drop=[1])\n",
    "    rename!(df, names)\n",
    "    df\n",
    "end"
   ]
  },
  {
   "cell_type": "markdown",
   "id": "e2e3189f-e5ec-439a-812a-2e111d4a7ece",
   "metadata": {},
   "source": [
    "使用法は次のようにする。datarow はデフォルトで 3 になっているので，それ以外のときには明示指定する。"
   ]
  },
  {
   "cell_type": "code",
   "execution_count": 56,
   "id": "114b7fa1-462d-41d5-80f1-4297c59cab42",
   "metadata": {},
   "outputs": [
    {
     "data": {
      "text/html": [
       "<div class=\"data-frame\"><p>5 rows × 5 columns</p><table class=\"data-frame\"><thead><tr><th></th><th>ID</th><th>Weight</th><th>Height</th><th>Age</th><th>BloodType</th></tr><tr><th></th><th title=\"Int64\">Int64</th><th title=\"Float64\">Float64</th><th title=\"Float64\">Float64</th><th title=\"Int64\">Int64</th><th title=\"String\">String</th></tr></thead><tbody><tr><th>1</th><td>125</td><td>44.6</td><td>157.6</td><td>17</td><td>A</td></tr><tr><th>2</th><td>321</td><td>57.3</td><td>158.8</td><td>26</td><td>B</td></tr><tr><th>3</th><td>437</td><td>54.3</td><td>162.2</td><td>22</td><td>AB</td></tr><tr><th>4</th><td>426</td><td>45.4</td><td>160.8</td><td>31</td><td>O</td></tr><tr><th>5</th><td>243</td><td>48.5</td><td>174.5</td><td>34</td><td>B</td></tr></tbody></table></div>"
      ],
      "text/latex": [
       "\\begin{tabular}{r|ccccc}\n",
       "\t& ID & Weight & Height & Age & BloodType\\\\\n",
       "\t\\hline\n",
       "\t& Int64 & Float64 & Float64 & Int64 & String\\\\\n",
       "\t\\hline\n",
       "\t1 & 125 & 44.6 & 157.6 & 17 & A \\\\\n",
       "\t2 & 321 & 57.3 & 158.8 & 26 & B \\\\\n",
       "\t3 & 437 & 54.3 & 162.2 & 22 & AB \\\\\n",
       "\t4 & 426 & 45.4 & 160.8 & 31 & O \\\\\n",
       "\t5 & 243 & 48.5 & 174.5 & 34 & B \\\\\n",
       "\\end{tabular}\n"
      ],
      "text/plain": [
       "\u001b[1m5×5 DataFrame\u001b[0m\n",
       "\u001b[1m Row \u001b[0m│\u001b[1m ID    \u001b[0m\u001b[1m Weight  \u001b[0m\u001b[1m Height  \u001b[0m\u001b[1m Age   \u001b[0m\u001b[1m BloodType \u001b[0m\n",
       "\u001b[1m     \u001b[0m│\u001b[90m Int64 \u001b[0m\u001b[90m Float64 \u001b[0m\u001b[90m Float64 \u001b[0m\u001b[90m Int64 \u001b[0m\u001b[90m String    \u001b[0m\n",
       "─────┼───────────────────────────────────────────\n",
       "   1 │   125     44.6    157.6     17  A\n",
       "   2 │   321     57.3    158.8     26  B\n",
       "   3 │   437     54.3    162.2     22  AB\n",
       "   4 │   426     45.4    160.8     31  O\n",
       "   5 │   243     48.5    174.5     34  B"
      ]
     },
     "execution_count": 56,
     "metadata": {},
     "output_type": "execute_result"
    }
   ],
   "source": [
    "df = readcsvfile(\"data2.csv\")"
   ]
  },
  {
   "cell_type": "markdown",
   "id": "a30b2863-26cd-48d2-b87e-b9b86a19b486",
   "metadata": {},
   "source": [
    "## 1.5. クリップボードにコピーした内容をデータフレームにする\n",
    "\n",
    "モニターに表示された標準的なデータフレームの形式をしたデータをデータフレームに読み込む。\n",
    "\n",
    "このような場合は，CSV.read() の第 1 引数として，ファイル名ではなく IOBuffer(clipboard()) を指定すれば良い。\n",
    "\n",
    "使用法は，たとえば以下のようなデータフレーム様の部分を control+C（Windows の場合は Ctrl+C）でコピーして，すぐに，<br>\n",
    "df = CSV.read(IOBuffer(clipboard()), DataFrame)<br>\n",
    "を実行する。\n",
    "\n",
    "以下の 3 行は，カンマで区切られたデータフレーム様の場合である。これをコピーし，\n",
    "\n",
    "<pre>\n",
    "foo,bar,baz\n",
    "1,2,3\n",
    "4,5,6</pre>\n",
    "\n",
    "次の 1 行のプログラムを実行する。"
   ]
  },
  {
   "cell_type": "code",
   "execution_count": 63,
   "id": "1514aa2d-0e99-4cf6-a1c4-5fddfe81e58d",
   "metadata": {},
   "outputs": [
    {
     "data": {
      "text/html": [
       "<div class=\"data-frame\"><p>2 rows × 3 columns</p><table class=\"data-frame\"><thead><tr><th></th><th>foo</th><th>bar</th><th>baz</th></tr><tr><th></th><th title=\"Int64\">Int64</th><th title=\"Int64\">Int64</th><th title=\"Int64\">Int64</th></tr></thead><tbody><tr><th>1</th><td>1</td><td>2</td><td>3</td></tr><tr><th>2</th><td>4</td><td>5</td><td>6</td></tr></tbody></table></div>"
      ],
      "text/latex": [
       "\\begin{tabular}{r|ccc}\n",
       "\t& foo & bar & baz\\\\\n",
       "\t\\hline\n",
       "\t& Int64 & Int64 & Int64\\\\\n",
       "\t\\hline\n",
       "\t1 & 1 & 2 & 3 \\\\\n",
       "\t2 & 4 & 5 & 6 \\\\\n",
       "\\end{tabular}\n"
      ],
      "text/plain": [
       "\u001b[1m2×3 DataFrame\u001b[0m\n",
       "\u001b[1m Row \u001b[0m│\u001b[1m foo   \u001b[0m\u001b[1m bar   \u001b[0m\u001b[1m baz   \u001b[0m\n",
       "\u001b[1m     \u001b[0m│\u001b[90m Int64 \u001b[0m\u001b[90m Int64 \u001b[0m\u001b[90m Int64 \u001b[0m\n",
       "─────┼─────────────────────\n",
       "   1 │     1      2      3\n",
       "   2 │     4      5      6"
      ]
     },
     "execution_count": 63,
     "metadata": {},
     "output_type": "execute_result"
    }
   ],
   "source": [
    "df = CSV.read(IOBuffer(clipboard()), DataFrame)"
   ]
  },
  {
   "cell_type": "markdown",
   "id": "c958b711-cd7f-4f13-bb7c-969509cd5946",
   "metadata": {},
   "source": [
    "次の例は，空白で区切られたデータフレーム様の場合である。\n",
    "\n",
    "CSV.read() の引数で，delim=' ', ignorerepeated=true　を使用する。\n",
    "\n",
    "なお，見た目が空白でも，全角空白やタブで区切られている場合があるので必ずしも簡単に読めるわけではない。そのような場合には，一旦 CSV ファイルとして保存し，ファイルに必要な修正を加えた後 CSV.read() する。\n",
    "\n",
    "以下をコピーし，\n",
    "\n",
    "<pre>\n",
    "foo bar baz\n",
    "1   2   3\n",
    "4   5   6</pre>\n",
    "\n",
    "次の 1 行のプログラムを実行する。"
   ]
  },
  {
   "cell_type": "code",
   "execution_count": 4,
   "id": "0e9335cb-983f-415b-8bb1-1ff6512a2a36",
   "metadata": {},
   "outputs": [
    {
     "data": {
      "text/html": [
       "<div class=\"data-frame\"><p>2 rows × 3 columns</p><table class=\"data-frame\"><thead><tr><th></th><th>foo</th><th>bar</th><th>baz</th></tr><tr><th></th><th title=\"Int64\">Int64</th><th title=\"Int64\">Int64</th><th title=\"Int64\">Int64</th></tr></thead><tbody><tr><th>1</th><td>1</td><td>2</td><td>3</td></tr><tr><th>2</th><td>4</td><td>5</td><td>6</td></tr></tbody></table></div>"
      ],
      "text/latex": [
       "\\begin{tabular}{r|ccc}\n",
       "\t& foo & bar & baz\\\\\n",
       "\t\\hline\n",
       "\t& Int64 & Int64 & Int64\\\\\n",
       "\t\\hline\n",
       "\t1 & 1 & 2 & 3 \\\\\n",
       "\t2 & 4 & 5 & 6 \\\\\n",
       "\\end{tabular}\n"
      ],
      "text/plain": [
       "\u001b[1m2×3 DataFrame\u001b[0m\n",
       "\u001b[1m Row \u001b[0m│\u001b[1m foo   \u001b[0m\u001b[1m bar   \u001b[0m\u001b[1m baz   \u001b[0m\n",
       "\u001b[1m     \u001b[0m│\u001b[90m Int64 \u001b[0m\u001b[90m Int64 \u001b[0m\u001b[90m Int64 \u001b[0m\n",
       "─────┼─────────────────────\n",
       "   1 │     1      2      3\n",
       "   2 │     4      5      6"
      ]
     },
     "execution_count": 4,
     "metadata": {},
     "output_type": "execute_result"
    }
   ],
   "source": [
    "df = CSV.read(IOBuffer(clipboard()), DataFrame, delim=' ', ignorerepeated=true)"
   ]
  },
  {
   "cell_type": "markdown",
   "id": "b4dbfe2c-5c5d-4835-90b8-ab9ba6879cc5",
   "metadata": {},
   "source": [
    "## 1.6. エンコーディングの違うファイルを読む\n",
    "\n",
    "Windows で作られた（変数名などに）日本語を含むファイル（インターネットからダウンロードしたファイルや研究チームで共有するファイル）は，以下のようにして読む（エンコーディングとして，shift_jis ではなく，cp932 を指定する）。\n",
    "\n",
    "以下のような cp932 で保存された CSV ファイルを読む。\n",
    "\n",
    "日本語,ファイル,数値<br>\n",
    "1,2,3<br>\n",
    "4,5,6\n",
    "\n",
    "CSV.read(\"cp932.csv\", DataFrame) では，日本語による変数名が文字化けしており，ちゃんと読めていない。"
   ]
  },
  {
   "cell_type": "code",
   "execution_count": 59,
   "id": "dd80b25a-62b4-4526-b366-f832c54bb92c",
   "metadata": {},
   "outputs": [
    {
     "data": {
      "text/html": [
       "<div class=\"data-frame\"><p>2 rows × 3 columns</p><table class=\"data-frame\"><thead><tr><th></th><th>���{��</th><th>�t�@�C��</th><th>���l</th></tr><tr><th></th><th title=\"Int64\">Int64</th><th title=\"Int64\">Int64</th><th title=\"Int64\">Int64</th></tr></thead><tbody><tr><th>1</th><td>1</td><td>2</td><td>3</td></tr><tr><th>2</th><td>4</td><td>5</td><td>6</td></tr></tbody></table></div>"
      ],
      "text/latex": [
       "\\begin{tabular}{r|ccc}\n",
       "\t& ���\\{�� & �t�@�C�� & ���l\\\\\n",
       "\t\\hline\n",
       "\t& Int64 & Int64 & Int64\\\\\n",
       "\t\\hline\n",
       "\t1 & 1 & 2 & 3 \\\\\n",
       "\t2 & 4 & 5 & 6 \\\\\n",
       "\\end{tabular}\n"
      ],
      "text/plain": [
       "\u001b[1m2×3 DataFrame\u001b[0m\n",
       "\u001b[1m Row \u001b[0m│\u001b[1m \\x93\\xfa\\x96{\\x8c\\xea \u001b[0m\u001b[1m \\x83t\\x83@\\x83C\\x83\\x8b \u001b[0m\u001b[1m \\x90\\x94\\x92l \u001b[0m\n",
       "\u001b[1m     \u001b[0m│\u001b[90m Int64                 \u001b[0m\u001b[90m Int64                   \u001b[0m\u001b[90m Int64         \u001b[0m\n",
       "─────┼───────────────────────────────────────────────────────────────\n",
       "   1 │                     1                        2              3\n",
       "   2 │                     4                        5              6"
      ]
     },
     "execution_count": 59,
     "metadata": {},
     "output_type": "execute_result"
    }
   ],
   "source": [
    "df = CSV.read(\"cp932.csv\", DataFrame)"
   ]
  },
  {
   "cell_type": "markdown",
   "id": "4c0f0efa-2a8f-4df4-a948-0b272cfd72a6",
   "metadata": {},
   "source": [
    "以下のようにすれば読める。"
   ]
  },
  {
   "cell_type": "code",
   "execution_count": 60,
   "id": "688e1a59-34e6-46c7-8313-0f2c1093a607",
   "metadata": {},
   "outputs": [
    {
     "data": {
      "text/html": [
       "<div class=\"data-frame\"><p>2 rows × 3 columns</p><table class=\"data-frame\"><thead><tr><th></th><th>日本語</th><th>ファイル</th><th>数値</th></tr><tr><th></th><th title=\"Int64\">Int64</th><th title=\"Int64\">Int64</th><th title=\"Int64\">Int64</th></tr></thead><tbody><tr><th>1</th><td>1</td><td>2</td><td>3</td></tr><tr><th>2</th><td>4</td><td>5</td><td>6</td></tr></tbody></table></div>"
      ],
      "text/latex": [
       "\\begin{tabular}{r|ccc}\n",
       "\t& 日本語 & ファイル & 数値\\\\\n",
       "\t\\hline\n",
       "\t& Int64 & Int64 & Int64\\\\\n",
       "\t\\hline\n",
       "\t1 & 1 & 2 & 3 \\\\\n",
       "\t2 & 4 & 5 & 6 \\\\\n",
       "\\end{tabular}\n"
      ],
      "text/plain": [
       "\u001b[1m2×3 DataFrame\u001b[0m\n",
       "\u001b[1m Row \u001b[0m│\u001b[1m 日本語 \u001b[0m\u001b[1m ファイル \u001b[0m\u001b[1m 数値  \u001b[0m\n",
       "\u001b[1m     \u001b[0m│\u001b[90m Int64  \u001b[0m\u001b[90m Int64    \u001b[0m\u001b[90m Int64 \u001b[0m\n",
       "─────┼─────────────────────────\n",
       "   1 │      1         2      3\n",
       "   2 │      4         5      6"
      ]
     },
     "execution_count": 60,
     "metadata": {},
     "output_type": "execute_result"
    }
   ],
   "source": [
    "using StringEncodings\n",
    "df = CSV.File(open(read, \"cp932.csv\", enc\"cp932\")) |> DataFrame"
   ]
  },
  {
   "cell_type": "markdown",
   "id": "c5b1d7c1-1341-49a7-9a5b-720f8f231756",
   "metadata": {},
   "source": [
    "Julia, R, Python においても，最近ではエンコーディングはほとんど utf-8 に統一されている。\n",
    "毎回いちいち cp932 と指定して読み込むより，いっそのこと utf-8 にしてしまえばよい。\n",
    "\n",
    "方法は色々あるが，保存時にエンコーディングを選べるエディタで読み込み，utf-8 で保存する。\n",
    "\n",
    "または，コマンドラインで nkf が使えるようであれば\n",
    "\n",
    "% nkf -w cp932.csv > utf8.csv\n",
    "\n",
    "のようにエンコードを変換する。\n",
    "\n",
    "nkf コマンドのインストールは https://qiita.com/ponsuke0531/items/d0b6d743a70c624a1ba7 などを参照。"
   ]
  },
  {
   "cell_type": "code",
   "execution_count": 61,
   "id": "8e2235fe-d742-48d9-a340-06bf6d170bca",
   "metadata": {},
   "outputs": [
    {
     "data": {
      "text/html": [
       "<div class=\"data-frame\"><p>2 rows × 3 columns</p><table class=\"data-frame\"><thead><tr><th></th><th>日本語</th><th>ファイル</th><th>数値</th></tr><tr><th></th><th title=\"Int64\">Int64</th><th title=\"Int64\">Int64</th><th title=\"Int64\">Int64</th></tr></thead><tbody><tr><th>1</th><td>1</td><td>2</td><td>3</td></tr><tr><th>2</th><td>4</td><td>5</td><td>6</td></tr></tbody></table></div>"
      ],
      "text/latex": [
       "\\begin{tabular}{r|ccc}\n",
       "\t& 日本語 & ファイル & 数値\\\\\n",
       "\t\\hline\n",
       "\t& Int64 & Int64 & Int64\\\\\n",
       "\t\\hline\n",
       "\t1 & 1 & 2 & 3 \\\\\n",
       "\t2 & 4 & 5 & 6 \\\\\n",
       "\\end{tabular}\n"
      ],
      "text/plain": [
       "\u001b[1m2×3 DataFrame\u001b[0m\n",
       "\u001b[1m Row \u001b[0m│\u001b[1m 日本語 \u001b[0m\u001b[1m ファイル \u001b[0m\u001b[1m 数値  \u001b[0m\n",
       "\u001b[1m     \u001b[0m│\u001b[90m Int64  \u001b[0m\u001b[90m Int64    \u001b[0m\u001b[90m Int64 \u001b[0m\n",
       "─────┼─────────────────────────\n",
       "   1 │      1         2      3\n",
       "   2 │      4         5      6"
      ]
     },
     "execution_count": 61,
     "metadata": {},
     "output_type": "execute_result"
    }
   ],
   "source": [
    "df = CSV.read(\"utf8.csv\", DataFrame)"
   ]
  },
  {
   "cell_type": "markdown",
   "id": "e45ddef3-b717-480c-9b54-abc42299f265",
   "metadata": {},
   "source": [
    "## 1.7. デリミタで区切られていない固定書式ファイルを読む\n",
    "\n",
    "たとえば，「1.2. CSV ファイル」節の最初に示したデータはカンマで区切られている。これに対して以下のようにカンマで区切られていないファイルがある。\n",
    "\n",
    "<pre>\n",
    "ID,Weight,Height,Age,BloodType\n",
    "12544.6157.617A\n",
    "32157.3158.826B\n",
    "43754.3162.222AB\n",
    "42645.4160.831O\n",
    "24348.5174.534B</pre>\n",
    "\n",
    "このようなデータファイルは稀かもしれないが，たとえば 1 行に 0〜9 の値を持つ 100 変数のデータを考える。もし，数字をカンマで区切って入力するのはかなり煩雑な作業になる。これを，カンマで区切らずに長さ 100 の文字列として入力すればかなり省力できる。\n",
    "\n",
    "そのようなデータの読み取りは特別な処理が必要である。R には fwf 関数があるが，Julia にはない（必要と思う人が自分で入力関数を書いている）ので，関数を書いた。\n",
    "\n",
    "https://blog.goo.ne.jp/r-de-r/e/87cf94ca1ac03e36f5d92400691ef8b4 を参照して欲しい。\n",
    "\n",
    "上のファイルに読み取りのための情報（2 行目）を加えて以下のようにする。\n",
    "\n",
    "<pre>\n",
    "ID,Weight,Height,Age,BloodType\n",
    "i  f   f    i s\n",
    "12544.6157.617A\n",
    "32157.3158.826B\n",
    "43754.3162.222AB\n",
    "42645.4160.831O\n",
    "24348.5174.534B</pre>\n",
    "\n",
    "ファイル名を sample2.dat として，以下のようにすればデータフレームに読み込むことができる。\n",
    "\n",
    "julia> include(\"fixedformat.jl\")<br>\n",
    "fixedformat (generic function with 1 method)<br>\n",
    "julia> df = fixedformat(\"sample2.dat\")<br>\n",
    "\n",
    "![Image](Julia-stats2-2.png)"
   ]
  },
  {
   "cell_type": "markdown",
   "id": "628a6af4-99f5-4e77-9a51-1405b253e8ce",
   "metadata": {},
   "source": [
    "# 2. データフレームを csv ファイルに書き出す\n",
    "\n",
    "入力されたデータはそのまま使われる場合もあるが，いろいろな編集や新たな変数の創生など元のデータとはかなり違いがでてくることも多い。毎回同じような手順を経てデータ分析に取り掛かるのは，無駄でもあるので，その時点のデータを別ファイルで保存しておき，次回以降はそのファイルからデータフレームに入力すればよい。\n",
    "\n",
    "編集されたデータフレームの保存は簡単で，<br>\n",
    "CSV.write(ファイル, データフレーム)<br>\n",
    "とすればよい。"
   ]
  },
  {
   "cell_type": "code",
   "execution_count": 62,
   "id": "0d67db10-4451-4094-b6da-49f36ed06f74",
   "metadata": {},
   "outputs": [
    {
     "data": {
      "text/plain": [
       "\"output.csv\""
      ]
     },
     "execution_count": 62,
     "metadata": {},
     "output_type": "execute_result"
    }
   ],
   "source": [
    "CSV.write(\"output.csv\", df)"
   ]
  },
  {
   "cell_type": "markdown",
   "id": "29266737-a5d0-43a9-b080-c73667f4af93",
   "metadata": {},
   "source": [
    "## 2.1. CSV.write の引数\n",
    "\n",
    "CSV.write() の引数には，以下のようなものがある。詳しくは https://csv.juliadata.org/stable/ を参照。\n",
    "\n",
    "### bufsize=2^22\n",
    "\n",
    "バッファーサイズ\n",
    "\n",
    "### delim=','\n",
    "\n",
    "デリミター\n",
    "\n",
    "### quotechar='\"'\n",
    "引用符\n",
    "\n",
    "### escapechar='\"'\n",
    "引用符のエスケープ文字\n",
    "\n",
    "### missingstring=\"\"\n",
    "missing を表す文字列\n",
    "\n",
    "### dateformat\n",
    "dateformat=\"yyyy/mm/dd\" など\n",
    "\n",
    "### append=false\n",
    "既存のファイルに書き足すかどうか\n",
    "\n",
    "### writeheader=!append\n",
    "列名を出力するか\n",
    "\n",
    "### header\n",
    "使用する列名のリスト\n",
    "\n",
    "### newline='\\n'\n",
    "改行文字\n",
    "\n",
    "### quotestrings=false\n",
    "文字列を引用符で囲むかどうか\n",
    "\n",
    "### decimal='.'\n",
    "小数点として使用する文字"
   ]
  }
 ],
 "metadata": {
  "kernelspec": {
   "display_name": "Julia 1.7.1",
   "language": "julia",
   "name": "julia-1.7"
  },
  "language_info": {
   "file_extension": ".jl",
   "mimetype": "application/julia",
   "name": "julia",
   "version": "1.7.1"
  }
 },
 "nbformat": 4,
 "nbformat_minor": 5
}
