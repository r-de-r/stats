{
 "cells": [
  {
   "cell_type": "markdown",
   "id": "e5cc075c-9126-4a4e-8740-9352132833da",
   "metadata": {},
   "source": [
    "Julia で統計解析　第 3 章　データフレームの取り扱い"
   ]
  },
  {
   "cell_type": "code",
   "execution_count": 1,
   "id": "afe2e690-43b8-494f-bdda-9e90413ed6f4",
   "metadata": {},
   "outputs": [
    {
     "name": "stdout",
     "output_type": "stream",
     "text": [
      "最新バージョン 2022-02-12 22:38\n"
     ]
    }
   ],
   "source": [
    "Version()"
   ]
  },
  {
   "cell_type": "markdown",
   "id": "910e8694-f384-4f79-bf01-f204bc56ed58",
   "metadata": {
    "tags": []
   },
   "source": [
    "# 1.　データを使用するための準備\n",
    "\n",
    "Julia では，データセットはデータフレームとして入力・作成し利用する。\n",
    "\n",
    "この章では，Julia で引用できるデータや簡単なデータフレームを例として，データフレームの操作法について述べる。\n",
    "\n",
    "## 1.1.　既存のデータを使用する\n",
    "\n",
    "Julia では，ユーザが各種パッケージに含まれる関数を試用してみるときに便利なように，様々なデータセット [^1] を簡単に利用できるようになっている。\n",
    "\n",
    "[^1]: [外部リンク：Available datasets](https://vincentarelbundock.github.io/Rdatasets/articles/data.html)\n",
    "\n",
    "このパッケージ（データセット）を利用するために，（Julia のセッションごとに）以下の 1 行を入力する。"
   ]
  },
  {
   "cell_type": "code",
   "execution_count": 2,
   "id": "24b62172-04e0-46e5-8a83-abf0c8099a45",
   "metadata": {},
   "outputs": [],
   "source": [
    "using RDatasets"
   ]
  },
  {
   "cell_type": "markdown",
   "id": "b68b1615-c4bd-4e81-8b44-95cafb8fab9e",
   "metadata": {},
   "source": [
    "`RDatasets.dataset(\"datasets\", \"airquality\")` のように，第 2 引数で指定したデータセットが利用できる。\n",
    "\n",
    "`airquality` データセットは，1973 年の 5 月から 9 月の間の日々のオゾン濃度，日射量，風速，気温の記録である。"
   ]
  },
  {
   "cell_type": "code",
   "execution_count": 3,
   "id": "8c7c6130-196b-48df-b6f3-aa37c373703d",
   "metadata": {},
   "outputs": [
    {
     "data": {
      "text/html": [
       "<div class=\"data-frame\"><p>3 rows × 6 columns</p><table class=\"data-frame\"><thead><tr><th></th><th>Ozone</th><th>Solar.R</th><th>Wind</th><th>Temp</th><th>Month</th><th>Day</th></tr><tr><th></th><th title=\"Union{Missing, Int64}\">Int64?</th><th title=\"Union{Missing, Int64}\">Int64?</th><th title=\"Float64\">Float64</th><th title=\"Int64\">Int64</th><th title=\"Int64\">Int64</th><th title=\"Int64\">Int64</th></tr></thead><tbody><tr><th>1</th><td>41</td><td>190</td><td>7.4</td><td>67</td><td>5</td><td>1</td></tr><tr><th>2</th><td>36</td><td>118</td><td>8.0</td><td>72</td><td>5</td><td>2</td></tr><tr><th>3</th><td>12</td><td>149</td><td>12.6</td><td>74</td><td>5</td><td>3</td></tr></tbody></table></div>"
      ],
      "text/latex": [
       "\\begin{tabular}{r|cccccc}\n",
       "\t& Ozone & Solar.R & Wind & Temp & Month & Day\\\\\n",
       "\t\\hline\n",
       "\t& Int64? & Int64? & Float64 & Int64 & Int64 & Int64\\\\\n",
       "\t\\hline\n",
       "\t1 & 41 & 190 & 7.4 & 67 & 5 & 1 \\\\\n",
       "\t2 & 36 & 118 & 8.0 & 72 & 5 & 2 \\\\\n",
       "\t3 & 12 & 149 & 12.6 & 74 & 5 & 3 \\\\\n",
       "\\end{tabular}\n"
      ],
      "text/plain": [
       "\u001b[1m3×6 DataFrame\u001b[0m\n",
       "\u001b[1m Row \u001b[0m│\u001b[1m Ozone  \u001b[0m\u001b[1m Solar.R \u001b[0m\u001b[1m Wind    \u001b[0m\u001b[1m Temp  \u001b[0m\u001b[1m Month \u001b[0m\u001b[1m Day   \u001b[0m\n",
       "\u001b[1m     \u001b[0m│\u001b[90m Int64? \u001b[0m\u001b[90m Int64?  \u001b[0m\u001b[90m Float64 \u001b[0m\u001b[90m Int64 \u001b[0m\u001b[90m Int64 \u001b[0m\u001b[90m Int64 \u001b[0m\n",
       "─────┼───────────────────────────────────────────────\n",
       "   1 │     41      190      7.4     67      5      1\n",
       "   2 │     36      118      8.0     72      5      2\n",
       "   3 │     12      149     12.6     74      5      3"
      ]
     },
     "execution_count": 3,
     "metadata": {},
     "output_type": "execute_result"
    }
   ],
   "source": [
    "airquality = RDatasets.dataset(\"datasets\", \"airquality\");\n",
    "first(airquality, 3) # 最初の 3 行を示す"
   ]
  },
  {
   "cell_type": "markdown",
   "id": "51ec46a3-a2f0-448f-9cbc-a940dcca9be8",
   "metadata": {},
   "source": [
    "`iris` データセットは，アヤメ科の 3 種，それぞれ 50 個の花の 4 個の測定値と種名のデータである。"
   ]
  },
  {
   "cell_type": "code",
   "execution_count": 4,
   "id": "e20d3adf-0bcf-4d6a-9bbf-eeff61d4de91",
   "metadata": {},
   "outputs": [
    {
     "data": {
      "text/html": [
       "<div class=\"data-frame\"><p>3 rows × 5 columns</p><table class=\"data-frame\"><thead><tr><th></th><th>SepalLength</th><th>SepalWidth</th><th>PetalLength</th><th>PetalWidth</th><th>Species</th></tr><tr><th></th><th title=\"Float64\">Float64</th><th title=\"Float64\">Float64</th><th title=\"Float64\">Float64</th><th title=\"Float64\">Float64</th><th title=\"CategoricalArrays.CategoricalValue{String, UInt8}\">Cat…</th></tr></thead><tbody><tr><th>1</th><td>5.1</td><td>3.5</td><td>1.4</td><td>0.2</td><td>setosa</td></tr><tr><th>2</th><td>4.9</td><td>3.0</td><td>1.4</td><td>0.2</td><td>setosa</td></tr><tr><th>3</th><td>4.7</td><td>3.2</td><td>1.3</td><td>0.2</td><td>setosa</td></tr></tbody></table></div>"
      ],
      "text/latex": [
       "\\begin{tabular}{r|ccccc}\n",
       "\t& SepalLength & SepalWidth & PetalLength & PetalWidth & Species\\\\\n",
       "\t\\hline\n",
       "\t& Float64 & Float64 & Float64 & Float64 & Cat…\\\\\n",
       "\t\\hline\n",
       "\t1 & 5.1 & 3.5 & 1.4 & 0.2 & setosa \\\\\n",
       "\t2 & 4.9 & 3.0 & 1.4 & 0.2 & setosa \\\\\n",
       "\t3 & 4.7 & 3.2 & 1.3 & 0.2 & setosa \\\\\n",
       "\\end{tabular}\n"
      ],
      "text/plain": [
       "\u001b[1m3×5 DataFrame\u001b[0m\n",
       "\u001b[1m Row \u001b[0m│\u001b[1m SepalLength \u001b[0m\u001b[1m SepalWidth \u001b[0m\u001b[1m PetalLength \u001b[0m\u001b[1m PetalWidth \u001b[0m\u001b[1m Species \u001b[0m\n",
       "\u001b[1m     \u001b[0m│\u001b[90m Float64     \u001b[0m\u001b[90m Float64    \u001b[0m\u001b[90m Float64     \u001b[0m\u001b[90m Float64    \u001b[0m\u001b[90m Cat…    \u001b[0m\n",
       "─────┼───────────────────────────────────────────────────────────\n",
       "   1 │         5.1         3.5          1.4         0.2  setosa\n",
       "   2 │         4.9         3.0          1.4         0.2  setosa\n",
       "   3 │         4.7         3.2          1.3         0.2  setosa"
      ]
     },
     "execution_count": 4,
     "metadata": {},
     "output_type": "execute_result"
    }
   ],
   "source": [
    "iris = RDatasets.dataset(\"datasets\", \"iris\");\n",
    "first(iris, 3) # 最初の 3 行を示す"
   ]
  },
  {
   "cell_type": "markdown",
   "id": "a7b58338-0ebe-490a-b2c9-ff415b9170cc",
   "metadata": {},
   "source": [
    "## 1.2.　自前のデータ\n",
    "\n",
    "データフレームの入出力については「[Julia で統計解析--その2　データの取扱](https://r-de-r.github.io/stats/Julia-stats2.html)」を参照のこと。\n",
    "\n",
    "まず最初に，DataFrames パッケージの使用する場合，以下の 1 行が必要である。"
   ]
  },
  {
   "cell_type": "code",
   "execution_count": 5,
   "id": "07bd0f91-32ec-41e5-ab83-6f7e9ab5ffba",
   "metadata": {},
   "outputs": [],
   "source": [
    "using DataFrames"
   ]
  },
  {
   "cell_type": "markdown",
   "id": "57b2b154-64b1-4957-84ab-f1eaf08e31ef",
   "metadata": {},
   "source": [
    "`DataFrame()` に `変数名（列名）= データベクトル` の形式で列挙すれば，簡単なデータフレームを作ることができる。\n",
    "\n",
    "Julia におけるデータベクトルは，要素をカンマで区切り列挙したものを [ ] で囲んだものである。要素は，整数，実数，文字列，文字などである。\n",
    "\n",
    "以下の例示で，`ベクトル |> println` としたのは，REPL 環境では単に `ベクトル` だけを入力すると複数行の出力になるのを防ぐためである。`println(ベクトル)` のように書けば同じ効果が得られるが，表示したいものを強調するために `|> println` を使う。"
   ]
  },
  {
   "cell_type": "code",
   "execution_count": 6,
   "id": "0ed493cb-fb8d-4233-bc85-8b06a4a9dfcf",
   "metadata": {},
   "outputs": [
    {
     "data": {
      "text/plain": [
       "5-element Vector{Int64}:\n",
       " 2\n",
       " 4\n",
       " 3\n",
       " 6\n",
       " 1"
      ]
     },
     "execution_count": 6,
     "metadata": {},
     "output_type": "execute_result"
    }
   ],
   "source": [
    "[2, 4, 3, 6, 1] # 数値ベクトル"
   ]
  },
  {
   "cell_type": "code",
   "execution_count": 7,
   "id": "10c75b27-7061-46d5-9bbc-2740f700aebb",
   "metadata": {},
   "outputs": [
    {
     "name": "stdout",
     "output_type": "stream",
     "text": [
      "[2, 4, 3, 6, 1]\n"
     ]
    }
   ],
   "source": [
    "[2, 4, 3, 6, 1] |> println # 数値ベクトル"
   ]
  },
  {
   "cell_type": "code",
   "execution_count": 8,
   "id": "74eede27-14bd-4b83-949f-a186cd69cf5a",
   "metadata": {},
   "outputs": [
    {
     "name": "stdout",
     "output_type": "stream",
     "text": [
      "[2, 4, 3, 6, 1]\n"
     ]
    }
   ],
   "source": [
    "println([2, 4, 3, 6, 1]) # 数値ベクトル"
   ]
  },
  {
   "cell_type": "code",
   "execution_count": 9,
   "id": "ffdc476f-6174-43f8-8f7d-b61499d00b2b",
   "metadata": {},
   "outputs": [
    {
     "name": "stdout",
     "output_type": "stream",
     "text": [
      "[\"foo\", \"bar\", \"baz\", \"boo\", \"vax\"]\n"
     ]
    }
   ],
   "source": [
    "[\"foo\", \"bar\", \"baz\", \"boo\", \"vax\"] |> println # 文字列ベクトル"
   ]
  },
  {
   "cell_type": "code",
   "execution_count": 10,
   "id": "d680a7ee-f568-4d32-a5f6-8c79b54f05f9",
   "metadata": {},
   "outputs": [
    {
     "name": "stdout",
     "output_type": "stream",
     "text": [
      "1:5\n"
     ]
    }
   ],
   "source": [
    "1:5 |> println # 等差数列"
   ]
  },
  {
   "cell_type": "code",
   "execution_count": 11,
   "id": "743accd6-6564-4dca-83d7-0fec8546a308",
   "metadata": {},
   "outputs": [
    {
     "name": "stdout",
     "output_type": "stream",
     "text": [
      "[1, 2, 3, 4, 5]\n"
     ]
    }
   ],
   "source": [
    "collect(1:5) |> println # 等差数列 1:5 とほとんど同じ"
   ]
  },
  {
   "cell_type": "code",
   "execution_count": 12,
   "id": "66bcea20-6464-4bf5-8f7d-0eeef97c3aef",
   "metadata": {},
   "outputs": [
    {
     "name": "stdout",
     "output_type": "stream",
     "text": [
      "'a':1:'e'\n"
     ]
    }
   ],
   "source": [
    "'a':'e' |> println # 文字ベクトル"
   ]
  },
  {
   "cell_type": "code",
   "execution_count": 13,
   "id": "34a06408-dd3c-4672-a330-2e940a8215c1",
   "metadata": {},
   "outputs": [
    {
     "name": "stdout",
     "output_type": "stream",
     "text": [
      "['a', 'b', 'c', 'd', 'e']\n"
     ]
    }
   ],
   "source": [
    "collect('a':'e') |> println # 文字ベクトル 'a':'e' とほとんど同じ"
   ]
  },
  {
   "cell_type": "code",
   "execution_count": 14,
   "id": "7c9bd9b1-f804-4e43-bdfa-7c52418af862",
   "metadata": {},
   "outputs": [
    {
     "name": "stdout",
     "output_type": "stream",
     "text": [
      "[0.7991058992934438, 0.5488265499907017, 0.25023859372356105]\n"
     ]
    }
   ],
   "source": [
    "rand(3) |> println # [0, 1) の一様乱数"
   ]
  },
  {
   "cell_type": "code",
   "execution_count": 15,
   "id": "149f7b7b-68c7-4f47-aa19-b3d73befb091",
   "metadata": {},
   "outputs": [
    {
     "name": "stdout",
     "output_type": "stream",
     "text": [
      "[58, 17, 30]\n"
     ]
    }
   ],
   "source": [
    "rand(1:100, 3) |> println # 1:100 から無作為抽出"
   ]
  },
  {
   "cell_type": "code",
   "execution_count": 16,
   "id": "cc4cf40c-1b73-48ae-b193-cb53b06038c5",
   "metadata": {},
   "outputs": [
    {
     "name": "stdout",
     "output_type": "stream",
     "text": [
      "[-1.1815263990722997, 1.0751136350350181, 0.9761600046996706]\n"
     ]
    }
   ],
   "source": [
    "randn(3) |> println # μ=0, σ=1 の標準正規乱数"
   ]
  },
  {
   "cell_type": "code",
   "execution_count": 17,
   "id": "d20161b8-f32e-458d-842f-a79f58cfdc88",
   "metadata": {},
   "outputs": [
    {
     "name": "stdout",
     "output_type": "stream",
     "text": [
      "[48.63644542784215, 47.118231164340585, 44.138668333172674]\n"
     ]
    }
   ],
   "source": [
    "randn(3) .* 10 .+ 50 |> println # μ=50, σ=10 の規乱数"
   ]
  },
  {
   "cell_type": "code",
   "execution_count": 18,
   "id": "d02b63ee-3f10-4c10-a52f-98133402362f",
   "metadata": {},
   "outputs": [
    {
     "data": {
      "text/html": [
       "<div class=\"data-frame\"><p>5 rows × 2 columns</p><table class=\"data-frame\"><thead><tr><th></th><th>a</th><th>b</th></tr><tr><th></th><th title=\"Int64\">Int64</th><th title=\"String\">String</th></tr></thead><tbody><tr><th>1</th><td>2</td><td>foo</td></tr><tr><th>2</th><td>4</td><td>bar</td></tr><tr><th>3</th><td>3</td><td>baz</td></tr><tr><th>4</th><td>6</td><td>boo</td></tr><tr><th>5</th><td>1</td><td>vax</td></tr></tbody></table></div>"
      ],
      "text/latex": [
       "\\begin{tabular}{r|cc}\n",
       "\t& a & b\\\\\n",
       "\t\\hline\n",
       "\t& Int64 & String\\\\\n",
       "\t\\hline\n",
       "\t1 & 2 & foo \\\\\n",
       "\t2 & 4 & bar \\\\\n",
       "\t3 & 3 & baz \\\\\n",
       "\t4 & 6 & boo \\\\\n",
       "\t5 & 1 & vax \\\\\n",
       "\\end{tabular}\n"
      ],
      "text/plain": [
       "\u001b[1m5×2 DataFrame\u001b[0m\n",
       "\u001b[1m Row \u001b[0m│\u001b[1m a     \u001b[0m\u001b[1m b      \u001b[0m\n",
       "\u001b[1m     \u001b[0m│\u001b[90m Int64 \u001b[0m\u001b[90m String \u001b[0m\n",
       "─────┼───────────────\n",
       "   1 │     2  foo\n",
       "   2 │     4  bar\n",
       "   3 │     3  baz\n",
       "   4 │     6  boo\n",
       "   5 │     1  vax"
      ]
     },
     "execution_count": 18,
     "metadata": {},
     "output_type": "execute_result"
    }
   ],
   "source": [
    "df = DataFrame(a = [2, 4, 3, 6, 1], b = [\"foo\", \"bar\", \"baz\", \"boo\", \"vax\"])"
   ]
  },
  {
   "cell_type": "code",
   "execution_count": 19,
   "id": "f5900eec-f78d-465a-ad1f-73474abbeb75",
   "metadata": {},
   "outputs": [
    {
     "name": "stdout",
     "output_type": "stream",
     "text": [
      "\u001b[1m5×2 DataFrame\u001b[0m\n",
      "\u001b[1m Row \u001b[0m│\u001b[1m a     \u001b[0m\u001b[1m b      \u001b[0m\n",
      "\u001b[1m     \u001b[0m│\u001b[90m Int64 \u001b[0m\u001b[90m String \u001b[0m\n",
      "─────┼───────────────\n",
      "   1 │     2  foo\n",
      "   2 │     4  bar\n",
      "   3 │     3  baz\n",
      "   4 │     6  boo\n",
      "   5 │     1  vax\n"
     ]
    }
   ],
   "source": [
    "df |> println"
   ]
  },
  {
   "cell_type": "markdown",
   "id": "165f8eba-42a9-4443-8b8f-4cc7c92ea133",
   "metadata": {
    "tags": []
   },
   "source": [
    "データフレームの入出力については\n",
    "\n",
    "[Julia で統計解析--その2　データの取扱](https://r-de-r.github.io/stats/Julia-stats2.html)\n",
    "を参照のこと。\n",
    "\n",
    "# 2.　 データフレームの概要\n",
    "\n",
    "## 2.1.　データフレームの大きさ\n",
    "\n",
    "データセットの大きさは `size()` で得られる。結果はタプル (行数, 列数) で返される。"
   ]
  },
  {
   "cell_type": "code",
   "execution_count": 20,
   "id": "41f41a81-f004-4395-95f9-2caf5d70e438",
   "metadata": {},
   "outputs": [
    {
     "name": "stdout",
     "output_type": "stream",
     "text": [
      "(153, 6)\n"
     ]
    }
   ],
   "source": [
    "size(airquality) |> println"
   ]
  },
  {
   "cell_type": "markdown",
   "id": "f3b4c485-8a8d-4620-bbfb-135c08519560",
   "metadata": {},
   "source": [
    "データフレームの行数は `nrow()` で得られる。"
   ]
  },
  {
   "cell_type": "code",
   "execution_count": 21,
   "id": "943e7565-7467-498a-bae1-7d24e97b3d2b",
   "metadata": {},
   "outputs": [
    {
     "name": "stdout",
     "output_type": "stream",
     "text": [
      "153\n"
     ]
    }
   ],
   "source": [
    "nrow(airquality) |> println"
   ]
  },
  {
   "cell_type": "markdown",
   "id": "aefb0bc5-b069-4a91-a39f-beeeedf3a200",
   "metadata": {},
   "source": [
    "データフレームの列数は `ncol()` で得られる。"
   ]
  },
  {
   "cell_type": "code",
   "execution_count": 178,
   "id": "bf60c92a-aa37-4ed9-92da-366368079fb2",
   "metadata": {},
   "outputs": [
    {
     "name": "stdout",
     "output_type": "stream",
     "text": [
      "6\n"
     ]
    }
   ],
   "source": [
    "ncol(airquality) |> println"
   ]
  },
  {
   "cell_type": "markdown",
   "id": "f8d2b264-c886-4dff-b9b1-09234617a908",
   "metadata": {},
   "source": [
    "## 2.2.　データフレームの変数名\n",
    "\n",
    "変数名は `names()` で得られる。"
   ]
  },
  {
   "cell_type": "code",
   "execution_count": 23,
   "id": "b365434a-513a-4ecb-a9c3-aa53bd467080",
   "metadata": {},
   "outputs": [
    {
     "name": "stdout",
     "output_type": "stream",
     "text": [
      "[\"Ozone\", \"Solar.R\", \"Wind\", \"Temp\", \"Month\", \"Day\"]\n"
     ]
    }
   ],
   "source": [
    "names(airquality) |> println"
   ]
  },
  {
   "cell_type": "code",
   "execution_count": 24,
   "id": "03d74e71-16b0-4203-b713-aa6f24de1209",
   "metadata": {},
   "outputs": [
    {
     "name": "stdout",
     "output_type": "stream",
     "text": [
      "[\"SepalLength\", \"SepalWidth\", \"PetalLength\", \"PetalWidth\", \"Species\"]\n"
     ]
    }
   ],
   "source": [
    "names(iris) |> println"
   ]
  },
  {
   "cell_type": "markdown",
   "id": "d5602e2b-1d38-4268-b56f-f0959f56d946",
   "metadata": {},
   "source": [
    "シンボリック名は `propertynames()` で得られる。"
   ]
  },
  {
   "cell_type": "code",
   "execution_count": 25,
   "id": "afab096a-6e2d-4d9d-88a7-924f4555b5b7",
   "metadata": {},
   "outputs": [
    {
     "name": "stdout",
     "output_type": "stream",
     "text": [
      "[:Ozone, Symbol(\"Solar.R\"), :Wind, :Temp, :Month, :Day]\n"
     ]
    }
   ],
   "source": [
    "propertynames(airquality) |> println"
   ]
  },
  {
   "cell_type": "code",
   "execution_count": 26,
   "id": "40f1bbb8-bea2-4aa9-9729-056306aa874e",
   "metadata": {},
   "outputs": [
    {
     "name": "stdout",
     "output_type": "stream",
     "text": [
      "[:SepalLength, :SepalWidth, :PetalLength, :PetalWidth, :Species]\n"
     ]
    }
   ],
   "source": [
    "propertynames(iris) |> println"
   ]
  },
  {
   "cell_type": "markdown",
   "id": "124ee758-4a32-4027-aadd-8eea918ca39a",
   "metadata": {},
   "source": [
    "## 2.3.　データフレームの表示\n",
    "\n",
    "データフレームの最初の $n$ 行，最後の $m$ 行を表示するには，`first(df, n)`, `last(df, m)` のように指定する。\n",
    "`n`, `m` が省略された場合は 1 が仮定される。"
   ]
  },
  {
   "cell_type": "code",
   "execution_count": 27,
   "id": "582fe284-1621-4bbe-9703-18c8604986e1",
   "metadata": {},
   "outputs": [
    {
     "data": {
      "text/html": [
       "<div class=\"data-frame\"><p>6 rows × 6 columns</p><table class=\"data-frame\"><thead><tr><th></th><th>Ozone</th><th>Solar.R</th><th>Wind</th><th>Temp</th><th>Month</th><th>Day</th></tr><tr><th></th><th title=\"Union{Missing, Int64}\">Int64?</th><th title=\"Union{Missing, Int64}\">Int64?</th><th title=\"Float64\">Float64</th><th title=\"Int64\">Int64</th><th title=\"Int64\">Int64</th><th title=\"Int64\">Int64</th></tr></thead><tbody><tr><th>1</th><td>41</td><td>190</td><td>7.4</td><td>67</td><td>5</td><td>1</td></tr><tr><th>2</th><td>36</td><td>118</td><td>8.0</td><td>72</td><td>5</td><td>2</td></tr><tr><th>3</th><td>12</td><td>149</td><td>12.6</td><td>74</td><td>5</td><td>3</td></tr><tr><th>4</th><td>18</td><td>313</td><td>11.5</td><td>62</td><td>5</td><td>4</td></tr><tr><th>5</th><td><em>missing</em></td><td><em>missing</em></td><td>14.3</td><td>56</td><td>5</td><td>5</td></tr><tr><th>6</th><td>28</td><td><em>missing</em></td><td>14.9</td><td>66</td><td>5</td><td>6</td></tr></tbody></table></div>"
      ],
      "text/latex": [
       "\\begin{tabular}{r|cccccc}\n",
       "\t& Ozone & Solar.R & Wind & Temp & Month & Day\\\\\n",
       "\t\\hline\n",
       "\t& Int64? & Int64? & Float64 & Int64 & Int64 & Int64\\\\\n",
       "\t\\hline\n",
       "\t1 & 41 & 190 & 7.4 & 67 & 5 & 1 \\\\\n",
       "\t2 & 36 & 118 & 8.0 & 72 & 5 & 2 \\\\\n",
       "\t3 & 12 & 149 & 12.6 & 74 & 5 & 3 \\\\\n",
       "\t4 & 18 & 313 & 11.5 & 62 & 5 & 4 \\\\\n",
       "\t5 & \\emph{missing} & \\emph{missing} & 14.3 & 56 & 5 & 5 \\\\\n",
       "\t6 & 28 & \\emph{missing} & 14.9 & 66 & 5 & 6 \\\\\n",
       "\\end{tabular}\n"
      ],
      "text/plain": [
       "\u001b[1m6×6 DataFrame\u001b[0m\n",
       "\u001b[1m Row \u001b[0m│\u001b[1m Ozone   \u001b[0m\u001b[1m Solar.R \u001b[0m\u001b[1m Wind    \u001b[0m\u001b[1m Temp  \u001b[0m\u001b[1m Month \u001b[0m\u001b[1m Day   \u001b[0m\n",
       "\u001b[1m     \u001b[0m│\u001b[90m Int64?  \u001b[0m\u001b[90m Int64?  \u001b[0m\u001b[90m Float64 \u001b[0m\u001b[90m Int64 \u001b[0m\u001b[90m Int64 \u001b[0m\u001b[90m Int64 \u001b[0m\n",
       "─────┼────────────────────────────────────────────────\n",
       "   1 │      41      190      7.4     67      5      1\n",
       "   2 │      36      118      8.0     72      5      2\n",
       "   3 │      12      149     12.6     74      5      3\n",
       "   4 │      18      313     11.5     62      5      4\n",
       "   5 │\u001b[90m missing \u001b[0m\u001b[90m missing \u001b[0m    14.3     56      5      5\n",
       "   6 │      28 \u001b[90m missing \u001b[0m    14.9     66      5      6"
      ]
     },
     "execution_count": 27,
     "metadata": {},
     "output_type": "execute_result"
    }
   ],
   "source": [
    "first(airquality, 6)"
   ]
  },
  {
   "cell_type": "code",
   "execution_count": 28,
   "id": "60144106-d0e6-4cd3-8f02-e7807f0afe54",
   "metadata": {},
   "outputs": [
    {
     "data": {
      "text/html": [
       "<div class=\"data-frame\"><p>3 rows × 5 columns</p><table class=\"data-frame\"><thead><tr><th></th><th>SepalLength</th><th>SepalWidth</th><th>PetalLength</th><th>PetalWidth</th><th>Species</th></tr><tr><th></th><th title=\"Float64\">Float64</th><th title=\"Float64\">Float64</th><th title=\"Float64\">Float64</th><th title=\"Float64\">Float64</th><th title=\"CategoricalArrays.CategoricalValue{String, UInt8}\">Cat…</th></tr></thead><tbody><tr><th>1</th><td>6.5</td><td>3.0</td><td>5.2</td><td>2.0</td><td>virginica</td></tr><tr><th>2</th><td>6.2</td><td>3.4</td><td>5.4</td><td>2.3</td><td>virginica</td></tr><tr><th>3</th><td>5.9</td><td>3.0</td><td>5.1</td><td>1.8</td><td>virginica</td></tr></tbody></table></div>"
      ],
      "text/latex": [
       "\\begin{tabular}{r|ccccc}\n",
       "\t& SepalLength & SepalWidth & PetalLength & PetalWidth & Species\\\\\n",
       "\t\\hline\n",
       "\t& Float64 & Float64 & Float64 & Float64 & Cat…\\\\\n",
       "\t\\hline\n",
       "\t1 & 6.5 & 3.0 & 5.2 & 2.0 & virginica \\\\\n",
       "\t2 & 6.2 & 3.4 & 5.4 & 2.3 & virginica \\\\\n",
       "\t3 & 5.9 & 3.0 & 5.1 & 1.8 & virginica \\\\\n",
       "\\end{tabular}\n"
      ],
      "text/plain": [
       "\u001b[1m3×5 DataFrame\u001b[0m\n",
       "\u001b[1m Row \u001b[0m│\u001b[1m SepalLength \u001b[0m\u001b[1m SepalWidth \u001b[0m\u001b[1m PetalLength \u001b[0m\u001b[1m PetalWidth \u001b[0m\u001b[1m Species   \u001b[0m\n",
       "\u001b[1m     \u001b[0m│\u001b[90m Float64     \u001b[0m\u001b[90m Float64    \u001b[0m\u001b[90m Float64     \u001b[0m\u001b[90m Float64    \u001b[0m\u001b[90m Cat…      \u001b[0m\n",
       "─────┼─────────────────────────────────────────────────────────────\n",
       "   1 │         6.5         3.0          5.2         2.0  virginica\n",
       "   2 │         6.2         3.4          5.4         2.3  virginica\n",
       "   3 │         5.9         3.0          5.1         1.8  virginica"
      ]
     },
     "execution_count": 28,
     "metadata": {},
     "output_type": "execute_result"
    }
   ],
   "source": [
    "last(iris, 3)"
   ]
  },
  {
   "cell_type": "markdown",
   "id": "b3303eae-3406-4acf-88b3-1022673cdba4",
   "metadata": {},
   "source": [
    "データフレームの表示の 1 行目は，列名（変数名），2 行目はそれぞれのデータの型である。\n",
    "`Int64` は整数型，`Float64` は実数型，`String`，`String3`，`String7` などは文字列型である。なお，それぞれの型名の後に `?` がついている場合は，データ中に欠損値 `missing` が含まれることを表している。"
   ]
  },
  {
   "cell_type": "markdown",
   "id": "98671f5a-be47-4042-94a5-028ea6884888",
   "metadata": {},
   "source": [
    "# 3.　データフレームのコピーは `copy()`  で\n",
    "\n",
    "データフレーム `df1` のコピーを　`df2 = df1` で作ったつもりになって，コピーされたデータフレーム `df2` を書き換えると `df1` も同じように書き換わってしまう。\n",
    "\n",
    "代入してできた `df2` は実は `df1` の言ってみれば別名なのだ。df1 を変更しても，df2 を変更しても，もう一方のデータフレームも同じように変更されているように見える。"
   ]
  },
  {
   "cell_type": "code",
   "execution_count": 29,
   "id": "1b5d93ea-09cf-4e89-bbeb-df725c1e6433",
   "metadata": {},
   "outputs": [
    {
     "data": {
      "text/html": [
       "<div class=\"data-frame\"><p>2 rows × 2 columns</p><table class=\"data-frame\"><thead><tr><th></th><th>a</th><th>b</th></tr><tr><th></th><th title=\"Int64\">Int64</th><th title=\"Char\">Char</th></tr></thead><tbody><tr><th>1</th><td>1</td><td>a</td></tr><tr><th>2</th><td>2</td><td>b</td></tr></tbody></table></div>"
      ],
      "text/latex": [
       "\\begin{tabular}{r|cc}\n",
       "\t& a & b\\\\\n",
       "\t\\hline\n",
       "\t& Int64 & Char\\\\\n",
       "\t\\hline\n",
       "\t1 & 1 & a \\\\\n",
       "\t2 & 2 & b \\\\\n",
       "\\end{tabular}\n"
      ],
      "text/plain": [
       "\u001b[1m2×2 DataFrame\u001b[0m\n",
       "\u001b[1m Row \u001b[0m│\u001b[1m a     \u001b[0m\u001b[1m b    \u001b[0m\n",
       "\u001b[1m     \u001b[0m│\u001b[90m Int64 \u001b[0m\u001b[90m Char \u001b[0m\n",
       "─────┼─────────────\n",
       "   1 │     1  a\n",
       "   2 │     2  b"
      ]
     },
     "execution_count": 29,
     "metadata": {},
     "output_type": "execute_result"
    }
   ],
   "source": [
    "df1 = DataFrame(a = [1, 2], b = ['a', 'b'])"
   ]
  },
  {
   "cell_type": "code",
   "execution_count": 30,
   "id": "9fb2b8a5-ba9a-461c-a7c5-8778156fe480",
   "metadata": {},
   "outputs": [
    {
     "data": {
      "text/html": [
       "<div class=\"data-frame\"><p>2 rows × 2 columns</p><table class=\"data-frame\"><thead><tr><th></th><th>a</th><th>b</th></tr><tr><th></th><th title=\"Int64\">Int64</th><th title=\"Char\">Char</th></tr></thead><tbody><tr><th>1</th><td>99999</td><td>a</td></tr><tr><th>2</th><td>2</td><td>b</td></tr></tbody></table></div>"
      ],
      "text/latex": [
       "\\begin{tabular}{r|cc}\n",
       "\t& a & b\\\\\n",
       "\t\\hline\n",
       "\t& Int64 & Char\\\\\n",
       "\t\\hline\n",
       "\t1 & 99999 & a \\\\\n",
       "\t2 & 2 & b \\\\\n",
       "\\end{tabular}\n"
      ],
      "text/plain": [
       "\u001b[1m2×2 DataFrame\u001b[0m\n",
       "\u001b[1m Row \u001b[0m│\u001b[1m a     \u001b[0m\u001b[1m b    \u001b[0m\n",
       "\u001b[1m     \u001b[0m│\u001b[90m Int64 \u001b[0m\u001b[90m Char \u001b[0m\n",
       "─────┼─────────────\n",
       "   1 │ 99999  a\n",
       "   2 │     2  b"
      ]
     },
     "execution_count": 30,
     "metadata": {},
     "output_type": "execute_result"
    }
   ],
   "source": [
    "df2 = df1\n",
    "df2[1, 1] = 99999\n",
    "df2"
   ]
  },
  {
   "cell_type": "code",
   "execution_count": 31,
   "id": "58c1bdeb-1795-46bc-92d3-f270b5cf431c",
   "metadata": {},
   "outputs": [
    {
     "data": {
      "text/html": [
       "<div class=\"data-frame\"><p>2 rows × 2 columns</p><table class=\"data-frame\"><thead><tr><th></th><th>a</th><th>b</th></tr><tr><th></th><th title=\"Int64\">Int64</th><th title=\"Char\">Char</th></tr></thead><tbody><tr><th>1</th><td>99999</td><td>a</td></tr><tr><th>2</th><td>2</td><td>b</td></tr></tbody></table></div>"
      ],
      "text/latex": [
       "\\begin{tabular}{r|cc}\n",
       "\t& a & b\\\\\n",
       "\t\\hline\n",
       "\t& Int64 & Char\\\\\n",
       "\t\\hline\n",
       "\t1 & 99999 & a \\\\\n",
       "\t2 & 2 & b \\\\\n",
       "\\end{tabular}\n"
      ],
      "text/plain": [
       "\u001b[1m2×2 DataFrame\u001b[0m\n",
       "\u001b[1m Row \u001b[0m│\u001b[1m a     \u001b[0m\u001b[1m b    \u001b[0m\n",
       "\u001b[1m     \u001b[0m│\u001b[90m Int64 \u001b[0m\u001b[90m Char \u001b[0m\n",
       "─────┼─────────────\n",
       "   1 │ 99999  a\n",
       "   2 │     2  b"
      ]
     },
     "execution_count": 31,
     "metadata": {},
     "output_type": "execute_result"
    }
   ],
   "source": [
    "df1"
   ]
  },
  {
   "cell_type": "code",
   "execution_count": 32,
   "id": "55422913-f4a3-4443-950f-96aca60f3d3b",
   "metadata": {},
   "outputs": [
    {
     "data": {
      "text/plain": [
       "true"
      ]
     },
     "execution_count": 32,
     "metadata": {},
     "output_type": "execute_result"
    }
   ],
   "source": [
    "df2 === df1 # df2 と df1 はコンピュータのメモリ上で同じ（`===`）ものか？ ---> true"
   ]
  },
  {
   "cell_type": "markdown",
   "id": "676a7cca-3916-4c9e-b10d-4fe11c32204f",
   "metadata": {},
   "source": [
    "`df2 = copy(df1)` とすれば，`df1` と `df2` は別物になり，このようなことにはならない。"
   ]
  },
  {
   "cell_type": "code",
   "execution_count": 33,
   "id": "1e7cf987-10a7-42f5-afd8-34c8a64a29ca",
   "metadata": {},
   "outputs": [
    {
     "data": {
      "text/html": [
       "<div class=\"data-frame\"><p>2 rows × 2 columns</p><table class=\"data-frame\"><thead><tr><th></th><th>a</th><th>b</th></tr><tr><th></th><th title=\"Int64\">Int64</th><th title=\"Char\">Char</th></tr></thead><tbody><tr><th>1</th><td>99999</td><td>a</td></tr><tr><th>2</th><td>2</td><td>b</td></tr></tbody></table></div>"
      ],
      "text/latex": [
       "\\begin{tabular}{r|cc}\n",
       "\t& a & b\\\\\n",
       "\t\\hline\n",
       "\t& Int64 & Char\\\\\n",
       "\t\\hline\n",
       "\t1 & 99999 & a \\\\\n",
       "\t2 & 2 & b \\\\\n",
       "\\end{tabular}\n"
      ],
      "text/plain": [
       "\u001b[1m2×2 DataFrame\u001b[0m\n",
       "\u001b[1m Row \u001b[0m│\u001b[1m a     \u001b[0m\u001b[1m b    \u001b[0m\n",
       "\u001b[1m     \u001b[0m│\u001b[90m Int64 \u001b[0m\u001b[90m Char \u001b[0m\n",
       "─────┼─────────────\n",
       "   1 │ 99999  a\n",
       "   2 │     2  b"
      ]
     },
     "execution_count": 33,
     "metadata": {},
     "output_type": "execute_result"
    }
   ],
   "source": [
    "df1 = DataFrame(a = [1, 2], b = ['a', 'b'])\n",
    "df2 = copy(df1)\n",
    "df2[1, 1] = 99999\n",
    "df2"
   ]
  },
  {
   "cell_type": "code",
   "execution_count": 34,
   "id": "c2080b88-9d41-4fa5-b9a0-b1b5a7c60ee2",
   "metadata": {},
   "outputs": [
    {
     "data": {
      "text/html": [
       "<div class=\"data-frame\"><p>2 rows × 2 columns</p><table class=\"data-frame\"><thead><tr><th></th><th>a</th><th>b</th></tr><tr><th></th><th title=\"Int64\">Int64</th><th title=\"Char\">Char</th></tr></thead><tbody><tr><th>1</th><td>1</td><td>a</td></tr><tr><th>2</th><td>2</td><td>b</td></tr></tbody></table></div>"
      ],
      "text/latex": [
       "\\begin{tabular}{r|cc}\n",
       "\t& a & b\\\\\n",
       "\t\\hline\n",
       "\t& Int64 & Char\\\\\n",
       "\t\\hline\n",
       "\t1 & 1 & a \\\\\n",
       "\t2 & 2 & b \\\\\n",
       "\\end{tabular}\n"
      ],
      "text/plain": [
       "\u001b[1m2×2 DataFrame\u001b[0m\n",
       "\u001b[1m Row \u001b[0m│\u001b[1m a     \u001b[0m\u001b[1m b    \u001b[0m\n",
       "\u001b[1m     \u001b[0m│\u001b[90m Int64 \u001b[0m\u001b[90m Char \u001b[0m\n",
       "─────┼─────────────\n",
       "   1 │     1  a\n",
       "   2 │     2  b"
      ]
     },
     "execution_count": 34,
     "metadata": {},
     "output_type": "execute_result"
    }
   ],
   "source": [
    "df1"
   ]
  },
  {
   "cell_type": "code",
   "execution_count": 35,
   "id": "01cd6ef2-1024-4b6a-8359-1480c59269e4",
   "metadata": {},
   "outputs": [
    {
     "data": {
      "text/plain": [
       "false"
      ]
     },
     "execution_count": 35,
     "metadata": {},
     "output_type": "execute_result"
    }
   ],
   "source": [
    "df2 === df1 # df2 と df1 は同じものか？ ---> false 別物"
   ]
  },
  {
   "cell_type": "markdown",
   "id": "4543a570-5494-41ab-8568-c69848213386",
   "metadata": {},
   "source": [
    "# 4.　空データフレーム\n",
    "\n",
    "指定されたデータフレームと同じ列名と同じ型を持つ 0 行のデータフレームを作る。"
   ]
  },
  {
   "cell_type": "code",
   "execution_count": 36,
   "id": "b6c72bcd-0b20-4b4b-b38b-53166cb3ba1a",
   "metadata": {},
   "outputs": [
    {
     "data": {
      "text/html": [
       "<div class=\"data-frame\"><p>0 rows × 6 columns</p><table class=\"data-frame\"><thead><tr><th></th><th>Ozone</th><th>Solar.R</th><th>Wind</th><th>Temp</th><th>Month</th><th>Day</th></tr><tr><th></th><th title=\"Union{Missing, Int64}\">Int64?</th><th title=\"Union{Missing, Int64}\">Int64?</th><th title=\"Float64\">Float64</th><th title=\"Int64\">Int64</th><th title=\"Int64\">Int64</th><th title=\"Int64\">Int64</th></tr></thead><tbody></tbody></table></div>"
      ],
      "text/latex": [
       "\\begin{tabular}{r|cccccc}\n",
       "\t& Ozone & Solar.R & Wind & Temp & Month & Day\\\\\n",
       "\t\\hline\n",
       "\t& Int64? & Int64? & Float64 & Int64 & Int64 & Int64\\\\\n",
       "\t\\hline\n",
       "\\end{tabular}\n"
      ],
      "text/plain": [
       "\u001b[1m0×6 DataFrame\u001b[0m"
      ]
     },
     "execution_count": 36,
     "metadata": {},
     "output_type": "execute_result"
    }
   ],
   "source": [
    "empty(airquality)"
   ]
  },
  {
   "cell_type": "markdown",
   "id": "79f621e0-d271-4bd1-8252-2811cb4f8a21",
   "metadata": {},
   "source": [
    "`empty!(df)` により，`df` の列名だけを残し，すべての行を削除する。意図しないなら危険！注意！"
   ]
  },
  {
   "cell_type": "code",
   "execution_count": 37,
   "id": "857381c5-7d20-49c7-a47c-5e7d566e0520",
   "metadata": {},
   "outputs": [
    {
     "data": {
      "text/html": [
       "<div class=\"data-frame\"><p>0 rows × 2 columns</p><table class=\"data-frame\"><thead><tr><th></th><th>a</th><th>b</th></tr><tr><th></th><th title=\"Int64\">Int64</th><th title=\"Char\">Char</th></tr></thead><tbody></tbody></table></div>"
      ],
      "text/latex": [
       "\\begin{tabular}{r|cc}\n",
       "\t& a & b\\\\\n",
       "\t\\hline\n",
       "\t& Int64 & Char\\\\\n",
       "\t\\hline\n",
       "\\end{tabular}\n"
      ],
      "text/plain": [
       "\u001b[1m0×2 DataFrame\u001b[0m"
      ]
     },
     "execution_count": 37,
     "metadata": {},
     "output_type": "execute_result"
    }
   ],
   "source": [
    "df1 = DataFrame(a = [1, 2], b = ['a', 'b'])\n",
    "empty!(df1)\n",
    "df1"
   ]
  },
  {
   "cell_type": "markdown",
   "id": "3db6ed36-bfa7-40a3-98f4-8e8fe63e0f7c",
   "metadata": {},
   "source": [
    "# 5.　データフレームの列の参照\n",
    "\n",
    "Julia では，列を参照するときに何通りかの方法がある。\n",
    "\n",
    "以下の方法は，1 つの列全体を参照する。\n",
    "列名の前に `:` を付けたもの，以下の例では `:Ozone` は Julia では「シンボル」と呼ばれる（必ずしもデータフレームの取り扱いのときだけでなく，整数や文字列のようなものとして扱われる）。\n",
    "\n",
    "`[:, 列]` のような指定において，`:` はすべての行を表す。"
   ]
  },
  {
   "cell_type": "code",
   "execution_count": 38,
   "id": "ddb93e9a-c541-4239-bc6c-f37742804907",
   "metadata": {},
   "outputs": [],
   "source": [
    "airquality.Ozone;\n",
    "airquality.\"Ozone\"\n",
    "airquality[:, :Ozone];\n",
    "airquality[:, \"Ozone\"];\n",
    "firstcolumn = :Ozone\n",
    "airquality[:, firstcolumn];\n",
    "airquality[:, 1];"
   ]
  },
  {
   "cell_type": "markdown",
   "id": "36ca1d54-a29e-49b1-b330-6bf74fed7622",
   "metadata": {},
   "source": [
    "1 番目の指定法が一番わかり易いと思うが，例からも想像できるように，変数名の中に `.` があるとエラーになる。そのような場合には前もって列名を変更する（「1.3. データフレームの列名の変更」参照）か 2 番目の方法すなわち引用符でくくればよい。"
   ]
  },
  {
   "cell_type": "code",
   "execution_count": 39,
   "id": "342e6a7c-1df0-493d-b659-72d8486a7a9f",
   "metadata": {},
   "outputs": [
    {
     "ename": "LoadError",
     "evalue": "ArgumentError: column name :Solar not found in the data frame; existing most similar names are: :Solar.R",
     "output_type": "error",
     "traceback": [
      "ArgumentError: column name :Solar not found in the data frame; existing most similar names are: :Solar.R",
      "",
      "Stacktrace:",
      " [1] lookupname",
      "   @ ~/.julia/packages/DataFrames/MA4YO/src/other/index.jl:395 [inlined]",
      " [2] getindex",
      "   @ ~/.julia/packages/DataFrames/MA4YO/src/other/index.jl:401 [inlined]",
      " [3] getindex(df::DataFrame, #unused#::typeof(!), col_ind::Symbol)",
      "   @ DataFrames ~/.julia/packages/DataFrames/MA4YO/src/dataframe/dataframe.jl:525",
      " [4] getproperty(df::DataFrame, col_ind::Symbol)",
      "   @ DataFrames ~/.julia/packages/DataFrames/MA4YO/src/abstractdataframe/abstractdataframe.jl:378",
      " [5] top-level scope",
      "   @ In[39]:1",
      " [6] eval",
      "   @ ./boot.jl:373 [inlined]",
      " [7] include_string(mapexpr::typeof(REPL.softscope), mod::Module, code::String, filename::String)",
      "   @ Base ./loading.jl:1196"
     ]
    }
   ],
   "source": [
    "first(airquality.Solar.R, 5) # エラーになる"
   ]
  },
  {
   "cell_type": "markdown",
   "id": "e273002c-4962-4a7f-90d4-bd5a2bf392f9",
   "metadata": {},
   "source": [
    "引用符で囲んでやるとエラーにはならない。"
   ]
  },
  {
   "cell_type": "code",
   "execution_count": 40,
   "id": "49a60446-e6bc-4a06-be44-9e3ec9a1067c",
   "metadata": {},
   "outputs": [
    {
     "name": "stdout",
     "output_type": "stream",
     "text": [
      "Union{Missing, Int64}[190, 118, 149, 313, missing]\n"
     ]
    }
   ],
   "source": [
    "first(airquality.\"Solar.R\", 5) |> println"
   ]
  },
  {
   "cell_type": "markdown",
   "id": "a895685d-87a9-48b2-b243-9ee306af74f6",
   "metadata": {},
   "source": [
    "行や列を範囲で参照するときには `[行範囲, 列範囲]` のように指定する。\n",
    "\n",
    "範囲の指定は，`数1:数2`のように表したときは数1から数2までの整数，`[数1, 数2, …]`　あるいは `[シンボル1, シンボル2, …]`\n",
    " あるいは `[文字列1, 文字列2, …]` のように表した場合はそれぞれをまとめたもの（集合）として扱われる。特に，`:` が使われる場合はその行や列全部を表す。\n",
    "\n",
    "なお，文字列での指定ととシンボルでの指定は混ぜて使用することはできない。"
   ]
  },
  {
   "cell_type": "code",
   "execution_count": 41,
   "id": "3ebff628-30f5-4823-bf98-c2c03c211114",
   "metadata": {},
   "outputs": [
    {
     "data": {
      "text/html": [
       "<div class=\"data-frame\"><p>5 rows × 2 columns</p><table class=\"data-frame\"><thead><tr><th></th><th>Ozone</th><th>Wind</th></tr><tr><th></th><th title=\"Union{Missing, Int64}\">Int64?</th><th title=\"Float64\">Float64</th></tr></thead><tbody><tr><th>1</th><td>41</td><td>7.4</td></tr><tr><th>2</th><td>36</td><td>8.0</td></tr><tr><th>3</th><td>12</td><td>12.6</td></tr><tr><th>4</th><td>18</td><td>11.5</td></tr><tr><th>5</th><td><em>missing</em></td><td>14.3</td></tr></tbody></table></div>"
      ],
      "text/latex": [
       "\\begin{tabular}{r|cc}\n",
       "\t& Ozone & Wind\\\\\n",
       "\t\\hline\n",
       "\t& Int64? & Float64\\\\\n",
       "\t\\hline\n",
       "\t1 & 41 & 7.4 \\\\\n",
       "\t2 & 36 & 8.0 \\\\\n",
       "\t3 & 12 & 12.6 \\\\\n",
       "\t4 & 18 & 11.5 \\\\\n",
       "\t5 & \\emph{missing} & 14.3 \\\\\n",
       "\\end{tabular}\n"
      ],
      "text/plain": [
       "\u001b[1m5×2 DataFrame\u001b[0m\n",
       "\u001b[1m Row \u001b[0m│\u001b[1m Ozone   \u001b[0m\u001b[1m Wind    \u001b[0m\n",
       "\u001b[1m     \u001b[0m│\u001b[90m Int64?  \u001b[0m\u001b[90m Float64 \u001b[0m\n",
       "─────┼──────────────────\n",
       "   1 │      41      7.4\n",
       "   2 │      36      8.0\n",
       "   3 │      12     12.6\n",
       "   4 │      18     11.5\n",
       "   5 │\u001b[90m missing \u001b[0m    14.3"
      ]
     },
     "execution_count": 41,
     "metadata": {},
     "output_type": "execute_result"
    }
   ],
   "source": [
    "first(airquality[:, [1, 3]], 5) # 1，3列のすべての行"
   ]
  },
  {
   "cell_type": "code",
   "execution_count": 42,
   "id": "65bd6568-7622-4696-9478-cd0751b72775",
   "metadata": {},
   "outputs": [
    {
     "data": {
      "text/html": [
       "<div class=\"data-frame\"><p>5 rows × 2 columns</p><table class=\"data-frame\"><thead><tr><th></th><th>Solar.R</th><th>Month</th></tr><tr><th></th><th title=\"Union{Missing, Int64}\">Int64?</th><th title=\"Int64\">Int64</th></tr></thead><tbody><tr><th>1</th><td>190</td><td>5</td></tr><tr><th>2</th><td>118</td><td>5</td></tr><tr><th>3</th><td>149</td><td>5</td></tr><tr><th>4</th><td>313</td><td>5</td></tr><tr><th>5</th><td><em>missing</em></td><td>5</td></tr></tbody></table></div>"
      ],
      "text/latex": [
       "\\begin{tabular}{r|cc}\n",
       "\t& Solar.R & Month\\\\\n",
       "\t\\hline\n",
       "\t& Int64? & Int64\\\\\n",
       "\t\\hline\n",
       "\t1 & 190 & 5 \\\\\n",
       "\t2 & 118 & 5 \\\\\n",
       "\t3 & 149 & 5 \\\\\n",
       "\t4 & 313 & 5 \\\\\n",
       "\t5 & \\emph{missing} & 5 \\\\\n",
       "\\end{tabular}\n"
      ],
      "text/plain": [
       "\u001b[1m5×2 DataFrame\u001b[0m\n",
       "\u001b[1m Row \u001b[0m│\u001b[1m Solar.R \u001b[0m\u001b[1m Month \u001b[0m\n",
       "\u001b[1m     \u001b[0m│\u001b[90m Int64?  \u001b[0m\u001b[90m Int64 \u001b[0m\n",
       "─────┼────────────────\n",
       "   1 │     190      5\n",
       "   2 │     118      5\n",
       "   3 │     149      5\n",
       "   4 │     313      5\n",
       "   5 │\u001b[90m missing \u001b[0m     5"
      ]
     },
     "execution_count": 42,
     "metadata": {},
     "output_type": "execute_result"
    }
   ],
   "source": [
    "first(airquality[:, [\"Solar.R\", \"Month\"]], 5) # \"Solar.R\" と \"Month\" のすべての行"
   ]
  },
  {
   "cell_type": "markdown",
   "id": "8b97ac90-bd92-4304-ac7e-b959c78e226b",
   "metadata": {},
   "source": [
    "# 6.　データフレームの行の参照\n",
    "\n",
    "データフレームを `[a, b]` で指定する場合，第 1 引数は行，第 2 引数は列を指定する。"
   ]
  },
  {
   "cell_type": "code",
   "execution_count": 43,
   "id": "89deb41f-0e88-4b27-a9ad-b8e6bee813dc",
   "metadata": {},
   "outputs": [
    {
     "data": {
      "text/html": [
       "<div class=\"data-frame\"><p>5 rows × 2 columns</p><table class=\"data-frame\"><thead><tr><th></th><th>Ozone</th><th>Wind</th></tr><tr><th></th><th title=\"Union{Missing, Int64}\">Int64?</th><th title=\"Float64\">Float64</th></tr></thead><tbody><tr><th>1</th><td>41</td><td>7.4</td></tr><tr><th>2</th><td>36</td><td>8.0</td></tr><tr><th>3</th><td>12</td><td>12.6</td></tr><tr><th>4</th><td>18</td><td>11.5</td></tr><tr><th>5</th><td><em>missing</em></td><td>14.3</td></tr></tbody></table></div>"
      ],
      "text/latex": [
       "\\begin{tabular}{r|cc}\n",
       "\t& Ozone & Wind\\\\\n",
       "\t\\hline\n",
       "\t& Int64? & Float64\\\\\n",
       "\t\\hline\n",
       "\t1 & 41 & 7.4 \\\\\n",
       "\t2 & 36 & 8.0 \\\\\n",
       "\t3 & 12 & 12.6 \\\\\n",
       "\t4 & 18 & 11.5 \\\\\n",
       "\t5 & \\emph{missing} & 14.3 \\\\\n",
       "\\end{tabular}\n"
      ],
      "text/plain": [
       "\u001b[1m5×2 DataFrame\u001b[0m\n",
       "\u001b[1m Row \u001b[0m│\u001b[1m Ozone   \u001b[0m\u001b[1m Wind    \u001b[0m\n",
       "\u001b[1m     \u001b[0m│\u001b[90m Int64?  \u001b[0m\u001b[90m Float64 \u001b[0m\n",
       "─────┼──────────────────\n",
       "   1 │      41      7.4\n",
       "   2 │      36      8.0\n",
       "   3 │      12     12.6\n",
       "   4 │      18     11.5\n",
       "   5 │\u001b[90m missing \u001b[0m    14.3"
      ]
     },
     "execution_count": 43,
     "metadata": {},
     "output_type": "execute_result"
    }
   ],
   "source": [
    "airquality[1:5, [1, 3]] # 1〜5 行の 1, 3 列"
   ]
  },
  {
   "cell_type": "markdown",
   "id": "0466d535-68f1-4204-84e6-aa99e9ee6a62",
   "metadata": {},
   "source": [
    "第 1 引数は `:` で表す他に `!` で表すこともある。`:` はデータフレームをコピーして参照するが，`!` は直接参照する。\n",
    "\n",
    "下の 2 つの例において，`test` の第 1 列は元のままの `Int64?` であるが，`test2` の第 1 列は，`test2` の第 2 列と同じ `Float64` になる。\n",
    "この違いは，大したことではないこともあるが，大きな落とし穴になることもあるので注意が必要である。\n",
    "\n"
   ]
  },
  {
   "cell_type": "code",
   "execution_count": 44,
   "id": "4f40a4d9-92a7-469b-b83a-5a2a14f1fa2a",
   "metadata": {},
   "outputs": [
    {
     "data": {
      "text/html": [
       "<div class=\"data-frame\"><p>5 rows × 2 columns</p><table class=\"data-frame\"><thead><tr><th></th><th>Ozone</th><th>Wind</th></tr><tr><th></th><th title=\"Union{Missing, Int64}\">Int64?</th><th title=\"Float64\">Float64</th></tr></thead><tbody><tr><th>1</th><td>74</td><td>7.4</td></tr><tr><th>2</th><td>80</td><td>8.0</td></tr><tr><th>3</th><td>126</td><td>12.6</td></tr><tr><th>4</th><td>115</td><td>11.5</td></tr><tr><th>5</th><td>143</td><td>14.3</td></tr></tbody></table></div>"
      ],
      "text/latex": [
       "\\begin{tabular}{r|cc}\n",
       "\t& Ozone & Wind\\\\\n",
       "\t\\hline\n",
       "\t& Int64? & Float64\\\\\n",
       "\t\\hline\n",
       "\t1 & 74 & 7.4 \\\\\n",
       "\t2 & 80 & 8.0 \\\\\n",
       "\t3 & 126 & 12.6 \\\\\n",
       "\t4 & 115 & 11.5 \\\\\n",
       "\t5 & 143 & 14.3 \\\\\n",
       "\\end{tabular}\n"
      ],
      "text/plain": [
       "\u001b[1m5×2 DataFrame\u001b[0m\n",
       "\u001b[1m Row \u001b[0m│\u001b[1m Ozone  \u001b[0m\u001b[1m Wind    \u001b[0m\n",
       "\u001b[1m     \u001b[0m│\u001b[90m Int64? \u001b[0m\u001b[90m Float64 \u001b[0m\n",
       "─────┼─────────────────\n",
       "   1 │     74      7.4\n",
       "   2 │     80      8.0\n",
       "   3 │    126     12.6\n",
       "   4 │    115     11.5\n",
       "   5 │    143     14.3"
      ]
     },
     "execution_count": 44,
     "metadata": {},
     "output_type": "execute_result"
    }
   ],
   "source": [
    "test = airquality[1:5, [1, 3]]\n",
    "test[:, 1] = test[:, 2] .* 10\n",
    "test"
   ]
  },
  {
   "cell_type": "code",
   "execution_count": 45,
   "id": "7213c177-f082-47a4-82b5-9416821a31ef",
   "metadata": {},
   "outputs": [
    {
     "data": {
      "text/html": [
       "<div class=\"data-frame\"><p>5 rows × 2 columns</p><table class=\"data-frame\"><thead><tr><th></th><th>Ozone</th><th>Wind</th></tr><tr><th></th><th title=\"Float64\">Float64</th><th title=\"Float64\">Float64</th></tr></thead><tbody><tr><th>1</th><td>37.0</td><td>7.4</td></tr><tr><th>2</th><td>40.0</td><td>8.0</td></tr><tr><th>3</th><td>63.0</td><td>12.6</td></tr><tr><th>4</th><td>57.5</td><td>11.5</td></tr><tr><th>5</th><td>71.5</td><td>14.3</td></tr></tbody></table></div>"
      ],
      "text/latex": [
       "\\begin{tabular}{r|cc}\n",
       "\t& Ozone & Wind\\\\\n",
       "\t\\hline\n",
       "\t& Float64 & Float64\\\\\n",
       "\t\\hline\n",
       "\t1 & 37.0 & 7.4 \\\\\n",
       "\t2 & 40.0 & 8.0 \\\\\n",
       "\t3 & 63.0 & 12.6 \\\\\n",
       "\t4 & 57.5 & 11.5 \\\\\n",
       "\t5 & 71.5 & 14.3 \\\\\n",
       "\\end{tabular}\n"
      ],
      "text/plain": [
       "\u001b[1m5×2 DataFrame\u001b[0m\n",
       "\u001b[1m Row \u001b[0m│\u001b[1m Ozone   \u001b[0m\u001b[1m Wind    \u001b[0m\n",
       "\u001b[1m     \u001b[0m│\u001b[90m Float64 \u001b[0m\u001b[90m Float64 \u001b[0m\n",
       "─────┼──────────────────\n",
       "   1 │    37.0      7.4\n",
       "   2 │    40.0      8.0\n",
       "   3 │    63.0     12.6\n",
       "   4 │    57.5     11.5\n",
       "   5 │    71.5     14.3"
      ]
     },
     "execution_count": 45,
     "metadata": {},
     "output_type": "execute_result"
    }
   ],
   "source": [
    "test2 = airquality[1:5, [1, 3]]\n",
    "test2[!, 1] = test2[:, 2] .* 5\n",
    "test2"
   ]
  },
  {
   "cell_type": "markdown",
   "id": "f04680b4-d5a4-4263-b1aa-57a9144123c8",
   "metadata": {},
   "source": [
    "たとえば，下の例では `test3[:, 1]` は `InexactError: Int64(57.5)` というエラーを発生する。つまり，「元のままの `Int64?` に `57.5` の整数部 `Int(57.5)` を代入しているが精度が失われるよ」というエラーである。\n",
    "\n",
    "大雑把な方針としては，左辺のデータフレームには `!` を使うほうが自然かもしれない。"
   ]
  },
  {
   "cell_type": "code",
   "execution_count": 46,
   "id": "a6f691e7-bde0-4192-afe6-64461e7ce3bc",
   "metadata": {},
   "outputs": [
    {
     "ename": "LoadError",
     "evalue": "InexactError: Int64(57.5)",
     "output_type": "error",
     "traceback": [
      "InexactError: Int64(57.5)",
      "",
      "Stacktrace:",
      "  [1] Int64",
      "    @ ./float.jl:812 [inlined]",
      "  [2] convert",
      "    @ ./number.jl:7 [inlined]",
      "  [3] convert",
      "    @ ./missing.jl:69 [inlined]",
      "  [4] setindex!",
      "    @ ./array.jl:903 [inlined]",
      "  [5] macro expansion",
      "    @ ./multidimensional.jl:910 [inlined]",
      "  [6] macro expansion",
      "    @ ./cartesian.jl:64 [inlined]",
      "  [7] _unsafe_setindex!(#unused#::IndexLinear, A::Vector{Union{Missing, Int64}}, x::Vector{Float64}, I::Base.Slice{Base.OneTo{Int64}})",
      "    @ Base ./multidimensional.jl:905",
      "  [8] _setindex!",
      "    @ ./multidimensional.jl:894 [inlined]",
      "  [9] setindex!(A::Vector{Union{Missing, Int64}}, v::Vector{Float64}, I::Function)",
      "    @ Base ./abstractarray.jl:1315",
      " [10] setindex!(df::DataFrame, v::Vector{Float64}, row_inds::Colon, col_ind::Int64)",
      "    @ DataFrames ~/.julia/packages/DataFrames/MA4YO/src/dataframe/dataframe.jl:695",
      " [11] top-level scope",
      "    @ In[46]:2",
      " [12] eval",
      "    @ ./boot.jl:373 [inlined]",
      " [13] include_string(mapexpr::typeof(REPL.softscope), mod::Module, code::String, filename::String)",
      "    @ Base ./loading.jl:1196"
     ]
    }
   ],
   "source": [
    "test3 = airquality[1:5, [1, 3]]\n",
    "test3[:, 1] = test3[:, 2] .* 5\n",
    "test3"
   ]
  },
  {
   "cell_type": "markdown",
   "id": "7a6b1a3e-6b5d-42da-b1c7-7e74cfaf3b5e",
   "metadata": {},
   "source": [
    "# 7.　データフレームの列名の変更\n",
    "\n",
    "列名の変更は `rename!()` による。\n",
    "Julia の一般的な規約であるが，関数名の最後が `!` になっている場合は，関数への引数がインプレースで変更されるので代入の必要はない。\n",
    "逆に言えば，元の引数が変更されてしまうので，前もってコピーをとっておかない限りもとに戻せなくなるので注意が必要である。\n",
    "\n",
    "第 2 引数以降に，`元の名前 => 新しい名前` の形式で列挙する。"
   ]
  },
  {
   "cell_type": "code",
   "execution_count": 47,
   "id": "aca2dccb-ff51-4c0c-b5bd-1b2eb18af113",
   "metadata": {},
   "outputs": [
    {
     "data": {
      "text/html": [
       "<p>DataFrameRow (6 columns)</p><div class=\"data-frame\"><table class=\"data-frame\"><thead><tr><th></th><th>Ozone</th><th>Solar_R</th><th>Wind</th><th>Temp</th><th>Month</th><th>Day</th></tr><tr><th></th><th title=\"Union{Missing, Int64}\">Int64?</th><th title=\"Union{Missing, Int64}\">Int64?</th><th title=\"Float64\">Float64</th><th title=\"Int64\">Int64</th><th title=\"Int64\">Int64</th><th title=\"Int64\">Int64</th></tr></thead><tbody><tr><th>1</th><td>41</td><td>190</td><td>7.4</td><td>67</td><td>5</td><td>1</td></tr></tbody></table></div>"
      ],
      "text/latex": [
       "\\begin{tabular}{r|cccccc}\n",
       "\t& Ozone & Solar\\_R & Wind & Temp & Month & Day\\\\\n",
       "\t\\hline\n",
       "\t& Int64? & Int64? & Float64 & Int64 & Int64 & Int64\\\\\n",
       "\t\\hline\n",
       "\t1 & 41 & 190 & 7.4 & 67 & 5 & 1 \\\\\n",
       "\\end{tabular}\n"
      ],
      "text/plain": [
       "\u001b[1mDataFrameRow\u001b[0m\n",
       "\u001b[1m Row \u001b[0m│\u001b[1m Ozone  \u001b[0m\u001b[1m Solar_R \u001b[0m\u001b[1m Wind    \u001b[0m\u001b[1m Temp  \u001b[0m\u001b[1m Month \u001b[0m\u001b[1m Day   \u001b[0m\n",
       "\u001b[1m     \u001b[0m│\u001b[90m Int64? \u001b[0m\u001b[90m Int64?  \u001b[0m\u001b[90m Float64 \u001b[0m\u001b[90m Int64 \u001b[0m\u001b[90m Int64 \u001b[0m\u001b[90m Int64 \u001b[0m\n",
       "─────┼───────────────────────────────────────────────\n",
       "   1 │     41      190      7.4     67      5      1"
      ]
     },
     "execution_count": 47,
     "metadata": {},
     "output_type": "execute_result"
    }
   ],
   "source": [
    "airquality2 = rename(airquality, Dict(\"Solar.R\" => \"Solar_R\"));\n",
    "first(airquality2)"
   ]
  },
  {
   "cell_type": "code",
   "execution_count": 48,
   "id": "598bf016-def4-4733-badb-13c9238ab71a",
   "metadata": {},
   "outputs": [
    {
     "data": {
      "text/html": [
       "<p>DataFrameRow (6 columns)</p><div class=\"data-frame\"><table class=\"data-frame\"><thead><tr><th></th><th>Ozone</th><th>Solar_R</th><th>Wind</th><th>Temperature</th><th>Month</th><th>Day</th></tr><tr><th></th><th title=\"Union{Missing, Int64}\">Int64?</th><th title=\"Union{Missing, Int64}\">Int64?</th><th title=\"Float64\">Float64</th><th title=\"Int64\">Int64</th><th title=\"Int64\">Int64</th><th title=\"Int64\">Int64</th></tr></thead><tbody><tr><th>1</th><td>41</td><td>190</td><td>7.4</td><td>67</td><td>5</td><td>1</td></tr></tbody></table></div>"
      ],
      "text/latex": [
       "\\begin{tabular}{r|cccccc}\n",
       "\t& Ozone & Solar\\_R & Wind & Temperature & Month & Day\\\\\n",
       "\t\\hline\n",
       "\t& Int64? & Int64? & Float64 & Int64 & Int64 & Int64\\\\\n",
       "\t\\hline\n",
       "\t1 & 41 & 190 & 7.4 & 67 & 5 & 1 \\\\\n",
       "\\end{tabular}\n"
      ],
      "text/plain": [
       "\u001b[1mDataFrameRow\u001b[0m\n",
       "\u001b[1m Row \u001b[0m│\u001b[1m Ozone  \u001b[0m\u001b[1m Solar_R \u001b[0m\u001b[1m Wind    \u001b[0m\u001b[1m Temperature \u001b[0m\u001b[1m Month \u001b[0m\u001b[1m Day   \u001b[0m\n",
       "\u001b[1m     \u001b[0m│\u001b[90m Int64? \u001b[0m\u001b[90m Int64?  \u001b[0m\u001b[90m Float64 \u001b[0m\u001b[90m Int64       \u001b[0m\u001b[90m Int64 \u001b[0m\u001b[90m Int64 \u001b[0m\n",
       "─────┼─────────────────────────────────────────────────────\n",
       "   1 │     41      190      7.4           67      5      1"
      ]
     },
     "execution_count": 48,
     "metadata": {},
     "output_type": "execute_result"
    }
   ],
   "source": [
    "airquality3 = rename(airquality, \"Solar.R\" => \"Solar_R\", \"Temp\" => \"Temperature\");\n",
    "first(airquality3)"
   ]
  },
  {
   "cell_type": "markdown",
   "id": "fbe362ff-5794-4f9f-ae57-797265c0b92b",
   "metadata": {},
   "source": [
    "`rename()` の場合は，引数として指定した元のデータフレームは変更されない。したがって，もし変更結果を保存したい場合はデータフレーム（自分自身でもよい）に保存しなければならない"
   ]
  },
  {
   "cell_type": "code",
   "execution_count": 49,
   "id": "9dfd371e-9ab5-49bd-8d8f-ba799896e6cb",
   "metadata": {},
   "outputs": [
    {
     "data": {
      "text/html": [
       "<p>DataFrameRow (6 columns)</p><div class=\"data-frame\"><table class=\"data-frame\"><thead><tr><th></th><th>Ozone</th><th>Solar.R</th><th>Wind</th><th>Temp</th><th>Month</th><th>Day</th></tr><tr><th></th><th title=\"Union{Missing, Int64}\">Int64?</th><th title=\"Union{Missing, Int64}\">Int64?</th><th title=\"Float64\">Float64</th><th title=\"Int64\">Int64</th><th title=\"Int64\">Int64</th><th title=\"Int64\">Int64</th></tr></thead><tbody><tr><th>1</th><td>41</td><td>190</td><td>7.4</td><td>67</td><td>5</td><td>1</td></tr></tbody></table></div>"
      ],
      "text/latex": [
       "\\begin{tabular}{r|cccccc}\n",
       "\t& Ozone & Solar.R & Wind & Temp & Month & Day\\\\\n",
       "\t\\hline\n",
       "\t& Int64? & Int64? & Float64 & Int64 & Int64 & Int64\\\\\n",
       "\t\\hline\n",
       "\t1 & 41 & 190 & 7.4 & 67 & 5 & 1 \\\\\n",
       "\\end{tabular}\n"
      ],
      "text/plain": [
       "\u001b[1mDataFrameRow\u001b[0m\n",
       "\u001b[1m Row \u001b[0m│\u001b[1m Ozone  \u001b[0m\u001b[1m Solar.R \u001b[0m\u001b[1m Wind    \u001b[0m\u001b[1m Temp  \u001b[0m\u001b[1m Month \u001b[0m\u001b[1m Day   \u001b[0m\n",
       "\u001b[1m     \u001b[0m│\u001b[90m Int64? \u001b[0m\u001b[90m Int64?  \u001b[0m\u001b[90m Float64 \u001b[0m\u001b[90m Int64 \u001b[0m\u001b[90m Int64 \u001b[0m\u001b[90m Int64 \u001b[0m\n",
       "─────┼───────────────────────────────────────────────\n",
       "   1 │     41      190      7.4     67      5      1"
      ]
     },
     "execution_count": 49,
     "metadata": {},
     "output_type": "execute_result"
    }
   ],
   "source": [
    "first(airquality)"
   ]
  },
  {
   "cell_type": "markdown",
   "id": "df04e7ca-9092-4204-b79d-11375c2c7a5e",
   "metadata": {},
   "source": [
    "`rename!()` では，引数として指定した元のデータフレームが変更される。"
   ]
  },
  {
   "cell_type": "code",
   "execution_count": 50,
   "id": "ea2a89e1-adbf-4d7e-b1d6-7be5b6abbcb5",
   "metadata": {},
   "outputs": [
    {
     "data": {
      "text/html": [
       "<p>DataFrameRow (6 columns)</p><div class=\"data-frame\"><table class=\"data-frame\"><thead><tr><th></th><th>Ozone</th><th>Solar_R</th><th>Wind</th><th>Temp</th><th>Month</th><th>Day</th></tr><tr><th></th><th title=\"Union{Missing, Int64}\">Int64?</th><th title=\"Union{Missing, Int64}\">Int64?</th><th title=\"Float64\">Float64</th><th title=\"Int64\">Int64</th><th title=\"Int64\">Int64</th><th title=\"Int64\">Int64</th></tr></thead><tbody><tr><th>1</th><td>41</td><td>190</td><td>7.4</td><td>67</td><td>5</td><td>1</td></tr></tbody></table></div>"
      ],
      "text/latex": [
       "\\begin{tabular}{r|cccccc}\n",
       "\t& Ozone & Solar\\_R & Wind & Temp & Month & Day\\\\\n",
       "\t\\hline\n",
       "\t& Int64? & Int64? & Float64 & Int64 & Int64 & Int64\\\\\n",
       "\t\\hline\n",
       "\t1 & 41 & 190 & 7.4 & 67 & 5 & 1 \\\\\n",
       "\\end{tabular}\n"
      ],
      "text/plain": [
       "\u001b[1mDataFrameRow\u001b[0m\n",
       "\u001b[1m Row \u001b[0m│\u001b[1m Ozone  \u001b[0m\u001b[1m Solar_R \u001b[0m\u001b[1m Wind    \u001b[0m\u001b[1m Temp  \u001b[0m\u001b[1m Month \u001b[0m\u001b[1m Day   \u001b[0m\n",
       "\u001b[1m     \u001b[0m│\u001b[90m Int64? \u001b[0m\u001b[90m Int64?  \u001b[0m\u001b[90m Float64 \u001b[0m\u001b[90m Int64 \u001b[0m\u001b[90m Int64 \u001b[0m\u001b[90m Int64 \u001b[0m\n",
       "─────┼───────────────────────────────────────────────\n",
       "   1 │     41      190      7.4     67      5      1"
      ]
     },
     "execution_count": 50,
     "metadata": {},
     "output_type": "execute_result"
    }
   ],
   "source": [
    "rename!(airquality, Dict(\"Solar.R\" => \"Solar_R\"));\n",
    "first(airquality)"
   ]
  },
  {
   "cell_type": "markdown",
   "id": "070ae5a1-d0d1-460f-a65d-4f50a8f88012",
   "metadata": {},
   "source": [
    "# 8.　列の抽出\n",
    "\n",
    "`select()`，`select!()` は列の抽出を行う。抽出した後の順序は指定したとおりになる（単純に並べ替えるだけということも可）。\n",
    "列の指定は何通りかある。"
   ]
  },
  {
   "cell_type": "code",
   "execution_count": 51,
   "id": "42f6628a-6794-4f89-bfa0-2eaf2cde7f2a",
   "metadata": {},
   "outputs": [
    {
     "data": {
      "text/html": [
       "<p>DataFrameRow (4 columns)</p><div class=\"data-frame\"><table class=\"data-frame\"><thead><tr><th></th><th>Temp</th><th>Wind</th><th>Solar_R</th><th>Ozone</th></tr><tr><th></th><th title=\"Int64\">Int64</th><th title=\"Float64\">Float64</th><th title=\"Union{Missing, Int64}\">Int64?</th><th title=\"Union{Missing, Int64}\">Int64?</th></tr></thead><tbody><tr><th>1</th><td>67</td><td>7.4</td><td>190</td><td>41</td></tr></tbody></table></div>"
      ],
      "text/latex": [
       "\\begin{tabular}{r|cccc}\n",
       "\t& Temp & Wind & Solar\\_R & Ozone\\\\\n",
       "\t\\hline\n",
       "\t& Int64 & Float64 & Int64? & Int64?\\\\\n",
       "\t\\hline\n",
       "\t1 & 67 & 7.4 & 190 & 41 \\\\\n",
       "\\end{tabular}\n"
      ],
      "text/plain": [
       "\u001b[1mDataFrameRow\u001b[0m\n",
       "\u001b[1m Row \u001b[0m│\u001b[1m Temp  \u001b[0m\u001b[1m Wind    \u001b[0m\u001b[1m Solar_R \u001b[0m\u001b[1m Ozone  \u001b[0m\n",
       "\u001b[1m     \u001b[0m│\u001b[90m Int64 \u001b[0m\u001b[90m Float64 \u001b[0m\u001b[90m Int64?  \u001b[0m\u001b[90m Int64? \u001b[0m\n",
       "─────┼─────────────────────────────────\n",
       "   1 │    67      7.4      190      41"
      ]
     },
     "execution_count": 51,
     "metadata": {},
     "output_type": "execute_result"
    }
   ],
   "source": [
    "df = select(airquality, [4, 3, 2, 1]); # 列番号で指定\n",
    "first(df)"
   ]
  },
  {
   "cell_type": "code",
   "execution_count": 52,
   "id": "ee4e2e5b-b77c-487b-9028-c394961a721b",
   "metadata": {},
   "outputs": [
    {
     "data": {
      "text/html": [
       "<p>DataFrameRow (4 columns)</p><div class=\"data-frame\"><table class=\"data-frame\"><thead><tr><th></th><th>Wind</th><th>Temp</th><th>Ozone</th><th>Solar_R</th></tr><tr><th></th><th title=\"Float64\">Float64</th><th title=\"Int64\">Int64</th><th title=\"Union{Missing, Int64}\">Int64?</th><th title=\"Union{Missing, Int64}\">Int64?</th></tr></thead><tbody><tr><th>1</th><td>7.4</td><td>67</td><td>41</td><td>190</td></tr></tbody></table></div>"
      ],
      "text/latex": [
       "\\begin{tabular}{r|cccc}\n",
       "\t& Wind & Temp & Ozone & Solar\\_R\\\\\n",
       "\t\\hline\n",
       "\t& Float64 & Int64 & Int64? & Int64?\\\\\n",
       "\t\\hline\n",
       "\t1 & 7.4 & 67 & 41 & 190 \\\\\n",
       "\\end{tabular}\n"
      ],
      "text/plain": [
       "\u001b[1mDataFrameRow\u001b[0m\n",
       "\u001b[1m Row \u001b[0m│\u001b[1m Wind    \u001b[0m\u001b[1m Temp  \u001b[0m\u001b[1m Ozone  \u001b[0m\u001b[1m Solar_R \u001b[0m\n",
       "\u001b[1m     \u001b[0m│\u001b[90m Float64 \u001b[0m\u001b[90m Int64 \u001b[0m\u001b[90m Int64? \u001b[0m\u001b[90m Int64?  \u001b[0m\n",
       "─────┼─────────────────────────────────\n",
       "   1 │     7.4     67      41      190"
      ]
     },
     "execution_count": 52,
     "metadata": {},
     "output_type": "execute_result"
    }
   ],
   "source": [
    "df = select(airquality, [:Wind, :Temp, :Ozone, :Solar_R]); # シンボルで指定\n",
    "first(df)"
   ]
  },
  {
   "cell_type": "markdown",
   "id": "7a5cc2b9-7bb9-48ee-b130-0de55cb6cf77",
   "metadata": {},
   "source": [
    "列を（名前を変えて）コピーしたり，変数変換することもできる。`ByRow()` はすべての行に対して，引数で指定する関数または無名関数を適用する。\n",
    "\n",
    "たとえば，元の `Temp` を華氏温度 `Fahrenheit` に名前を変えて，`Temp` を変換して摂氏温度 `Celcius` を作成する。\n",
    "\n",
    "`x -> 5(x-32)/9` が無名関数で，引数を `x` として `5(x-32)/9` を計算する。\n",
    "\n",
    "関数で定義するとすれば `func(x) = 5(x-32)/9` と同じである。"
   ]
  },
  {
   "cell_type": "code",
   "execution_count": 53,
   "id": "6f1027f8-a3b1-4b5d-b217-4f5ac733e3b4",
   "metadata": {},
   "outputs": [
    {
     "data": {
      "text/html": [
       "<div class=\"data-frame\"><p>5 rows × 5 columns</p><table class=\"data-frame\"><thead><tr><th></th><th>Ozone</th><th>Solar_R</th><th>Wind</th><th>Fahrenheit</th><th>Celcius</th></tr><tr><th></th><th title=\"Union{Missing, Int64}\">Int64?</th><th title=\"Union{Missing, Int64}\">Int64?</th><th title=\"Float64\">Float64</th><th title=\"Int64\">Int64</th><th title=\"Float64\">Float64</th></tr></thead><tbody><tr><th>1</th><td>41</td><td>190</td><td>7.4</td><td>67</td><td>19.4444</td></tr><tr><th>2</th><td>36</td><td>118</td><td>8.0</td><td>72</td><td>22.2222</td></tr><tr><th>3</th><td>12</td><td>149</td><td>12.6</td><td>74</td><td>23.3333</td></tr><tr><th>4</th><td>18</td><td>313</td><td>11.5</td><td>62</td><td>16.6667</td></tr><tr><th>5</th><td><em>missing</em></td><td><em>missing</em></td><td>14.3</td><td>56</td><td>13.3333</td></tr></tbody></table></div>"
      ],
      "text/latex": [
       "\\begin{tabular}{r|ccccc}\n",
       "\t& Ozone & Solar\\_R & Wind & Fahrenheit & Celcius\\\\\n",
       "\t\\hline\n",
       "\t& Int64? & Int64? & Float64 & Int64 & Float64\\\\\n",
       "\t\\hline\n",
       "\t1 & 41 & 190 & 7.4 & 67 & 19.4444 \\\\\n",
       "\t2 & 36 & 118 & 8.0 & 72 & 22.2222 \\\\\n",
       "\t3 & 12 & 149 & 12.6 & 74 & 23.3333 \\\\\n",
       "\t4 & 18 & 313 & 11.5 & 62 & 16.6667 \\\\\n",
       "\t5 & \\emph{missing} & \\emph{missing} & 14.3 & 56 & 13.3333 \\\\\n",
       "\\end{tabular}\n"
      ],
      "text/plain": [
       "\u001b[1m5×5 DataFrame\u001b[0m\n",
       "\u001b[1m Row \u001b[0m│\u001b[1m Ozone   \u001b[0m\u001b[1m Solar_R \u001b[0m\u001b[1m Wind    \u001b[0m\u001b[1m Fahrenheit \u001b[0m\u001b[1m Celcius \u001b[0m\n",
       "\u001b[1m     \u001b[0m│\u001b[90m Int64?  \u001b[0m\u001b[90m Int64?  \u001b[0m\u001b[90m Float64 \u001b[0m\u001b[90m Int64      \u001b[0m\u001b[90m Float64 \u001b[0m\n",
       "─────┼────────────────────────────────────────────────\n",
       "   1 │      41      190      7.4          67  19.4444\n",
       "   2 │      36      118      8.0          72  22.2222\n",
       "   3 │      12      149     12.6          74  23.3333\n",
       "   4 │      18      313     11.5          62  16.6667\n",
       "   5 │\u001b[90m missing \u001b[0m\u001b[90m missing \u001b[0m    14.3          56  13.3333"
      ]
     },
     "execution_count": 53,
     "metadata": {},
     "output_type": "execute_result"
    }
   ],
   "source": [
    "df = select(airquality, :Ozone, :Solar_R, :Wind,\n",
    "        :Temp => :Fahrenheit, :Temp => ByRow(x -> 5(x-32)/9) => :Celcius);\n",
    "first(df, 5)"
   ]
  },
  {
   "cell_type": "markdown",
   "id": "82435fa1-fe83-4572-a4fe-7d95292ff527",
   "metadata": {},
   "source": [
    "# 9.　指定された列を削除する\n",
    "\n",
    "削除は，「`select` しない」ということと同じである。`Not(列名ベクトル)` で指定できる。\n",
    "\n",
    "`:Ozone` を除く。"
   ]
  },
  {
   "cell_type": "code",
   "execution_count": 54,
   "id": "ac6e284d-c83b-43a0-92d4-2d49bfd684ac",
   "metadata": {},
   "outputs": [
    {
     "data": {
      "text/html": [
       "<div class=\"data-frame\"><p>3 rows × 5 columns</p><table class=\"data-frame\"><thead><tr><th></th><th>Solar_R</th><th>Wind</th><th>Temp</th><th>Month</th><th>Day</th></tr><tr><th></th><th title=\"Union{Missing, Int64}\">Int64?</th><th title=\"Float64\">Float64</th><th title=\"Int64\">Int64</th><th title=\"Int64\">Int64</th><th title=\"Int64\">Int64</th></tr></thead><tbody><tr><th>1</th><td>190</td><td>7.4</td><td>67</td><td>5</td><td>1</td></tr><tr><th>2</th><td>118</td><td>8.0</td><td>72</td><td>5</td><td>2</td></tr><tr><th>3</th><td>149</td><td>12.6</td><td>74</td><td>5</td><td>3</td></tr></tbody></table></div>"
      ],
      "text/latex": [
       "\\begin{tabular}{r|ccccc}\n",
       "\t& Solar\\_R & Wind & Temp & Month & Day\\\\\n",
       "\t\\hline\n",
       "\t& Int64? & Float64 & Int64 & Int64 & Int64\\\\\n",
       "\t\\hline\n",
       "\t1 & 190 & 7.4 & 67 & 5 & 1 \\\\\n",
       "\t2 & 118 & 8.0 & 72 & 5 & 2 \\\\\n",
       "\t3 & 149 & 12.6 & 74 & 5 & 3 \\\\\n",
       "\\end{tabular}\n"
      ],
      "text/plain": [
       "\u001b[1m3×5 DataFrame\u001b[0m\n",
       "\u001b[1m Row \u001b[0m│\u001b[1m Solar_R \u001b[0m\u001b[1m Wind    \u001b[0m\u001b[1m Temp  \u001b[0m\u001b[1m Month \u001b[0m\u001b[1m Day   \u001b[0m\n",
       "\u001b[1m     \u001b[0m│\u001b[90m Int64?  \u001b[0m\u001b[90m Float64 \u001b[0m\u001b[90m Int64 \u001b[0m\u001b[90m Int64 \u001b[0m\u001b[90m Int64 \u001b[0m\n",
       "─────┼───────────────────────────────────────\n",
       "   1 │     190      7.4     67      5      1\n",
       "   2 │     118      8.0     72      5      2\n",
       "   3 │     149     12.6     74      5      3"
      ]
     },
     "execution_count": 54,
     "metadata": {},
     "output_type": "execute_result"
    }
   ],
   "source": [
    "select(airquality, Not(:Ozone))[1:3, :] # 最初の 3 行だけ示す"
   ]
  },
  {
   "cell_type": "markdown",
   "id": "2cfdd6bb-216d-4af3-851f-56cb43c4b55a",
   "metadata": {},
   "source": [
    "`:Month` と `:Day` を除く。"
   ]
  },
  {
   "cell_type": "code",
   "execution_count": 55,
   "id": "48427b1c-0700-440b-bfdb-447b793a98ee",
   "metadata": {},
   "outputs": [
    {
     "data": {
      "text/html": [
       "<div class=\"data-frame\"><p>3 rows × 4 columns</p><table class=\"data-frame\"><thead><tr><th></th><th>Ozone</th><th>Solar_R</th><th>Wind</th><th>Temp</th></tr><tr><th></th><th title=\"Union{Missing, Int64}\">Int64?</th><th title=\"Union{Missing, Int64}\">Int64?</th><th title=\"Float64\">Float64</th><th title=\"Int64\">Int64</th></tr></thead><tbody><tr><th>1</th><td>41</td><td>190</td><td>7.4</td><td>67</td></tr><tr><th>2</th><td>36</td><td>118</td><td>8.0</td><td>72</td></tr><tr><th>3</th><td>12</td><td>149</td><td>12.6</td><td>74</td></tr></tbody></table></div>"
      ],
      "text/latex": [
       "\\begin{tabular}{r|cccc}\n",
       "\t& Ozone & Solar\\_R & Wind & Temp\\\\\n",
       "\t\\hline\n",
       "\t& Int64? & Int64? & Float64 & Int64\\\\\n",
       "\t\\hline\n",
       "\t1 & 41 & 190 & 7.4 & 67 \\\\\n",
       "\t2 & 36 & 118 & 8.0 & 72 \\\\\n",
       "\t3 & 12 & 149 & 12.6 & 74 \\\\\n",
       "\\end{tabular}\n"
      ],
      "text/plain": [
       "\u001b[1m3×4 DataFrame\u001b[0m\n",
       "\u001b[1m Row \u001b[0m│\u001b[1m Ozone  \u001b[0m\u001b[1m Solar_R \u001b[0m\u001b[1m Wind    \u001b[0m\u001b[1m Temp  \u001b[0m\n",
       "\u001b[1m     \u001b[0m│\u001b[90m Int64? \u001b[0m\u001b[90m Int64?  \u001b[0m\u001b[90m Float64 \u001b[0m\u001b[90m Int64 \u001b[0m\n",
       "─────┼─────────────────────────────────\n",
       "   1 │     41      190      7.4     67\n",
       "   2 │     36      118      8.0     72\n",
       "   3 │     12      149     12.6     74"
      ]
     },
     "execution_count": 55,
     "metadata": {},
     "output_type": "execute_result"
    }
   ],
   "source": [
    "select(airquality, Not([:Month, :Day]))[1:3, :] # 最初の 3 行だけ示す"
   ]
  },
  {
   "cell_type": "markdown",
   "id": "56e3d612-bc5f-48b2-8ea3-1c888924f9f0",
   "metadata": {
    "tags": []
   },
   "source": [
    "# 10.　行の抽出\n",
    "\n",
    "行を指定するときに，任意のベクトルを書けば，その要素に対応する行が抽出される。"
   ]
  },
  {
   "cell_type": "code",
   "execution_count": 56,
   "id": "44a30864-6a0e-4b57-ba68-e05b979ac436",
   "metadata": {},
   "outputs": [
    {
     "data": {
      "text/html": [
       "<div class=\"data-frame\"><p>3 rows × 6 columns</p><table class=\"data-frame\"><thead><tr><th></th><th>Ozone</th><th>Solar_R</th><th>Wind</th><th>Temp</th><th>Month</th><th>Day</th></tr><tr><th></th><th title=\"Union{Missing, Int64}\">Int64?</th><th title=\"Union{Missing, Int64}\">Int64?</th><th title=\"Float64\">Float64</th><th title=\"Int64\">Int64</th><th title=\"Int64\">Int64</th><th title=\"Int64\">Int64</th></tr></thead><tbody><tr><th>1</th><td>41</td><td>190</td><td>7.4</td><td>67</td><td>5</td><td>1</td></tr><tr><th>2</th><td>36</td><td>118</td><td>8.0</td><td>72</td><td>5</td><td>2</td></tr><tr><th>3</th><td>12</td><td>149</td><td>12.6</td><td>74</td><td>5</td><td>3</td></tr></tbody></table></div>"
      ],
      "text/latex": [
       "\\begin{tabular}{r|cccccc}\n",
       "\t& Ozone & Solar\\_R & Wind & Temp & Month & Day\\\\\n",
       "\t\\hline\n",
       "\t& Int64? & Int64? & Float64 & Int64 & Int64 & Int64\\\\\n",
       "\t\\hline\n",
       "\t1 & 41 & 190 & 7.4 & 67 & 5 & 1 \\\\\n",
       "\t2 & 36 & 118 & 8.0 & 72 & 5 & 2 \\\\\n",
       "\t3 & 12 & 149 & 12.6 & 74 & 5 & 3 \\\\\n",
       "\\end{tabular}\n"
      ],
      "text/plain": [
       "\u001b[1m3×6 DataFrame\u001b[0m\n",
       "\u001b[1m Row \u001b[0m│\u001b[1m Ozone  \u001b[0m\u001b[1m Solar_R \u001b[0m\u001b[1m Wind    \u001b[0m\u001b[1m Temp  \u001b[0m\u001b[1m Month \u001b[0m\u001b[1m Day   \u001b[0m\n",
       "\u001b[1m     \u001b[0m│\u001b[90m Int64? \u001b[0m\u001b[90m Int64?  \u001b[0m\u001b[90m Float64 \u001b[0m\u001b[90m Int64 \u001b[0m\u001b[90m Int64 \u001b[0m\u001b[90m Int64 \u001b[0m\n",
       "─────┼───────────────────────────────────────────────\n",
       "   1 │     41      190      7.4     67      5      1\n",
       "   2 │     36      118      8.0     72      5      2\n",
       "   3 │     12      149     12.6     74      5      3"
      ]
     },
     "execution_count": 56,
     "metadata": {},
     "output_type": "execute_result"
    }
   ],
   "source": [
    "airquality[1:3, :] # 1 〜 3 行目を抽出"
   ]
  },
  {
   "cell_type": "code",
   "execution_count": 57,
   "id": "0814347a-2530-4686-b37d-d869158a9113",
   "metadata": {},
   "outputs": [
    {
     "data": {
      "text/html": [
       "<div class=\"data-frame\"><p>8 rows × 6 columns</p><table class=\"data-frame\"><thead><tr><th></th><th>Ozone</th><th>Solar_R</th><th>Wind</th><th>Temp</th><th>Month</th><th>Day</th></tr><tr><th></th><th title=\"Union{Missing, Int64}\">Int64?</th><th title=\"Union{Missing, Int64}\">Int64?</th><th title=\"Float64\">Float64</th><th title=\"Int64\">Int64</th><th title=\"Int64\">Int64</th><th title=\"Int64\">Int64</th></tr></thead><tbody><tr><th>1</th><td>41</td><td>190</td><td>7.4</td><td>67</td><td>5</td><td>1</td></tr><tr><th>2</th><td>1</td><td>8</td><td>9.7</td><td>59</td><td>5</td><td>21</td></tr><tr><th>3</th><td>39</td><td>323</td><td>11.5</td><td>87</td><td>6</td><td>10</td></tr><tr><th>4</th><td><em>missing</em></td><td>138</td><td>8.0</td><td>83</td><td>6</td><td>30</td></tr><tr><th>5</th><td>63</td><td>220</td><td>11.5</td><td>85</td><td>7</td><td>20</td></tr><tr><th>6</th><td>110</td><td>207</td><td>8.0</td><td>90</td><td>8</td><td>9</td></tr><tr><th>7</th><td>118</td><td>225</td><td>2.3</td><td>94</td><td>8</td><td>29</td></tr><tr><th>8</th><td>13</td><td>27</td><td>10.3</td><td>76</td><td>9</td><td>18</td></tr></tbody></table></div>"
      ],
      "text/latex": [
       "\\begin{tabular}{r|cccccc}\n",
       "\t& Ozone & Solar\\_R & Wind & Temp & Month & Day\\\\\n",
       "\t\\hline\n",
       "\t& Int64? & Int64? & Float64 & Int64 & Int64 & Int64\\\\\n",
       "\t\\hline\n",
       "\t1 & 41 & 190 & 7.4 & 67 & 5 & 1 \\\\\n",
       "\t2 & 1 & 8 & 9.7 & 59 & 5 & 21 \\\\\n",
       "\t3 & 39 & 323 & 11.5 & 87 & 6 & 10 \\\\\n",
       "\t4 & \\emph{missing} & 138 & 8.0 & 83 & 6 & 30 \\\\\n",
       "\t5 & 63 & 220 & 11.5 & 85 & 7 & 20 \\\\\n",
       "\t6 & 110 & 207 & 8.0 & 90 & 8 & 9 \\\\\n",
       "\t7 & 118 & 225 & 2.3 & 94 & 8 & 29 \\\\\n",
       "\t8 & 13 & 27 & 10.3 & 76 & 9 & 18 \\\\\n",
       "\\end{tabular}\n"
      ],
      "text/plain": [
       "\u001b[1m8×6 DataFrame\u001b[0m\n",
       "\u001b[1m Row \u001b[0m│\u001b[1m Ozone   \u001b[0m\u001b[1m Solar_R \u001b[0m\u001b[1m Wind    \u001b[0m\u001b[1m Temp  \u001b[0m\u001b[1m Month \u001b[0m\u001b[1m Day   \u001b[0m\n",
       "\u001b[1m     \u001b[0m│\u001b[90m Int64?  \u001b[0m\u001b[90m Int64?  \u001b[0m\u001b[90m Float64 \u001b[0m\u001b[90m Int64 \u001b[0m\u001b[90m Int64 \u001b[0m\u001b[90m Int64 \u001b[0m\n",
       "─────┼────────────────────────────────────────────────\n",
       "   1 │      41      190      7.4     67      5      1\n",
       "   2 │       1        8      9.7     59      5     21\n",
       "   3 │      39      323     11.5     87      6     10\n",
       "   4 │\u001b[90m missing \u001b[0m     138      8.0     83      6     30\n",
       "   5 │      63      220     11.5     85      7     20\n",
       "   6 │     110      207      8.0     90      8      9\n",
       "   7 │     118      225      2.3     94      8     29\n",
       "   8 │      13       27     10.3     76      9     18"
      ]
     },
     "execution_count": 57,
     "metadata": {},
     "output_type": "execute_result"
    }
   ],
   "source": [
    "airquality[1:20:end, :] # 1行目 から 20 行おきに抽出"
   ]
  },
  {
   "cell_type": "code",
   "execution_count": 58,
   "id": "d56cfe35-93bd-4339-8a09-182508c51263",
   "metadata": {},
   "outputs": [
    {
     "data": {
      "text/html": [
       "<div class=\"data-frame\"><p>3 rows × 6 columns</p><table class=\"data-frame\"><thead><tr><th></th><th>Ozone</th><th>Solar_R</th><th>Wind</th><th>Temp</th><th>Month</th><th>Day</th></tr><tr><th></th><th title=\"Union{Missing, Int64}\">Int64?</th><th title=\"Union{Missing, Int64}\">Int64?</th><th title=\"Float64\">Float64</th><th title=\"Int64\">Int64</th><th title=\"Int64\">Int64</th><th title=\"Int64\">Int64</th></tr></thead><tbody><tr><th>1</th><td>41</td><td>190</td><td>7.4</td><td>67</td><td>5</td><td>1</td></tr><tr><th>2</th><td>36</td><td>118</td><td>8.0</td><td>72</td><td>5</td><td>2</td></tr><tr><th>3</th><td><em>missing</em></td><td><em>missing</em></td><td>14.3</td><td>56</td><td>5</td><td>5</td></tr></tbody></table></div>"
      ],
      "text/latex": [
       "\\begin{tabular}{r|cccccc}\n",
       "\t& Ozone & Solar\\_R & Wind & Temp & Month & Day\\\\\n",
       "\t\\hline\n",
       "\t& Int64? & Int64? & Float64 & Int64 & Int64 & Int64\\\\\n",
       "\t\\hline\n",
       "\t1 & 41 & 190 & 7.4 & 67 & 5 & 1 \\\\\n",
       "\t2 & 36 & 118 & 8.0 & 72 & 5 & 2 \\\\\n",
       "\t3 & \\emph{missing} & \\emph{missing} & 14.3 & 56 & 5 & 5 \\\\\n",
       "\\end{tabular}\n"
      ],
      "text/plain": [
       "\u001b[1m3×6 DataFrame\u001b[0m\n",
       "\u001b[1m Row \u001b[0m│\u001b[1m Ozone   \u001b[0m\u001b[1m Solar_R \u001b[0m\u001b[1m Wind    \u001b[0m\u001b[1m Temp  \u001b[0m\u001b[1m Month \u001b[0m\u001b[1m Day   \u001b[0m\n",
       "\u001b[1m     \u001b[0m│\u001b[90m Int64?  \u001b[0m\u001b[90m Int64?  \u001b[0m\u001b[90m Float64 \u001b[0m\u001b[90m Int64 \u001b[0m\u001b[90m Int64 \u001b[0m\u001b[90m Int64 \u001b[0m\n",
       "─────┼────────────────────────────────────────────────\n",
       "   1 │      41      190      7.4     67      5      1\n",
       "   2 │      36      118      8.0     72      5      2\n",
       "   3 │\u001b[90m missing \u001b[0m\u001b[90m missing \u001b[0m    14.3     56      5      5"
      ]
     },
     "execution_count": 58,
     "metadata": {},
     "output_type": "execute_result"
    }
   ],
   "source": [
    "airquality[vcat(1:2, 5...), :] # 1, 2, 5 行を抽出"
   ]
  },
  {
   "cell_type": "markdown",
   "id": "f35d163b-b6c7-43b5-861a-e7705e0b80ab",
   "metadata": {},
   "source": [
    "行を表す位置に論理式を書くことができる。この場合には，条件を満たす行が抽出される。"
   ]
  },
  {
   "cell_type": "code",
   "execution_count": 59,
   "id": "635a9359-13be-4307-8a88-c744c621dab2",
   "metadata": {},
   "outputs": [
    {
     "data": {
      "text/html": [
       "<div class=\"data-frame\"><p>2 rows × 6 columns</p><table class=\"data-frame\"><thead><tr><th></th><th>Ozone</th><th>Solar_R</th><th>Wind</th><th>Temp</th><th>Month</th><th>Day</th></tr><tr><th></th><th title=\"Union{Missing, Int64}\">Int64?</th><th title=\"Union{Missing, Int64}\">Int64?</th><th title=\"Float64\">Float64</th><th title=\"Int64\">Int64</th><th title=\"Int64\">Int64</th><th title=\"Int64\">Int64</th></tr></thead><tbody><tr><th>1</th><td>8</td><td>19</td><td>20.1</td><td>61</td><td>5</td><td>9</td></tr><tr><th>2</th><td>37</td><td>284</td><td>20.7</td><td>72</td><td>6</td><td>17</td></tr></tbody></table></div>"
      ],
      "text/latex": [
       "\\begin{tabular}{r|cccccc}\n",
       "\t& Ozone & Solar\\_R & Wind & Temp & Month & Day\\\\\n",
       "\t\\hline\n",
       "\t& Int64? & Int64? & Float64 & Int64 & Int64 & Int64\\\\\n",
       "\t\\hline\n",
       "\t1 & 8 & 19 & 20.1 & 61 & 5 & 9 \\\\\n",
       "\t2 & 37 & 284 & 20.7 & 72 & 6 & 17 \\\\\n",
       "\\end{tabular}\n"
      ],
      "text/plain": [
       "\u001b[1m2×6 DataFrame\u001b[0m\n",
       "\u001b[1m Row \u001b[0m│\u001b[1m Ozone  \u001b[0m\u001b[1m Solar_R \u001b[0m\u001b[1m Wind    \u001b[0m\u001b[1m Temp  \u001b[0m\u001b[1m Month \u001b[0m\u001b[1m Day   \u001b[0m\n",
       "\u001b[1m     \u001b[0m│\u001b[90m Int64? \u001b[0m\u001b[90m Int64?  \u001b[0m\u001b[90m Float64 \u001b[0m\u001b[90m Int64 \u001b[0m\u001b[90m Int64 \u001b[0m\u001b[90m Int64 \u001b[0m\n",
       "─────┼───────────────────────────────────────────────\n",
       "   1 │      8       19     20.1     61      5      9\n",
       "   2 │     37      284     20.7     72      6     17"
      ]
     },
     "execution_count": 59,
     "metadata": {},
     "output_type": "execute_result"
    }
   ],
   "source": [
    "airquality[airquality.Wind .> 20, :] # Wind が 20 以上の行を抽出する .> はベクトル演算ゆえ . が付く"
   ]
  },
  {
   "cell_type": "markdown",
   "id": "371e6dcf-c15b-41cc-899a-b207cfcc6482",
   "metadata": {},
   "source": [
    "これを次のように書くこともできる。\n",
    "\n",
    "`row -> row.Wind > 20` は無名関数である。`row` を引数として `row.Wind > 20` という条件式を書いている。"
   ]
  },
  {
   "cell_type": "code",
   "execution_count": 60,
   "id": "1a355f4c-45d8-41eb-942e-6745d006a697",
   "metadata": {},
   "outputs": [
    {
     "data": {
      "text/html": [
       "<div class=\"data-frame\"><p>2 rows × 6 columns</p><table class=\"data-frame\"><thead><tr><th></th><th>Ozone</th><th>Solar_R</th><th>Wind</th><th>Temp</th><th>Month</th><th>Day</th></tr><tr><th></th><th title=\"Union{Missing, Int64}\">Int64?</th><th title=\"Union{Missing, Int64}\">Int64?</th><th title=\"Float64\">Float64</th><th title=\"Int64\">Int64</th><th title=\"Int64\">Int64</th><th title=\"Int64\">Int64</th></tr></thead><tbody><tr><th>1</th><td>8</td><td>19</td><td>20.1</td><td>61</td><td>5</td><td>9</td></tr><tr><th>2</th><td>37</td><td>284</td><td>20.7</td><td>72</td><td>6</td><td>17</td></tr></tbody></table></div>"
      ],
      "text/latex": [
       "\\begin{tabular}{r|cccccc}\n",
       "\t& Ozone & Solar\\_R & Wind & Temp & Month & Day\\\\\n",
       "\t\\hline\n",
       "\t& Int64? & Int64? & Float64 & Int64 & Int64 & Int64\\\\\n",
       "\t\\hline\n",
       "\t1 & 8 & 19 & 20.1 & 61 & 5 & 9 \\\\\n",
       "\t2 & 37 & 284 & 20.7 & 72 & 6 & 17 \\\\\n",
       "\\end{tabular}\n"
      ],
      "text/plain": [
       "\u001b[1m2×6 DataFrame\u001b[0m\n",
       "\u001b[1m Row \u001b[0m│\u001b[1m Ozone  \u001b[0m\u001b[1m Solar_R \u001b[0m\u001b[1m Wind    \u001b[0m\u001b[1m Temp  \u001b[0m\u001b[1m Month \u001b[0m\u001b[1m Day   \u001b[0m\n",
       "\u001b[1m     \u001b[0m│\u001b[90m Int64? \u001b[0m\u001b[90m Int64?  \u001b[0m\u001b[90m Float64 \u001b[0m\u001b[90m Int64 \u001b[0m\u001b[90m Int64 \u001b[0m\u001b[90m Int64 \u001b[0m\n",
       "─────┼───────────────────────────────────────────────\n",
       "   1 │      8       19     20.1     61      5      9\n",
       "   2 │     37      284     20.7     72      6     17"
      ]
     },
     "execution_count": 60,
     "metadata": {},
     "output_type": "execute_result"
    }
   ],
   "source": [
    "filter(row -> row.Wind > 20, airquality) # .> ではなく > である "
   ]
  },
  {
   "cell_type": "markdown",
   "id": "c4286593-a92c-4c0f-b7f1-75832b324a2e",
   "metadata": {},
   "source": [
    "以下の例では，`Wind > 15` かつ `Temp <= 65` の行を抽出する。"
   ]
  },
  {
   "cell_type": "code",
   "execution_count": 61,
   "id": "27817bfa-63b7-4712-af83-fed98d5cc43b",
   "metadata": {},
   "outputs": [
    {
     "data": {
      "text/html": [
       "<div class=\"data-frame\"><p>4 rows × 6 columns</p><table class=\"data-frame\"><thead><tr><th></th><th>Ozone</th><th>Solar_R</th><th>Wind</th><th>Temp</th><th>Month</th><th>Day</th></tr><tr><th></th><th title=\"Union{Missing, Int64}\">Int64?</th><th title=\"Union{Missing, Int64}\">Int64?</th><th title=\"Float64\">Float64</th><th title=\"Int64\">Int64</th><th title=\"Int64\">Int64</th><th title=\"Int64\">Int64</th></tr></thead><tbody><tr><th>1</th><td>8</td><td>19</td><td>20.1</td><td>61</td><td>5</td><td>9</td></tr><tr><th>2</th><td>6</td><td>78</td><td>18.4</td><td>57</td><td>5</td><td>18</td></tr><tr><th>3</th><td><em>missing</em></td><td>66</td><td>16.6</td><td>57</td><td>5</td><td>25</td></tr><tr><th>4</th><td>14</td><td>20</td><td>16.6</td><td>63</td><td>9</td><td>25</td></tr></tbody></table></div>"
      ],
      "text/latex": [
       "\\begin{tabular}{r|cccccc}\n",
       "\t& Ozone & Solar\\_R & Wind & Temp & Month & Day\\\\\n",
       "\t\\hline\n",
       "\t& Int64? & Int64? & Float64 & Int64 & Int64 & Int64\\\\\n",
       "\t\\hline\n",
       "\t1 & 8 & 19 & 20.1 & 61 & 5 & 9 \\\\\n",
       "\t2 & 6 & 78 & 18.4 & 57 & 5 & 18 \\\\\n",
       "\t3 & \\emph{missing} & 66 & 16.6 & 57 & 5 & 25 \\\\\n",
       "\t4 & 14 & 20 & 16.6 & 63 & 9 & 25 \\\\\n",
       "\\end{tabular}\n"
      ],
      "text/plain": [
       "\u001b[1m4×6 DataFrame\u001b[0m\n",
       "\u001b[1m Row \u001b[0m│\u001b[1m Ozone   \u001b[0m\u001b[1m Solar_R \u001b[0m\u001b[1m Wind    \u001b[0m\u001b[1m Temp  \u001b[0m\u001b[1m Month \u001b[0m\u001b[1m Day   \u001b[0m\n",
       "\u001b[1m     \u001b[0m│\u001b[90m Int64?  \u001b[0m\u001b[90m Int64?  \u001b[0m\u001b[90m Float64 \u001b[0m\u001b[90m Int64 \u001b[0m\u001b[90m Int64 \u001b[0m\u001b[90m Int64 \u001b[0m\n",
       "─────┼────────────────────────────────────────────────\n",
       "   1 │       8       19     20.1     61      5      9\n",
       "   2 │       6       78     18.4     57      5     18\n",
       "   3 │\u001b[90m missing \u001b[0m      66     16.6     57      5     25\n",
       "   4 │      14       20     16.6     63      9     25"
      ]
     },
     "execution_count": 61,
     "metadata": {},
     "output_type": "execute_result"
    }
   ],
   "source": [
    "airquality[(airquality.Wind .> 15) .&& (airquality.Temp .<= 65), :]"
   ]
  },
  {
   "cell_type": "markdown",
   "id": "4a247462-3cde-4fad-bda9-a4a66998e0eb",
   "metadata": {},
   "source": [
    "上の例では，`airquality` を 3 回も書かなければならないが，下のように書くと 1 回で済む（ただし慣れないと読むのが難しい）。"
   ]
  },
  {
   "cell_type": "code",
   "execution_count": 62,
   "id": "816bcec3-22c2-4d2c-8cb2-6c50102a306e",
   "metadata": {},
   "outputs": [
    {
     "data": {
      "text/html": [
       "<div class=\"data-frame\"><p>4 rows × 6 columns</p><table class=\"data-frame\"><thead><tr><th></th><th>Ozone</th><th>Solar_R</th><th>Wind</th><th>Temp</th><th>Month</th><th>Day</th></tr><tr><th></th><th title=\"Union{Missing, Int64}\">Int64?</th><th title=\"Union{Missing, Int64}\">Int64?</th><th title=\"Float64\">Float64</th><th title=\"Int64\">Int64</th><th title=\"Int64\">Int64</th><th title=\"Int64\">Int64</th></tr></thead><tbody><tr><th>1</th><td>8</td><td>19</td><td>20.1</td><td>61</td><td>5</td><td>9</td></tr><tr><th>2</th><td>6</td><td>78</td><td>18.4</td><td>57</td><td>5</td><td>18</td></tr><tr><th>3</th><td><em>missing</em></td><td>66</td><td>16.6</td><td>57</td><td>5</td><td>25</td></tr><tr><th>4</th><td>14</td><td>20</td><td>16.6</td><td>63</td><td>9</td><td>25</td></tr></tbody></table></div>"
      ],
      "text/latex": [
       "\\begin{tabular}{r|cccccc}\n",
       "\t& Ozone & Solar\\_R & Wind & Temp & Month & Day\\\\\n",
       "\t\\hline\n",
       "\t& Int64? & Int64? & Float64 & Int64 & Int64 & Int64\\\\\n",
       "\t\\hline\n",
       "\t1 & 8 & 19 & 20.1 & 61 & 5 & 9 \\\\\n",
       "\t2 & 6 & 78 & 18.4 & 57 & 5 & 18 \\\\\n",
       "\t3 & \\emph{missing} & 66 & 16.6 & 57 & 5 & 25 \\\\\n",
       "\t4 & 14 & 20 & 16.6 & 63 & 9 & 25 \\\\\n",
       "\\end{tabular}\n"
      ],
      "text/plain": [
       "\u001b[1m4×6 DataFrame\u001b[0m\n",
       "\u001b[1m Row \u001b[0m│\u001b[1m Ozone   \u001b[0m\u001b[1m Solar_R \u001b[0m\u001b[1m Wind    \u001b[0m\u001b[1m Temp  \u001b[0m\u001b[1m Month \u001b[0m\u001b[1m Day   \u001b[0m\n",
       "\u001b[1m     \u001b[0m│\u001b[90m Int64?  \u001b[0m\u001b[90m Int64?  \u001b[0m\u001b[90m Float64 \u001b[0m\u001b[90m Int64 \u001b[0m\u001b[90m Int64 \u001b[0m\u001b[90m Int64 \u001b[0m\n",
       "─────┼────────────────────────────────────────────────\n",
       "   1 │       8       19     20.1     61      5      9\n",
       "   2 │       6       78     18.4     57      5     18\n",
       "   3 │\u001b[90m missing \u001b[0m      66     16.6     57      5     25\n",
       "   4 │      14       20     16.6     63      9     25"
      ]
     },
     "execution_count": 62,
     "metadata": {},
     "output_type": "execute_result"
    }
   ],
   "source": [
    "filter([:Wind, :Temp] => (x, y) -> x > 15 && y <= 65, airquality)"
   ]
  },
  {
   "cell_type": "markdown",
   "id": "c8df9ab6-1f52-4546-bb72-39a1d6c4de13",
   "metadata": {},
   "source": [
    "# 11.　行の削除\n",
    "\n",
    "「条件を満たさない行を削除する」ことは，「条件を満たす行を抽出する」ことと同じである。"
   ]
  },
  {
   "cell_type": "code",
   "execution_count": 63,
   "id": "4a596b80-4328-455a-8ff3-f300e2f4e398",
   "metadata": {},
   "outputs": [
    {
     "data": {
      "text/html": [
       "<div class=\"data-frame\"><p>4 rows × 2 columns</p><table class=\"data-frame\"><thead><tr><th></th><th>a</th><th>b</th></tr><tr><th></th><th title=\"Int64\">Int64</th><th title=\"Char\">Char</th></tr></thead><tbody><tr><th>1</th><td>1</td><td>a</td></tr><tr><th>2</th><td>2</td><td>b</td></tr><tr><th>3</th><td>3</td><td>c</td></tr><tr><th>4</th><td>4</td><td>d</td></tr></tbody></table></div>"
      ],
      "text/latex": [
       "\\begin{tabular}{r|cc}\n",
       "\t& a & b\\\\\n",
       "\t\\hline\n",
       "\t& Int64 & Char\\\\\n",
       "\t\\hline\n",
       "\t1 & 1 & a \\\\\n",
       "\t2 & 2 & b \\\\\n",
       "\t3 & 3 & c \\\\\n",
       "\t4 & 4 & d \\\\\n",
       "\\end{tabular}\n"
      ],
      "text/plain": [
       "\u001b[1m4×2 DataFrame\u001b[0m\n",
       "\u001b[1m Row \u001b[0m│\u001b[1m a     \u001b[0m\u001b[1m b    \u001b[0m\n",
       "\u001b[1m     \u001b[0m│\u001b[90m Int64 \u001b[0m\u001b[90m Char \u001b[0m\n",
       "─────┼─────────────\n",
       "   1 │     1  a\n",
       "   2 │     2  b\n",
       "   3 │     3  c\n",
       "   4 │     4  d"
      ]
     },
     "execution_count": 63,
     "metadata": {},
     "output_type": "execute_result"
    }
   ],
   "source": [
    "df = DataFrame(a = 1:4, b = 'a':'d')"
   ]
  },
  {
   "cell_type": "markdown",
   "id": "d9992f49-362f-4c35-91cd-54a53067f210",
   "metadata": {},
   "source": [
    "「`a` が 偶数」という条件を満たさない行を削除する，つまり，「`a` が 奇数」という行を削除するということは，「`a` が 偶数」という条件を満たす行を抽出することである。"
   ]
  },
  {
   "cell_type": "code",
   "execution_count": 64,
   "id": "9f82854d-ba2d-4af5-82b2-0c0a6d1917f0",
   "metadata": {},
   "outputs": [
    {
     "data": {
      "text/html": [
       "<div class=\"data-frame\"><p>2 rows × 2 columns</p><table class=\"data-frame\"><thead><tr><th></th><th>a</th><th>b</th></tr><tr><th></th><th title=\"Int64\">Int64</th><th title=\"Char\">Char</th></tr></thead><tbody><tr><th>1</th><td>2</td><td>b</td></tr><tr><th>2</th><td>4</td><td>d</td></tr></tbody></table></div>"
      ],
      "text/latex": [
       "\\begin{tabular}{r|cc}\n",
       "\t& a & b\\\\\n",
       "\t\\hline\n",
       "\t& Int64 & Char\\\\\n",
       "\t\\hline\n",
       "\t1 & 2 & b \\\\\n",
       "\t2 & 4 & d \\\\\n",
       "\\end{tabular}\n"
      ],
      "text/plain": [
       "\u001b[1m2×2 DataFrame\u001b[0m\n",
       "\u001b[1m Row \u001b[0m│\u001b[1m a     \u001b[0m\u001b[1m b    \u001b[0m\n",
       "\u001b[1m     \u001b[0m│\u001b[90m Int64 \u001b[0m\u001b[90m Char \u001b[0m\n",
       "─────┼─────────────\n",
       "   1 │     2  b\n",
       "   2 │     4  d"
      ]
     },
     "execution_count": 64,
     "metadata": {},
     "output_type": "execute_result"
    }
   ],
   "source": [
    "df[iseven.(df.a), :]"
   ]
  },
  {
   "cell_type": "markdown",
   "id": "f7acb082-2454-4bfb-bcf5-30320c30f440",
   "metadata": {},
   "source": [
    "# 12.　重複を除き，ユニークな行のみを含むデータフレームを作る\n",
    "\n",
    "`unique()`/`unique!()` を使う。`unique!()` はインプレースで作用する。\n",
    "\n",
    "見た目が同じ行が削除されるのであって，本来別々の測定対象がたまたま全く同じ測定値になったような場合でも重複とみなされて削除されてしまう。\n",
    "測定対象を識別するユニークなコードも含めて重複の有無を判定すべきである。"
   ]
  },
  {
   "cell_type": "code",
   "execution_count": 65,
   "id": "2fcf4007-73ff-4553-9573-fb19337d4f49",
   "metadata": {},
   "outputs": [
    {
     "data": {
      "text/html": [
       "<div class=\"data-frame\"><p>3 rows × 2 columns</p><table class=\"data-frame\"><thead><tr><th></th><th>a</th><th>b</th></tr><tr><th></th><th title=\"Int64\">Int64</th><th title=\"Char\">Char</th></tr></thead><tbody><tr><th>1</th><td>1</td><td>a</td></tr><tr><th>2</th><td>2</td><td>b</td></tr><tr><th>3</th><td>1</td><td>a</td></tr></tbody></table></div>"
      ],
      "text/latex": [
       "\\begin{tabular}{r|cc}\n",
       "\t& a & b\\\\\n",
       "\t\\hline\n",
       "\t& Int64 & Char\\\\\n",
       "\t\\hline\n",
       "\t1 & 1 & a \\\\\n",
       "\t2 & 2 & b \\\\\n",
       "\t3 & 1 & a \\\\\n",
       "\\end{tabular}\n"
      ],
      "text/plain": [
       "\u001b[1m3×2 DataFrame\u001b[0m\n",
       "\u001b[1m Row \u001b[0m│\u001b[1m a     \u001b[0m\u001b[1m b    \u001b[0m\n",
       "\u001b[1m     \u001b[0m│\u001b[90m Int64 \u001b[0m\u001b[90m Char \u001b[0m\n",
       "─────┼─────────────\n",
       "   1 │     1  a\n",
       "   2 │     2  b\n",
       "   3 │     1  a"
      ]
     },
     "execution_count": 65,
     "metadata": {},
     "output_type": "execute_result"
    }
   ],
   "source": [
    "df = DataFrame(a = [1, 2, 1], b = ['a', 'b', 'a'])"
   ]
  },
  {
   "cell_type": "code",
   "execution_count": 66,
   "id": "440e76cf-1a6e-41ca-bbbf-3ee2295cb20c",
   "metadata": {},
   "outputs": [
    {
     "data": {
      "text/html": [
       "<div class=\"data-frame\"><p>2 rows × 2 columns</p><table class=\"data-frame\"><thead><tr><th></th><th>a</th><th>b</th></tr><tr><th></th><th title=\"Int64\">Int64</th><th title=\"Char\">Char</th></tr></thead><tbody><tr><th>1</th><td>1</td><td>a</td></tr><tr><th>2</th><td>2</td><td>b</td></tr></tbody></table></div>"
      ],
      "text/latex": [
       "\\begin{tabular}{r|cc}\n",
       "\t& a & b\\\\\n",
       "\t\\hline\n",
       "\t& Int64 & Char\\\\\n",
       "\t\\hline\n",
       "\t1 & 1 & a \\\\\n",
       "\t2 & 2 & b \\\\\n",
       "\\end{tabular}\n"
      ],
      "text/plain": [
       "\u001b[1m2×2 DataFrame\u001b[0m\n",
       "\u001b[1m Row \u001b[0m│\u001b[1m a     \u001b[0m\u001b[1m b    \u001b[0m\n",
       "\u001b[1m     \u001b[0m│\u001b[90m Int64 \u001b[0m\u001b[90m Char \u001b[0m\n",
       "─────┼─────────────\n",
       "   1 │     1  a\n",
       "   2 │     2  b"
      ]
     },
     "execution_count": 66,
     "metadata": {},
     "output_type": "execute_result"
    }
   ],
   "source": [
    "unique(df) # 3 行目は 1 行目と見た目が同じなので削除される"
   ]
  },
  {
   "cell_type": "markdown",
   "id": "c7562ace-21ea-47fc-a2b0-fc783c691a9f",
   "metadata": {},
   "source": [
    "# 13.　欠損値を含む行か含まない行か\n",
    "\n",
    "欠損値を含まない行なら 1（`true`），含む行なら 0（`false`） の Bool 型のベクトルを返す。"
   ]
  },
  {
   "cell_type": "code",
   "execution_count": 67,
   "id": "6dda05f0-a622-4af8-a93c-b80fc0a321cb",
   "metadata": {},
   "outputs": [
    {
     "data": {
      "text/html": [
       "<div class=\"data-frame\"><p>3 rows × 2 columns</p><table class=\"data-frame\"><thead><tr><th></th><th>a</th><th>b</th></tr><tr><th></th><th title=\"Int64\">Int64</th><th title=\"Union{Missing, Char}\">Char?</th></tr></thead><tbody><tr><th>1</th><td>1</td><td>a</td></tr><tr><th>2</th><td>2</td><td><em>missing</em></td></tr><tr><th>3</th><td>1</td><td>c</td></tr></tbody></table></div>"
      ],
      "text/latex": [
       "\\begin{tabular}{r|cc}\n",
       "\t& a & b\\\\\n",
       "\t\\hline\n",
       "\t& Int64 & Char?\\\\\n",
       "\t\\hline\n",
       "\t1 & 1 & a \\\\\n",
       "\t2 & 2 & \\emph{missing} \\\\\n",
       "\t3 & 1 & c \\\\\n",
       "\\end{tabular}\n"
      ],
      "text/plain": [
       "\u001b[1m3×2 DataFrame\u001b[0m\n",
       "\u001b[1m Row \u001b[0m│\u001b[1m a     \u001b[0m\u001b[1m b       \u001b[0m\n",
       "\u001b[1m     \u001b[0m│\u001b[90m Int64 \u001b[0m\u001b[90m Char?   \u001b[0m\n",
       "─────┼────────────────\n",
       "   1 │     1  a\n",
       "   2 │     2 \u001b[90m missing \u001b[0m\n",
       "   3 │     1  c"
      ]
     },
     "execution_count": 67,
     "metadata": {},
     "output_type": "execute_result"
    }
   ],
   "source": [
    "df = DataFrame(a = [1, 2, 1], b = ['a', missing, 'c'])"
   ]
  },
  {
   "cell_type": "code",
   "execution_count": 68,
   "id": "f1788d4c-9355-41cd-abab-c5e5e2b6eba4",
   "metadata": {},
   "outputs": [
    {
     "name": "stdout",
     "output_type": "stream",
     "text": [
      "Bool[1, 0, 1]\n"
     ]
    }
   ],
   "source": [
    "completecases(df) |> println"
   ]
  },
  {
   "cell_type": "markdown",
   "id": "7cd45fc6-673c-483e-8228-c6e0bf9d10c4",
   "metadata": {},
   "source": [
    "# 14.　欠損値を含まない行を抽出する"
   ]
  },
  {
   "cell_type": "markdown",
   "id": "53eb388d-93fc-4950-a90b-faf23f9bfecd",
   "metadata": {},
   "source": [
    "前節の `completecases()` と行の選択を併せて，欠損値を含まない行を抽出することができる。"
   ]
  },
  {
   "cell_type": "code",
   "execution_count": 69,
   "id": "826485f6-111a-4126-a46c-684533ada36f",
   "metadata": {},
   "outputs": [
    {
     "data": {
      "text/html": [
       "<div class=\"data-frame\"><p>3 rows × 2 columns</p><table class=\"data-frame\"><thead><tr><th></th><th>a</th><th>b</th></tr><tr><th></th><th title=\"Int64\">Int64</th><th title=\"Char\">Char</th></tr></thead><tbody><tr><th>1</th><td>1</td><td>a</td></tr><tr><th>2</th><td>2</td><td>b</td></tr><tr><th>3</th><td>1</td><td>a</td></tr></tbody></table></div>"
      ],
      "text/latex": [
       "\\begin{tabular}{r|cc}\n",
       "\t& a & b\\\\\n",
       "\t\\hline\n",
       "\t& Int64 & Char\\\\\n",
       "\t\\hline\n",
       "\t1 & 1 & a \\\\\n",
       "\t2 & 2 & b \\\\\n",
       "\t3 & 1 & a \\\\\n",
       "\\end{tabular}\n"
      ],
      "text/plain": [
       "\u001b[1m3×2 DataFrame\u001b[0m\n",
       "\u001b[1m Row \u001b[0m│\u001b[1m a     \u001b[0m\u001b[1m b    \u001b[0m\n",
       "\u001b[1m     \u001b[0m│\u001b[90m Int64 \u001b[0m\u001b[90m Char \u001b[0m\n",
       "─────┼─────────────\n",
       "   1 │     1  a\n",
       "   2 │     2  b\n",
       "   3 │     1  a"
      ]
     },
     "execution_count": 69,
     "metadata": {},
     "output_type": "execute_result"
    }
   ],
   "source": [
    "df = DataFrame(a = [1,2,1], b = ['a', 'b', 'a'])\n",
    "df[completecases(df), :]"
   ]
  },
  {
   "cell_type": "code",
   "execution_count": 70,
   "id": "340e78d8-4475-496c-870c-907ed6cfac4e",
   "metadata": {},
   "outputs": [
    {
     "data": {
      "text/html": [
       "<div class=\"data-frame\"><p>3 rows × 2 columns</p><table class=\"data-frame\"><thead><tr><th></th><th>a</th><th>b</th></tr><tr><th></th><th title=\"Int64\">Int64</th><th title=\"Char\">Char</th></tr></thead><tbody><tr><th>1</th><td>1</td><td>a</td></tr><tr><th>2</th><td>2</td><td>b</td></tr><tr><th>3</th><td>1</td><td>a</td></tr></tbody></table></div>"
      ],
      "text/latex": [
       "\\begin{tabular}{r|cc}\n",
       "\t& a & b\\\\\n",
       "\t\\hline\n",
       "\t& Int64 & Char\\\\\n",
       "\t\\hline\n",
       "\t1 & 1 & a \\\\\n",
       "\t2 & 2 & b \\\\\n",
       "\t3 & 1 & a \\\\\n",
       "\\end{tabular}\n"
      ],
      "text/plain": [
       "\u001b[1m3×2 DataFrame\u001b[0m\n",
       "\u001b[1m Row \u001b[0m│\u001b[1m a     \u001b[0m\u001b[1m b    \u001b[0m\n",
       "\u001b[1m     \u001b[0m│\u001b[90m Int64 \u001b[0m\u001b[90m Char \u001b[0m\n",
       "─────┼─────────────\n",
       "   1 │     1  a\n",
       "   2 │     2  b\n",
       "   3 │     1  a"
      ]
     },
     "execution_count": 70,
     "metadata": {},
     "output_type": "execute_result"
    }
   ],
   "source": [
    "dropmissing(df) # および dropmissing!(df)"
   ]
  },
  {
   "cell_type": "markdown",
   "id": "c7efa14a-4d9a-4423-bf12-217c9adaf918",
   "metadata": {},
   "source": [
    "# 15.　データフレームの列方向連結\n",
    "\n",
    "既存のデータフレームの右に別のデータフレームを連結するのは `hcat()` を使う。インプレイスでの連結ではないので，連結結果を後で利用したい場合は結果を代入する。\n",
    "\n",
    "行数が異なるデータフレームを連結しようとするとエラーになる。Julia のデータフレームは行名を持たないので，連結しようとする 2 つのデータフレームの各行が同じ対象のものであることを保証するのはユーザの責任である。\n",
    "\n",
    "特定の列名を基準としてデータフレームをマージする場合は `hcat()` ではなく `innerjoin`，`leftjoin` などを使う。"
   ]
  },
  {
   "cell_type": "code",
   "execution_count": 71,
   "id": "22d10eeb-9d7f-4366-b160-8f90b41d7788",
   "metadata": {},
   "outputs": [
    {
     "data": {
      "text/html": [
       "<div class=\"data-frame\"><p>3 rows × 2 columns</p><table class=\"data-frame\"><thead><tr><th></th><th>a</th><th>b</th></tr><tr><th></th><th title=\"Int64\">Int64</th><th title=\"String\">String</th></tr></thead><tbody><tr><th>1</th><td>2</td><td>ab</td></tr><tr><th>2</th><td>1</td><td>cde</td></tr><tr><th>3</th><td>4</td><td>fg</td></tr></tbody></table></div>"
      ],
      "text/latex": [
       "\\begin{tabular}{r|cc}\n",
       "\t& a & b\\\\\n",
       "\t\\hline\n",
       "\t& Int64 & String\\\\\n",
       "\t\\hline\n",
       "\t1 & 2 & ab \\\\\n",
       "\t2 & 1 & cde \\\\\n",
       "\t3 & 4 & fg \\\\\n",
       "\\end{tabular}\n"
      ],
      "text/plain": [
       "\u001b[1m3×2 DataFrame\u001b[0m\n",
       "\u001b[1m Row \u001b[0m│\u001b[1m a     \u001b[0m\u001b[1m b      \u001b[0m\n",
       "\u001b[1m     \u001b[0m│\u001b[90m Int64 \u001b[0m\u001b[90m String \u001b[0m\n",
       "─────┼───────────────\n",
       "   1 │     2  ab\n",
       "   2 │     1  cde\n",
       "   3 │     4  fg"
      ]
     },
     "execution_count": 71,
     "metadata": {},
     "output_type": "execute_result"
    }
   ],
   "source": [
    "df1 = DataFrame(a = [2, 1, 4], b = [\"ab\", \"cde\", \"fg\"])"
   ]
  },
  {
   "cell_type": "code",
   "execution_count": 72,
   "id": "d112c913-5000-4414-9158-8253c74d090c",
   "metadata": {},
   "outputs": [
    {
     "data": {
      "text/html": [
       "<div class=\"data-frame\"><p>3 rows × 1 columns</p><table class=\"data-frame\"><thead><tr><th></th><th>c</th></tr><tr><th></th><th title=\"Float64\">Float64</th></tr></thead><tbody><tr><th>1</th><td>1.2</td></tr><tr><th>2</th><td>3.4</td></tr><tr><th>3</th><td>5.6</td></tr></tbody></table></div>"
      ],
      "text/latex": [
       "\\begin{tabular}{r|c}\n",
       "\t& c\\\\\n",
       "\t\\hline\n",
       "\t& Float64\\\\\n",
       "\t\\hline\n",
       "\t1 & 1.2 \\\\\n",
       "\t2 & 3.4 \\\\\n",
       "\t3 & 5.6 \\\\\n",
       "\\end{tabular}\n"
      ],
      "text/plain": [
       "\u001b[1m3×1 DataFrame\u001b[0m\n",
       "\u001b[1m Row \u001b[0m│\u001b[1m c       \u001b[0m\n",
       "\u001b[1m     \u001b[0m│\u001b[90m Float64 \u001b[0m\n",
       "─────┼─────────\n",
       "   1 │     1.2\n",
       "   2 │     3.4\n",
       "   3 │     5.6"
      ]
     },
     "execution_count": 72,
     "metadata": {},
     "output_type": "execute_result"
    }
   ],
   "source": [
    "df2 = DataFrame(c = [1.2, 3.4, 5.6])"
   ]
  },
  {
   "cell_type": "code",
   "execution_count": 73,
   "id": "c7fb754b-0a5e-4325-8c34-f56512de875c",
   "metadata": {},
   "outputs": [
    {
     "data": {
      "text/html": [
       "<div class=\"data-frame\"><p>3 rows × 3 columns</p><table class=\"data-frame\"><thead><tr><th></th><th>a</th><th>b</th><th>c</th></tr><tr><th></th><th title=\"Int64\">Int64</th><th title=\"String\">String</th><th title=\"Float64\">Float64</th></tr></thead><tbody><tr><th>1</th><td>2</td><td>ab</td><td>1.2</td></tr><tr><th>2</th><td>1</td><td>cde</td><td>3.4</td></tr><tr><th>3</th><td>4</td><td>fg</td><td>5.6</td></tr></tbody></table></div>"
      ],
      "text/latex": [
       "\\begin{tabular}{r|ccc}\n",
       "\t& a & b & c\\\\\n",
       "\t\\hline\n",
       "\t& Int64 & String & Float64\\\\\n",
       "\t\\hline\n",
       "\t1 & 2 & ab & 1.2 \\\\\n",
       "\t2 & 1 & cde & 3.4 \\\\\n",
       "\t3 & 4 & fg & 5.6 \\\\\n",
       "\\end{tabular}\n"
      ],
      "text/plain": [
       "\u001b[1m3×3 DataFrame\u001b[0m\n",
       "\u001b[1m Row \u001b[0m│\u001b[1m a     \u001b[0m\u001b[1m b      \u001b[0m\u001b[1m c       \u001b[0m\n",
       "\u001b[1m     \u001b[0m│\u001b[90m Int64 \u001b[0m\u001b[90m String \u001b[0m\u001b[90m Float64 \u001b[0m\n",
       "─────┼────────────────────────\n",
       "   1 │     2  ab          1.2\n",
       "   2 │     1  cde         3.4\n",
       "   3 │     4  fg          5.6"
      ]
     },
     "execution_count": 73,
     "metadata": {},
     "output_type": "execute_result"
    }
   ],
   "source": [
    "df3 = hcat(df1, df2)"
   ]
  },
  {
   "cell_type": "markdown",
   "id": "63348a4f-718e-42b7-9bea-919c4035512b",
   "metadata": {},
   "source": [
    "連結するデータフレームに同じ列名があるとエラーになるが，`makeunique = true` を指定しておくと，`列名_番号` のように名前を変えて連結することができる。"
   ]
  },
  {
   "cell_type": "code",
   "execution_count": 74,
   "id": "a7de41cb-8940-452c-a6d3-a21fb8cd8dee",
   "metadata": {},
   "outputs": [
    {
     "data": {
      "text/html": [
       "<div class=\"data-frame\"><p>3 rows × 4 columns</p><table class=\"data-frame\"><thead><tr><th></th><th>a</th><th>b</th><th>c</th><th>c_1</th></tr><tr><th></th><th title=\"Int64\">Int64</th><th title=\"String\">String</th><th title=\"Float64\">Float64</th><th title=\"Float64\">Float64</th></tr></thead><tbody><tr><th>1</th><td>2</td><td>ab</td><td>1.2</td><td>1.2</td></tr><tr><th>2</th><td>1</td><td>cde</td><td>3.4</td><td>3.4</td></tr><tr><th>3</th><td>4</td><td>fg</td><td>5.6</td><td>5.6</td></tr></tbody></table></div>"
      ],
      "text/latex": [
       "\\begin{tabular}{r|cccc}\n",
       "\t& a & b & c & c\\_1\\\\\n",
       "\t\\hline\n",
       "\t& Int64 & String & Float64 & Float64\\\\\n",
       "\t\\hline\n",
       "\t1 & 2 & ab & 1.2 & 1.2 \\\\\n",
       "\t2 & 1 & cde & 3.4 & 3.4 \\\\\n",
       "\t3 & 4 & fg & 5.6 & 5.6 \\\\\n",
       "\\end{tabular}\n"
      ],
      "text/plain": [
       "\u001b[1m3×4 DataFrame\u001b[0m\n",
       "\u001b[1m Row \u001b[0m│\u001b[1m a     \u001b[0m\u001b[1m b      \u001b[0m\u001b[1m c       \u001b[0m\u001b[1m c_1     \u001b[0m\n",
       "\u001b[1m     \u001b[0m│\u001b[90m Int64 \u001b[0m\u001b[90m String \u001b[0m\u001b[90m Float64 \u001b[0m\u001b[90m Float64 \u001b[0m\n",
       "─────┼─────────────────────────────────\n",
       "   1 │     2  ab          1.2      1.2\n",
       "   2 │     1  cde         3.4      3.4\n",
       "   3 │     4  fg          5.6      5.6"
      ]
     },
     "execution_count": 74,
     "metadata": {},
     "output_type": "execute_result"
    }
   ],
   "source": [
    "df4 = hcat(df1, df2, df2, makeunique = true)"
   ]
  },
  {
   "cell_type": "markdown",
   "id": "fe497d6b-4024-4517-84d7-02cb0d283164",
   "metadata": {},
   "source": [
    "# 16.　データフレームの行方向連結\n",
    "\n",
    "連結しようとしている 2 つのデータフレーム `df1`, `df2` に含まれる列名の集合を `set1`, `set2` とする。\n",
    "\n",
    "`append!(df1, df2)` により，`df1` の後に `df2` を連結する。\n",
    "\n",
    "`append!()` はインプレースの連結なので，df1 は　結果で書き換えられる（結果を別のデータフレームに代入することもできる）。\n",
    "\n",
    "`vcat(df1, df2)` も同じように，`df1` の後に `df2` を連結するが，`vcat()` はインプレースではないので，後で結果を利用したい場合は別のデータフレームに代入しなければならない。\n",
    "\n",
    "`append!()` も `vcat()` も，第 3 引数 `cols` で連結する列に関する詳細な設定ができる。\n",
    "\n",
    "## 16.1.　`cols = :setequal, cols=:orderequal`\n",
    "\n",
    "`append!(df1, df2, cols=:setequal)` で `df1` の後に `df2` を連結する。\n",
    "\n",
    "`cols=:setequal` はデフォルトで，`df1`, `df2` の列数と名前は同じでなければならないことを表す。順序は違ってもよい。\n",
    "\n",
    "`cols=:orderequal` を指定すると，順序も同じでなければならないことを表す（順序が違えばエラーになる）。\n",
    "\n",
    "以下の例は，`df1` も `df2` も 列名 `a`, `b` を持つ場合である。"
   ]
  },
  {
   "cell_type": "code",
   "execution_count": 75,
   "id": "0b696fc8-c8d7-46f7-a95c-4bc02b1293ad",
   "metadata": {},
   "outputs": [
    {
     "data": {
      "text/html": [
       "<div class=\"data-frame\"><p>3 rows × 2 columns</p><table class=\"data-frame\"><thead><tr><th></th><th>a</th><th>b</th></tr><tr><th></th><th title=\"Int64\">Int64</th><th title=\"Char\">Char</th></tr></thead><tbody><tr><th>1</th><td>1</td><td>A</td></tr><tr><th>2</th><td>2</td><td>B</td></tr><tr><th>3</th><td>3</td><td>C</td></tr></tbody></table></div>"
      ],
      "text/latex": [
       "\\begin{tabular}{r|cc}\n",
       "\t& a & b\\\\\n",
       "\t\\hline\n",
       "\t& Int64 & Char\\\\\n",
       "\t\\hline\n",
       "\t1 & 1 & A \\\\\n",
       "\t2 & 2 & B \\\\\n",
       "\t3 & 3 & C \\\\\n",
       "\\end{tabular}\n"
      ],
      "text/plain": [
       "\u001b[1m3×2 DataFrame\u001b[0m\n",
       "\u001b[1m Row \u001b[0m│\u001b[1m a     \u001b[0m\u001b[1m b    \u001b[0m\n",
       "\u001b[1m     \u001b[0m│\u001b[90m Int64 \u001b[0m\u001b[90m Char \u001b[0m\n",
       "─────┼─────────────\n",
       "   1 │     1  A\n",
       "   2 │     2  B\n",
       "   3 │     3  C"
      ]
     },
     "execution_count": 75,
     "metadata": {},
     "output_type": "execute_result"
    }
   ],
   "source": [
    "df1 = DataFrame(a = 1:3, b = 'A':'C')"
   ]
  },
  {
   "cell_type": "code",
   "execution_count": 76,
   "id": "cac0c4ba-b9e5-47f0-9403-69a131ecc62e",
   "metadata": {},
   "outputs": [
    {
     "data": {
      "text/html": [
       "<div class=\"data-frame\"><p>2 rows × 2 columns</p><table class=\"data-frame\"><thead><tr><th></th><th>b</th><th>a</th></tr><tr><th></th><th title=\"Char\">Char</th><th title=\"Int64\">Int64</th></tr></thead><tbody><tr><th>1</th><td>X</td><td>11</td></tr><tr><th>2</th><td>Y</td><td>12</td></tr></tbody></table></div>"
      ],
      "text/latex": [
       "\\begin{tabular}{r|cc}\n",
       "\t& b & a\\\\\n",
       "\t\\hline\n",
       "\t& Char & Int64\\\\\n",
       "\t\\hline\n",
       "\t1 & X & 11 \\\\\n",
       "\t2 & Y & 12 \\\\\n",
       "\\end{tabular}\n"
      ],
      "text/plain": [
       "\u001b[1m2×2 DataFrame\u001b[0m\n",
       "\u001b[1m Row \u001b[0m│\u001b[1m b    \u001b[0m\u001b[1m a     \u001b[0m\n",
       "\u001b[1m     \u001b[0m│\u001b[90m Char \u001b[0m\u001b[90m Int64 \u001b[0m\n",
       "─────┼─────────────\n",
       "   1 │ X        11\n",
       "   2 │ Y        12"
      ]
     },
     "execution_count": 76,
     "metadata": {},
     "output_type": "execute_result"
    }
   ],
   "source": [
    "df2 = DataFrame(b = ['X', 'Y'], a = 11:12)"
   ]
  },
  {
   "cell_type": "code",
   "execution_count": 77,
   "id": "55a9d752-9248-4c68-82a1-a1331f71fdc7",
   "metadata": {},
   "outputs": [
    {
     "data": {
      "text/html": [
       "<div class=\"data-frame\"><p>5 rows × 2 columns</p><table class=\"data-frame\"><thead><tr><th></th><th>a</th><th>b</th></tr><tr><th></th><th title=\"Int64\">Int64</th><th title=\"Char\">Char</th></tr></thead><tbody><tr><th>1</th><td>1</td><td>A</td></tr><tr><th>2</th><td>2</td><td>B</td></tr><tr><th>3</th><td>3</td><td>C</td></tr><tr><th>4</th><td>11</td><td>X</td></tr><tr><th>5</th><td>12</td><td>Y</td></tr></tbody></table></div>"
      ],
      "text/latex": [
       "\\begin{tabular}{r|cc}\n",
       "\t& a & b\\\\\n",
       "\t\\hline\n",
       "\t& Int64 & Char\\\\\n",
       "\t\\hline\n",
       "\t1 & 1 & A \\\\\n",
       "\t2 & 2 & B \\\\\n",
       "\t3 & 3 & C \\\\\n",
       "\t4 & 11 & X \\\\\n",
       "\t5 & 12 & Y \\\\\n",
       "\\end{tabular}\n"
      ],
      "text/plain": [
       "\u001b[1m5×2 DataFrame\u001b[0m\n",
       "\u001b[1m Row \u001b[0m│\u001b[1m a     \u001b[0m\u001b[1m b    \u001b[0m\n",
       "\u001b[1m     \u001b[0m│\u001b[90m Int64 \u001b[0m\u001b[90m Char \u001b[0m\n",
       "─────┼─────────────\n",
       "   1 │     1  A\n",
       "   2 │     2  B\n",
       "   3 │     3  C\n",
       "   4 │    11  X\n",
       "   5 │    12  Y"
      ]
     },
     "execution_count": 77,
     "metadata": {},
     "output_type": "execute_result"
    }
   ],
   "source": [
    "append!(df1, df2,);\n",
    "df1"
   ]
  },
  {
   "cell_type": "markdown",
   "id": "ec43abf4-4b90-4f3c-810c-4aecb4dc2e51",
   "metadata": {},
   "source": [
    "## 16.2.　`cols = :intersect`\n",
    "\n",
    "`cols=:setequal` の場合には列名の集合は同じでなければならないが，`cols=:intersect`の場合には `df1` の列名の集合が `df2` の列名の集合に包含されていればよい。`df1` に含まれるすべての列名が `df2` にも含まれていなければならない。"
   ]
  },
  {
   "cell_type": "code",
   "execution_count": 78,
   "id": "cee18707-11c2-430d-81c5-62f2dc0c7e81",
   "metadata": {},
   "outputs": [
    {
     "data": {
      "text/html": [
       "<div class=\"data-frame\"><p>3 rows × 2 columns</p><table class=\"data-frame\"><thead><tr><th></th><th>a</th><th>b</th></tr><tr><th></th><th title=\"Int64\">Int64</th><th title=\"Char\">Char</th></tr></thead><tbody><tr><th>1</th><td>1</td><td>a</td></tr><tr><th>2</th><td>2</td><td>b</td></tr><tr><th>3</th><td>3</td><td>c</td></tr></tbody></table></div>"
      ],
      "text/latex": [
       "\\begin{tabular}{r|cc}\n",
       "\t& a & b\\\\\n",
       "\t\\hline\n",
       "\t& Int64 & Char\\\\\n",
       "\t\\hline\n",
       "\t1 & 1 & a \\\\\n",
       "\t2 & 2 & b \\\\\n",
       "\t3 & 3 & c \\\\\n",
       "\\end{tabular}\n"
      ],
      "text/plain": [
       "\u001b[1m3×2 DataFrame\u001b[0m\n",
       "\u001b[1m Row \u001b[0m│\u001b[1m a     \u001b[0m\u001b[1m b    \u001b[0m\n",
       "\u001b[1m     \u001b[0m│\u001b[90m Int64 \u001b[0m\u001b[90m Char \u001b[0m\n",
       "─────┼─────────────\n",
       "   1 │     1  a\n",
       "   2 │     2  b\n",
       "   3 │     3  c"
      ]
     },
     "execution_count": 78,
     "metadata": {},
     "output_type": "execute_result"
    }
   ],
   "source": [
    "df1 = DataFrame(a = 1:3, b = 'a':'c')"
   ]
  },
  {
   "cell_type": "code",
   "execution_count": 79,
   "id": "90d1720c-63fb-4c26-bb85-1df288474b7f",
   "metadata": {},
   "outputs": [
    {
     "data": {
      "text/html": [
       "<div class=\"data-frame\"><p>2 rows × 3 columns</p><table class=\"data-frame\"><thead><tr><th></th><th>a</th><th>b</th><th>c</th></tr><tr><th></th><th title=\"Int64\">Int64</th><th title=\"Char\">Char</th><th title=\"Float64\">Float64</th></tr></thead><tbody><tr><th>1</th><td>11</td><td>X</td><td>1.2</td></tr><tr><th>2</th><td>12</td><td>Y</td><td>3.4</td></tr></tbody></table></div>"
      ],
      "text/latex": [
       "\\begin{tabular}{r|ccc}\n",
       "\t& a & b & c\\\\\n",
       "\t\\hline\n",
       "\t& Int64 & Char & Float64\\\\\n",
       "\t\\hline\n",
       "\t1 & 11 & X & 1.2 \\\\\n",
       "\t2 & 12 & Y & 3.4 \\\\\n",
       "\\end{tabular}\n"
      ],
      "text/plain": [
       "\u001b[1m2×3 DataFrame\u001b[0m\n",
       "\u001b[1m Row \u001b[0m│\u001b[1m a     \u001b[0m\u001b[1m b    \u001b[0m\u001b[1m c       \u001b[0m\n",
       "\u001b[1m     \u001b[0m│\u001b[90m Int64 \u001b[0m\u001b[90m Char \u001b[0m\u001b[90m Float64 \u001b[0m\n",
       "─────┼──────────────────────\n",
       "   1 │    11  X         1.2\n",
       "   2 │    12  Y         3.4"
      ]
     },
     "execution_count": 79,
     "metadata": {},
     "output_type": "execute_result"
    }
   ],
   "source": [
    "df2 = DataFrame(a = 11:12, b = ['X', 'Y'], c = [1.2, 3.4])"
   ]
  },
  {
   "cell_type": "code",
   "execution_count": 80,
   "id": "eb5b6727-0b9d-4ea6-a672-a4a31ac56b0b",
   "metadata": {},
   "outputs": [
    {
     "data": {
      "text/html": [
       "<div class=\"data-frame\"><p>5 rows × 2 columns</p><table class=\"data-frame\"><thead><tr><th></th><th>a</th><th>b</th></tr><tr><th></th><th title=\"Int64\">Int64</th><th title=\"Char\">Char</th></tr></thead><tbody><tr><th>1</th><td>1</td><td>a</td></tr><tr><th>2</th><td>2</td><td>b</td></tr><tr><th>3</th><td>3</td><td>c</td></tr><tr><th>4</th><td>11</td><td>X</td></tr><tr><th>5</th><td>12</td><td>Y</td></tr></tbody></table></div>"
      ],
      "text/latex": [
       "\\begin{tabular}{r|cc}\n",
       "\t& a & b\\\\\n",
       "\t\\hline\n",
       "\t& Int64 & Char\\\\\n",
       "\t\\hline\n",
       "\t1 & 1 & a \\\\\n",
       "\t2 & 2 & b \\\\\n",
       "\t3 & 3 & c \\\\\n",
       "\t4 & 11 & X \\\\\n",
       "\t5 & 12 & Y \\\\\n",
       "\\end{tabular}\n"
      ],
      "text/plain": [
       "\u001b[1m5×2 DataFrame\u001b[0m\n",
       "\u001b[1m Row \u001b[0m│\u001b[1m a     \u001b[0m\u001b[1m b    \u001b[0m\n",
       "\u001b[1m     \u001b[0m│\u001b[90m Int64 \u001b[0m\u001b[90m Char \u001b[0m\n",
       "─────┼─────────────\n",
       "   1 │     1  a\n",
       "   2 │     2  b\n",
       "   3 │     3  c\n",
       "   4 │    11  X\n",
       "   5 │    12  Y"
      ]
     },
     "execution_count": 80,
     "metadata": {},
     "output_type": "execute_result"
    }
   ],
   "source": [
    "append!(df1, df2, cols = :intersect);\n",
    "df1"
   ]
  },
  {
   "cell_type": "markdown",
   "id": "2b310169-c736-4c84-8c9d-2ed4d869dad9",
   "metadata": {
    "tags": []
   },
   "source": [
    "## 16.3.　`cols = :subset`\n",
    "\n",
    "`cols=:subset` の場合には `df1` と `df2` に共通する列名のデータはそのまま連結されるが，`df1` にはあるが `df2` にはない列名のデータは `missing` になる。"
   ]
  },
  {
   "cell_type": "code",
   "execution_count": 81,
   "id": "288e5c45-7990-4a77-9409-5f2893f5695d",
   "metadata": {},
   "outputs": [
    {
     "data": {
      "text/html": [
       "<div class=\"data-frame\"><p>3 rows × 2 columns</p><table class=\"data-frame\"><thead><tr><th></th><th>a</th><th>b</th></tr><tr><th></th><th title=\"Int64\">Int64</th><th title=\"Char\">Char</th></tr></thead><tbody><tr><th>1</th><td>1</td><td>A</td></tr><tr><th>2</th><td>2</td><td>B</td></tr><tr><th>3</th><td>3</td><td>C</td></tr></tbody></table></div>"
      ],
      "text/latex": [
       "\\begin{tabular}{r|cc}\n",
       "\t& a & b\\\\\n",
       "\t\\hline\n",
       "\t& Int64 & Char\\\\\n",
       "\t\\hline\n",
       "\t1 & 1 & A \\\\\n",
       "\t2 & 2 & B \\\\\n",
       "\t3 & 3 & C \\\\\n",
       "\\end{tabular}\n"
      ],
      "text/plain": [
       "\u001b[1m3×2 DataFrame\u001b[0m\n",
       "\u001b[1m Row \u001b[0m│\u001b[1m a     \u001b[0m\u001b[1m b    \u001b[0m\n",
       "\u001b[1m     \u001b[0m│\u001b[90m Int64 \u001b[0m\u001b[90m Char \u001b[0m\n",
       "─────┼─────────────\n",
       "   1 │     1  A\n",
       "   2 │     2  B\n",
       "   3 │     3  C"
      ]
     },
     "execution_count": 81,
     "metadata": {},
     "output_type": "execute_result"
    }
   ],
   "source": [
    "df1 = DataFrame(a = 1:3, b = 'A':'C')"
   ]
  },
  {
   "cell_type": "code",
   "execution_count": 82,
   "id": "bc873a89-2cdd-461d-b7d9-36ba7d4f7dfb",
   "metadata": {},
   "outputs": [
    {
     "data": {
      "text/html": [
       "<div class=\"data-frame\"><p>2 rows × 2 columns</p><table class=\"data-frame\"><thead><tr><th></th><th>a</th><th>c</th></tr><tr><th></th><th title=\"Int64\">Int64</th><th title=\"Float64\">Float64</th></tr></thead><tbody><tr><th>1</th><td>11</td><td>1.2</td></tr><tr><th>2</th><td>12</td><td>3.4</td></tr></tbody></table></div>"
      ],
      "text/latex": [
       "\\begin{tabular}{r|cc}\n",
       "\t& a & c\\\\\n",
       "\t\\hline\n",
       "\t& Int64 & Float64\\\\\n",
       "\t\\hline\n",
       "\t1 & 11 & 1.2 \\\\\n",
       "\t2 & 12 & 3.4 \\\\\n",
       "\\end{tabular}\n"
      ],
      "text/plain": [
       "\u001b[1m2×2 DataFrame\u001b[0m\n",
       "\u001b[1m Row \u001b[0m│\u001b[1m a     \u001b[0m\u001b[1m c       \u001b[0m\n",
       "\u001b[1m     \u001b[0m│\u001b[90m Int64 \u001b[0m\u001b[90m Float64 \u001b[0m\n",
       "─────┼────────────────\n",
       "   1 │    11      1.2\n",
       "   2 │    12      3.4"
      ]
     },
     "execution_count": 82,
     "metadata": {},
     "output_type": "execute_result"
    }
   ],
   "source": [
    "df2 = DataFrame(a = 11:12, c = [1.2, 3.4])"
   ]
  },
  {
   "cell_type": "code",
   "execution_count": 83,
   "id": "9a7c34b8-8515-4f22-811b-b41a0c917365",
   "metadata": {},
   "outputs": [
    {
     "data": {
      "text/html": [
       "<div class=\"data-frame\"><p>5 rows × 2 columns</p><table class=\"data-frame\"><thead><tr><th></th><th>a</th><th>b</th></tr><tr><th></th><th title=\"Int64\">Int64</th><th title=\"Union{Missing, Char}\">Char?</th></tr></thead><tbody><tr><th>1</th><td>1</td><td>A</td></tr><tr><th>2</th><td>2</td><td>B</td></tr><tr><th>3</th><td>3</td><td>C</td></tr><tr><th>4</th><td>11</td><td><em>missing</em></td></tr><tr><th>5</th><td>12</td><td><em>missing</em></td></tr></tbody></table></div>"
      ],
      "text/latex": [
       "\\begin{tabular}{r|cc}\n",
       "\t& a & b\\\\\n",
       "\t\\hline\n",
       "\t& Int64 & Char?\\\\\n",
       "\t\\hline\n",
       "\t1 & 1 & A \\\\\n",
       "\t2 & 2 & B \\\\\n",
       "\t3 & 3 & C \\\\\n",
       "\t4 & 11 & \\emph{missing} \\\\\n",
       "\t5 & 12 & \\emph{missing} \\\\\n",
       "\\end{tabular}\n"
      ],
      "text/plain": [
       "\u001b[1m5×2 DataFrame\u001b[0m\n",
       "\u001b[1m Row \u001b[0m│\u001b[1m a     \u001b[0m\u001b[1m b       \u001b[0m\n",
       "\u001b[1m     \u001b[0m│\u001b[90m Int64 \u001b[0m\u001b[90m Char?   \u001b[0m\n",
       "─────┼────────────────\n",
       "   1 │     1  A\n",
       "   2 │     2  B\n",
       "   3 │     3  C\n",
       "   4 │    11 \u001b[90m missing \u001b[0m\n",
       "   5 │    12 \u001b[90m missing \u001b[0m"
      ]
     },
     "execution_count": 83,
     "metadata": {},
     "output_type": "execute_result"
    }
   ],
   "source": [
    "append!(df1, df2, cols = :subset);\n",
    "df1"
   ]
  },
  {
   "cell_type": "markdown",
   "id": "38ee9048-ef9c-4ac1-9581-c70324f13261",
   "metadata": {},
   "source": [
    "## 16.4.　`cols = :union`\n",
    "\n",
    "`df1` と `df2` のいずれかに含まれる列名を含むデータフレームとして連結される。\n",
    "\n",
    "互いに含まれない列名のデータとしては `missing` が連結される。"
   ]
  },
  {
   "cell_type": "code",
   "execution_count": 84,
   "id": "7ee4bc03-2183-42ce-ab41-cdf72c2b9bad",
   "metadata": {},
   "outputs": [
    {
     "data": {
      "text/html": [
       "<div class=\"data-frame\"><p>3 rows × 2 columns</p><table class=\"data-frame\"><thead><tr><th></th><th>a</th><th>b</th></tr><tr><th></th><th title=\"Int64\">Int64</th><th title=\"Char\">Char</th></tr></thead><tbody><tr><th>1</th><td>1</td><td>A</td></tr><tr><th>2</th><td>2</td><td>B</td></tr><tr><th>3</th><td>3</td><td>C</td></tr></tbody></table></div>"
      ],
      "text/latex": [
       "\\begin{tabular}{r|cc}\n",
       "\t& a & b\\\\\n",
       "\t\\hline\n",
       "\t& Int64 & Char\\\\\n",
       "\t\\hline\n",
       "\t1 & 1 & A \\\\\n",
       "\t2 & 2 & B \\\\\n",
       "\t3 & 3 & C \\\\\n",
       "\\end{tabular}\n"
      ],
      "text/plain": [
       "\u001b[1m3×2 DataFrame\u001b[0m\n",
       "\u001b[1m Row \u001b[0m│\u001b[1m a     \u001b[0m\u001b[1m b    \u001b[0m\n",
       "\u001b[1m     \u001b[0m│\u001b[90m Int64 \u001b[0m\u001b[90m Char \u001b[0m\n",
       "─────┼─────────────\n",
       "   1 │     1  A\n",
       "   2 │     2  B\n",
       "   3 │     3  C"
      ]
     },
     "execution_count": 84,
     "metadata": {},
     "output_type": "execute_result"
    }
   ],
   "source": [
    "df1 = DataFrame(a = 1:3, b = 'A':'C')"
   ]
  },
  {
   "cell_type": "code",
   "execution_count": 85,
   "id": "f18586ae-0777-4782-980d-d9260b04a8ec",
   "metadata": {},
   "outputs": [
    {
     "data": {
      "text/html": [
       "<div class=\"data-frame\"><p>2 rows × 2 columns</p><table class=\"data-frame\"><thead><tr><th></th><th>a</th><th>c</th></tr><tr><th></th><th title=\"Int64\">Int64</th><th title=\"Float64\">Float64</th></tr></thead><tbody><tr><th>1</th><td>11</td><td>1.2</td></tr><tr><th>2</th><td>12</td><td>3.4</td></tr></tbody></table></div>"
      ],
      "text/latex": [
       "\\begin{tabular}{r|cc}\n",
       "\t& a & c\\\\\n",
       "\t\\hline\n",
       "\t& Int64 & Float64\\\\\n",
       "\t\\hline\n",
       "\t1 & 11 & 1.2 \\\\\n",
       "\t2 & 12 & 3.4 \\\\\n",
       "\\end{tabular}\n"
      ],
      "text/plain": [
       "\u001b[1m2×2 DataFrame\u001b[0m\n",
       "\u001b[1m Row \u001b[0m│\u001b[1m a     \u001b[0m\u001b[1m c       \u001b[0m\n",
       "\u001b[1m     \u001b[0m│\u001b[90m Int64 \u001b[0m\u001b[90m Float64 \u001b[0m\n",
       "─────┼────────────────\n",
       "   1 │    11      1.2\n",
       "   2 │    12      3.4"
      ]
     },
     "execution_count": 85,
     "metadata": {},
     "output_type": "execute_result"
    }
   ],
   "source": [
    "df2 = DataFrame(a = 11:12, c = [1.2, 3.4])"
   ]
  },
  {
   "cell_type": "code",
   "execution_count": 86,
   "id": "823624be-ce87-4b7b-8f14-0e2ab178d820",
   "metadata": {},
   "outputs": [
    {
     "data": {
      "text/html": [
       "<div class=\"data-frame\"><p>5 rows × 3 columns</p><table class=\"data-frame\"><thead><tr><th></th><th>a</th><th>b</th><th>c</th></tr><tr><th></th><th title=\"Int64\">Int64</th><th title=\"Union{Missing, Char}\">Char?</th><th title=\"Union{Missing, Float64}\">Float64?</th></tr></thead><tbody><tr><th>1</th><td>1</td><td>A</td><td><em>missing</em></td></tr><tr><th>2</th><td>2</td><td>B</td><td><em>missing</em></td></tr><tr><th>3</th><td>3</td><td>C</td><td><em>missing</em></td></tr><tr><th>4</th><td>11</td><td><em>missing</em></td><td>1.2</td></tr><tr><th>5</th><td>12</td><td><em>missing</em></td><td>3.4</td></tr></tbody></table></div>"
      ],
      "text/latex": [
       "\\begin{tabular}{r|ccc}\n",
       "\t& a & b & c\\\\\n",
       "\t\\hline\n",
       "\t& Int64 & Char? & Float64?\\\\\n",
       "\t\\hline\n",
       "\t1 & 1 & A & \\emph{missing} \\\\\n",
       "\t2 & 2 & B & \\emph{missing} \\\\\n",
       "\t3 & 3 & C & \\emph{missing} \\\\\n",
       "\t4 & 11 & \\emph{missing} & 1.2 \\\\\n",
       "\t5 & 12 & \\emph{missing} & 3.4 \\\\\n",
       "\\end{tabular}\n"
      ],
      "text/plain": [
       "\u001b[1m5×3 DataFrame\u001b[0m\n",
       "\u001b[1m Row \u001b[0m│\u001b[1m a     \u001b[0m\u001b[1m b       \u001b[0m\u001b[1m c         \u001b[0m\n",
       "\u001b[1m     \u001b[0m│\u001b[90m Int64 \u001b[0m\u001b[90m Char?   \u001b[0m\u001b[90m Float64?  \u001b[0m\n",
       "─────┼───────────────────────────\n",
       "   1 │     1  A       \u001b[90m missing   \u001b[0m\n",
       "   2 │     2  B       \u001b[90m missing   \u001b[0m\n",
       "   3 │     3  C       \u001b[90m missing   \u001b[0m\n",
       "   4 │    11 \u001b[90m missing \u001b[0m       1.2\n",
       "   5 │    12 \u001b[90m missing \u001b[0m       3.4"
      ]
     },
     "execution_count": 86,
     "metadata": {},
     "output_type": "execute_result"
    }
   ],
   "source": [
    "append!(df1, df2, cols = :union);\n",
    "df1"
   ]
  },
  {
   "cell_type": "markdown",
   "id": "35ef936c-20a9-420a-87cd-41cc93cfe799",
   "metadata": {},
   "source": [
    "# 17.　データフレームの最終行の次に 1 行追加する\n",
    "\n",
    "`push!(df1, 追加行)` のようにしてインプレースで追加する。\n",
    "\n",
    "追加行は `Dict()` またはデータフレームの一行で指定する。前節の `append!()` と同じく，`cols` 引数が使える。"
   ]
  },
  {
   "cell_type": "code",
   "execution_count": 87,
   "id": "1a76d5c7-b306-4dc0-af6a-a1c962bfb162",
   "metadata": {},
   "outputs": [
    {
     "data": {
      "text/html": [
       "<div class=\"data-frame\"><p>3 rows × 2 columns</p><table class=\"data-frame\"><thead><tr><th></th><th>a</th><th>b</th></tr><tr><th></th><th title=\"Int64\">Int64</th><th title=\"Char\">Char</th></tr></thead><tbody><tr><th>1</th><td>1</td><td>A</td></tr><tr><th>2</th><td>2</td><td>B</td></tr><tr><th>3</th><td>3</td><td>C</td></tr></tbody></table></div>"
      ],
      "text/latex": [
       "\\begin{tabular}{r|cc}\n",
       "\t& a & b\\\\\n",
       "\t\\hline\n",
       "\t& Int64 & Char\\\\\n",
       "\t\\hline\n",
       "\t1 & 1 & A \\\\\n",
       "\t2 & 2 & B \\\\\n",
       "\t3 & 3 & C \\\\\n",
       "\\end{tabular}\n"
      ],
      "text/plain": [
       "\u001b[1m3×2 DataFrame\u001b[0m\n",
       "\u001b[1m Row \u001b[0m│\u001b[1m a     \u001b[0m\u001b[1m b    \u001b[0m\n",
       "\u001b[1m     \u001b[0m│\u001b[90m Int64 \u001b[0m\u001b[90m Char \u001b[0m\n",
       "─────┼─────────────\n",
       "   1 │     1  A\n",
       "   2 │     2  B\n",
       "   3 │     3  C"
      ]
     },
     "execution_count": 87,
     "metadata": {},
     "output_type": "execute_result"
    }
   ],
   "source": [
    "df1 = DataFrame(a = 1:3, b = 'A':'C')"
   ]
  },
  {
   "cell_type": "code",
   "execution_count": 88,
   "id": "cac737b7-bd52-4440-bc61-f9df06a22ca0",
   "metadata": {},
   "outputs": [
    {
     "data": {
      "text/html": [
       "<div class=\"data-frame\"><p>4 rows × 3 columns</p><table class=\"data-frame\"><thead><tr><th></th><th>a</th><th>b</th><th>c</th></tr><tr><th></th><th title=\"Int64\">Int64</th><th title=\"Char\">Char</th><th title=\"Union{Missing, Float64}\">Float64?</th></tr></thead><tbody><tr><th>1</th><td>1</td><td>A</td><td><em>missing</em></td></tr><tr><th>2</th><td>2</td><td>B</td><td><em>missing</em></td></tr><tr><th>3</th><td>3</td><td>C</td><td><em>missing</em></td></tr><tr><th>4</th><td>5</td><td>X</td><td>1.23</td></tr></tbody></table></div>"
      ],
      "text/latex": [
       "\\begin{tabular}{r|ccc}\n",
       "\t& a & b & c\\\\\n",
       "\t\\hline\n",
       "\t& Int64 & Char & Float64?\\\\\n",
       "\t\\hline\n",
       "\t1 & 1 & A & \\emph{missing} \\\\\n",
       "\t2 & 2 & B & \\emph{missing} \\\\\n",
       "\t3 & 3 & C & \\emph{missing} \\\\\n",
       "\t4 & 5 & X & 1.23 \\\\\n",
       "\\end{tabular}\n"
      ],
      "text/plain": [
       "\u001b[1m4×3 DataFrame\u001b[0m\n",
       "\u001b[1m Row \u001b[0m│\u001b[1m a     \u001b[0m\u001b[1m b    \u001b[0m\u001b[1m c          \u001b[0m\n",
       "\u001b[1m     \u001b[0m│\u001b[90m Int64 \u001b[0m\u001b[90m Char \u001b[0m\u001b[90m Float64?   \u001b[0m\n",
       "─────┼─────────────────────────\n",
       "   1 │     1  A    \u001b[90m missing    \u001b[0m\n",
       "   2 │     2  B    \u001b[90m missing    \u001b[0m\n",
       "   3 │     3  C    \u001b[90m missing    \u001b[0m\n",
       "   4 │     5  X           1.23"
      ]
     },
     "execution_count": 88,
     "metadata": {},
     "output_type": "execute_result"
    }
   ],
   "source": [
    "push!(df1, Dict(:a => 5, :b => 'X', :c => 1.23), cols = :union)"
   ]
  },
  {
   "cell_type": "code",
   "execution_count": 89,
   "id": "5c72b009-e3ec-45b2-aebb-0f37a48e717f",
   "metadata": {},
   "outputs": [
    {
     "data": {
      "text/html": [
       "<div class=\"data-frame\"><p>5 rows × 3 columns</p><table class=\"data-frame\"><thead><tr><th></th><th>a</th><th>b</th><th>c</th></tr><tr><th></th><th title=\"Int64\">Int64</th><th title=\"Char\">Char</th><th title=\"Union{Missing, Float64}\">Float64?</th></tr></thead><tbody><tr><th>1</th><td>1</td><td>A</td><td><em>missing</em></td></tr><tr><th>2</th><td>2</td><td>B</td><td><em>missing</em></td></tr><tr><th>3</th><td>3</td><td>C</td><td><em>missing</em></td></tr><tr><th>4</th><td>5</td><td>X</td><td>1.23</td></tr><tr><th>5</th><td>1</td><td>A</td><td><em>missing</em></td></tr></tbody></table></div>"
      ],
      "text/latex": [
       "\\begin{tabular}{r|ccc}\n",
       "\t& a & b & c\\\\\n",
       "\t\\hline\n",
       "\t& Int64 & Char & Float64?\\\\\n",
       "\t\\hline\n",
       "\t1 & 1 & A & \\emph{missing} \\\\\n",
       "\t2 & 2 & B & \\emph{missing} \\\\\n",
       "\t3 & 3 & C & \\emph{missing} \\\\\n",
       "\t4 & 5 & X & 1.23 \\\\\n",
       "\t5 & 1 & A & \\emph{missing} \\\\\n",
       "\\end{tabular}\n"
      ],
      "text/plain": [
       "\u001b[1m5×3 DataFrame\u001b[0m\n",
       "\u001b[1m Row \u001b[0m│\u001b[1m a     \u001b[0m\u001b[1m b    \u001b[0m\u001b[1m c          \u001b[0m\n",
       "\u001b[1m     \u001b[0m│\u001b[90m Int64 \u001b[0m\u001b[90m Char \u001b[0m\u001b[90m Float64?   \u001b[0m\n",
       "─────┼─────────────────────────\n",
       "   1 │     1  A    \u001b[90m missing    \u001b[0m\n",
       "   2 │     2  B    \u001b[90m missing    \u001b[0m\n",
       "   3 │     3  C    \u001b[90m missing    \u001b[0m\n",
       "   4 │     5  X           1.23\n",
       "   5 │     1  A    \u001b[90m missing    \u001b[0m"
      ]
     },
     "execution_count": 89,
     "metadata": {},
     "output_type": "execute_result"
    }
   ],
   "source": [
    "push!(df1, df1[1, :])"
   ]
  },
  {
   "cell_type": "markdown",
   "id": "17ba113f-1d2e-40b2-8cc0-9ca72bf5a83b",
   "metadata": {},
   "source": [
    "# 18.　行を繰り返してデータフレームを作る"
   ]
  },
  {
   "cell_type": "code",
   "execution_count": 90,
   "id": "c911ad7e-6776-4b09-be95-0f7684cbdd08",
   "metadata": {},
   "outputs": [
    {
     "data": {
      "text/html": [
       "<div class=\"data-frame\"><p>2 rows × 2 columns</p><table class=\"data-frame\"><thead><tr><th></th><th>a</th><th>b</th></tr><tr><th></th><th title=\"Int64\">Int64</th><th title=\"Int64\">Int64</th></tr></thead><tbody><tr><th>1</th><td>1</td><td>3</td></tr><tr><th>2</th><td>2</td><td>4</td></tr></tbody></table></div>"
      ],
      "text/latex": [
       "\\begin{tabular}{r|cc}\n",
       "\t& a & b\\\\\n",
       "\t\\hline\n",
       "\t& Int64 & Int64\\\\\n",
       "\t\\hline\n",
       "\t1 & 1 & 3 \\\\\n",
       "\t2 & 2 & 4 \\\\\n",
       "\\end{tabular}\n"
      ],
      "text/plain": [
       "\u001b[1m2×2 DataFrame\u001b[0m\n",
       "\u001b[1m Row \u001b[0m│\u001b[1m a     \u001b[0m\u001b[1m b     \u001b[0m\n",
       "\u001b[1m     \u001b[0m│\u001b[90m Int64 \u001b[0m\u001b[90m Int64 \u001b[0m\n",
       "─────┼──────────────\n",
       "   1 │     1      3\n",
       "   2 │     2      4"
      ]
     },
     "execution_count": 90,
     "metadata": {},
     "output_type": "execute_result"
    }
   ],
   "source": [
    "df = DataFrame(a = 1:2, b = 3:4)"
   ]
  },
  {
   "cell_type": "code",
   "execution_count": 91,
   "id": "6a296076-f791-49e5-be58-05b9928b97da",
   "metadata": {},
   "outputs": [
    {
     "data": {
      "text/html": [
       "<div class=\"data-frame\"><p>12 rows × 2 columns</p><table class=\"data-frame\"><thead><tr><th></th><th>a</th><th>b</th></tr><tr><th></th><th title=\"Int64\">Int64</th><th title=\"Int64\">Int64</th></tr></thead><tbody><tr><th>1</th><td>1</td><td>3</td></tr><tr><th>2</th><td>1</td><td>3</td></tr><tr><th>3</th><td>2</td><td>4</td></tr><tr><th>4</th><td>2</td><td>4</td></tr><tr><th>5</th><td>1</td><td>3</td></tr><tr><th>6</th><td>1</td><td>3</td></tr><tr><th>7</th><td>2</td><td>4</td></tr><tr><th>8</th><td>2</td><td>4</td></tr><tr><th>9</th><td>1</td><td>3</td></tr><tr><th>10</th><td>1</td><td>3</td></tr><tr><th>11</th><td>2</td><td>4</td></tr><tr><th>12</th><td>2</td><td>4</td></tr></tbody></table></div>"
      ],
      "text/latex": [
       "\\begin{tabular}{r|cc}\n",
       "\t& a & b\\\\\n",
       "\t\\hline\n",
       "\t& Int64 & Int64\\\\\n",
       "\t\\hline\n",
       "\t1 & 1 & 3 \\\\\n",
       "\t2 & 1 & 3 \\\\\n",
       "\t3 & 2 & 4 \\\\\n",
       "\t4 & 2 & 4 \\\\\n",
       "\t5 & 1 & 3 \\\\\n",
       "\t6 & 1 & 3 \\\\\n",
       "\t7 & 2 & 4 \\\\\n",
       "\t8 & 2 & 4 \\\\\n",
       "\t9 & 1 & 3 \\\\\n",
       "\t10 & 1 & 3 \\\\\n",
       "\t11 & 2 & 4 \\\\\n",
       "\t12 & 2 & 4 \\\\\n",
       "\\end{tabular}\n"
      ],
      "text/plain": [
       "\u001b[1m12×2 DataFrame\u001b[0m\n",
       "\u001b[1m Row \u001b[0m│\u001b[1m a     \u001b[0m\u001b[1m b     \u001b[0m\n",
       "\u001b[1m     \u001b[0m│\u001b[90m Int64 \u001b[0m\u001b[90m Int64 \u001b[0m\n",
       "─────┼──────────────\n",
       "   1 │     1      3\n",
       "   2 │     1      3\n",
       "   3 │     2      4\n",
       "   4 │     2      4\n",
       "   5 │     1      3\n",
       "   6 │     1      3\n",
       "   7 │     2      4\n",
       "   8 │     2      4\n",
       "   9 │     1      3\n",
       "  10 │     1      3\n",
       "  11 │     2      4\n",
       "  12 │     2      4"
      ]
     },
     "execution_count": 91,
     "metadata": {},
     "output_type": "execute_result"
    }
   ],
   "source": [
    "repeat(df, inner = 2, outer = 3)"
   ]
  },
  {
   "cell_type": "code",
   "execution_count": 92,
   "id": "d0efee29-93a2-4afd-9272-2333b1cc9ba7",
   "metadata": {},
   "outputs": [
    {
     "data": {
      "text/html": [
       "<div class=\"data-frame\"><p>4 rows × 2 columns</p><table class=\"data-frame\"><thead><tr><th></th><th>a</th><th>b</th></tr><tr><th></th><th title=\"Int64\">Int64</th><th title=\"Int64\">Int64</th></tr></thead><tbody><tr><th>1</th><td>1</td><td>3</td></tr><tr><th>2</th><td>2</td><td>4</td></tr><tr><th>3</th><td>1</td><td>3</td></tr><tr><th>4</th><td>2</td><td>4</td></tr></tbody></table></div>"
      ],
      "text/latex": [
       "\\begin{tabular}{r|cc}\n",
       "\t& a & b\\\\\n",
       "\t\\hline\n",
       "\t& Int64 & Int64\\\\\n",
       "\t\\hline\n",
       "\t1 & 1 & 3 \\\\\n",
       "\t2 & 2 & 4 \\\\\n",
       "\t3 & 1 & 3 \\\\\n",
       "\t4 & 2 & 4 \\\\\n",
       "\\end{tabular}\n"
      ],
      "text/plain": [
       "\u001b[1m4×2 DataFrame\u001b[0m\n",
       "\u001b[1m Row \u001b[0m│\u001b[1m a     \u001b[0m\u001b[1m b     \u001b[0m\n",
       "\u001b[1m     \u001b[0m│\u001b[90m Int64 \u001b[0m\u001b[90m Int64 \u001b[0m\n",
       "─────┼──────────────\n",
       "   1 │     1      3\n",
       "   2 │     2      4\n",
       "   3 │     1      3\n",
       "   4 │     2      4"
      ]
     },
     "execution_count": 92,
     "metadata": {},
     "output_type": "execute_result"
    }
   ],
   "source": [
    "df = DataFrame(a = 1:2, b = 3:4);\n",
    "repeat(df, 2)"
   ]
  },
  {
   "cell_type": "code",
   "execution_count": 93,
   "id": "72614907-24ef-4ed4-96b7-df9570ad824e",
   "metadata": {},
   "outputs": [
    {
     "data": {
      "text/html": [
       "<div class=\"data-frame\"><p>10 rows × 2 columns</p><table class=\"data-frame\"><thead><tr><th></th><th>a</th><th>b</th></tr><tr><th></th><th title=\"Int64\">Int64</th><th title=\"Int64\">Int64</th></tr></thead><tbody><tr><th>1</th><td>1</td><td>3</td></tr><tr><th>2</th><td>1</td><td>3</td></tr><tr><th>3</th><td>2</td><td>4</td></tr><tr><th>4</th><td>2</td><td>4</td></tr><tr><th>5</th><td>1</td><td>3</td></tr><tr><th>6</th><td>1</td><td>3</td></tr><tr><th>7</th><td>2</td><td>4</td></tr><tr><th>8</th><td>2</td><td>4</td></tr><tr><th>9</th><td>1</td><td>3</td></tr><tr><th>10</th><td>1</td><td>3</td></tr></tbody></table></div>"
      ],
      "text/latex": [
       "\\begin{tabular}{r|cc}\n",
       "\t& a & b\\\\\n",
       "\t\\hline\n",
       "\t& Int64 & Int64\\\\\n",
       "\t\\hline\n",
       "\t1 & 1 & 3 \\\\\n",
       "\t2 & 1 & 3 \\\\\n",
       "\t3 & 2 & 4 \\\\\n",
       "\t4 & 2 & 4 \\\\\n",
       "\t5 & 1 & 3 \\\\\n",
       "\t6 & 1 & 3 \\\\\n",
       "\t7 & 2 & 4 \\\\\n",
       "\t8 & 2 & 4 \\\\\n",
       "\t9 & 1 & 3 \\\\\n",
       "\t10 & 1 & 3 \\\\\n",
       "\\end{tabular}\n"
      ],
      "text/plain": [
       "\u001b[1m10×2 DataFrame\u001b[0m\n",
       "\u001b[1m Row \u001b[0m│\u001b[1m a     \u001b[0m\u001b[1m b     \u001b[0m\n",
       "\u001b[1m     \u001b[0m│\u001b[90m Int64 \u001b[0m\u001b[90m Int64 \u001b[0m\n",
       "─────┼──────────────\n",
       "   1 │     1      3\n",
       "   2 │     1      3\n",
       "   3 │     2      4\n",
       "   4 │     2      4\n",
       "   5 │     1      3\n",
       "   6 │     1      3\n",
       "   7 │     2      4\n",
       "   8 │     2      4\n",
       "   9 │     1      3\n",
       "  10 │     1      3"
      ]
     },
     "execution_count": 93,
     "metadata": {},
     "output_type": "execute_result"
    }
   ],
   "source": [
    "df = DataFrame(a = 1:2, b = 3:4);\n",
    "repeat!(df, inner = 2, outer = 3); # 破壊的\n",
    "first(df, 10)"
   ]
  },
  {
   "cell_type": "code",
   "execution_count": 94,
   "id": "e5c3339d-84c4-4ba6-b342-da9881af16c1",
   "metadata": {},
   "outputs": [
    {
     "data": {
      "text/html": [
       "<div class=\"data-frame\"><p>4 rows × 2 columns</p><table class=\"data-frame\"><thead><tr><th></th><th>a</th><th>b</th></tr><tr><th></th><th title=\"Int64\">Int64</th><th title=\"Int64\">Int64</th></tr></thead><tbody><tr><th>1</th><td>1</td><td>3</td></tr><tr><th>2</th><td>2</td><td>4</td></tr><tr><th>3</th><td>1</td><td>3</td></tr><tr><th>4</th><td>2</td><td>4</td></tr></tbody></table></div>"
      ],
      "text/latex": [
       "\\begin{tabular}{r|cc}\n",
       "\t& a & b\\\\\n",
       "\t\\hline\n",
       "\t& Int64 & Int64\\\\\n",
       "\t\\hline\n",
       "\t1 & 1 & 3 \\\\\n",
       "\t2 & 2 & 4 \\\\\n",
       "\t3 & 1 & 3 \\\\\n",
       "\t4 & 2 & 4 \\\\\n",
       "\\end{tabular}\n"
      ],
      "text/plain": [
       "\u001b[1m4×2 DataFrame\u001b[0m\n",
       "\u001b[1m Row \u001b[0m│\u001b[1m a     \u001b[0m\u001b[1m b     \u001b[0m\n",
       "\u001b[1m     \u001b[0m│\u001b[90m Int64 \u001b[0m\u001b[90m Int64 \u001b[0m\n",
       "─────┼──────────────\n",
       "   1 │     1      3\n",
       "   2 │     2      4\n",
       "   3 │     1      3\n",
       "   4 │     2      4"
      ]
     },
     "execution_count": 94,
     "metadata": {},
     "output_type": "execute_result"
    }
   ],
   "source": [
    "df = DataFrame(a = 1:2, b = 3:4);\n",
    "repeat!(df, 2); # 破壊的\n",
    "df"
   ]
  },
  {
   "cell_type": "markdown",
   "id": "66301900-4fd5-4dd3-aba9-498ee9ee13ca",
   "metadata": {},
   "source": [
    "# 19.　データフレームに列を挿入する\n",
    "\n",
    "`insertcols!(df1, 挿入位置, 列名1 => データ1, …)` により，`df1` の挿入位置へ，順に列をインプレースで挿入する。複数の列を挿入できる。"
   ]
  },
  {
   "cell_type": "code",
   "execution_count": 95,
   "id": "2a3a82b6-c1b6-4346-9a81-909ff67bb636",
   "metadata": {},
   "outputs": [
    {
     "data": {
      "text/html": [
       "<div class=\"data-frame\"><p>3 rows × 2 columns</p><table class=\"data-frame\"><thead><tr><th></th><th>a</th><th>b</th></tr><tr><th></th><th title=\"Int64\">Int64</th><th title=\"Char\">Char</th></tr></thead><tbody><tr><th>1</th><td>1</td><td>A</td></tr><tr><th>2</th><td>2</td><td>B</td></tr><tr><th>3</th><td>3</td><td>C</td></tr></tbody></table></div>"
      ],
      "text/latex": [
       "\\begin{tabular}{r|cc}\n",
       "\t& a & b\\\\\n",
       "\t\\hline\n",
       "\t& Int64 & Char\\\\\n",
       "\t\\hline\n",
       "\t1 & 1 & A \\\\\n",
       "\t2 & 2 & B \\\\\n",
       "\t3 & 3 & C \\\\\n",
       "\\end{tabular}\n"
      ],
      "text/plain": [
       "\u001b[1m3×2 DataFrame\u001b[0m\n",
       "\u001b[1m Row \u001b[0m│\u001b[1m a     \u001b[0m\u001b[1m b    \u001b[0m\n",
       "\u001b[1m     \u001b[0m│\u001b[90m Int64 \u001b[0m\u001b[90m Char \u001b[0m\n",
       "─────┼─────────────\n",
       "   1 │     1  A\n",
       "   2 │     2  B\n",
       "   3 │     3  C"
      ]
     },
     "execution_count": 95,
     "metadata": {},
     "output_type": "execute_result"
    }
   ],
   "source": [
    "df1 = DataFrame(a = 1:3, b = 'A':'C')"
   ]
  },
  {
   "cell_type": "code",
   "execution_count": 96,
   "id": "469c9752-e9c8-4032-b32d-afe3badaffa9",
   "metadata": {},
   "outputs": [
    {
     "data": {
      "text/html": [
       "<div class=\"data-frame\"><p>3 rows × 4 columns</p><table class=\"data-frame\"><thead><tr><th></th><th>a</th><th>col2</th><th>col3</th><th>b</th></tr><tr><th></th><th title=\"Int64\">Int64</th><th title=\"Float64\">Float64</th><th title=\"String\">String</th><th title=\"Char\">Char</th></tr></thead><tbody><tr><th>1</th><td>1</td><td>1.2</td><td>No1</td><td>A</td></tr><tr><th>2</th><td>2</td><td>3.4</td><td>No2</td><td>B</td></tr><tr><th>3</th><td>3</td><td>5.67</td><td>No3</td><td>C</td></tr></tbody></table></div>"
      ],
      "text/latex": [
       "\\begin{tabular}{r|cccc}\n",
       "\t& a & col2 & col3 & b\\\\\n",
       "\t\\hline\n",
       "\t& Int64 & Float64 & String & Char\\\\\n",
       "\t\\hline\n",
       "\t1 & 1 & 1.2 & No1 & A \\\\\n",
       "\t2 & 2 & 3.4 & No2 & B \\\\\n",
       "\t3 & 3 & 5.67 & No3 & C \\\\\n",
       "\\end{tabular}\n"
      ],
      "text/plain": [
       "\u001b[1m3×4 DataFrame\u001b[0m\n",
       "\u001b[1m Row \u001b[0m│\u001b[1m a     \u001b[0m\u001b[1m col2    \u001b[0m\u001b[1m col3   \u001b[0m\u001b[1m b    \u001b[0m\n",
       "\u001b[1m     \u001b[0m│\u001b[90m Int64 \u001b[0m\u001b[90m Float64 \u001b[0m\u001b[90m String \u001b[0m\u001b[90m Char \u001b[0m\n",
       "─────┼──────────────────────────────\n",
       "   1 │     1     1.2   No1     A\n",
       "   2 │     2     3.4   No2     B\n",
       "   3 │     3     5.67  No3     C"
      ]
     },
     "execution_count": 96,
     "metadata": {},
     "output_type": "execute_result"
    }
   ],
   "source": [
    "insertcols!(df1, 2, :col2 => [1.2, 3.4, 5.67], :col3 => [\"No1\", \"No2\", \"No3\"])"
   ]
  },
  {
   "cell_type": "markdown",
   "id": "e5f888ad-1817-4111-8cb1-ac6b38612905",
   "metadata": {},
   "source": [
    "# 20.　データフレームの要素から新しいデータフレームを作る"
   ]
  },
  {
   "cell_type": "code",
   "execution_count": 97,
   "id": "bcf21515-85e3-4504-bcdc-422cf3f317fa",
   "metadata": {},
   "outputs": [
    {
     "data": {
      "text/html": [
       "<div class=\"data-frame\"><p>3 rows × 6 columns</p><table class=\"data-frame\"><thead><tr><th></th><th>Ozone</th><th>Solar_R</th><th>Wind</th><th>Temp</th><th>Month</th><th>Day</th></tr><tr><th></th><th title=\"Union{Missing, Int64}\">Int64?</th><th title=\"Union{Missing, Int64}\">Int64?</th><th title=\"Float64\">Float64</th><th title=\"Int64\">Int64</th><th title=\"Int64\">Int64</th><th title=\"Int64\">Int64</th></tr></thead><tbody><tr><th>1</th><td>41</td><td>190</td><td>7.4</td><td>67</td><td>5</td><td>1</td></tr><tr><th>2</th><td>36</td><td>118</td><td>8.0</td><td>72</td><td>5</td><td>2</td></tr><tr><th>3</th><td>12</td><td>149</td><td>12.6</td><td>74</td><td>5</td><td>3</td></tr></tbody></table></div>"
      ],
      "text/latex": [
       "\\begin{tabular}{r|cccccc}\n",
       "\t& Ozone & Solar\\_R & Wind & Temp & Month & Day\\\\\n",
       "\t\\hline\n",
       "\t& Int64? & Int64? & Float64 & Int64 & Int64 & Int64\\\\\n",
       "\t\\hline\n",
       "\t1 & 41 & 190 & 7.4 & 67 & 5 & 1 \\\\\n",
       "\t2 & 36 & 118 & 8.0 & 72 & 5 & 2 \\\\\n",
       "\t3 & 12 & 149 & 12.6 & 74 & 5 & 3 \\\\\n",
       "\\end{tabular}\n"
      ],
      "text/plain": [
       "\u001b[1m3×6 DataFrame\u001b[0m\n",
       "\u001b[1m Row \u001b[0m│\u001b[1m Ozone  \u001b[0m\u001b[1m Solar_R \u001b[0m\u001b[1m Wind    \u001b[0m\u001b[1m Temp  \u001b[0m\u001b[1m Month \u001b[0m\u001b[1m Day   \u001b[0m\n",
       "\u001b[1m     \u001b[0m│\u001b[90m Int64? \u001b[0m\u001b[90m Int64?  \u001b[0m\u001b[90m Float64 \u001b[0m\u001b[90m Int64 \u001b[0m\u001b[90m Int64 \u001b[0m\u001b[90m Int64 \u001b[0m\n",
       "─────┼───────────────────────────────────────────────\n",
       "   1 │     41      190      7.4     67      5      1\n",
       "   2 │     36      118      8.0     72      5      2\n",
       "   3 │     12      149     12.6     74      5      3"
      ]
     },
     "execution_count": 97,
     "metadata": {},
     "output_type": "execute_result"
    }
   ],
   "source": [
    "first(airquality, 3)"
   ]
  },
  {
   "cell_type": "markdown",
   "id": "f84f1c5f-5086-4f03-b60e-68dbe89678be",
   "metadata": {},
   "source": [
    "`:Wind` は mile/hour, `:Temp` は 華氏温度なので，それぞれ m/sec，摂氏温度に変換し，名前もつける。\n",
    "\n",
    "`x -> 0.4470389x`，`x -> 5(x.-32)/9` は無名関数"
   ]
  },
  {
   "cell_type": "code",
   "execution_count": 98,
   "id": "8fe0b1b0-d983-48a2-8a8f-25d3d6bd44e2",
   "metadata": {},
   "outputs": [
    {
     "data": {
      "text/html": [
       "<div class=\"data-frame\"><p>3 rows × 2 columns</p><table class=\"data-frame\"><thead><tr><th></th><th>m_by_sec</th><th>℃</th></tr><tr><th></th><th title=\"Float64\">Float64</th><th title=\"Float64\">Float64</th></tr></thead><tbody><tr><th>1</th><td>3.30809</td><td>19.4444</td></tr><tr><th>2</th><td>3.57631</td><td>22.2222</td></tr><tr><th>3</th><td>5.63269</td><td>23.3333</td></tr></tbody></table></div>"
      ],
      "text/latex": [
       "\\begin{tabular}{r|cc}\n",
       "\t& m\\_by\\_sec & ℃\\\\\n",
       "\t\\hline\n",
       "\t& Float64 & Float64\\\\\n",
       "\t\\hline\n",
       "\t1 & 3.30809 & 19.4444 \\\\\n",
       "\t2 & 3.57631 & 22.2222 \\\\\n",
       "\t3 & 5.63269 & 23.3333 \\\\\n",
       "\\end{tabular}\n"
      ],
      "text/plain": [
       "\u001b[1m3×2 DataFrame\u001b[0m\n",
       "\u001b[1m Row \u001b[0m│\u001b[1m m_by_sec \u001b[0m\u001b[1m ℃       \u001b[0m\n",
       "\u001b[1m     \u001b[0m│\u001b[90m Float64  \u001b[0m\u001b[90m Float64 \u001b[0m\n",
       "─────┼───────────────────\n",
       "   1 │  3.30809  19.4444\n",
       "   2 │  3.57631  22.2222\n",
       "   3 │  5.63269  23.3333"
      ]
     },
     "execution_count": 98,
     "metadata": {},
     "output_type": "execute_result"
    }
   ],
   "source": [
    "df = combine(airquality, :Wind => (x -> 0.4470389x) => :m_by_sec, \"Temp\" => (x -> 5(x.-32)/9) => :℃)\n",
    "first(df, 3)"
   ]
  },
  {
   "cell_type": "markdown",
   "id": "75aa1557-03be-4c82-8385-5003f2803cba",
   "metadata": {},
   "source": [
    "# 21.　データフレームの各列に関数を施す\n",
    "\n",
    "`mapcols()`/`mapcols!()` の第 1 引数は関数または無名関数である。その関数をデータフレームの各列に適用する。\n",
    "\n",
    "`mapcols()` は元のデータフレームは元のまままで。結果を利用したい場合はデータフレームに代入しなければならない。\n",
    "\n",
    "`mapcols!()` はインプレースで列の変更が行われるので代入は不要であるが，データフレームを書き換えてはいけない場合には注意が必要である。"
   ]
  },
  {
   "cell_type": "code",
   "execution_count": 99,
   "id": "6a69c953-dfc3-463c-a1ad-b0b2609a28e1",
   "metadata": {},
   "outputs": [
    {
     "data": {
      "text/html": [
       "<div class=\"data-frame\"><p>4 rows × 2 columns</p><table class=\"data-frame\"><thead><tr><th></th><th>x</th><th>y</th></tr><tr><th></th><th title=\"Int64\">Int64</th><th title=\"Int64\">Int64</th></tr></thead><tbody><tr><th>1</th><td>1</td><td>11</td></tr><tr><th>2</th><td>2</td><td>12</td></tr><tr><th>3</th><td>3</td><td>13</td></tr><tr><th>4</th><td>4</td><td>14</td></tr></tbody></table></div>"
      ],
      "text/latex": [
       "\\begin{tabular}{r|cc}\n",
       "\t& x & y\\\\\n",
       "\t\\hline\n",
       "\t& Int64 & Int64\\\\\n",
       "\t\\hline\n",
       "\t1 & 1 & 11 \\\\\n",
       "\t2 & 2 & 12 \\\\\n",
       "\t3 & 3 & 13 \\\\\n",
       "\t4 & 4 & 14 \\\\\n",
       "\\end{tabular}\n"
      ],
      "text/plain": [
       "\u001b[1m4×2 DataFrame\u001b[0m\n",
       "\u001b[1m Row \u001b[0m│\u001b[1m x     \u001b[0m\u001b[1m y     \u001b[0m\n",
       "\u001b[1m     \u001b[0m│\u001b[90m Int64 \u001b[0m\u001b[90m Int64 \u001b[0m\n",
       "─────┼──────────────\n",
       "   1 │     1     11\n",
       "   2 │     2     12\n",
       "   3 │     3     13\n",
       "   4 │     4     14"
      ]
     },
     "execution_count": 99,
     "metadata": {},
     "output_type": "execute_result"
    }
   ],
   "source": [
    "df = DataFrame(x = 1:4, y = 11:14)"
   ]
  },
  {
   "cell_type": "code",
   "execution_count": 100,
   "id": "41db4e02-f35d-4d75-bfda-2ecbc2c3558d",
   "metadata": {},
   "outputs": [
    {
     "data": {
      "text/html": [
       "<div class=\"data-frame\"><p>4 rows × 2 columns</p><table class=\"data-frame\"><thead><tr><th></th><th>x</th><th>y</th></tr><tr><th></th><th title=\"Int64\">Int64</th><th title=\"Int64\">Int64</th></tr></thead><tbody><tr><th>1</th><td>1</td><td>11</td></tr><tr><th>2</th><td>2</td><td>12</td></tr><tr><th>3</th><td>3</td><td>13</td></tr><tr><th>4</th><td>4</td><td>14</td></tr></tbody></table></div>"
      ],
      "text/latex": [
       "\\begin{tabular}{r|cc}\n",
       "\t& x & y\\\\\n",
       "\t\\hline\n",
       "\t& Int64 & Int64\\\\\n",
       "\t\\hline\n",
       "\t1 & 1 & 11 \\\\\n",
       "\t2 & 2 & 12 \\\\\n",
       "\t3 & 3 & 13 \\\\\n",
       "\t4 & 4 & 14 \\\\\n",
       "\\end{tabular}\n"
      ],
      "text/plain": [
       "\u001b[1m4×2 DataFrame\u001b[0m\n",
       "\u001b[1m Row \u001b[0m│\u001b[1m x     \u001b[0m\u001b[1m y     \u001b[0m\n",
       "\u001b[1m     \u001b[0m│\u001b[90m Int64 \u001b[0m\u001b[90m Int64 \u001b[0m\n",
       "─────┼──────────────\n",
       "   1 │     1     11\n",
       "   2 │     2     12\n",
       "   3 │     3     13\n",
       "   4 │     4     14"
      ]
     },
     "execution_count": 100,
     "metadata": {},
     "output_type": "execute_result"
    }
   ],
   "source": [
    "mapcols(a -> a.^2, df) # df は元のまま。利用したければデータフレームに代入する\n",
    "df"
   ]
  },
  {
   "cell_type": "code",
   "execution_count": 101,
   "id": "c31d1e3e-9e2d-4956-be5b-c40cf1d72e39",
   "metadata": {},
   "outputs": [
    {
     "data": {
      "text/html": [
       "<div class=\"data-frame\"><p>4 rows × 2 columns</p><table class=\"data-frame\"><thead><tr><th></th><th>x</th><th>y</th></tr><tr><th></th><th title=\"Int64\">Int64</th><th title=\"Int64\">Int64</th></tr></thead><tbody><tr><th>1</th><td>1</td><td>121</td></tr><tr><th>2</th><td>4</td><td>144</td></tr><tr><th>3</th><td>9</td><td>169</td></tr><tr><th>4</th><td>16</td><td>196</td></tr></tbody></table></div>"
      ],
      "text/latex": [
       "\\begin{tabular}{r|cc}\n",
       "\t& x & y\\\\\n",
       "\t\\hline\n",
       "\t& Int64 & Int64\\\\\n",
       "\t\\hline\n",
       "\t1 & 1 & 121 \\\\\n",
       "\t2 & 4 & 144 \\\\\n",
       "\t3 & 9 & 169 \\\\\n",
       "\t4 & 16 & 196 \\\\\n",
       "\\end{tabular}\n"
      ],
      "text/plain": [
       "\u001b[1m4×2 DataFrame\u001b[0m\n",
       "\u001b[1m Row \u001b[0m│\u001b[1m x     \u001b[0m\u001b[1m y     \u001b[0m\n",
       "\u001b[1m     \u001b[0m│\u001b[90m Int64 \u001b[0m\u001b[90m Int64 \u001b[0m\n",
       "─────┼──────────────\n",
       "   1 │     1    121\n",
       "   2 │     4    144\n",
       "   3 │     9    169\n",
       "   4 │    16    196"
      ]
     },
     "execution_count": 101,
     "metadata": {},
     "output_type": "execute_result"
    }
   ],
   "source": [
    "df2 = mapcols(a -> a.^2, df) # df は元のまま。利用したければデータフレームに代入する\n",
    "df2"
   ]
  },
  {
   "cell_type": "code",
   "execution_count": 102,
   "id": "9d6bd98d-b568-4316-8146-c3b1f0dc2b05",
   "metadata": {},
   "outputs": [
    {
     "data": {
      "text/html": [
       "<div class=\"data-frame\"><p>4 rows × 2 columns</p><table class=\"data-frame\"><thead><tr><th></th><th>x</th><th>y</th></tr><tr><th></th><th title=\"Int64\">Int64</th><th title=\"Int64\">Int64</th></tr></thead><tbody><tr><th>1</th><td>1</td><td>121</td></tr><tr><th>2</th><td>4</td><td>144</td></tr><tr><th>3</th><td>9</td><td>169</td></tr><tr><th>4</th><td>16</td><td>196</td></tr></tbody></table></div>"
      ],
      "text/latex": [
       "\\begin{tabular}{r|cc}\n",
       "\t& x & y\\\\\n",
       "\t\\hline\n",
       "\t& Int64 & Int64\\\\\n",
       "\t\\hline\n",
       "\t1 & 1 & 121 \\\\\n",
       "\t2 & 4 & 144 \\\\\n",
       "\t3 & 9 & 169 \\\\\n",
       "\t4 & 16 & 196 \\\\\n",
       "\\end{tabular}\n"
      ],
      "text/plain": [
       "\u001b[1m4×2 DataFrame\u001b[0m\n",
       "\u001b[1m Row \u001b[0m│\u001b[1m x     \u001b[0m\u001b[1m y     \u001b[0m\n",
       "\u001b[1m     \u001b[0m│\u001b[90m Int64 \u001b[0m\u001b[90m Int64 \u001b[0m\n",
       "─────┼──────────────\n",
       "   1 │     1    121\n",
       "   2 │     4    144\n",
       "   3 │     9    169\n",
       "   4 │    16    196"
      ]
     },
     "execution_count": 102,
     "metadata": {},
     "output_type": "execute_result"
    }
   ],
   "source": [
    "mapcols!(a -> a.^2, df) # インプレースで関数が適用され，df は破壊される\n",
    "df"
   ]
  },
  {
   "cell_type": "markdown",
   "id": "f340d253-c85d-4e27-ab33-c4990b3e3cd3",
   "metadata": {},
   "source": [
    "# 22.　ソート（並べ替え）"
   ]
  },
  {
   "cell_type": "code",
   "execution_count": 103,
   "id": "9bf874c6-9f40-4aaf-959c-a04c5dd49d43",
   "metadata": {},
   "outputs": [
    {
     "data": {
      "text/html": [
       "<div class=\"data-frame\"><p>6 rows × 5 columns</p><table class=\"data-frame\"><thead><tr><th></th><th>a</th><th>b</th><th>c</th><th>d</th><th>name</th></tr><tr><th></th><th title=\"Int64\">Int64</th><th title=\"Int64\">Int64</th><th title=\"Int64\">Int64</th><th title=\"Int64\">Int64</th><th title=\"Char\">Char</th></tr></thead><tbody><tr><th>1</th><td>1</td><td>1</td><td>11</td><td>21</td><td>f</td></tr><tr><th>2</th><td>1</td><td>2</td><td>12</td><td>-22</td><td>e</td></tr><tr><th>3</th><td>2</td><td>1</td><td>13</td><td>-23</td><td>d</td></tr><tr><th>4</th><td>2</td><td>2</td><td>14</td><td>24</td><td>c</td></tr><tr><th>5</th><td>3</td><td>4</td><td>15</td><td>25</td><td>b</td></tr><tr><th>6</th><td>3</td><td>3</td><td>16</td><td>26</td><td>a</td></tr></tbody></table></div>"
      ],
      "text/latex": [
       "\\begin{tabular}{r|ccccc}\n",
       "\t& a & b & c & d & name\\\\\n",
       "\t\\hline\n",
       "\t& Int64 & Int64 & Int64 & Int64 & Char\\\\\n",
       "\t\\hline\n",
       "\t1 & 1 & 1 & 11 & 21 & f \\\\\n",
       "\t2 & 1 & 2 & 12 & -22 & e \\\\\n",
       "\t3 & 2 & 1 & 13 & -23 & d \\\\\n",
       "\t4 & 2 & 2 & 14 & 24 & c \\\\\n",
       "\t5 & 3 & 4 & 15 & 25 & b \\\\\n",
       "\t6 & 3 & 3 & 16 & 26 & a \\\\\n",
       "\\end{tabular}\n"
      ],
      "text/plain": [
       "\u001b[1m6×5 DataFrame\u001b[0m\n",
       "\u001b[1m Row \u001b[0m│\u001b[1m a     \u001b[0m\u001b[1m b     \u001b[0m\u001b[1m c     \u001b[0m\u001b[1m d     \u001b[0m\u001b[1m name \u001b[0m\n",
       "\u001b[1m     \u001b[0m│\u001b[90m Int64 \u001b[0m\u001b[90m Int64 \u001b[0m\u001b[90m Int64 \u001b[0m\u001b[90m Int64 \u001b[0m\u001b[90m Char \u001b[0m\n",
       "─────┼──────────────────────────────────\n",
       "   1 │     1      1     11     21  f\n",
       "   2 │     1      2     12    -22  e\n",
       "   3 │     2      1     13    -23  d\n",
       "   4 │     2      2     14     24  c\n",
       "   5 │     3      4     15     25  b\n",
       "   6 │     3      3     16     26  a"
      ]
     },
     "execution_count": 103,
     "metadata": {},
     "output_type": "execute_result"
    }
   ],
   "source": [
    "df = DataFrame(a = [1,1,2,2,3,3], b = [1,2,1,2,4,3],\n",
    "    c = [11,12,13,14,15,16], d = [21,-22,-23,24,25,26],\n",
    "    name = 'f':-1:'a')"
   ]
  },
  {
   "cell_type": "markdown",
   "id": "060c4b87-d28e-4a20-9d32-6951c0ea7928",
   "metadata": {},
   "source": [
    "## 22.1.　ソートされているかをチェックする"
   ]
  },
  {
   "cell_type": "code",
   "execution_count": 104,
   "id": "08aa3b17-ee55-4d2a-9dba-e0ce0cc67d18",
   "metadata": {},
   "outputs": [
    {
     "data": {
      "text/plain": [
       "false"
      ]
     },
     "execution_count": 104,
     "metadata": {},
     "output_type": "execute_result"
    }
   ],
   "source": [
    "issorted(df, :name) # :name 列は昇順にソートされているか？（降順にソートされているので false）"
   ]
  },
  {
   "cell_type": "code",
   "execution_count": 105,
   "id": "722f4cf0-cba0-4fa1-ae21-ae70d1d2068b",
   "metadata": {},
   "outputs": [
    {
     "data": {
      "text/plain": [
       "true"
      ]
     },
     "execution_count": 105,
     "metadata": {},
     "output_type": "execute_result"
    }
   ],
   "source": [
    "issorted(df, 3) # 3 列目は昇順にソートされているか？ true"
   ]
  },
  {
   "cell_type": "markdown",
   "id": "d9c7c3fd-d3b4-4cdb-a4f8-5906af74a50d",
   "metadata": {},
   "source": [
    "## 22.2.　ソートの順番を決める\n",
    "\n",
    "`sort!()` はインプレースでソートされる。"
   ]
  },
  {
   "cell_type": "code",
   "execution_count": 106,
   "id": "d15f5691-9e96-42a9-b163-ea9c8a095f62",
   "metadata": {},
   "outputs": [
    {
     "data": {
      "text/html": [
       "<div class=\"data-frame\"><p>6 rows × 5 columns</p><table class=\"data-frame\"><thead><tr><th></th><th>a</th><th>b</th><th>c</th><th>d</th><th>name</th></tr><tr><th></th><th title=\"Int64\">Int64</th><th title=\"Int64\">Int64</th><th title=\"Int64\">Int64</th><th title=\"Int64\">Int64</th><th title=\"Char\">Char</th></tr></thead><tbody><tr><th>1</th><td>3</td><td>3</td><td>16</td><td>26</td><td>a</td></tr><tr><th>2</th><td>3</td><td>4</td><td>15</td><td>25</td><td>b</td></tr><tr><th>3</th><td>2</td><td>2</td><td>14</td><td>24</td><td>c</td></tr><tr><th>4</th><td>2</td><td>1</td><td>13</td><td>-23</td><td>d</td></tr><tr><th>5</th><td>1</td><td>2</td><td>12</td><td>-22</td><td>e</td></tr><tr><th>6</th><td>1</td><td>1</td><td>11</td><td>21</td><td>f</td></tr></tbody></table></div>"
      ],
      "text/latex": [
       "\\begin{tabular}{r|ccccc}\n",
       "\t& a & b & c & d & name\\\\\n",
       "\t\\hline\n",
       "\t& Int64 & Int64 & Int64 & Int64 & Char\\\\\n",
       "\t\\hline\n",
       "\t1 & 3 & 3 & 16 & 26 & a \\\\\n",
       "\t2 & 3 & 4 & 15 & 25 & b \\\\\n",
       "\t3 & 2 & 2 & 14 & 24 & c \\\\\n",
       "\t4 & 2 & 1 & 13 & -23 & d \\\\\n",
       "\t5 & 1 & 2 & 12 & -22 & e \\\\\n",
       "\t6 & 1 & 1 & 11 & 21 & f \\\\\n",
       "\\end{tabular}\n"
      ],
      "text/plain": [
       "\u001b[1m6×5 DataFrame\u001b[0m\n",
       "\u001b[1m Row \u001b[0m│\u001b[1m a     \u001b[0m\u001b[1m b     \u001b[0m\u001b[1m c     \u001b[0m\u001b[1m d     \u001b[0m\u001b[1m name \u001b[0m\n",
       "\u001b[1m     \u001b[0m│\u001b[90m Int64 \u001b[0m\u001b[90m Int64 \u001b[0m\u001b[90m Int64 \u001b[0m\u001b[90m Int64 \u001b[0m\u001b[90m Char \u001b[0m\n",
       "─────┼──────────────────────────────────\n",
       "   1 │     3      3     16     26  a\n",
       "   2 │     3      4     15     25  b\n",
       "   3 │     2      2     14     24  c\n",
       "   4 │     2      1     13    -23  d\n",
       "   5 │     1      2     12    -22  e\n",
       "   6 │     1      1     11     21  f"
      ]
     },
     "execution_count": 106,
     "metadata": {},
     "output_type": "execute_result"
    }
   ],
   "source": [
    "sort(df, order(:name)) # :name を昇順にソート"
   ]
  },
  {
   "cell_type": "code",
   "execution_count": 107,
   "id": "adc7830b-636d-4e2e-b1bf-e2e62e5299d6",
   "metadata": {},
   "outputs": [
    {
     "data": {
      "text/html": [
       "<div class=\"data-frame\"><p>6 rows × 5 columns</p><table class=\"data-frame\"><thead><tr><th></th><th>a</th><th>b</th><th>c</th><th>d</th><th>name</th></tr><tr><th></th><th title=\"Int64\">Int64</th><th title=\"Int64\">Int64</th><th title=\"Int64\">Int64</th><th title=\"Int64\">Int64</th><th title=\"Char\">Char</th></tr></thead><tbody><tr><th>1</th><td>3</td><td>4</td><td>15</td><td>25</td><td>b</td></tr><tr><th>2</th><td>3</td><td>3</td><td>16</td><td>26</td><td>a</td></tr><tr><th>3</th><td>1</td><td>2</td><td>12</td><td>-22</td><td>e</td></tr><tr><th>4</th><td>2</td><td>2</td><td>14</td><td>24</td><td>c</td></tr><tr><th>5</th><td>1</td><td>1</td><td>11</td><td>21</td><td>f</td></tr><tr><th>6</th><td>2</td><td>1</td><td>13</td><td>-23</td><td>d</td></tr></tbody></table></div>"
      ],
      "text/latex": [
       "\\begin{tabular}{r|ccccc}\n",
       "\t& a & b & c & d & name\\\\\n",
       "\t\\hline\n",
       "\t& Int64 & Int64 & Int64 & Int64 & Char\\\\\n",
       "\t\\hline\n",
       "\t1 & 3 & 4 & 15 & 25 & b \\\\\n",
       "\t2 & 3 & 3 & 16 & 26 & a \\\\\n",
       "\t3 & 1 & 2 & 12 & -22 & e \\\\\n",
       "\t4 & 2 & 2 & 14 & 24 & c \\\\\n",
       "\t5 & 1 & 1 & 11 & 21 & f \\\\\n",
       "\t6 & 2 & 1 & 13 & -23 & d \\\\\n",
       "\\end{tabular}\n"
      ],
      "text/plain": [
       "\u001b[1m6×5 DataFrame\u001b[0m\n",
       "\u001b[1m Row \u001b[0m│\u001b[1m a     \u001b[0m\u001b[1m b     \u001b[0m\u001b[1m c     \u001b[0m\u001b[1m d     \u001b[0m\u001b[1m name \u001b[0m\n",
       "\u001b[1m     \u001b[0m│\u001b[90m Int64 \u001b[0m\u001b[90m Int64 \u001b[0m\u001b[90m Int64 \u001b[0m\u001b[90m Int64 \u001b[0m\u001b[90m Char \u001b[0m\n",
       "─────┼──────────────────────────────────\n",
       "   1 │     3      4     15     25  b\n",
       "   2 │     3      3     16     26  a\n",
       "   3 │     1      2     12    -22  e\n",
       "   4 │     2      2     14     24  c\n",
       "   5 │     1      1     11     21  f\n",
       "   6 │     2      1     13    -23  d"
      ]
     },
     "execution_count": 107,
     "metadata": {},
     "output_type": "execute_result"
    }
   ],
   "source": [
    "sort(df, order(:b, rev=true)) # :b 列を降順にソート"
   ]
  },
  {
   "cell_type": "code",
   "execution_count": 108,
   "id": "e41474fb-bd29-4ecc-bfb4-0d1b89f79270",
   "metadata": {},
   "outputs": [
    {
     "data": {
      "text/html": [
       "<div class=\"data-frame\"><p>6 rows × 5 columns</p><table class=\"data-frame\"><thead><tr><th></th><th>a</th><th>b</th><th>c</th><th>d</th><th>name</th></tr><tr><th></th><th title=\"Int64\">Int64</th><th title=\"Int64\">Int64</th><th title=\"Int64\">Int64</th><th title=\"Int64\">Int64</th><th title=\"Char\">Char</th></tr></thead><tbody><tr><th>1</th><td>1</td><td>1</td><td>11</td><td>21</td><td>f</td></tr><tr><th>2</th><td>1</td><td>2</td><td>12</td><td>-22</td><td>e</td></tr><tr><th>3</th><td>2</td><td>1</td><td>13</td><td>-23</td><td>d</td></tr><tr><th>4</th><td>2</td><td>2</td><td>14</td><td>24</td><td>c</td></tr><tr><th>5</th><td>3</td><td>4</td><td>15</td><td>25</td><td>b</td></tr><tr><th>6</th><td>3</td><td>3</td><td>16</td><td>26</td><td>a</td></tr></tbody></table></div>"
      ],
      "text/latex": [
       "\\begin{tabular}{r|ccccc}\n",
       "\t& a & b & c & d & name\\\\\n",
       "\t\\hline\n",
       "\t& Int64 & Int64 & Int64 & Int64 & Char\\\\\n",
       "\t\\hline\n",
       "\t1 & 1 & 1 & 11 & 21 & f \\\\\n",
       "\t2 & 1 & 2 & 12 & -22 & e \\\\\n",
       "\t3 & 2 & 1 & 13 & -23 & d \\\\\n",
       "\t4 & 2 & 2 & 14 & 24 & c \\\\\n",
       "\t5 & 3 & 4 & 15 & 25 & b \\\\\n",
       "\t6 & 3 & 3 & 16 & 26 & a \\\\\n",
       "\\end{tabular}\n"
      ],
      "text/plain": [
       "\u001b[1m6×5 DataFrame\u001b[0m\n",
       "\u001b[1m Row \u001b[0m│\u001b[1m a     \u001b[0m\u001b[1m b     \u001b[0m\u001b[1m c     \u001b[0m\u001b[1m d     \u001b[0m\u001b[1m name \u001b[0m\n",
       "\u001b[1m     \u001b[0m│\u001b[90m Int64 \u001b[0m\u001b[90m Int64 \u001b[0m\u001b[90m Int64 \u001b[0m\u001b[90m Int64 \u001b[0m\u001b[90m Char \u001b[0m\n",
       "─────┼──────────────────────────────────\n",
       "   1 │     1      1     11     21  f\n",
       "   2 │     1      2     12    -22  e\n",
       "   3 │     2      1     13    -23  d\n",
       "   4 │     2      2     14     24  c\n",
       "   5 │     3      4     15     25  b\n",
       "   6 │     3      3     16     26  a"
      ]
     },
     "execution_count": 108,
     "metadata": {},
     "output_type": "execute_result"
    }
   ],
   "source": [
    "sort(df, order(:d, by=abs)) # :d 列の絶対値をとって降順にソート"
   ]
  },
  {
   "cell_type": "markdown",
   "id": "427bc3cc-123f-4d99-b436-bfbaed553607",
   "metadata": {},
   "source": [
    "## 22.3.　並べ替えベクトルを返す"
   ]
  },
  {
   "cell_type": "code",
   "execution_count": 109,
   "id": "4b0b7540-b29b-4b3b-bd90-366dac50f204",
   "metadata": {},
   "outputs": [
    {
     "name": "stdout",
     "output_type": "stream",
     "text": [
      "[3, 2, 1, 4, 5, 6]\n"
     ]
    }
   ],
   "source": [
    "o = sortperm(df, :d)\n",
    "o |> println"
   ]
  },
  {
   "cell_type": "markdown",
   "id": "89c2044b-8187-4d90-85dd-f61108738c23",
   "metadata": {},
   "source": [
    "`sortperm()` で求めたベクトルに基づいて，ソートすることができる。"
   ]
  },
  {
   "cell_type": "code",
   "execution_count": 110,
   "id": "833a46ed-43aa-4499-82c1-4d6a1ef38fdc",
   "metadata": {},
   "outputs": [
    {
     "data": {
      "text/html": [
       "<div class=\"data-frame\"><p>6 rows × 5 columns</p><table class=\"data-frame\"><thead><tr><th></th><th>a</th><th>b</th><th>c</th><th>d</th><th>name</th></tr><tr><th></th><th title=\"Int64\">Int64</th><th title=\"Int64\">Int64</th><th title=\"Int64\">Int64</th><th title=\"Int64\">Int64</th><th title=\"Char\">Char</th></tr></thead><tbody><tr><th>1</th><td>2</td><td>1</td><td>13</td><td>-23</td><td>d</td></tr><tr><th>2</th><td>1</td><td>2</td><td>12</td><td>-22</td><td>e</td></tr><tr><th>3</th><td>1</td><td>1</td><td>11</td><td>21</td><td>f</td></tr><tr><th>4</th><td>2</td><td>2</td><td>14</td><td>24</td><td>c</td></tr><tr><th>5</th><td>3</td><td>4</td><td>15</td><td>25</td><td>b</td></tr><tr><th>6</th><td>3</td><td>3</td><td>16</td><td>26</td><td>a</td></tr></tbody></table></div>"
      ],
      "text/latex": [
       "\\begin{tabular}{r|ccccc}\n",
       "\t& a & b & c & d & name\\\\\n",
       "\t\\hline\n",
       "\t& Int64 & Int64 & Int64 & Int64 & Char\\\\\n",
       "\t\\hline\n",
       "\t1 & 2 & 1 & 13 & -23 & d \\\\\n",
       "\t2 & 1 & 2 & 12 & -22 & e \\\\\n",
       "\t3 & 1 & 1 & 11 & 21 & f \\\\\n",
       "\t4 & 2 & 2 & 14 & 24 & c \\\\\n",
       "\t5 & 3 & 4 & 15 & 25 & b \\\\\n",
       "\t6 & 3 & 3 & 16 & 26 & a \\\\\n",
       "\\end{tabular}\n"
      ],
      "text/plain": [
       "\u001b[1m6×5 DataFrame\u001b[0m\n",
       "\u001b[1m Row \u001b[0m│\u001b[1m a     \u001b[0m\u001b[1m b     \u001b[0m\u001b[1m c     \u001b[0m\u001b[1m d     \u001b[0m\u001b[1m name \u001b[0m\n",
       "\u001b[1m     \u001b[0m│\u001b[90m Int64 \u001b[0m\u001b[90m Int64 \u001b[0m\u001b[90m Int64 \u001b[0m\u001b[90m Int64 \u001b[0m\u001b[90m Char \u001b[0m\n",
       "─────┼──────────────────────────────────\n",
       "   1 │     2      1     13    -23  d\n",
       "   2 │     1      2     12    -22  e\n",
       "   3 │     1      1     11     21  f\n",
       "   4 │     2      2     14     24  c\n",
       "   5 │     3      4     15     25  b\n",
       "   6 │     3      3     16     26  a"
      ]
     },
     "execution_count": 110,
     "metadata": {},
     "output_type": "execute_result"
    }
   ],
   "source": [
    "df[o, :]"
   ]
  },
  {
   "cell_type": "code",
   "execution_count": 111,
   "id": "78ebcba1-ad91-4d2c-9b27-f8d80e991dea",
   "metadata": {},
   "outputs": [
    {
     "data": {
      "text/html": [
       "<div class=\"data-frame\"><p>6 rows × 5 columns</p><table class=\"data-frame\"><thead><tr><th></th><th>a</th><th>b</th><th>c</th><th>d</th><th>name</th></tr><tr><th></th><th title=\"Int64\">Int64</th><th title=\"Int64\">Int64</th><th title=\"Int64\">Int64</th><th title=\"Int64\">Int64</th><th title=\"Char\">Char</th></tr></thead><tbody><tr><th>1</th><td>2</td><td>1</td><td>13</td><td>-23</td><td>d</td></tr><tr><th>2</th><td>1</td><td>2</td><td>12</td><td>-22</td><td>e</td></tr><tr><th>3</th><td>1</td><td>1</td><td>11</td><td>21</td><td>f</td></tr><tr><th>4</th><td>2</td><td>2</td><td>14</td><td>24</td><td>c</td></tr><tr><th>5</th><td>3</td><td>4</td><td>15</td><td>25</td><td>b</td></tr><tr><th>6</th><td>3</td><td>3</td><td>16</td><td>26</td><td>a</td></tr></tbody></table></div>"
      ],
      "text/latex": [
       "\\begin{tabular}{r|ccccc}\n",
       "\t& a & b & c & d & name\\\\\n",
       "\t\\hline\n",
       "\t& Int64 & Int64 & Int64 & Int64 & Char\\\\\n",
       "\t\\hline\n",
       "\t1 & 2 & 1 & 13 & -23 & d \\\\\n",
       "\t2 & 1 & 2 & 12 & -22 & e \\\\\n",
       "\t3 & 1 & 1 & 11 & 21 & f \\\\\n",
       "\t4 & 2 & 2 & 14 & 24 & c \\\\\n",
       "\t5 & 3 & 4 & 15 & 25 & b \\\\\n",
       "\t6 & 3 & 3 & 16 & 26 & a \\\\\n",
       "\\end{tabular}\n"
      ],
      "text/plain": [
       "\u001b[1m6×5 DataFrame\u001b[0m\n",
       "\u001b[1m Row \u001b[0m│\u001b[1m a     \u001b[0m\u001b[1m b     \u001b[0m\u001b[1m c     \u001b[0m\u001b[1m d     \u001b[0m\u001b[1m name \u001b[0m\n",
       "\u001b[1m     \u001b[0m│\u001b[90m Int64 \u001b[0m\u001b[90m Int64 \u001b[0m\u001b[90m Int64 \u001b[0m\u001b[90m Int64 \u001b[0m\u001b[90m Char \u001b[0m\n",
       "─────┼──────────────────────────────────\n",
       "   1 │     2      1     13    -23  d\n",
       "   2 │     1      2     12    -22  e\n",
       "   3 │     1      1     11     21  f\n",
       "   4 │     2      2     14     24  c\n",
       "   5 │     3      4     15     25  b\n",
       "   6 │     3      3     16     26  a"
      ]
     },
     "execution_count": 111,
     "metadata": {},
     "output_type": "execute_result"
    }
   ],
   "source": [
    "sort(df, :d) # o = sortperm(df, :d); df[o, :] と同じ"
   ]
  },
  {
   "cell_type": "markdown",
   "id": "5a495665-6072-464e-affc-afdc8ea107be",
   "metadata": {},
   "source": [
    "# 23.　行の包含"
   ]
  },
  {
   "cell_type": "code",
   "execution_count": 112,
   "id": "acba7ea9-3ede-4d25-ab31-e9f6819188d0",
   "metadata": {},
   "outputs": [
    {
     "data": {
      "text/html": [
       "<div class=\"data-frame\"><p>3 rows × 2 columns</p><table class=\"data-frame\"><thead><tr><th></th><th>ID</th><th>Name</th></tr><tr><th></th><th title=\"Int64\">Int64</th><th title=\"String\">String</th></tr></thead><tbody><tr><th>1</th><td>1</td><td>Karl Pearson</td></tr><tr><th>2</th><td>2</td><td>Maurice Kendall</td></tr><tr><th>3</th><td>3</td><td>Charles Spearman</td></tr></tbody></table></div>"
      ],
      "text/latex": [
       "\\begin{tabular}{r|cc}\n",
       "\t& ID & Name\\\\\n",
       "\t\\hline\n",
       "\t& Int64 & String\\\\\n",
       "\t\\hline\n",
       "\t1 & 1 & Karl Pearson \\\\\n",
       "\t2 & 2 & Maurice Kendall \\\\\n",
       "\t3 & 3 & Charles Spearman \\\\\n",
       "\\end{tabular}\n"
      ],
      "text/plain": [
       "\u001b[1m3×2 DataFrame\u001b[0m\n",
       "\u001b[1m Row \u001b[0m│\u001b[1m ID    \u001b[0m\u001b[1m Name             \u001b[0m\n",
       "\u001b[1m     \u001b[0m│\u001b[90m Int64 \u001b[0m\u001b[90m String           \u001b[0m\n",
       "─────┼─────────────────────────\n",
       "   1 │     1  Karl Pearson\n",
       "   2 │     2  Maurice Kendall\n",
       "   3 │     3  Charles Spearman"
      ]
     },
     "execution_count": 112,
     "metadata": {},
     "output_type": "execute_result"
    }
   ],
   "source": [
    "df1 = DataFrame(ID = [1, 2, 3], Name = [\"Karl Pearson\", \"Maurice Kendall\", \"Charles Spearman\"])"
   ]
  },
  {
   "cell_type": "code",
   "execution_count": 113,
   "id": "990b6a05-8ace-45e6-acbb-eff95201a16c",
   "metadata": {},
   "outputs": [
    {
     "data": {
      "text/html": [
       "<div class=\"data-frame\"><p>3 rows × 2 columns</p><table class=\"data-frame\"><thead><tr><th></th><th>ID</th><th>Job</th></tr><tr><th></th><th title=\"Int64\">Int64</th><th title=\"String\">String</th></tr></thead><tbody><tr><th>1</th><td>1</td><td>Lawyer</td></tr><tr><th>2</th><td>2</td><td>Doctor</td></tr><tr><th>3</th><td>4</td><td>Farmer</td></tr></tbody></table></div>"
      ],
      "text/latex": [
       "\\begin{tabular}{r|cc}\n",
       "\t& ID & Job\\\\\n",
       "\t\\hline\n",
       "\t& Int64 & String\\\\\n",
       "\t\\hline\n",
       "\t1 & 1 & Lawyer \\\\\n",
       "\t2 & 2 & Doctor \\\\\n",
       "\t3 & 4 & Farmer \\\\\n",
       "\\end{tabular}\n"
      ],
      "text/plain": [
       "\u001b[1m3×2 DataFrame\u001b[0m\n",
       "\u001b[1m Row \u001b[0m│\u001b[1m ID    \u001b[0m\u001b[1m Job    \u001b[0m\n",
       "\u001b[1m     \u001b[0m│\u001b[90m Int64 \u001b[0m\u001b[90m String \u001b[0m\n",
       "─────┼───────────────\n",
       "   1 │     1  Lawyer\n",
       "   2 │     2  Doctor\n",
       "   3 │     4  Farmer"
      ]
     },
     "execution_count": 113,
     "metadata": {},
     "output_type": "execute_result"
    }
   ],
   "source": [
    "df2 = DataFrame(ID = [1, 2, 4], Job = [\"Lawyer\", \"Doctor\", \"Farmer\"])"
   ]
  },
  {
   "cell_type": "markdown",
   "id": "4d443801-ed1d-428c-98f4-ee38654874e2",
   "metadata": {
    "tags": []
   },
   "source": [
    "## 23.1.　`df1` と `df2` のすべての組み合わせを作る `crossjoin`\n",
    "\n",
    "R の `expand.grid` に相当するもの。引数はデータフレームでなければならない。"
   ]
  },
  {
   "cell_type": "code",
   "execution_count": 114,
   "id": "ef5c18bc-4c11-4271-9040-85f345723398",
   "metadata": {},
   "outputs": [
    {
     "data": {
      "text/html": [
       "<div class=\"data-frame\"><p>9 rows × 2 columns</p><table class=\"data-frame\"><thead><tr><th></th><th>a</th><th>b</th></tr><tr><th></th><th title=\"String\">String</th><th title=\"String\">String</th></tr></thead><tbody><tr><th>1</th><td>Karl Pearson</td><td>Lawyer</td></tr><tr><th>2</th><td>Karl Pearson</td><td>Doctor</td></tr><tr><th>3</th><td>Karl Pearson</td><td>Farmer</td></tr><tr><th>4</th><td>Maurice Kendall</td><td>Lawyer</td></tr><tr><th>5</th><td>Maurice Kendall</td><td>Doctor</td></tr><tr><th>6</th><td>Maurice Kendall</td><td>Farmer</td></tr><tr><th>7</th><td>Charles Spearman</td><td>Lawyer</td></tr><tr><th>8</th><td>Charles Spearman</td><td>Doctor</td></tr><tr><th>9</th><td>Charles Spearman</td><td>Farmer</td></tr></tbody></table></div>"
      ],
      "text/latex": [
       "\\begin{tabular}{r|cc}\n",
       "\t& a & b\\\\\n",
       "\t\\hline\n",
       "\t& String & String\\\\\n",
       "\t\\hline\n",
       "\t1 & Karl Pearson & Lawyer \\\\\n",
       "\t2 & Karl Pearson & Doctor \\\\\n",
       "\t3 & Karl Pearson & Farmer \\\\\n",
       "\t4 & Maurice Kendall & Lawyer \\\\\n",
       "\t5 & Maurice Kendall & Doctor \\\\\n",
       "\t6 & Maurice Kendall & Farmer \\\\\n",
       "\t7 & Charles Spearman & Lawyer \\\\\n",
       "\t8 & Charles Spearman & Doctor \\\\\n",
       "\t9 & Charles Spearman & Farmer \\\\\n",
       "\\end{tabular}\n"
      ],
      "text/plain": [
       "\u001b[1m9×2 DataFrame\u001b[0m\n",
       "\u001b[1m Row \u001b[0m│\u001b[1m a                \u001b[0m\u001b[1m b      \u001b[0m\n",
       "\u001b[1m     \u001b[0m│\u001b[90m String           \u001b[0m\u001b[90m String \u001b[0m\n",
       "─────┼──────────────────────────\n",
       "   1 │ Karl Pearson      Lawyer\n",
       "   2 │ Karl Pearson      Doctor\n",
       "   3 │ Karl Pearson      Farmer\n",
       "   4 │ Maurice Kendall   Lawyer\n",
       "   5 │ Maurice Kendall   Doctor\n",
       "   6 │ Maurice Kendall   Farmer\n",
       "   7 │ Charles Spearman  Lawyer\n",
       "   8 │ Charles Spearman  Doctor\n",
       "   9 │ Charles Spearman  Farmer"
      ]
     },
     "execution_count": 114,
     "metadata": {},
     "output_type": "execute_result"
    }
   ],
   "source": [
    "crossjoin(DataFrame(a = df1.Name), DataFrame(b = df2.Job))"
   ]
  },
  {
   "cell_type": "markdown",
   "id": "71e17e4b-fbb2-4869-9c88-21cd2c87e067",
   "metadata": {
    "tags": []
   },
   "source": [
    "## 23.2.　`df1` の行のうち，`df2` に含まれない行を抽出する `antijoin`\n",
    "\n",
    "`on` で指定する行列をキーとして，`df1` の行のうち，`df2` に含まれない行を抽出する"
   ]
  },
  {
   "cell_type": "code",
   "execution_count": 115,
   "id": "e6aea386-5635-46e9-aea3-253f1d185c9a",
   "metadata": {},
   "outputs": [
    {
     "data": {
      "text/html": [
       "<div class=\"data-frame\"><p>1 rows × 2 columns</p><table class=\"data-frame\"><thead><tr><th></th><th>ID</th><th>Name</th></tr><tr><th></th><th title=\"Int64\">Int64</th><th title=\"String\">String</th></tr></thead><tbody><tr><th>1</th><td>3</td><td>Charles Spearman</td></tr></tbody></table></div>"
      ],
      "text/latex": [
       "\\begin{tabular}{r|cc}\n",
       "\t& ID & Name\\\\\n",
       "\t\\hline\n",
       "\t& Int64 & String\\\\\n",
       "\t\\hline\n",
       "\t1 & 3 & Charles Spearman \\\\\n",
       "\\end{tabular}\n"
      ],
      "text/plain": [
       "\u001b[1m1×2 DataFrame\u001b[0m\n",
       "\u001b[1m Row \u001b[0m│\u001b[1m ID    \u001b[0m\u001b[1m Name             \u001b[0m\n",
       "\u001b[1m     \u001b[0m│\u001b[90m Int64 \u001b[0m\u001b[90m String           \u001b[0m\n",
       "─────┼─────────────────────────\n",
       "   1 │     3  Charles Spearman"
      ]
     },
     "execution_count": 115,
     "metadata": {},
     "output_type": "execute_result"
    }
   ],
   "source": [
    "antijoin(df1, df2, on=:ID)"
   ]
  },
  {
   "cell_type": "markdown",
   "id": "f3bb14ed-294a-4e95-864c-35bd623de25a",
   "metadata": {
    "tags": []
   },
   "source": [
    "## 23.3.　`df1` に，`df2` をマージする `innerjoin`\n",
    "\n",
    "`on` で指定する行列をキーとして，`df1` と `df2` に共通する行を取り出す。"
   ]
  },
  {
   "cell_type": "code",
   "execution_count": 116,
   "id": "6a7249a4-db06-4b6b-92af-747120d17c72",
   "metadata": {},
   "outputs": [
    {
     "data": {
      "text/html": [
       "<div class=\"data-frame\"><p>2 rows × 3 columns</p><table class=\"data-frame\"><thead><tr><th></th><th>ID</th><th>Name</th><th>Job</th></tr><tr><th></th><th title=\"Int64\">Int64</th><th title=\"String\">String</th><th title=\"String\">String</th></tr></thead><tbody><tr><th>1</th><td>1</td><td>Karl Pearson</td><td>Lawyer</td></tr><tr><th>2</th><td>2</td><td>Maurice Kendall</td><td>Doctor</td></tr></tbody></table></div>"
      ],
      "text/latex": [
       "\\begin{tabular}{r|ccc}\n",
       "\t& ID & Name & Job\\\\\n",
       "\t\\hline\n",
       "\t& Int64 & String & String\\\\\n",
       "\t\\hline\n",
       "\t1 & 1 & Karl Pearson & Lawyer \\\\\n",
       "\t2 & 2 & Maurice Kendall & Doctor \\\\\n",
       "\\end{tabular}\n"
      ],
      "text/plain": [
       "\u001b[1m2×3 DataFrame\u001b[0m\n",
       "\u001b[1m Row \u001b[0m│\u001b[1m ID    \u001b[0m\u001b[1m Name            \u001b[0m\u001b[1m Job    \u001b[0m\n",
       "\u001b[1m     \u001b[0m│\u001b[90m Int64 \u001b[0m\u001b[90m String          \u001b[0m\u001b[90m String \u001b[0m\n",
       "─────┼────────────────────────────────\n",
       "   1 │     1  Karl Pearson     Lawyer\n",
       "   2 │     2  Maurice Kendall  Doctor"
      ]
     },
     "execution_count": 116,
     "metadata": {},
     "output_type": "execute_result"
    }
   ],
   "source": [
    "innerjoin(df1, df2, on=:ID)"
   ]
  },
  {
   "cell_type": "markdown",
   "id": "3c129940-3a47-41b7-8b58-022f0a863bb1",
   "metadata": {
    "tags": []
   },
   "source": [
    "## 23.4.　`df1` に，`df2` をマージする `leftjoin`\n",
    "\n",
    "`on` で指定する行列をキーとして，`df1` に `df2` をマージする。`df2` にない項目は `missing` になる。"
   ]
  },
  {
   "cell_type": "code",
   "execution_count": 117,
   "id": "40abf266-0d7c-4444-ab6c-89e3d7d90dbd",
   "metadata": {},
   "outputs": [
    {
     "data": {
      "text/html": [
       "<div class=\"data-frame\"><p>3 rows × 3 columns</p><table class=\"data-frame\"><thead><tr><th></th><th>ID</th><th>Name</th><th>Job</th></tr><tr><th></th><th title=\"Int64\">Int64</th><th title=\"String\">String</th><th title=\"Union{Missing, String}\">String?</th></tr></thead><tbody><tr><th>1</th><td>1</td><td>Karl Pearson</td><td>Lawyer</td></tr><tr><th>2</th><td>2</td><td>Maurice Kendall</td><td>Doctor</td></tr><tr><th>3</th><td>3</td><td>Charles Spearman</td><td><em>missing</em></td></tr></tbody></table></div>"
      ],
      "text/latex": [
       "\\begin{tabular}{r|ccc}\n",
       "\t& ID & Name & Job\\\\\n",
       "\t\\hline\n",
       "\t& Int64 & String & String?\\\\\n",
       "\t\\hline\n",
       "\t1 & 1 & Karl Pearson & Lawyer \\\\\n",
       "\t2 & 2 & Maurice Kendall & Doctor \\\\\n",
       "\t3 & 3 & Charles Spearman & \\emph{missing} \\\\\n",
       "\\end{tabular}\n"
      ],
      "text/plain": [
       "\u001b[1m3×3 DataFrame\u001b[0m\n",
       "\u001b[1m Row \u001b[0m│\u001b[1m ID    \u001b[0m\u001b[1m Name             \u001b[0m\u001b[1m Job     \u001b[0m\n",
       "\u001b[1m     \u001b[0m│\u001b[90m Int64 \u001b[0m\u001b[90m String           \u001b[0m\u001b[90m String? \u001b[0m\n",
       "─────┼──────────────────────────────────\n",
       "   1 │     1  Karl Pearson      Lawyer\n",
       "   2 │     2  Maurice Kendall   Doctor\n",
       "   3 │     3  Charles Spearman \u001b[90m missing \u001b[0m"
      ]
     },
     "execution_count": 117,
     "metadata": {},
     "output_type": "execute_result"
    }
   ],
   "source": [
    "leftjoin(df1, df2, on=:ID)"
   ]
  },
  {
   "cell_type": "markdown",
   "id": "fd2ca4db-caa9-421c-ae79-b206d4766192",
   "metadata": {
    "tags": []
   },
   "source": [
    "## 23.5.　`df1` に，`df2` をマージする `outerjoin`\n",
    "\n",
    "`on` で指定する行列をキーとして，`df1` に `df2` をマージする。どちらかのデータフレームにない項目は `missing` になる。"
   ]
  },
  {
   "cell_type": "code",
   "execution_count": 118,
   "id": "3a1678a1-aec7-4009-8811-c67ccad284e7",
   "metadata": {
    "tags": []
   },
   "outputs": [
    {
     "data": {
      "text/html": [
       "<div class=\"data-frame\"><p>4 rows × 3 columns</p><table class=\"data-frame\"><thead><tr><th></th><th>ID</th><th>Name</th><th>Job</th></tr><tr><th></th><th title=\"Int64\">Int64</th><th title=\"Union{Missing, String}\">String?</th><th title=\"Union{Missing, String}\">String?</th></tr></thead><tbody><tr><th>1</th><td>1</td><td>Karl Pearson</td><td>Lawyer</td></tr><tr><th>2</th><td>2</td><td>Maurice Kendall</td><td>Doctor</td></tr><tr><th>3</th><td>3</td><td>Charles Spearman</td><td><em>missing</em></td></tr><tr><th>4</th><td>4</td><td><em>missing</em></td><td>Farmer</td></tr></tbody></table></div>"
      ],
      "text/latex": [
       "\\begin{tabular}{r|ccc}\n",
       "\t& ID & Name & Job\\\\\n",
       "\t\\hline\n",
       "\t& Int64 & String? & String?\\\\\n",
       "\t\\hline\n",
       "\t1 & 1 & Karl Pearson & Lawyer \\\\\n",
       "\t2 & 2 & Maurice Kendall & Doctor \\\\\n",
       "\t3 & 3 & Charles Spearman & \\emph{missing} \\\\\n",
       "\t4 & 4 & \\emph{missing} & Farmer \\\\\n",
       "\\end{tabular}\n"
      ],
      "text/plain": [
       "\u001b[1m4×3 DataFrame\u001b[0m\n",
       "\u001b[1m Row \u001b[0m│\u001b[1m ID    \u001b[0m\u001b[1m Name             \u001b[0m\u001b[1m Job     \u001b[0m\n",
       "\u001b[1m     \u001b[0m│\u001b[90m Int64 \u001b[0m\u001b[90m String?          \u001b[0m\u001b[90m String? \u001b[0m\n",
       "─────┼──────────────────────────────────\n",
       "   1 │     1  Karl Pearson      Lawyer\n",
       "   2 │     2  Maurice Kendall   Doctor\n",
       "   3 │     3  Charles Spearman \u001b[90m missing \u001b[0m\n",
       "   4 │     4 \u001b[90m missing          \u001b[0m Farmer"
      ]
     },
     "execution_count": 118,
     "metadata": {},
     "output_type": "execute_result"
    }
   ],
   "source": [
    "outerjoin(df1, df2, on=:ID)"
   ]
  },
  {
   "cell_type": "markdown",
   "id": "f51ea5df-18be-46c3-97e5-a37a6e08c086",
   "metadata": {
    "tags": []
   },
   "source": [
    "## 23.6.　`df2` に，`df1` をマージする `rightjoin`\n",
    "\n",
    "`on` で指定する行列をキーとして，`df1` に `df2` をマージする。`df1` にない項目は `missing` になる。"
   ]
  },
  {
   "cell_type": "code",
   "execution_count": 119,
   "id": "eb284821-c94d-49a8-b6c8-2a78e4c7b1b7",
   "metadata": {},
   "outputs": [
    {
     "data": {
      "text/html": [
       "<div class=\"data-frame\"><p>3 rows × 3 columns</p><table class=\"data-frame\"><thead><tr><th></th><th>ID</th><th>Name</th><th>Job</th></tr><tr><th></th><th title=\"Int64\">Int64</th><th title=\"Union{Missing, String}\">String?</th><th title=\"String\">String</th></tr></thead><tbody><tr><th>1</th><td>1</td><td>Karl Pearson</td><td>Lawyer</td></tr><tr><th>2</th><td>2</td><td>Maurice Kendall</td><td>Doctor</td></tr><tr><th>3</th><td>4</td><td><em>missing</em></td><td>Farmer</td></tr></tbody></table></div>"
      ],
      "text/latex": [
       "\\begin{tabular}{r|ccc}\n",
       "\t& ID & Name & Job\\\\\n",
       "\t\\hline\n",
       "\t& Int64 & String? & String\\\\\n",
       "\t\\hline\n",
       "\t1 & 1 & Karl Pearson & Lawyer \\\\\n",
       "\t2 & 2 & Maurice Kendall & Doctor \\\\\n",
       "\t3 & 4 & \\emph{missing} & Farmer \\\\\n",
       "\\end{tabular}\n"
      ],
      "text/plain": [
       "\u001b[1m3×3 DataFrame\u001b[0m\n",
       "\u001b[1m Row \u001b[0m│\u001b[1m ID    \u001b[0m\u001b[1m Name            \u001b[0m\u001b[1m Job    \u001b[0m\n",
       "\u001b[1m     \u001b[0m│\u001b[90m Int64 \u001b[0m\u001b[90m String?         \u001b[0m\u001b[90m String \u001b[0m\n",
       "─────┼────────────────────────────────\n",
       "   1 │     1  Karl Pearson     Lawyer\n",
       "   2 │     2  Maurice Kendall  Doctor\n",
       "   3 │     4 \u001b[90m missing         \u001b[0m Farmer"
      ]
     },
     "execution_count": 119,
     "metadata": {},
     "output_type": "execute_result"
    }
   ],
   "source": [
    "rightjoin(df1, df2, on=:ID)"
   ]
  },
  {
   "cell_type": "markdown",
   "id": "785c0f7c-51ce-419d-9b0f-1ce7b2e485b9",
   "metadata": {
    "tags": []
   },
   "source": [
    "## 23.7.　両方に存在する項目のみでマージする `semijoin`\n",
    "\n",
    "`on` で指定する行列をキーとして，`df1` と `df2` の両方に存在する項目のみでマージする。"
   ]
  },
  {
   "cell_type": "code",
   "execution_count": 120,
   "id": "7eb72bd4-3449-4bf4-abf5-8db8d7a6e252",
   "metadata": {},
   "outputs": [
    {
     "data": {
      "text/html": [
       "<div class=\"data-frame\"><p>2 rows × 2 columns</p><table class=\"data-frame\"><thead><tr><th></th><th>ID</th><th>Name</th></tr><tr><th></th><th title=\"Int64\">Int64</th><th title=\"String\">String</th></tr></thead><tbody><tr><th>1</th><td>1</td><td>Karl Pearson</td></tr><tr><th>2</th><td>2</td><td>Maurice Kendall</td></tr></tbody></table></div>"
      ],
      "text/latex": [
       "\\begin{tabular}{r|cc}\n",
       "\t& ID & Name\\\\\n",
       "\t\\hline\n",
       "\t& Int64 & String\\\\\n",
       "\t\\hline\n",
       "\t1 & 1 & Karl Pearson \\\\\n",
       "\t2 & 2 & Maurice Kendall \\\\\n",
       "\\end{tabular}\n"
      ],
      "text/plain": [
       "\u001b[1m2×2 DataFrame\u001b[0m\n",
       "\u001b[1m Row \u001b[0m│\u001b[1m ID    \u001b[0m\u001b[1m Name            \u001b[0m\n",
       "\u001b[1m     \u001b[0m│\u001b[90m Int64 \u001b[0m\u001b[90m String          \u001b[0m\n",
       "─────┼────────────────────────\n",
       "   1 │     1  Karl Pearson\n",
       "   2 │     2  Maurice Kendall"
      ]
     },
     "execution_count": 120,
     "metadata": {},
     "output_type": "execute_result"
    }
   ],
   "source": [
    "semijoin(df1, df2, on=:ID)"
   ]
  },
  {
   "cell_type": "markdown",
   "id": "99d034b0-bc5d-494b-afc5-43bf197a5c65",
   "metadata": {},
   "source": [
    "# 24.　欠損値のリストワイズ除去\n",
    "\n",
    "欠損値のリストワイズ除去とは，1 行中に 1 つでも欠損値を含む行を除去することである。"
   ]
  },
  {
   "cell_type": "code",
   "execution_count": 121,
   "id": "db41124a-9cfe-43a3-b651-81c37ce5fb2a",
   "metadata": {},
   "outputs": [
    {
     "name": "stdout",
     "output_type": "stream",
     "text": [
      "(153, 6)\n",
      "(111, 6)\n"
     ]
    },
    {
     "data": {
      "text/html": [
       "<div class=\"data-frame\"><p>5 rows × 6 columns</p><table class=\"data-frame\"><thead><tr><th></th><th>Ozone</th><th>Solar_R</th><th>Wind</th><th>Temp</th><th>Month</th><th>Day</th></tr><tr><th></th><th title=\"Int64\">Int64</th><th title=\"Int64\">Int64</th><th title=\"Float64\">Float64</th><th title=\"Int64\">Int64</th><th title=\"Int64\">Int64</th><th title=\"Int64\">Int64</th></tr></thead><tbody><tr><th>1</th><td>41</td><td>190</td><td>7.4</td><td>67</td><td>5</td><td>1</td></tr><tr><th>2</th><td>36</td><td>118</td><td>8.0</td><td>72</td><td>5</td><td>2</td></tr><tr><th>3</th><td>12</td><td>149</td><td>12.6</td><td>74</td><td>5</td><td>3</td></tr><tr><th>4</th><td>18</td><td>313</td><td>11.5</td><td>62</td><td>5</td><td>4</td></tr><tr><th>5</th><td>23</td><td>299</td><td>8.6</td><td>65</td><td>5</td><td>7</td></tr></tbody></table></div>"
      ],
      "text/latex": [
       "\\begin{tabular}{r|cccccc}\n",
       "\t& Ozone & Solar\\_R & Wind & Temp & Month & Day\\\\\n",
       "\t\\hline\n",
       "\t& Int64 & Int64 & Float64 & Int64 & Int64 & Int64\\\\\n",
       "\t\\hline\n",
       "\t1 & 41 & 190 & 7.4 & 67 & 5 & 1 \\\\\n",
       "\t2 & 36 & 118 & 8.0 & 72 & 5 & 2 \\\\\n",
       "\t3 & 12 & 149 & 12.6 & 74 & 5 & 3 \\\\\n",
       "\t4 & 18 & 313 & 11.5 & 62 & 5 & 4 \\\\\n",
       "\t5 & 23 & 299 & 8.6 & 65 & 5 & 7 \\\\\n",
       "\\end{tabular}\n"
      ],
      "text/plain": [
       "\u001b[1m5×6 DataFrame\u001b[0m\n",
       "\u001b[1m Row \u001b[0m│\u001b[1m Ozone \u001b[0m\u001b[1m Solar_R \u001b[0m\u001b[1m Wind    \u001b[0m\u001b[1m Temp  \u001b[0m\u001b[1m Month \u001b[0m\u001b[1m Day   \u001b[0m\n",
       "\u001b[1m     \u001b[0m│\u001b[90m Int64 \u001b[0m\u001b[90m Int64   \u001b[0m\u001b[90m Float64 \u001b[0m\u001b[90m Int64 \u001b[0m\u001b[90m Int64 \u001b[0m\u001b[90m Int64 \u001b[0m\n",
       "─────┼──────────────────────────────────────────────\n",
       "   1 │    41      190      7.4     67      5      1\n",
       "   2 │    36      118      8.0     72      5      2\n",
       "   3 │    12      149     12.6     74      5      3\n",
       "   4 │    18      313     11.5     62      5      4\n",
       "   5 │    23      299      8.6     65      5      7"
      ]
     },
     "execution_count": 121,
     "metadata": {},
     "output_type": "execute_result"
    }
   ],
   "source": [
    "airquality2 = dropmissing(airquality);\n",
    "size(airquality)  |> println\n",
    "size(airquality2) |> println\n",
    "first(airquality2, 5)"
   ]
  },
  {
   "cell_type": "markdown",
   "id": "85819b36-18ae-443b-964c-46ab10fe3ba4",
   "metadata": {},
   "source": [
    "`dropmissing()` では欠損値を除去した結果を別のデータフレームに（同じでもよいが）代入しなければ結果は保存されない。\n",
    "\n",
    "一方 `dropmissing!()` では引数で指定したデータフレームが直接書き換えられる。"
   ]
  },
  {
   "cell_type": "code",
   "execution_count": 122,
   "id": "0a2a9142-892e-4fdd-aa75-06cac400e0cb",
   "metadata": {},
   "outputs": [
    {
     "name": "stdout",
     "output_type": "stream",
     "text": [
      "(111, 6)\n"
     ]
    }
   ],
   "source": [
    "dropmissing!(airquality);\n",
    "size(airquality) |> println"
   ]
  },
  {
   "cell_type": "markdown",
   "id": "41ec24fc-dad0-426c-963c-70649da29a2b",
   "metadata": {},
   "source": [
    "# 25.　ロングフォーマット（縦長データフレーム）に変換する"
   ]
  },
  {
   "cell_type": "code",
   "execution_count": 123,
   "id": "a2f4c189-e7fa-45ad-a73b-d060aa80fb54",
   "metadata": {},
   "outputs": [
    {
     "data": {
      "text/html": [
       "<div class=\"data-frame\"><p>6 rows × 5 columns</p><table class=\"data-frame\"><thead><tr><th></th><th>a</th><th>b</th><th>c</th><th>d</th><th>e</th></tr><tr><th></th><th title=\"Int64\">Int64</th><th title=\"Int64\">Int64</th><th title=\"Int64\">Int64</th><th title=\"Int64\">Int64</th><th title=\"String\">String</th></tr></thead><tbody><tr><th>1</th><td>1</td><td>1</td><td>11</td><td>21</td><td>a</td></tr><tr><th>2</th><td>1</td><td>1</td><td>12</td><td>22</td><td>b</td></tr><tr><th>3</th><td>2</td><td>1</td><td>13</td><td>23</td><td>c</td></tr><tr><th>4</th><td>2</td><td>2</td><td>14</td><td>24</td><td>d</td></tr><tr><th>5</th><td>3</td><td>2</td><td>15</td><td>25</td><td>e</td></tr><tr><th>6</th><td>3</td><td>2</td><td>16</td><td>26</td><td>f</td></tr></tbody></table></div>"
      ],
      "text/latex": [
       "\\begin{tabular}{r|ccccc}\n",
       "\t& a & b & c & d & e\\\\\n",
       "\t\\hline\n",
       "\t& Int64 & Int64 & Int64 & Int64 & String\\\\\n",
       "\t\\hline\n",
       "\t1 & 1 & 1 & 11 & 21 & a \\\\\n",
       "\t2 & 1 & 1 & 12 & 22 & b \\\\\n",
       "\t3 & 2 & 1 & 13 & 23 & c \\\\\n",
       "\t4 & 2 & 2 & 14 & 24 & d \\\\\n",
       "\t5 & 3 & 2 & 15 & 25 & e \\\\\n",
       "\t6 & 3 & 2 & 16 & 26 & f \\\\\n",
       "\\end{tabular}\n"
      ],
      "text/plain": [
       "\u001b[1m6×5 DataFrame\u001b[0m\n",
       "\u001b[1m Row \u001b[0m│\u001b[1m a     \u001b[0m\u001b[1m b     \u001b[0m\u001b[1m c     \u001b[0m\u001b[1m d     \u001b[0m\u001b[1m e      \u001b[0m\n",
       "\u001b[1m     \u001b[0m│\u001b[90m Int64 \u001b[0m\u001b[90m Int64 \u001b[0m\u001b[90m Int64 \u001b[0m\u001b[90m Int64 \u001b[0m\u001b[90m String \u001b[0m\n",
       "─────┼────────────────────────────────────\n",
       "   1 │     1      1     11     21  a\n",
       "   2 │     1      1     12     22  b\n",
       "   3 │     2      1     13     23  c\n",
       "   4 │     2      2     14     24  d\n",
       "   5 │     3      2     15     25  e\n",
       "   6 │     3      2     16     26  f"
      ]
     },
     "execution_count": 123,
     "metadata": {},
     "output_type": "execute_result"
    }
   ],
   "source": [
    "df = DataFrame(a = [1,1,2,2,3,3], b = [1,1,1,2,2,2],\n",
    "    c = [11,12,13,14,15,16], d = [21,22,23,24,25,26],\n",
    "    e = [\"a\", \"b\", \"c\", \"d\", \"e\", \"f\"])"
   ]
  },
  {
   "cell_type": "code",
   "execution_count": 124,
   "id": "2c1f3627-75f2-48a3-a2db-d88c35b5efbb",
   "metadata": {},
   "outputs": [
    {
     "data": {
      "text/html": [
       "<div class=\"data-frame\"><p>12 rows × 5 columns</p><table class=\"data-frame\"><thead><tr><th></th><th>a</th><th>b</th><th>e</th><th>variable</th><th>value</th></tr><tr><th></th><th title=\"Int64\">Int64</th><th title=\"Int64\">Int64</th><th title=\"String\">String</th><th title=\"String\">String</th><th title=\"Int64\">Int64</th></tr></thead><tbody><tr><th>1</th><td>1</td><td>1</td><td>a</td><td>c</td><td>11</td></tr><tr><th>2</th><td>1</td><td>1</td><td>b</td><td>c</td><td>12</td></tr><tr><th>3</th><td>2</td><td>1</td><td>c</td><td>c</td><td>13</td></tr><tr><th>4</th><td>2</td><td>2</td><td>d</td><td>c</td><td>14</td></tr><tr><th>5</th><td>3</td><td>2</td><td>e</td><td>c</td><td>15</td></tr><tr><th>6</th><td>3</td><td>2</td><td>f</td><td>c</td><td>16</td></tr><tr><th>7</th><td>1</td><td>1</td><td>a</td><td>d</td><td>21</td></tr><tr><th>8</th><td>1</td><td>1</td><td>b</td><td>d</td><td>22</td></tr><tr><th>9</th><td>2</td><td>1</td><td>c</td><td>d</td><td>23</td></tr><tr><th>10</th><td>2</td><td>2</td><td>d</td><td>d</td><td>24</td></tr><tr><th>11</th><td>3</td><td>2</td><td>e</td><td>d</td><td>25</td></tr><tr><th>12</th><td>3</td><td>2</td><td>f</td><td>d</td><td>26</td></tr></tbody></table></div>"
      ],
      "text/latex": [
       "\\begin{tabular}{r|ccccc}\n",
       "\t& a & b & e & variable & value\\\\\n",
       "\t\\hline\n",
       "\t& Int64 & Int64 & String & String & Int64\\\\\n",
       "\t\\hline\n",
       "\t1 & 1 & 1 & a & c & 11 \\\\\n",
       "\t2 & 1 & 1 & b & c & 12 \\\\\n",
       "\t3 & 2 & 1 & c & c & 13 \\\\\n",
       "\t4 & 2 & 2 & d & c & 14 \\\\\n",
       "\t5 & 3 & 2 & e & c & 15 \\\\\n",
       "\t6 & 3 & 2 & f & c & 16 \\\\\n",
       "\t7 & 1 & 1 & a & d & 21 \\\\\n",
       "\t8 & 1 & 1 & b & d & 22 \\\\\n",
       "\t9 & 2 & 1 & c & d & 23 \\\\\n",
       "\t10 & 2 & 2 & d & d & 24 \\\\\n",
       "\t11 & 3 & 2 & e & d & 25 \\\\\n",
       "\t12 & 3 & 2 & f & d & 26 \\\\\n",
       "\\end{tabular}\n"
      ],
      "text/plain": [
       "\u001b[1m12×5 DataFrame\u001b[0m\n",
       "\u001b[1m Row \u001b[0m│\u001b[1m a     \u001b[0m\u001b[1m b     \u001b[0m\u001b[1m e      \u001b[0m\u001b[1m variable \u001b[0m\u001b[1m value \u001b[0m\n",
       "\u001b[1m     \u001b[0m│\u001b[90m Int64 \u001b[0m\u001b[90m Int64 \u001b[0m\u001b[90m String \u001b[0m\u001b[90m String   \u001b[0m\u001b[90m Int64 \u001b[0m\n",
       "─────┼───────────────────────────────────────\n",
       "   1 │     1      1  a       c            11\n",
       "   2 │     1      1  b       c            12\n",
       "   3 │     2      1  c       c            13\n",
       "   4 │     2      2  d       c            14\n",
       "   5 │     3      2  e       c            15\n",
       "   6 │     3      2  f       c            16\n",
       "   7 │     1      1  a       d            21\n",
       "   8 │     1      1  b       d            22\n",
       "   9 │     2      1  c       d            23\n",
       "  10 │     2      2  d       d            24\n",
       "  11 │     3      2  e       d            25\n",
       "  12 │     3      2  f       d            26"
      ]
     },
     "execution_count": 124,
     "metadata": {},
     "output_type": "execute_result"
    }
   ],
   "source": [
    "df2 = stack(df, [:c, :d])"
   ]
  },
  {
   "cell_type": "markdown",
   "id": "1901cb93-297e-4e53-98c9-1bff0c9880b3",
   "metadata": {},
   "source": [
    "# 26.　ワイドフォーマット（横長データフレーム）に変換する\n",
    "\n",
    "前節でロングフォーマットに変換したデータフレームを元のワイドフォーマットに変換する（元に戻る）。"
   ]
  },
  {
   "cell_type": "code",
   "execution_count": 125,
   "id": "23f7b5fe-c3a8-48ad-be8d-ffff4847b49d",
   "metadata": {},
   "outputs": [
    {
     "data": {
      "text/html": [
       "<div class=\"data-frame\"><p>6 rows × 5 columns</p><table class=\"data-frame\"><thead><tr><th></th><th>a</th><th>b</th><th>e</th><th>c</th><th>d</th></tr><tr><th></th><th title=\"Int64\">Int64</th><th title=\"Int64\">Int64</th><th title=\"String\">String</th><th title=\"Union{Missing, Int64}\">Int64?</th><th title=\"Union{Missing, Int64}\">Int64?</th></tr></thead><tbody><tr><th>1</th><td>1</td><td>1</td><td>a</td><td>11</td><td>21</td></tr><tr><th>2</th><td>1</td><td>1</td><td>b</td><td>12</td><td>22</td></tr><tr><th>3</th><td>2</td><td>1</td><td>c</td><td>13</td><td>23</td></tr><tr><th>4</th><td>2</td><td>2</td><td>d</td><td>14</td><td>24</td></tr><tr><th>5</th><td>3</td><td>2</td><td>e</td><td>15</td><td>25</td></tr><tr><th>6</th><td>3</td><td>2</td><td>f</td><td>16</td><td>26</td></tr></tbody></table></div>"
      ],
      "text/latex": [
       "\\begin{tabular}{r|ccccc}\n",
       "\t& a & b & e & c & d\\\\\n",
       "\t\\hline\n",
       "\t& Int64 & Int64 & String & Int64? & Int64?\\\\\n",
       "\t\\hline\n",
       "\t1 & 1 & 1 & a & 11 & 21 \\\\\n",
       "\t2 & 1 & 1 & b & 12 & 22 \\\\\n",
       "\t3 & 2 & 1 & c & 13 & 23 \\\\\n",
       "\t4 & 2 & 2 & d & 14 & 24 \\\\\n",
       "\t5 & 3 & 2 & e & 15 & 25 \\\\\n",
       "\t6 & 3 & 2 & f & 16 & 26 \\\\\n",
       "\\end{tabular}\n"
      ],
      "text/plain": [
       "\u001b[1m6×5 DataFrame\u001b[0m\n",
       "\u001b[1m Row \u001b[0m│\u001b[1m a     \u001b[0m\u001b[1m b     \u001b[0m\u001b[1m e      \u001b[0m\u001b[1m c      \u001b[0m\u001b[1m d      \u001b[0m\n",
       "\u001b[1m     \u001b[0m│\u001b[90m Int64 \u001b[0m\u001b[90m Int64 \u001b[0m\u001b[90m String \u001b[0m\u001b[90m Int64? \u001b[0m\u001b[90m Int64? \u001b[0m\n",
       "─────┼──────────────────────────────────────\n",
       "   1 │     1      1  a           11      21\n",
       "   2 │     1      1  b           12      22\n",
       "   3 │     2      1  c           13      23\n",
       "   4 │     2      2  d           14      24\n",
       "   5 │     3      2  e           15      25\n",
       "   6 │     3      2  f           16      26"
      ]
     },
     "execution_count": 125,
     "metadata": {},
     "output_type": "execute_result"
    }
   ],
   "source": [
    "unstack(df2)"
   ]
  },
  {
   "cell_type": "markdown",
   "id": "6dde13c8-3c87-4822-92aa-bd44f6c38500",
   "metadata": {},
   "source": [
    "# 27.　データフレームをグループ変数に基づいて分割する\n",
    "\n",
    "`groupby()` により，第 1 引数のデータフレームを，第 2 引数で指定する列名でグループ分けする。列名は複数をベクトルで与えることもできる。\n",
    "\n",
    "`:Month` が 5, 6, 7, 8, 9 の 5 つのデータフレームに分割する。"
   ]
  },
  {
   "cell_type": "code",
   "execution_count": 126,
   "id": "f8e8e2da-12c2-4f5d-b576-ee342011869a",
   "metadata": {},
   "outputs": [],
   "source": [
    "gd = groupby(airquality, :Month);"
   ]
  },
  {
   "cell_type": "markdown",
   "id": "4bea14c2-e12a-4b91-b324-7a246ef2b49e",
   "metadata": {},
   "source": [
    "## 27.1. グループ分けされたデータフレームを抽出する\n",
    "\n",
    "`get()` により，グループ分けに使った名前 `:Month` の列の値が 5 であるデータフレームを取り出す（最初の 3 行だけを示す）。"
   ]
  },
  {
   "cell_type": "code",
   "execution_count": 127,
   "id": "d3ecc42a-19ba-486d-aa3f-b03c82b1c29b",
   "metadata": {},
   "outputs": [
    {
     "data": {
      "text/html": [
       "<div class=\"data-frame\"><p>3 rows × 6 columns</p><table class=\"data-frame\"><thead><tr><th></th><th>Ozone</th><th>Solar_R</th><th>Wind</th><th>Temp</th><th>Month</th><th>Day</th></tr><tr><th></th><th title=\"Int64\">Int64</th><th title=\"Int64\">Int64</th><th title=\"Float64\">Float64</th><th title=\"Int64\">Int64</th><th title=\"Int64\">Int64</th><th title=\"Int64\">Int64</th></tr></thead><tbody><tr><th>1</th><td>41</td><td>190</td><td>7.4</td><td>67</td><td>5</td><td>1</td></tr><tr><th>2</th><td>36</td><td>118</td><td>8.0</td><td>72</td><td>5</td><td>2</td></tr><tr><th>3</th><td>12</td><td>149</td><td>12.6</td><td>74</td><td>5</td><td>3</td></tr></tbody></table></div>"
      ],
      "text/latex": [
       "\\begin{tabular}{r|cccccc}\n",
       "\t& Ozone & Solar\\_R & Wind & Temp & Month & Day\\\\\n",
       "\t\\hline\n",
       "\t& Int64 & Int64 & Float64 & Int64 & Int64 & Int64\\\\\n",
       "\t\\hline\n",
       "\t1 & 41 & 190 & 7.4 & 67 & 5 & 1 \\\\\n",
       "\t2 & 36 & 118 & 8.0 & 72 & 5 & 2 \\\\\n",
       "\t3 & 12 & 149 & 12.6 & 74 & 5 & 3 \\\\\n",
       "\\end{tabular}\n"
      ],
      "text/plain": [
       "\u001b[1m3×6 DataFrame\u001b[0m\n",
       "\u001b[1m Row \u001b[0m│\u001b[1m Ozone \u001b[0m\u001b[1m Solar_R \u001b[0m\u001b[1m Wind    \u001b[0m\u001b[1m Temp  \u001b[0m\u001b[1m Month \u001b[0m\u001b[1m Day   \u001b[0m\n",
       "\u001b[1m     \u001b[0m│\u001b[90m Int64 \u001b[0m\u001b[90m Int64   \u001b[0m\u001b[90m Float64 \u001b[0m\u001b[90m Int64 \u001b[0m\u001b[90m Int64 \u001b[0m\u001b[90m Int64 \u001b[0m\n",
       "─────┼──────────────────────────────────────────────\n",
       "   1 │    41      190      7.4     67      5      1\n",
       "   2 │    36      118      8.0     72      5      2\n",
       "   3 │    12      149     12.6     74      5      3"
      ]
     },
     "execution_count": 127,
     "metadata": {},
     "output_type": "execute_result"
    }
   ],
   "source": [
    "get(gd, (Month=5,), nothing)[1:3,:]"
   ]
  },
  {
   "cell_type": "markdown",
   "id": "4d61b4a7-7abb-477f-92af-21ddd5cffc5d",
   "metadata": {},
   "source": [
    "グループ分けに使った列の値が 6 のデータフレームを取り出す（最初の 3 行だけを示す）。"
   ]
  },
  {
   "cell_type": "code",
   "execution_count": 128,
   "id": "23aea6af-34e6-44ca-9dc5-4dede35fa9f9",
   "metadata": {},
   "outputs": [
    {
     "data": {
      "text/html": [
       "<div class=\"data-frame\"><p>3 rows × 6 columns</p><table class=\"data-frame\"><thead><tr><th></th><th>Ozone</th><th>Solar_R</th><th>Wind</th><th>Temp</th><th>Month</th><th>Day</th></tr><tr><th></th><th title=\"Int64\">Int64</th><th title=\"Int64\">Int64</th><th title=\"Float64\">Float64</th><th title=\"Int64\">Int64</th><th title=\"Int64\">Int64</th><th title=\"Int64\">Int64</th></tr></thead><tbody><tr><th>1</th><td>29</td><td>127</td><td>9.7</td><td>82</td><td>6</td><td>7</td></tr><tr><th>2</th><td>71</td><td>291</td><td>13.8</td><td>90</td><td>6</td><td>9</td></tr><tr><th>3</th><td>39</td><td>323</td><td>11.5</td><td>87</td><td>6</td><td>10</td></tr></tbody></table></div>"
      ],
      "text/latex": [
       "\\begin{tabular}{r|cccccc}\n",
       "\t& Ozone & Solar\\_R & Wind & Temp & Month & Day\\\\\n",
       "\t\\hline\n",
       "\t& Int64 & Int64 & Float64 & Int64 & Int64 & Int64\\\\\n",
       "\t\\hline\n",
       "\t1 & 29 & 127 & 9.7 & 82 & 6 & 7 \\\\\n",
       "\t2 & 71 & 291 & 13.8 & 90 & 6 & 9 \\\\\n",
       "\t3 & 39 & 323 & 11.5 & 87 & 6 & 10 \\\\\n",
       "\\end{tabular}\n"
      ],
      "text/plain": [
       "\u001b[1m3×6 DataFrame\u001b[0m\n",
       "\u001b[1m Row \u001b[0m│\u001b[1m Ozone \u001b[0m\u001b[1m Solar_R \u001b[0m\u001b[1m Wind    \u001b[0m\u001b[1m Temp  \u001b[0m\u001b[1m Month \u001b[0m\u001b[1m Day   \u001b[0m\n",
       "\u001b[1m     \u001b[0m│\u001b[90m Int64 \u001b[0m\u001b[90m Int64   \u001b[0m\u001b[90m Float64 \u001b[0m\u001b[90m Int64 \u001b[0m\u001b[90m Int64 \u001b[0m\u001b[90m Int64 \u001b[0m\n",
       "─────┼──────────────────────────────────────────────\n",
       "   1 │    29      127      9.7     82      6      7\n",
       "   2 │    71      291     13.8     90      6      9\n",
       "   3 │    39      323     11.5     87      6     10"
      ]
     },
     "execution_count": 128,
     "metadata": {},
     "output_type": "execute_result"
    }
   ],
   "source": [
    "get(gd, (6,), nothing)[1:3,:]"
   ]
  },
  {
   "cell_type": "markdown",
   "id": "40aa098e-866e-4caf-8e1e-7cbd3c35d1b2",
   "metadata": {},
   "source": [
    "グループ分けに使った列の値が 10 のデータフレームを取り出そうとすると，なにもないので結果が返ってこない。実は 3\n",
    " 番目の引数は，条件を満たすデータフレームがない場合に何を返すかを指定している。"
   ]
  },
  {
   "cell_type": "code",
   "execution_count": 129,
   "id": "e9246eed-38f2-4b1b-a05a-77097368e6c6",
   "metadata": {},
   "outputs": [
    {
     "data": {
      "text/plain": [
       "\"なにもない\""
      ]
     },
     "execution_count": 129,
     "metadata": {},
     "output_type": "execute_result"
    }
   ],
   "source": [
    "get(gd, (10,), \"なにもない\")"
   ]
  },
  {
   "cell_type": "markdown",
   "id": "92dab901-b281-451e-8851-54162b7aa647",
   "metadata": {},
   "source": [
    "size(gd) はグループ化されたデータファイルの個数を返す。"
   ]
  },
  {
   "cell_type": "code",
   "execution_count": 130,
   "id": "54e661d9-aa91-4e13-8637-f5befaea8f9e",
   "metadata": {},
   "outputs": [
    {
     "data": {
      "text/plain": [
       "(5,)"
      ]
     },
     "execution_count": 130,
     "metadata": {},
     "output_type": "execute_result"
    }
   ],
   "source": [
    "size(gd)"
   ]
  },
  {
   "cell_type": "markdown",
   "id": "d9ddaf5c-4bb0-42f0-a8be-19aa2a6dc389",
   "metadata": {},
   "source": [
    "したがって，gd[n] のように指定すれば n 番目のグループ化されたデータフレームが得られる。"
   ]
  },
  {
   "cell_type": "code",
   "execution_count": 131,
   "id": "19af7412-65c7-4afb-a916-de3308cbd30d",
   "metadata": {},
   "outputs": [
    {
     "data": {
      "text/html": [
       "<div class=\"data-frame\"><p>3 rows × 6 columns</p><table class=\"data-frame\"><thead><tr><th></th><th>Ozone</th><th>Solar_R</th><th>Wind</th><th>Temp</th><th>Month</th><th>Day</th></tr><tr><th></th><th title=\"Int64\">Int64</th><th title=\"Int64\">Int64</th><th title=\"Float64\">Float64</th><th title=\"Int64\">Int64</th><th title=\"Int64\">Int64</th><th title=\"Int64\">Int64</th></tr></thead><tbody><tr><th>1</th><td>29</td><td>127</td><td>9.7</td><td>82</td><td>6</td><td>7</td></tr><tr><th>2</th><td>71</td><td>291</td><td>13.8</td><td>90</td><td>6</td><td>9</td></tr><tr><th>3</th><td>39</td><td>323</td><td>11.5</td><td>87</td><td>6</td><td>10</td></tr></tbody></table></div>"
      ],
      "text/latex": [
       "\\begin{tabular}{r|cccccc}\n",
       "\t& Ozone & Solar\\_R & Wind & Temp & Month & Day\\\\\n",
       "\t\\hline\n",
       "\t& Int64 & Int64 & Float64 & Int64 & Int64 & Int64\\\\\n",
       "\t\\hline\n",
       "\t1 & 29 & 127 & 9.7 & 82 & 6 & 7 \\\\\n",
       "\t2 & 71 & 291 & 13.8 & 90 & 6 & 9 \\\\\n",
       "\t3 & 39 & 323 & 11.5 & 87 & 6 & 10 \\\\\n",
       "\\end{tabular}\n"
      ],
      "text/plain": [
       "\u001b[1m3×6 DataFrame\u001b[0m\n",
       "\u001b[1m Row \u001b[0m│\u001b[1m Ozone \u001b[0m\u001b[1m Solar_R \u001b[0m\u001b[1m Wind    \u001b[0m\u001b[1m Temp  \u001b[0m\u001b[1m Month \u001b[0m\u001b[1m Day   \u001b[0m\n",
       "\u001b[1m     \u001b[0m│\u001b[90m Int64 \u001b[0m\u001b[90m Int64   \u001b[0m\u001b[90m Float64 \u001b[0m\u001b[90m Int64 \u001b[0m\u001b[90m Int64 \u001b[0m\u001b[90m Int64 \u001b[0m\n",
       "─────┼──────────────────────────────────────────────\n",
       "   1 │    29      127      9.7     82      6      7\n",
       "   2 │    71      291     13.8     90      6      9\n",
       "   3 │    39      323     11.5     87      6     10"
      ]
     },
     "execution_count": 131,
     "metadata": {},
     "output_type": "execute_result"
    }
   ],
   "source": [
    "gd[2][1:3, :] # 最初の 3 行だけ示す"
   ]
  },
  {
   "cell_type": "markdown",
   "id": "c3940083-133b-4c3f-8a3d-bf714a14eeae",
   "metadata": {},
   "source": [
    "要するに，データフレームを要素とする配列なので，他に，`gd[end]`，`last(gd)`，`gd[(Month=7,)]`，`gd[Dict(\"Month\" => 8)]`，`gd[(9,)]` などの指定ができる。"
   ]
  },
  {
   "cell_type": "markdown",
   "id": "df76e776-c9f4-40e9-89db-5c5ba80e743e",
   "metadata": {},
   "source": [
    "## 27.2.　グループ化されたデータフレームに関する情報\n",
    "\n",
    "`groupcols())` はグループ化に使われた列名を返す。"
   ]
  },
  {
   "cell_type": "code",
   "execution_count": 132,
   "id": "d1e93329-f938-457d-8bf0-f19ac21e579c",
   "metadata": {},
   "outputs": [
    {
     "name": "stdout",
     "output_type": "stream",
     "text": [
      "[:Month]\n"
     ]
    }
   ],
   "source": [
    "groupcols(gd) |> println"
   ]
  },
  {
   "cell_type": "markdown",
   "id": "cf2f01dd-e046-445c-bcc1-4252e0337402",
   "metadata": {},
   "source": [
    "`groupindices()` は元のデータフレムの各行が何番目のグループ化されたデータフレームに属するかのベクトルを返す（長さは元のデータフレームの行数）。"
   ]
  },
  {
   "cell_type": "code",
   "execution_count": 133,
   "id": "38cf3bfd-b25c-42e6-a695-869ad55a06e5",
   "metadata": {},
   "outputs": [
    {
     "name": "stdout",
     "output_type": "stream",
     "text": [
      "Union{Missing, Int64}[1, 1, 1, 1, 1, 1, 1, 1, 1, 1, 1, 1, 1, 1, 1, 1, 1, 1, 1, 1, 1, 1, 1, 1, 2, 2, 2, 2, 2, 2, 2, 2, 2, 3, 3, 3, 3, 3, 3, 3, 3, 3, 3, 3, 3, 3, 3, 3, 3, 3, 3, 3, 3, 3, 3, 3, 3, 3, 3, 4, 4, 4, 4, 4, 4, 4, 4, 4, 4, 4, 4, 4, 4, 4, 4, 4, 4, 4, 4, 4, 4, 4, 5, 5, 5, 5, 5, 5, 5, 5, 5, 5, 5, 5, 5, 5, 5, 5, 5, 5, 5, 5, 5, 5, 5, 5, 5, 5, 5, 5, 5]\n"
     ]
    }
   ],
   "source": [
    "groupindices(gd) |> println"
   ]
  },
  {
   "cell_type": "markdown",
   "id": "4e128f5f-66e8-4a35-8d27-508033e2c45d",
   "metadata": {},
   "source": [
    "`keys()` はグループデータフレームのキーの値を返す。"
   ]
  },
  {
   "cell_type": "code",
   "execution_count": 134,
   "id": "5bd9021b-9b97-4b36-907d-0a495874b7cf",
   "metadata": {},
   "outputs": [
    {
     "data": {
      "text/plain": [
       "5-element DataFrames.GroupKeys{GroupedDataFrame{DataFrame}}:\n",
       " GroupKey: (Month = 5,)\n",
       " GroupKey: (Month = 6,)\n",
       " GroupKey: (Month = 7,)\n",
       " GroupKey: (Month = 8,)\n",
       " GroupKey: (Month = 9,)"
      ]
     },
     "execution_count": 134,
     "metadata": {},
     "output_type": "execute_result"
    }
   ],
   "source": [
    "keys(gd) "
   ]
  },
  {
   "cell_type": "code",
   "execution_count": 135,
   "id": "2d14cea8-f296-4234-9854-48d0b986570c",
   "metadata": {},
   "outputs": [
    {
     "data": {
      "text/plain": [
       "GroupKey: (Month = 5,)"
      ]
     },
     "execution_count": 135,
     "metadata": {},
     "output_type": "execute_result"
    }
   ],
   "source": [
    "k = keys(gd)[1]"
   ]
  },
  {
   "cell_type": "code",
   "execution_count": 136,
   "id": "b3499b04-7f1f-4cb2-bc08-57a8052cbbf9",
   "metadata": {},
   "outputs": [
    {
     "data": {
      "text/plain": [
       "([:Month], (5,))"
      ]
     },
     "execution_count": 136,
     "metadata": {},
     "output_type": "execute_result"
    }
   ],
   "source": [
    "keys(k), values(k)"
   ]
  },
  {
   "cell_type": "code",
   "execution_count": 137,
   "id": "4226d2de-6415-4c13-a50b-91960f27e29e",
   "metadata": {},
   "outputs": [
    {
     "data": {
      "text/plain": [
       "(5,)"
      ]
     },
     "execution_count": 137,
     "metadata": {},
     "output_type": "execute_result"
    }
   ],
   "source": [
    "values(k)"
   ]
  },
  {
   "cell_type": "code",
   "execution_count": 138,
   "id": "bca381f3-c6c9-4f0e-85fb-39af9943a9c9",
   "metadata": {},
   "outputs": [
    {
     "data": {
      "text/plain": [
       "(Month = 5,)"
      ]
     },
     "execution_count": 138,
     "metadata": {},
     "output_type": "execute_result"
    }
   ],
   "source": [
    "NamedTuple(k)"
   ]
  },
  {
   "cell_type": "code",
   "execution_count": 139,
   "id": "939f0933-a641-4dfb-a727-16cc1ab89ae8",
   "metadata": {},
   "outputs": [
    {
     "data": {
      "text/plain": [
       "(5, 5, 5)"
      ]
     },
     "execution_count": 139,
     "metadata": {},
     "output_type": "execute_result"
    }
   ],
   "source": [
    "k.Month, k[:Month], k[1]"
   ]
  },
  {
   "cell_type": "markdown",
   "id": "9c13da8b-7dbf-4883-b25e-5a5c7a5d52a4",
   "metadata": {},
   "source": [
    "グループ化に使われなかった列名を返す。"
   ]
  },
  {
   "cell_type": "code",
   "execution_count": 140,
   "id": "70019c6b-f7c1-4d17-9b90-ea9254e6da4f",
   "metadata": {},
   "outputs": [
    {
     "name": "stdout",
     "output_type": "stream",
     "text": [
      "[:Ozone, :Solar_R, :Wind, :Temp, :Day]\n"
     ]
    }
   ],
   "source": [
    "valuecols(gd) |> println"
   ]
  },
  {
   "cell_type": "markdown",
   "id": "55ceb661-6f1b-4551-b699-3523ea6bb8aa",
   "metadata": {},
   "source": [
    "## 27.3.　親データフレームを返す\n",
    "\n",
    "グループ化されたデータフレームをまとめて元のデータフレームを再現する。"
   ]
  },
  {
   "cell_type": "code",
   "execution_count": 141,
   "id": "f8593302-3cd7-4cf8-a622-2225ed9bcf04",
   "metadata": {},
   "outputs": [
    {
     "data": {
      "text/html": [
       "<div class=\"data-frame\"><p>5 rows × 6 columns</p><table class=\"data-frame\"><thead><tr><th></th><th>Ozone</th><th>Solar_R</th><th>Wind</th><th>Temp</th><th>Month</th><th>Day</th></tr><tr><th></th><th title=\"Int64\">Int64</th><th title=\"Int64\">Int64</th><th title=\"Float64\">Float64</th><th title=\"Int64\">Int64</th><th title=\"Int64\">Int64</th><th title=\"Int64\">Int64</th></tr></thead><tbody><tr><th>1</th><td>14</td><td>20</td><td>16.6</td><td>63</td><td>9</td><td>25</td></tr><tr><th>2</th><td>30</td><td>193</td><td>6.9</td><td>70</td><td>9</td><td>26</td></tr><tr><th>3</th><td>14</td><td>191</td><td>14.3</td><td>75</td><td>9</td><td>28</td></tr><tr><th>4</th><td>18</td><td>131</td><td>8.0</td><td>76</td><td>9</td><td>29</td></tr><tr><th>5</th><td>20</td><td>223</td><td>11.5</td><td>68</td><td>9</td><td>30</td></tr></tbody></table></div>"
      ],
      "text/latex": [
       "\\begin{tabular}{r|cccccc}\n",
       "\t& Ozone & Solar\\_R & Wind & Temp & Month & Day\\\\\n",
       "\t\\hline\n",
       "\t& Int64 & Int64 & Float64 & Int64 & Int64 & Int64\\\\\n",
       "\t\\hline\n",
       "\t1 & 14 & 20 & 16.6 & 63 & 9 & 25 \\\\\n",
       "\t2 & 30 & 193 & 6.9 & 70 & 9 & 26 \\\\\n",
       "\t3 & 14 & 191 & 14.3 & 75 & 9 & 28 \\\\\n",
       "\t4 & 18 & 131 & 8.0 & 76 & 9 & 29 \\\\\n",
       "\t5 & 20 & 223 & 11.5 & 68 & 9 & 30 \\\\\n",
       "\\end{tabular}\n"
      ],
      "text/plain": [
       "\u001b[1m5×6 DataFrame\u001b[0m\n",
       "\u001b[1m Row \u001b[0m│\u001b[1m Ozone \u001b[0m\u001b[1m Solar_R \u001b[0m\u001b[1m Wind    \u001b[0m\u001b[1m Temp  \u001b[0m\u001b[1m Month \u001b[0m\u001b[1m Day   \u001b[0m\n",
       "\u001b[1m     \u001b[0m│\u001b[90m Int64 \u001b[0m\u001b[90m Int64   \u001b[0m\u001b[90m Float64 \u001b[0m\u001b[90m Int64 \u001b[0m\u001b[90m Int64 \u001b[0m\u001b[90m Int64 \u001b[0m\n",
       "─────┼──────────────────────────────────────────────\n",
       "   1 │    14       20     16.6     63      9     25\n",
       "   2 │    30      193      6.9     70      9     26\n",
       "   3 │    14      191     14.3     75      9     28\n",
       "   4 │    18      131      8.0     76      9     29\n",
       "   5 │    20      223     11.5     68      9     30"
      ]
     },
     "execution_count": 141,
     "metadata": {},
     "output_type": "execute_result"
    }
   ],
   "source": [
    "parent(gd)[end-4:end, :] # 最後の 5 行を示す"
   ]
  },
  {
   "cell_type": "markdown",
   "id": "e8b3941e-fde3-45aa-8f19-8dec7f40e9a8",
   "metadata": {},
   "source": [
    "# 28.　列ごとに関数を適用する\n",
    "\n",
    "`eachcol()`"
   ]
  },
  {
   "cell_type": "code",
   "execution_count": 142,
   "id": "9589dfd8-417a-4c4b-bf33-02b2a33a39c7",
   "metadata": {},
   "outputs": [
    {
     "data": {
      "text/plain": [
       "2-element Vector{Float64}:\n",
       "  3.0\n",
       " 13.0"
      ]
     },
     "execution_count": 142,
     "metadata": {},
     "output_type": "execute_result"
    }
   ],
   "source": [
    "using Statistics\n",
    "df = DataFrame(a = 1:5, b = 11:15)\n",
    "mean.(eachcol(df))"
   ]
  },
  {
   "cell_type": "code",
   "execution_count": 143,
   "id": "23753ff3-6309-4f6b-b530-c19e98956045",
   "metadata": {},
   "outputs": [
    {
     "data": {
      "text/plain": [
       "2-element Vector{Float64}:\n",
       " 1.5811388300841898\n",
       " 1.5811388300841898"
      ]
     },
     "execution_count": 143,
     "metadata": {},
     "output_type": "execute_result"
    }
   ],
   "source": [
    "std.(eachcol(df))"
   ]
  },
  {
   "cell_type": "code",
   "execution_count": 144,
   "id": "7931c0a6-57ee-438c-9129-4564db50a04f",
   "metadata": {},
   "outputs": [
    {
     "data": {
      "text/plain": [
       "2-element Vector{Int64}:\n",
       " 4\n",
       " 4"
      ]
     },
     "execution_count": 144,
     "metadata": {},
     "output_type": "execute_result"
    }
   ],
   "source": [
    "map(eachcol(df)) do col\n",
    "                     maximum(col) - minimum(col)\n",
    "                 end"
   ]
  },
  {
   "cell_type": "code",
   "execution_count": 145,
   "id": "c39f6b88-1912-4afc-9c33-78bc0b874e86",
   "metadata": {},
   "outputs": [
    {
     "data": {
      "text/plain": [
       "6-element Vector{Float64}:\n",
       "  42.0990990990991\n",
       " 184.80180180180182\n",
       "   9.939639639639632\n",
       "  77.7927927927928\n",
       "   7.216216216216216\n",
       "  15.945945945945946"
      ]
     },
     "execution_count": 145,
     "metadata": {},
     "output_type": "execute_result"
    }
   ],
   "source": [
    "map(x -> mean(skipmissing(x)), eachcol(airquality))"
   ]
  },
  {
   "cell_type": "markdown",
   "id": "5f78cd40-6073-4a73-9811-7e4e844cc7fd",
   "metadata": {},
   "source": [
    "# 29.　行ごとに関数を適用する"
   ]
  },
  {
   "cell_type": "code",
   "execution_count": 146,
   "id": "eda7f202-9e90-46b5-bc6f-d80ed76bf168",
   "metadata": {},
   "outputs": [
    {
     "data": {
      "text/plain": [
       "5-element Vector{Int64}:\n",
       " 12\n",
       " 14\n",
       " 16\n",
       " 18\n",
       " 20"
      ]
     },
     "execution_count": 146,
     "metadata": {},
     "output_type": "execute_result"
    }
   ],
   "source": [
    "sum.(eachrow(df))"
   ]
  },
  {
   "cell_type": "code",
   "execution_count": 147,
   "id": "af88d45b-5cc1-406c-a910-c69e913dbe49",
   "metadata": {},
   "outputs": [
    {
     "data": {
      "text/plain": [
       "5-element Vector{Float64}:\n",
       "  6.0\n",
       "  7.0\n",
       "  8.0\n",
       "  9.0\n",
       " 10.0"
      ]
     },
     "execution_count": 147,
     "metadata": {},
     "output_type": "execute_result"
    }
   ],
   "source": [
    "mean.(eachrow(df))"
   ]
  },
  {
   "cell_type": "markdown",
   "id": "81a5af04-29a0-487c-8e60-9cf75442b2c1",
   "metadata": {},
   "source": [
    "# 30.　クエリーによる操作例\n",
    "\n",
    "スタンドアローンのクエリー演算子はパイプ演算子 `|>` で組み合わせて使われる。"
   ]
  },
  {
   "cell_type": "code",
   "execution_count": 148,
   "id": "c1c97fbb-d24b-4780-b404-3dc2b32c146a",
   "metadata": {},
   "outputs": [
    {
     "data": {
      "text/html": [
       "<div class=\"data-frame\"><p>4 rows × 2 columns</p><table class=\"data-frame\"><thead><tr><th></th><th>a</th><th>b</th></tr><tr><th></th><th title=\"Int64\">Int64</th><th title=\"Int64\">Int64</th></tr></thead><tbody><tr><th>1</th><td>1</td><td>4</td></tr><tr><th>2</th><td>1</td><td>5</td></tr><tr><th>3</th><td>2</td><td>6</td></tr><tr><th>4</th><td>3</td><td>8</td></tr></tbody></table></div>"
      ],
      "text/latex": [
       "\\begin{tabular}{r|cc}\n",
       "\t& a & b\\\\\n",
       "\t\\hline\n",
       "\t& Int64 & Int64\\\\\n",
       "\t\\hline\n",
       "\t1 & 1 & 4 \\\\\n",
       "\t2 & 1 & 5 \\\\\n",
       "\t3 & 2 & 6 \\\\\n",
       "\t4 & 3 & 8 \\\\\n",
       "\\end{tabular}\n"
      ],
      "text/plain": [
       "\u001b[1m4×2 DataFrame\u001b[0m\n",
       "\u001b[1m Row \u001b[0m│\u001b[1m a     \u001b[0m\u001b[1m b     \u001b[0m\n",
       "\u001b[1m     \u001b[0m│\u001b[90m Int64 \u001b[0m\u001b[90m Int64 \u001b[0m\n",
       "─────┼──────────────\n",
       "   1 │     1      4\n",
       "   2 │     1      5\n",
       "   3 │     2      6\n",
       "   4 │     3      8"
      ]
     },
     "execution_count": 148,
     "metadata": {},
     "output_type": "execute_result"
    }
   ],
   "source": [
    "using Query, DataFrames, Statistics\n",
    "df = DataFrame(a = [1, 1, 2, 3], b = [4, 5, 6, 8])"
   ]
  },
  {
   "cell_type": "code",
   "execution_count": 149,
   "id": "d1fa9070-64a2-4564-9985-d4140f8ab6e5",
   "metadata": {},
   "outputs": [
    {
     "data": {
      "text/html": [
       "<div class=\"data-frame\"><p>2 rows × 2 columns</p><table class=\"data-frame\"><thead><tr><th></th><th>a</th><th>b</th></tr><tr><th></th><th title=\"Int64\">Int64</th><th title=\"Float64\">Float64</th></tr></thead><tbody><tr><th>1</th><td>3</td><td>8.0</td></tr><tr><th>2</th><td>2</td><td>6.0</td></tr></tbody></table></div>"
      ],
      "text/latex": [
       "\\begin{tabular}{r|cc}\n",
       "\t& a & b\\\\\n",
       "\t\\hline\n",
       "\t& Int64 & Float64\\\\\n",
       "\t\\hline\n",
       "\t1 & 3 & 8.0 \\\\\n",
       "\t2 & 2 & 6.0 \\\\\n",
       "\\end{tabular}\n"
      ],
      "text/plain": [
       "\u001b[1m2×2 DataFrame\u001b[0m\n",
       "\u001b[1m Row \u001b[0m│\u001b[1m a     \u001b[0m\u001b[1m b       \u001b[0m\n",
       "\u001b[1m     \u001b[0m│\u001b[90m Int64 \u001b[0m\u001b[90m Float64 \u001b[0m\n",
       "─────┼────────────────\n",
       "   1 │     3      8.0\n",
       "   2 │     2      6.0"
      ]
     },
     "execution_count": 149,
     "metadata": {},
     "output_type": "execute_result"
    }
   ],
   "source": [
    "df2 = df |>\n",
    "           @groupby(_.a) |>\n",
    "           @map({a=key(_), b=mean(_.b)}) |>\n",
    "           @filter(_.b > 5) |>\n",
    "           @orderby_descending(_.b) |>\n",
    "           DataFrame"
   ]
  },
  {
   "cell_type": "markdown",
   "id": "fa36cd54-5ae2-4afc-8e25-0bf1dd9b7283",
   "metadata": {},
   "source": [
    "## 30.1.　要素に関数を適用する　@map コマンド\n",
    "\n",
    "`source |> @map(element_selector)`\n",
    "\n",
    "`source` は，クエリーできるものなら何でもよい（これ以降の全てのコマンドの場合も同じ）。\n",
    "\n",
    "下の例ではベクトルが対象にされている。\n",
    "\n",
    "以下の例は，ベクトルから要素を 1 個ずつ取り出し 2 乗して，結果を集め，x に代入する。"
   ]
  },
  {
   "cell_type": "code",
   "execution_count": 150,
   "id": "bc8ad75f-d0fd-4f82-9e43-8db24e001c63",
   "metadata": {},
   "outputs": [
    {
     "name": "stdout",
     "output_type": "stream",
     "text": [
      "[1, 4, 9]\n"
     ]
    }
   ],
   "source": [
    "data = [1,2,3];\n",
    "x = data |> @map(_^2) |> collect\n",
    "x |> println"
   ]
  },
  {
   "cell_type": "markdown",
   "id": "2d9adb01-43f0-4370-afd7-99b04b3e9b6d",
   "metadata": {},
   "source": [
    "## 30.2.　条件を満たす行を抽出　@filter コマンド\n",
    "\n",
    "`source |> @filter(filter_condition)`\n",
    "\n",
    "`filter_condition` は，ソースから 1 つの要素を受け取りその要素を保持する場合に `true`，フィルターされる場合には `false` を返す無名関数"
   ]
  },
  {
   "cell_type": "code",
   "execution_count": 151,
   "id": "0766836a-43f5-4c35-a4a2-961b1a86c2ed",
   "metadata": {},
   "outputs": [
    {
     "data": {
      "text/html": [
       "<div class=\"data-frame\"><p>3 rows × 3 columns</p><table class=\"data-frame\"><thead><tr><th></th><th>name</th><th>age</th><th>children</th></tr><tr><th></th><th title=\"String\">String</th><th title=\"Float64\">Float64</th><th title=\"Int64\">Int64</th></tr></thead><tbody><tr><th>1</th><td>John</td><td>23.0</td><td>3</td></tr><tr><th>2</th><td>Sally</td><td>42.0</td><td>5</td></tr><tr><th>3</th><td>Kirk</td><td>59.0</td><td>2</td></tr></tbody></table></div>"
      ],
      "text/latex": [
       "\\begin{tabular}{r|ccc}\n",
       "\t& name & age & children\\\\\n",
       "\t\\hline\n",
       "\t& String & Float64 & Int64\\\\\n",
       "\t\\hline\n",
       "\t1 & John & 23.0 & 3 \\\\\n",
       "\t2 & Sally & 42.0 & 5 \\\\\n",
       "\t3 & Kirk & 59.0 & 2 \\\\\n",
       "\\end{tabular}\n"
      ],
      "text/plain": [
       "\u001b[1m3×3 DataFrame\u001b[0m\n",
       "\u001b[1m Row \u001b[0m│\u001b[1m name   \u001b[0m\u001b[1m age     \u001b[0m\u001b[1m children \u001b[0m\n",
       "\u001b[1m     \u001b[0m│\u001b[90m String \u001b[0m\u001b[90m Float64 \u001b[0m\u001b[90m Int64    \u001b[0m\n",
       "─────┼───────────────────────────\n",
       "   1 │ John       23.0         3\n",
       "   2 │ Sally      42.0         5\n",
       "   3 │ Kirk       59.0         2"
      ]
     },
     "execution_count": 151,
     "metadata": {},
     "output_type": "execute_result"
    }
   ],
   "source": [
    "df = DataFrame(name=[\"John\", \"Sally\", \"Kirk\"],\n",
    "               age=[23., 42., 59.], children=[3,5,2])"
   ]
  },
  {
   "cell_type": "code",
   "execution_count": 152,
   "id": "cba59a17-b53b-440a-96f0-e2a69bc55bd7",
   "metadata": {},
   "outputs": [
    {
     "data": {
      "text/html": [
       "<div class=\"data-frame\"><p>1 rows × 3 columns</p><table class=\"data-frame\"><thead><tr><th></th><th>name</th><th>age</th><th>children</th></tr><tr><th></th><th title=\"String\">String</th><th title=\"Float64\">Float64</th><th title=\"Int64\">Int64</th></tr></thead><tbody><tr><th>1</th><td>Sally</td><td>42.0</td><td>5</td></tr></tbody></table></div>"
      ],
      "text/latex": [
       "\\begin{tabular}{r|ccc}\n",
       "\t& name & age & children\\\\\n",
       "\t\\hline\n",
       "\t& String & Float64 & Int64\\\\\n",
       "\t\\hline\n",
       "\t1 & Sally & 42.0 & 5 \\\\\n",
       "\\end{tabular}\n"
      ],
      "text/plain": [
       "\u001b[1m1×3 DataFrame\u001b[0m\n",
       "\u001b[1m Row \u001b[0m│\u001b[1m name   \u001b[0m\u001b[1m age     \u001b[0m\u001b[1m children \u001b[0m\n",
       "\u001b[1m     \u001b[0m│\u001b[90m String \u001b[0m\u001b[90m Float64 \u001b[0m\u001b[90m Int64    \u001b[0m\n",
       "─────┼───────────────────────────\n",
       "   1 │ Sally      42.0         5"
      ]
     },
     "execution_count": 152,
     "metadata": {},
     "output_type": "execute_result"
    }
   ],
   "source": [
    "x = df |> @filter(_.age > 30 && _.children > 2) |> DataFrame"
   ]
  },
  {
   "cell_type": "markdown",
   "id": "7996e9f4-36ab-453b-9cfc-b3a567f6b131",
   "metadata": {},
   "source": [
    "## 30.3.　データフレームのグループ化　@groupby コマンド\n",
    "\n",
    "`source |> @groupby(key_selector)`\n",
    "\n",
    "`key_selector` は，ソースの要素がグループ化されるときに使われる値を返す無名関数\n",
    "\n",
    "`source |> @groupby(source, key_selector, element_selector)`\n",
    "\n",
    "`element_selector` は，ソースの要素がグループ分けされる前にグループの前に挿入される要素に適用される無名関数\n",
    "\n",
    "`@group` の戻り値はグループのイテラブルである。"
   ]
  },
  {
   "cell_type": "code",
   "execution_count": 153,
   "id": "22d82e67-97d0-47a1-8fa9-a19ff403e85c",
   "metadata": {},
   "outputs": [
    {
     "data": {
      "text/html": [
       "<div class=\"data-frame\"><p>3 rows × 3 columns</p><table class=\"data-frame\"><thead><tr><th></th><th>name</th><th>age</th><th>children</th></tr><tr><th></th><th title=\"String\">String</th><th title=\"Float64\">Float64</th><th title=\"Int64\">Int64</th></tr></thead><tbody><tr><th>1</th><td>John</td><td>23.0</td><td>3</td></tr><tr><th>2</th><td>Sally</td><td>42.0</td><td>2</td></tr><tr><th>3</th><td>Kirk</td><td>59.0</td><td>2</td></tr></tbody></table></div>"
      ],
      "text/latex": [
       "\\begin{tabular}{r|ccc}\n",
       "\t& name & age & children\\\\\n",
       "\t\\hline\n",
       "\t& String & Float64 & Int64\\\\\n",
       "\t\\hline\n",
       "\t1 & John & 23.0 & 3 \\\\\n",
       "\t2 & Sally & 42.0 & 2 \\\\\n",
       "\t3 & Kirk & 59.0 & 2 \\\\\n",
       "\\end{tabular}\n"
      ],
      "text/plain": [
       "\u001b[1m3×3 DataFrame\u001b[0m\n",
       "\u001b[1m Row \u001b[0m│\u001b[1m name   \u001b[0m\u001b[1m age     \u001b[0m\u001b[1m children \u001b[0m\n",
       "\u001b[1m     \u001b[0m│\u001b[90m String \u001b[0m\u001b[90m Float64 \u001b[0m\u001b[90m Int64    \u001b[0m\n",
       "─────┼───────────────────────────\n",
       "   1 │ John       23.0         3\n",
       "   2 │ Sally      42.0         2\n",
       "   3 │ Kirk       59.0         2"
      ]
     },
     "execution_count": 153,
     "metadata": {},
     "output_type": "execute_result"
    }
   ],
   "source": [
    "df = DataFrame(name=[\"John\", \"Sally\", \"Kirk\"],\n",
    "               age=[23., 42., 59.], children=[3,2,2])"
   ]
  },
  {
   "cell_type": "code",
   "execution_count": 154,
   "id": "406022aa-7719-4bc8-9d77-0c793f49b922",
   "metadata": {},
   "outputs": [
    {
     "data": {
      "text/html": [
       "<div class=\"data-frame\"><p>2 rows × 2 columns</p><table class=\"data-frame\"><thead><tr><th></th><th>Key</th><th>Count</th></tr><tr><th></th><th title=\"Int64\">Int64</th><th title=\"Int64\">Int64</th></tr></thead><tbody><tr><th>1</th><td>3</td><td>1</td></tr><tr><th>2</th><td>2</td><td>2</td></tr></tbody></table></div>"
      ],
      "text/latex": [
       "\\begin{tabular}{r|cc}\n",
       "\t& Key & Count\\\\\n",
       "\t\\hline\n",
       "\t& Int64 & Int64\\\\\n",
       "\t\\hline\n",
       "\t1 & 3 & 1 \\\\\n",
       "\t2 & 2 & 2 \\\\\n",
       "\\end{tabular}\n"
      ],
      "text/plain": [
       "\u001b[1m2×2 DataFrame\u001b[0m\n",
       "\u001b[1m Row \u001b[0m│\u001b[1m Key   \u001b[0m\u001b[1m Count \u001b[0m\n",
       "\u001b[1m     \u001b[0m│\u001b[90m Int64 \u001b[0m\u001b[90m Int64 \u001b[0m\n",
       "─────┼──────────────\n",
       "   1 │     3      1\n",
       "   2 │     2      2"
      ]
     },
     "execution_count": 154,
     "metadata": {},
     "output_type": "execute_result"
    }
   ],
   "source": [
    "x = df |>\n",
    "           @groupby(_.children) |> # children でグループ化\n",
    "           @map({Key=key(_), Count=length(_)}) |> # Count はサイズ\n",
    "           DataFrame"
   ]
  },
  {
   "cell_type": "markdown",
   "id": "942a33ad-9037-475f-8a91-9fd625b93296",
   "metadata": {},
   "source": [
    "## 30.4.　データのソート `@orderby`，`@orderby_descenidng`，`@thenby`，`@thenby_descending` コマンド\n",
    "\n",
    "`@orderby` コマンド<br>\n",
    "`@orderby_descenidng` コマンド\n",
    "\n",
    "データのソート（昇順，降順）\n",
    "\n",
    "`@thenby` コマンド<br>\n",
    "`@thenby_descending` コマンド\n",
    "\n",
    "直前のデータソートに続いてデータのソートを行う（昇順，降順）。直前のソートで同順位があった場合の処理を定義する。\n",
    "\n",
    "`source |> @orderby(key_selector)`\n",
    "\n",
    "`@orderby(key_selector) |> @thenby(key_selector2)`"
   ]
  },
  {
   "cell_type": "code",
   "execution_count": 155,
   "id": "53a55c9e-8cdc-4a2b-98ee-c4859cefae8a",
   "metadata": {},
   "outputs": [
    {
     "data": {
      "text/html": [
       "<div class=\"data-frame\"><p>6 rows × 2 columns</p><table class=\"data-frame\"><thead><tr><th></th><th>a</th><th>b</th></tr><tr><th></th><th title=\"Int64\">Int64</th><th title=\"Int64\">Int64</th></tr></thead><tbody><tr><th>1</th><td>3</td><td>2</td></tr><tr><th>2</th><td>2</td><td>1</td></tr><tr><th>3</th><td>2</td><td>2</td></tr><tr><th>4</th><td>1</td><td>1</td></tr><tr><th>5</th><td>1</td><td>2</td></tr><tr><th>6</th><td>1</td><td>3</td></tr></tbody></table></div>"
      ],
      "text/latex": [
       "\\begin{tabular}{r|cc}\n",
       "\t& a & b\\\\\n",
       "\t\\hline\n",
       "\t& Int64 & Int64\\\\\n",
       "\t\\hline\n",
       "\t1 & 3 & 2 \\\\\n",
       "\t2 & 2 & 1 \\\\\n",
       "\t3 & 2 & 2 \\\\\n",
       "\t4 & 1 & 1 \\\\\n",
       "\t5 & 1 & 2 \\\\\n",
       "\t6 & 1 & 3 \\\\\n",
       "\\end{tabular}\n"
      ],
      "text/plain": [
       "\u001b[1m6×2 DataFrame\u001b[0m\n",
       "\u001b[1m Row \u001b[0m│\u001b[1m a     \u001b[0m\u001b[1m b     \u001b[0m\n",
       "\u001b[1m     \u001b[0m│\u001b[90m Int64 \u001b[0m\u001b[90m Int64 \u001b[0m\n",
       "─────┼──────────────\n",
       "   1 │     3      2\n",
       "   2 │     2      1\n",
       "   3 │     2      2\n",
       "   4 │     1      1\n",
       "   5 │     1      2\n",
       "   6 │     1      3"
      ]
     },
     "execution_count": 155,
     "metadata": {},
     "output_type": "execute_result"
    }
   ],
   "source": [
    "df = DataFrame(a=[2,1,1,2,1,3],b=[2,2,1,1,3,2])\n",
    "x = df |> @orderby_descending(_.a) |> @thenby(_.b) |> DataFrame"
   ]
  },
  {
   "cell_type": "markdown",
   "id": "374963e3-55de-4c8c-b25f-11a73eecd484",
   "metadata": {},
   "source": [
    "## 30.5.　データフレームのマージ　@groupjoin コマンド\n",
    "\n",
    "`outer |> @groupjoin(inner, outer_selector, inner_selector, result_selector)`\n",
    "\n",
    "`outer`，`inner` はクエリーできるものなら何でもよい"
   ]
  },
  {
   "cell_type": "code",
   "execution_count": 156,
   "id": "16b2ef73-7eb6-499d-aad9-54622b84763b",
   "metadata": {},
   "outputs": [
    {
     "data": {
      "text/html": [
       "<div class=\"data-frame\"><p>3 rows × 2 columns</p><table class=\"data-frame\"><thead><tr><th></th><th>a</th><th>b</th></tr><tr><th></th><th title=\"Int64\">Int64</th><th title=\"Float64\">Float64</th></tr></thead><tbody><tr><th>1</th><td>1</td><td>1.0</td></tr><tr><th>2</th><td>2</td><td>2.0</td></tr><tr><th>3</th><td>3</td><td>3.0</td></tr></tbody></table></div>"
      ],
      "text/latex": [
       "\\begin{tabular}{r|cc}\n",
       "\t& a & b\\\\\n",
       "\t\\hline\n",
       "\t& Int64 & Float64\\\\\n",
       "\t\\hline\n",
       "\t1 & 1 & 1.0 \\\\\n",
       "\t2 & 2 & 2.0 \\\\\n",
       "\t3 & 3 & 3.0 \\\\\n",
       "\\end{tabular}\n"
      ],
      "text/plain": [
       "\u001b[1m3×2 DataFrame\u001b[0m\n",
       "\u001b[1m Row \u001b[0m│\u001b[1m a     \u001b[0m\u001b[1m b       \u001b[0m\n",
       "\u001b[1m     \u001b[0m│\u001b[90m Int64 \u001b[0m\u001b[90m Float64 \u001b[0m\n",
       "─────┼────────────────\n",
       "   1 │     1      1.0\n",
       "   2 │     2      2.0\n",
       "   3 │     3      3.0"
      ]
     },
     "execution_count": 156,
     "metadata": {},
     "output_type": "execute_result"
    }
   ],
   "source": [
    "df1 = DataFrame(a=[1,2,3], b=[1.,2.,3.])"
   ]
  },
  {
   "cell_type": "code",
   "execution_count": 157,
   "id": "6a3710d9-20ca-4f34-b63c-cd5a93039015",
   "metadata": {},
   "outputs": [
    {
     "data": {
      "text/html": [
       "<div class=\"data-frame\"><p>3 rows × 2 columns</p><table class=\"data-frame\"><thead><tr><th></th><th>c</th><th>d</th></tr><tr><th></th><th title=\"Int64\">Int64</th><th title=\"String\">String</th></tr></thead><tbody><tr><th>1</th><td>2</td><td>John</td></tr><tr><th>2</th><td>4</td><td>Jim</td></tr><tr><th>3</th><td>2</td><td>Sally</td></tr></tbody></table></div>"
      ],
      "text/latex": [
       "\\begin{tabular}{r|cc}\n",
       "\t& c & d\\\\\n",
       "\t\\hline\n",
       "\t& Int64 & String\\\\\n",
       "\t\\hline\n",
       "\t1 & 2 & John \\\\\n",
       "\t2 & 4 & Jim \\\\\n",
       "\t3 & 2 & Sally \\\\\n",
       "\\end{tabular}\n"
      ],
      "text/plain": [
       "\u001b[1m3×2 DataFrame\u001b[0m\n",
       "\u001b[1m Row \u001b[0m│\u001b[1m c     \u001b[0m\u001b[1m d      \u001b[0m\n",
       "\u001b[1m     \u001b[0m│\u001b[90m Int64 \u001b[0m\u001b[90m String \u001b[0m\n",
       "─────┼───────────────\n",
       "   1 │     2  John\n",
       "   2 │     4  Jim\n",
       "   3 │     2  Sally"
      ]
     },
     "execution_count": 157,
     "metadata": {},
     "output_type": "execute_result"
    }
   ],
   "source": [
    "df2 = DataFrame(c=[2,4,2], d=[\"John\", \"Jim\",\"Sally\"])"
   ]
  },
  {
   "cell_type": "code",
   "execution_count": 158,
   "id": "59d61df6-77cd-4e9c-b192-a7a79faef359",
   "metadata": {},
   "outputs": [
    {
     "data": {
      "text/html": [
       "<div class=\"data-frame\"><p>3 rows × 2 columns</p><table class=\"data-frame\"><thead><tr><th></th><th>t1</th><th>t2</th></tr><tr><th></th><th title=\"Int64\">Int64</th><th title=\"Int64\">Int64</th></tr></thead><tbody><tr><th>1</th><td>1</td><td>0</td></tr><tr><th>2</th><td>2</td><td>2</td></tr><tr><th>3</th><td>3</td><td>0</td></tr></tbody></table></div>"
      ],
      "text/latex": [
       "\\begin{tabular}{r|cc}\n",
       "\t& t1 & t2\\\\\n",
       "\t\\hline\n",
       "\t& Int64 & Int64\\\\\n",
       "\t\\hline\n",
       "\t1 & 1 & 0 \\\\\n",
       "\t2 & 2 & 2 \\\\\n",
       "\t3 & 3 & 0 \\\\\n",
       "\\end{tabular}\n"
      ],
      "text/plain": [
       "\u001b[1m3×2 DataFrame\u001b[0m\n",
       "\u001b[1m Row \u001b[0m│\u001b[1m t1    \u001b[0m\u001b[1m t2    \u001b[0m\n",
       "\u001b[1m     \u001b[0m│\u001b[90m Int64 \u001b[0m\u001b[90m Int64 \u001b[0m\n",
       "─────┼──────────────\n",
       "   1 │     1      0\n",
       "   2 │     2      2\n",
       "   3 │     3      0"
      ]
     },
     "execution_count": 158,
     "metadata": {},
     "output_type": "execute_result"
    }
   ],
   "source": [
    "x = df1 |> @groupjoin(df2, _.a, _.c, {t1=_.a, t2=length(__)}) |> DataFrame"
   ]
  },
  {
   "cell_type": "markdown",
   "id": "bf1dfb22-f39a-4fbe-a554-b32d70ca573c",
   "metadata": {},
   "source": [
    "## 30.6.　データフレームの連結　@join コマンド"
   ]
  },
  {
   "cell_type": "code",
   "execution_count": 159,
   "id": "82b9a9bc-ca74-49f8-8de5-f66dbf9f706c",
   "metadata": {},
   "outputs": [
    {
     "data": {
      "text/html": [
       "<div class=\"data-frame\"><p>2 rows × 4 columns</p><table class=\"data-frame\"><thead><tr><th></th><th>a</th><th>b</th><th>c</th><th>d</th></tr><tr><th></th><th title=\"Int64\">Int64</th><th title=\"Float64\">Float64</th><th title=\"Int64\">Int64</th><th title=\"String\">String</th></tr></thead><tbody><tr><th>1</th><td>2</td><td>2.0</td><td>2</td><td>John</td></tr><tr><th>2</th><td>2</td><td>2.0</td><td>2</td><td>Sally</td></tr></tbody></table></div>"
      ],
      "text/latex": [
       "\\begin{tabular}{r|cccc}\n",
       "\t& a & b & c & d\\\\\n",
       "\t\\hline\n",
       "\t& Int64 & Float64 & Int64 & String\\\\\n",
       "\t\\hline\n",
       "\t1 & 2 & 2.0 & 2 & John \\\\\n",
       "\t2 & 2 & 2.0 & 2 & Sally \\\\\n",
       "\\end{tabular}\n"
      ],
      "text/plain": [
       "\u001b[1m2×4 DataFrame\u001b[0m\n",
       "\u001b[1m Row \u001b[0m│\u001b[1m a     \u001b[0m\u001b[1m b       \u001b[0m\u001b[1m c     \u001b[0m\u001b[1m d      \u001b[0m\n",
       "\u001b[1m     \u001b[0m│\u001b[90m Int64 \u001b[0m\u001b[90m Float64 \u001b[0m\u001b[90m Int64 \u001b[0m\u001b[90m String \u001b[0m\n",
       "─────┼───────────────────────────────\n",
       "   1 │     2      2.0      2  John\n",
       "   2 │     2      2.0      2  Sally"
      ]
     },
     "execution_count": 159,
     "metadata": {},
     "output_type": "execute_result"
    }
   ],
   "source": [
    "df1 = DataFrame(a=[1,2,3], b=[1.,2.,3.])\n",
    "df2 = DataFrame(c=[2,4,2], d=[\"John\", \"Jim\",\"Sally\"])\n",
    "x = df1 |> @join(df2, _.a, _.c, {_.a, _.b, __.c, __.d}) |> DataFrame"
   ]
  },
  {
   "cell_type": "markdown",
   "id": "1281dcd3-1ac2-4226-9a7a-c1581b80137a",
   "metadata": {},
   "source": [
    "## 30.7.　キーと値のペアを展開　@mapmany コマンド"
   ]
  },
  {
   "cell_type": "code",
   "execution_count": 160,
   "id": "d4dd86b8-5708-486b-9038-e20beb21b338",
   "metadata": {},
   "outputs": [
    {
     "data": {
      "text/plain": [
       "Dict{Symbol, Vector{Int64}} with 2 entries:\n",
       "  :a => [1, 2, 3]\n",
       "  :b => [4, 5]"
      ]
     },
     "execution_count": 160,
     "metadata": {},
     "output_type": "execute_result"
    }
   ],
   "source": [
    "source = Dict(:a=>[1,2,3], :b=>[4,5])"
   ]
  },
  {
   "cell_type": "code",
   "execution_count": 161,
   "id": "adc5c1ec-3c10-4add-92a1-1f8e0bba822c",
   "metadata": {},
   "outputs": [
    {
     "data": {
      "text/html": [
       "<div class=\"data-frame\"><p>5 rows × 2 columns</p><table class=\"data-frame\"><thead><tr><th></th><th>Key</th><th>Value</th></tr><tr><th></th><th title=\"Symbol\">Symbol</th><th title=\"Int64\">Int64</th></tr></thead><tbody><tr><th>1</th><td>a</td><td>1</td></tr><tr><th>2</th><td>a</td><td>2</td></tr><tr><th>3</th><td>a</td><td>3</td></tr><tr><th>4</th><td>b</td><td>4</td></tr><tr><th>5</th><td>b</td><td>5</td></tr></tbody></table></div>"
      ],
      "text/latex": [
       "\\begin{tabular}{r|cc}\n",
       "\t& Key & Value\\\\\n",
       "\t\\hline\n",
       "\t& Symbol & Int64\\\\\n",
       "\t\\hline\n",
       "\t1 & a & 1 \\\\\n",
       "\t2 & a & 2 \\\\\n",
       "\t3 & a & 3 \\\\\n",
       "\t4 & b & 4 \\\\\n",
       "\t5 & b & 5 \\\\\n",
       "\\end{tabular}\n"
      ],
      "text/plain": [
       "\u001b[1m5×2 DataFrame\u001b[0m\n",
       "\u001b[1m Row \u001b[0m│\u001b[1m Key    \u001b[0m\u001b[1m Value \u001b[0m\n",
       "\u001b[1m     \u001b[0m│\u001b[90m Symbol \u001b[0m\u001b[90m Int64 \u001b[0m\n",
       "─────┼───────────────\n",
       "   1 │ a           1\n",
       "   2 │ a           2\n",
       "   3 │ a           3\n",
       "   4 │ b           4\n",
       "   5 │ b           5"
      ]
     },
     "execution_count": 161,
     "metadata": {},
     "output_type": "execute_result"
    }
   ],
   "source": [
    "q = source |> @mapmany(_.second, {Key=_.first, Value=__}) |> DataFrame"
   ]
  },
  {
   "cell_type": "markdown",
   "id": "c406bf00-f263-42bb-9141-4f60bf2bd98d",
   "metadata": {},
   "source": [
    "## 30.8.　要素を取り出す　@take コマンド\n",
    "\n",
    "最初から幾つの要素を取り出すかを指示する"
   ]
  },
  {
   "cell_type": "code",
   "execution_count": 162,
   "id": "208f4b4c-c021-42b5-bf04-b155a0d217df",
   "metadata": {},
   "outputs": [
    {
     "data": {
      "text/plain": [
       "3-element Vector{Int64}:\n",
       " 1\n",
       " 2\n",
       " 3"
      ]
     },
     "execution_count": 162,
     "metadata": {},
     "output_type": "execute_result"
    }
   ],
   "source": [
    "source = [1,2,3,4,5]\n",
    "q = source |> @take(3) |> collect"
   ]
  },
  {
   "cell_type": "markdown",
   "id": "8ad9f9dd-3aa4-4373-83a9-5c4256dc7d97",
   "metadata": {},
   "source": [
    "## 30.9.　要素を捨てる　@drop コマンド\n",
    "\n",
    "最初から幾つの要素を捨てるかを指示する。"
   ]
  },
  {
   "cell_type": "code",
   "execution_count": 163,
   "id": "c0aa91b6-aa32-4c6e-8db2-b5ce081d1389",
   "metadata": {},
   "outputs": [
    {
     "data": {
      "text/plain": [
       "2-element Vector{Int64}:\n",
       " 4\n",
       " 5"
      ]
     },
     "execution_count": 163,
     "metadata": {},
     "output_type": "execute_result"
    }
   ],
   "source": [
    "source = [1,2,3,4,5]\n",
    "q = source |> @drop(3) |> collect"
   ]
  },
  {
   "cell_type": "markdown",
   "id": "42ae576c-a3e8-42a6-9412-c7ec8379e446",
   "metadata": {},
   "source": [
    "## 30.10.　重複データを除く　@unique コマンド\n",
    "\n",
    "重複データを取り除く（ユニークなデータのみを残す）"
   ]
  },
  {
   "cell_type": "code",
   "execution_count": 164,
   "id": "70cc85f4-604f-4abf-9cfa-3a9b641c2daa",
   "metadata": {},
   "outputs": [
    {
     "data": {
      "text/plain": [
       "3-element Vector{Int64}:\n",
       " 1\n",
       " 2\n",
       " 3"
      ]
     },
     "execution_count": 164,
     "metadata": {},
     "output_type": "execute_result"
    }
   ],
   "source": [
    "source = [1,1,2,2,3]\n",
    "q = source |> @unique() |> collect"
   ]
  },
  {
   "cell_type": "markdown",
   "id": "3d13e984-234b-4d2a-91b6-aa6f2416761f",
   "metadata": {},
   "source": [
    "## 30.11.　列の選択　@select コマンド\n",
    "\n",
    "列の選択\n",
    "\n",
    "`source |> @select(selectors...)`\n",
    "\n",
    "`selector` は名前，位置，述語関数で選択，排除を指定する，これらは順に適用される（順序が変更されることはない）。"
   ]
  },
  {
   "cell_type": "code",
   "execution_count": 165,
   "id": "be0dab6d-11bc-492e-86d7-fefc87518bb1",
   "metadata": {},
   "outputs": [
    {
     "data": {
      "text/html": [
       "<div class=\"data-frame\"><p>3 rows × 2 columns</p><table class=\"data-frame\"><thead><tr><th></th><th>price</th><th>fruit</th></tr><tr><th></th><th title=\"Float64\">Float64</th><th title=\"String\">String</th></tr></thead><tbody><tr><th>1</th><td>1.2</td><td>Apple</td></tr><tr><th>2</th><td>2.0</td><td>Banana</td></tr><tr><th>3</th><td>0.4</td><td>Cherry</td></tr></tbody></table></div>"
      ],
      "text/latex": [
       "\\begin{tabular}{r|cc}\n",
       "\t& price & fruit\\\\\n",
       "\t\\hline\n",
       "\t& Float64 & String\\\\\n",
       "\t\\hline\n",
       "\t1 & 1.2 & Apple \\\\\n",
       "\t2 & 2.0 & Banana \\\\\n",
       "\t3 & 0.4 & Cherry \\\\\n",
       "\\end{tabular}\n"
      ],
      "text/plain": [
       "\u001b[1m3×2 DataFrame\u001b[0m\n",
       "\u001b[1m Row \u001b[0m│\u001b[1m price   \u001b[0m\u001b[1m fruit  \u001b[0m\n",
       "\u001b[1m     \u001b[0m│\u001b[90m Float64 \u001b[0m\u001b[90m String \u001b[0m\n",
       "─────┼─────────────────\n",
       "   1 │     1.2  Apple\n",
       "   2 │     2.0  Banana\n",
       "   3 │     0.4  Cherry"
      ]
     },
     "execution_count": 165,
     "metadata": {},
     "output_type": "execute_result"
    }
   ],
   "source": [
    "df = DataFrame(fruit=[\"Apple\",\"Banana\",\"Cherry\"],amount=[2,6,1000],\n",
    "                     price=[1.2,2.0,0.4],isyellow=[false,true,false])\n",
    "q1 = df |> @select(2:3, occursin(\"ui\"), -:amount) |> DataFrame"
   ]
  },
  {
   "cell_type": "code",
   "execution_count": 166,
   "id": "add81269-f74f-4765-90d1-87e6cdc9da5c",
   "metadata": {},
   "outputs": [
    {
     "data": {
      "text/html": [
       "<div class=\"data-frame\"><p>3 rows × 3 columns</p><table class=\"data-frame\"><thead><tr><th></th><th>price</th><th>isyellow</th><th>fruit</th></tr><tr><th></th><th title=\"Float64\">Float64</th><th title=\"Bool\">Bool</th><th title=\"String\">String</th></tr></thead><tbody><tr><th>1</th><td>1.2</td><td>0</td><td>Apple</td></tr><tr><th>2</th><td>2.0</td><td>1</td><td>Banana</td></tr><tr><th>3</th><td>0.4</td><td>0</td><td>Cherry</td></tr></tbody></table></div>"
      ],
      "text/latex": [
       "\\begin{tabular}{r|ccc}\n",
       "\t& price & isyellow & fruit\\\\\n",
       "\t\\hline\n",
       "\t& Float64 & Bool & String\\\\\n",
       "\t\\hline\n",
       "\t1 & 1.2 & 0 & Apple \\\\\n",
       "\t2 & 2.0 & 1 & Banana \\\\\n",
       "\t3 & 0.4 & 0 & Cherry \\\\\n",
       "\\end{tabular}\n"
      ],
      "text/plain": [
       "\u001b[1m3×3 DataFrame\u001b[0m\n",
       "\u001b[1m Row \u001b[0m│\u001b[1m price   \u001b[0m\u001b[1m isyellow \u001b[0m\u001b[1m fruit  \u001b[0m\n",
       "\u001b[1m     \u001b[0m│\u001b[90m Float64 \u001b[0m\u001b[90m Bool     \u001b[0m\u001b[90m String \u001b[0m\n",
       "─────┼───────────────────────────\n",
       "   1 │     1.2     false  Apple\n",
       "   2 │     2.0      true  Banana\n",
       "   3 │     0.4     false  Cherry"
      ]
     },
     "execution_count": 166,
     "metadata": {},
     "output_type": "execute_result"
    }
   ],
   "source": [
    "df = DataFrame(fruit=[\"Apple\",\"Banana\",\"Cherry\"],amount=[2,6,1000],\n",
    "                     price=[1.2,2.0,0.4],isyellow=[false,true,false])\n",
    "q2 = df |> @select(!endswith(\"t\"), 1) |> DataFrame"
   ]
  },
  {
   "cell_type": "markdown",
   "id": "e6f30593-5e46-4e31-b33a-45806c2afbb6",
   "metadata": {},
   "source": [
    "## 30.12.　列名の変更　@rename コマンド\n",
    "\n",
    "列名の変更\n",
    "\n",
    "`source |> @rename(args...)`\n",
    "\n",
    "`args` は順に適用される"
   ]
  },
  {
   "cell_type": "code",
   "execution_count": 167,
   "id": "b992af0e-bc6f-4a6f-b49a-82d31f38c4e9",
   "metadata": {},
   "outputs": [
    {
     "data": {
      "text/html": [
       "<div class=\"data-frame\"><p>3 rows × 4 columns</p><table class=\"data-frame\"><thead><tr><th></th><th>name</th><th>amount</th><th>cost</th><th>isyellow</th></tr><tr><th></th><th title=\"String\">String</th><th title=\"Int64\">Int64</th><th title=\"Float64\">Float64</th><th title=\"Bool\">Bool</th></tr></thead><tbody><tr><th>1</th><td>Apple</td><td>2</td><td>1.2</td><td>0</td></tr><tr><th>2</th><td>Banana</td><td>6</td><td>2.0</td><td>1</td></tr><tr><th>3</th><td>Cherry</td><td>1000</td><td>0.4</td><td>0</td></tr></tbody></table></div>"
      ],
      "text/latex": [
       "\\begin{tabular}{r|cccc}\n",
       "\t& name & amount & cost & isyellow\\\\\n",
       "\t\\hline\n",
       "\t& String & Int64 & Float64 & Bool\\\\\n",
       "\t\\hline\n",
       "\t1 & Apple & 2 & 1.2 & 0 \\\\\n",
       "\t2 & Banana & 6 & 2.0 & 1 \\\\\n",
       "\t3 & Cherry & 1000 & 0.4 & 0 \\\\\n",
       "\\end{tabular}\n"
      ],
      "text/plain": [
       "\u001b[1m3×4 DataFrame\u001b[0m\n",
       "\u001b[1m Row \u001b[0m│\u001b[1m name   \u001b[0m\u001b[1m amount \u001b[0m\u001b[1m cost    \u001b[0m\u001b[1m isyellow \u001b[0m\n",
       "\u001b[1m     \u001b[0m│\u001b[90m String \u001b[0m\u001b[90m Int64  \u001b[0m\u001b[90m Float64 \u001b[0m\u001b[90m Bool     \u001b[0m\n",
       "─────┼───────────────────────────────────\n",
       "   1 │ Apple        2      1.2     false\n",
       "   2 │ Banana       6      2.0      true\n",
       "   3 │ Cherry    1000      0.4     false"
      ]
     },
     "execution_count": 167,
     "metadata": {},
     "output_type": "execute_result"
    }
   ],
   "source": [
    "df = DataFrame(fruit=[\"Apple\",\"Banana\",\"Cherry\"],amount=[2,6,1000],\n",
    "                     price=[1.2,2.0,0.4],isyellow=[false,true,false])\n",
    "q = df |> @rename(:fruit => :food, :price => :cost, :food => :name) |> DataFrame"
   ]
  },
  {
   "cell_type": "markdown",
   "id": "3c71c8be-4ff8-4d0a-ad09-ab2addc05b28",
   "metadata": {},
   "source": [
    "## 30.13.　変数変換　@mutate コマンド\n",
    "\n",
    "数式で変数変換"
   ]
  },
  {
   "cell_type": "code",
   "execution_count": 168,
   "id": "9b00b559-1fac-4fd0-ba2d-5a7c6b757379",
   "metadata": {},
   "outputs": [
    {
     "data": {
      "text/html": [
       "<div class=\"data-frame\"><p>3 rows × 4 columns</p><table class=\"data-frame\"><thead><tr><th></th><th>fruit</th><th>amount</th><th>price</th><th>isyellow</th></tr><tr><th></th><th title=\"String\">String</th><th title=\"Int64\">Int64</th><th title=\"Float64\">Float64</th><th title=\"Bool\">Bool</th></tr></thead><tbody><tr><th>1</th><td>Apple</td><td>2</td><td>4.4</td><td>1</td></tr><tr><th>2</th><td>Banana</td><td>6</td><td>10.0</td><td>0</td></tr><tr><th>3</th><td>Cherry</td><td>1000</td><td>1000.8</td><td>0</td></tr></tbody></table></div>"
      ],
      "text/latex": [
       "\\begin{tabular}{r|cccc}\n",
       "\t& fruit & amount & price & isyellow\\\\\n",
       "\t\\hline\n",
       "\t& String & Int64 & Float64 & Bool\\\\\n",
       "\t\\hline\n",
       "\t1 & Apple & 2 & 4.4 & 1 \\\\\n",
       "\t2 & Banana & 6 & 10.0 & 0 \\\\\n",
       "\t3 & Cherry & 1000 & 1000.8 & 0 \\\\\n",
       "\\end{tabular}\n"
      ],
      "text/plain": [
       "\u001b[1m3×4 DataFrame\u001b[0m\n",
       "\u001b[1m Row \u001b[0m│\u001b[1m fruit  \u001b[0m\u001b[1m amount \u001b[0m\u001b[1m price   \u001b[0m\u001b[1m isyellow \u001b[0m\n",
       "\u001b[1m     \u001b[0m│\u001b[90m String \u001b[0m\u001b[90m Int64  \u001b[0m\u001b[90m Float64 \u001b[0m\u001b[90m Bool     \u001b[0m\n",
       "─────┼───────────────────────────────────\n",
       "   1 │ Apple        2      4.4      true\n",
       "   2 │ Banana       6     10.0     false\n",
       "   3 │ Cherry    1000   1000.8     false"
      ]
     },
     "execution_count": 168,
     "metadata": {},
     "output_type": "execute_result"
    }
   ],
   "source": [
    "df = DataFrame(fruit=[\"Apple\",\"Banana\",\"Cherry\"],amount=[2,6,1000],\n",
    "                     price=[1.2,2.0,0.4],isyellow=[false,true,false])\n",
    "q = df |> @mutate(price = 2 * _.price + _.amount, isyellow = _.fruit == \"Apple\") |> DataFrame"
   ]
  },
  {
   "cell_type": "markdown",
   "id": "031c2a5d-388f-48a0-a05f-380508d654e2",
   "metadata": {},
   "source": [
    "## 30.14.　欠損値行を除く　@dropna コマンド\n",
    "\n",
    "欠損値のある行を除く\n",
    "\n",
    "`source |> @dropna(columns...)`\n",
    "\n",
    "引数なしで `@dropna()` のように使用されるときは，全ての列が対象になる。"
   ]
  },
  {
   "cell_type": "code",
   "execution_count": 169,
   "id": "2d2e28ff-b92a-443b-bb4d-d1e23cfe653d",
   "metadata": {},
   "outputs": [
    {
     "data": {
      "text/html": [
       "<div class=\"data-frame\"><p>2 rows × 2 columns</p><table class=\"data-frame\"><thead><tr><th></th><th>a</th><th>b</th></tr><tr><th></th><th title=\"Int64\">Int64</th><th title=\"Int64\">Int64</th></tr></thead><tbody><tr><th>1</th><td>1</td><td>4</td></tr><tr><th>2</th><td>3</td><td>5</td></tr></tbody></table></div>"
      ],
      "text/latex": [
       "\\begin{tabular}{r|cc}\n",
       "\t& a & b\\\\\n",
       "\t\\hline\n",
       "\t& Int64 & Int64\\\\\n",
       "\t\\hline\n",
       "\t1 & 1 & 4 \\\\\n",
       "\t2 & 3 & 5 \\\\\n",
       "\\end{tabular}\n"
      ],
      "text/plain": [
       "\u001b[1m2×2 DataFrame\u001b[0m\n",
       "\u001b[1m Row \u001b[0m│\u001b[1m a     \u001b[0m\u001b[1m b     \u001b[0m\n",
       "\u001b[1m     \u001b[0m│\u001b[90m Int64 \u001b[0m\u001b[90m Int64 \u001b[0m\n",
       "─────┼──────────────\n",
       "   1 │     1      4\n",
       "   2 │     3      5"
      ]
     },
     "execution_count": 169,
     "metadata": {},
     "output_type": "execute_result"
    }
   ],
   "source": [
    "df = DataFrame(a=[1,2,3], b=[4,missing,5])\n",
    "q = df |> @dropna() |> DataFrame"
   ]
  },
  {
   "cell_type": "code",
   "execution_count": 170,
   "id": "0febaca3-de98-4d06-8102-45343649aacb",
   "metadata": {},
   "outputs": [
    {
     "data": {
      "text/html": [
       "<div class=\"data-frame\"><p>2 rows × 2 columns</p><table class=\"data-frame\"><thead><tr><th></th><th>a</th><th>b</th></tr><tr><th></th><th title=\"Int64\">Int64</th><th title=\"Int64\">Int64</th></tr></thead><tbody><tr><th>1</th><td>1</td><td>4</td></tr><tr><th>2</th><td>3</td><td>5</td></tr></tbody></table></div>"
      ],
      "text/latex": [
       "\\begin{tabular}{r|cc}\n",
       "\t& a & b\\\\\n",
       "\t\\hline\n",
       "\t& Int64 & Int64\\\\\n",
       "\t\\hline\n",
       "\t1 & 1 & 4 \\\\\n",
       "\t2 & 3 & 5 \\\\\n",
       "\\end{tabular}\n"
      ],
      "text/plain": [
       "\u001b[1m2×2 DataFrame\u001b[0m\n",
       "\u001b[1m Row \u001b[0m│\u001b[1m a     \u001b[0m\u001b[1m b     \u001b[0m\n",
       "\u001b[1m     \u001b[0m│\u001b[90m Int64 \u001b[0m\u001b[90m Int64 \u001b[0m\n",
       "─────┼──────────────\n",
       "   1 │     1      4\n",
       "   2 │     3      5"
      ]
     },
     "execution_count": 170,
     "metadata": {},
     "output_type": "execute_result"
    }
   ],
   "source": [
    "q = df |> @dropna(:b) |> DataFrame"
   ]
  },
  {
   "cell_type": "code",
   "execution_count": 171,
   "id": "1d9c33f2-d963-4eff-a379-31dbf5db5779",
   "metadata": {},
   "outputs": [
    {
     "data": {
      "text/html": [
       "<div class=\"data-frame\"><p>2 rows × 2 columns</p><table class=\"data-frame\"><thead><tr><th></th><th>a</th><th>b</th></tr><tr><th></th><th title=\"Int64\">Int64</th><th title=\"Int64\">Int64</th></tr></thead><tbody><tr><th>1</th><td>1</td><td>4</td></tr><tr><th>2</th><td>3</td><td>5</td></tr></tbody></table></div>"
      ],
      "text/latex": [
       "\\begin{tabular}{r|cc}\n",
       "\t& a & b\\\\\n",
       "\t\\hline\n",
       "\t& Int64 & Int64\\\\\n",
       "\t\\hline\n",
       "\t1 & 1 & 4 \\\\\n",
       "\t2 & 3 & 5 \\\\\n",
       "\\end{tabular}\n"
      ],
      "text/plain": [
       "\u001b[1m2×2 DataFrame\u001b[0m\n",
       "\u001b[1m Row \u001b[0m│\u001b[1m a     \u001b[0m\u001b[1m b     \u001b[0m\n",
       "\u001b[1m     \u001b[0m│\u001b[90m Int64 \u001b[0m\u001b[90m Int64 \u001b[0m\n",
       "─────┼──────────────\n",
       "   1 │     1      4\n",
       "   2 │     3      5"
      ]
     },
     "execution_count": 171,
     "metadata": {},
     "output_type": "execute_result"
    }
   ],
   "source": [
    "q = df |> @dropna(:b, :a) |> DataFrame"
   ]
  },
  {
   "cell_type": "markdown",
   "id": "c23d3619-f597-43ce-b4cf-3947ea317b6e",
   "metadata": {},
   "source": [
    "## 30.15.　欠損値を含まないデータフレーム　@dissallowna コマンド\n",
    "\n",
    "欠損値を含まないデータフレームとする\n",
    "\n",
    "`source |> @dissallowna(columns...)`\n",
    "\n",
    "`@dissallowna()` のように引数なしで使われると全ての列を対象にする。"
   ]
  },
  {
   "cell_type": "code",
   "execution_count": 172,
   "id": "b8c272f0-ee92-48bc-a45c-7c1a6d99a6fb",
   "metadata": {},
   "outputs": [
    {
     "data": {
      "text/html": [
       "<div class=\"data-frame\"><p>2 rows × 2 columns</p><table class=\"data-frame\"><thead><tr><th></th><th>a</th><th>b</th></tr><tr><th></th><th title=\"Int64\">Int64</th><th title=\"Int64\">Int64</th></tr></thead><tbody><tr><th>1</th><td>1</td><td>4</td></tr><tr><th>2</th><td>3</td><td>6</td></tr></tbody></table></div>"
      ],
      "text/latex": [
       "\\begin{tabular}{r|cc}\n",
       "\t& a & b\\\\\n",
       "\t\\hline\n",
       "\t& Int64 & Int64\\\\\n",
       "\t\\hline\n",
       "\t1 & 1 & 4 \\\\\n",
       "\t2 & 3 & 6 \\\\\n",
       "\\end{tabular}\n"
      ],
      "text/plain": [
       "\u001b[1m2×2 DataFrame\u001b[0m\n",
       "\u001b[1m Row \u001b[0m│\u001b[1m a     \u001b[0m\u001b[1m b     \u001b[0m\n",
       "\u001b[1m     \u001b[0m│\u001b[90m Int64 \u001b[0m\u001b[90m Int64 \u001b[0m\n",
       "─────┼──────────────\n",
       "   1 │     1      4\n",
       "   2 │     3      6"
      ]
     },
     "execution_count": 172,
     "metadata": {},
     "output_type": "execute_result"
    }
   ],
   "source": [
    "df = DataFrame(a=[1,missing,3], b=[4,5,6])\n",
    "q = df |> @filter(!isna(_.a)) |> @dissallowna() |> DataFrame"
   ]
  },
  {
   "cell_type": "code",
   "execution_count": 173,
   "id": "c2ba3686-3932-45b8-8634-4a19ae4b4277",
   "metadata": {},
   "outputs": [
    {
     "data": {
      "text/html": [
       "<div class=\"data-frame\"><p>2 rows × 2 columns</p><table class=\"data-frame\"><thead><tr><th></th><th>a</th><th>b</th></tr><tr><th></th><th title=\"Union{Missing, Int64}\">Int64?</th><th title=\"Int64\">Int64</th></tr></thead><tbody><tr><th>1</th><td>1</td><td>4</td></tr><tr><th>2</th><td><em>missing</em></td><td>5</td></tr></tbody></table></div>"
      ],
      "text/latex": [
       "\\begin{tabular}{r|cc}\n",
       "\t& a & b\\\\\n",
       "\t\\hline\n",
       "\t& Int64? & Int64\\\\\n",
       "\t\\hline\n",
       "\t1 & 1 & 4 \\\\\n",
       "\t2 & \\emph{missing} & 5 \\\\\n",
       "\\end{tabular}\n"
      ],
      "text/plain": [
       "\u001b[1m2×2 DataFrame\u001b[0m\n",
       "\u001b[1m Row \u001b[0m│\u001b[1m a       \u001b[0m\u001b[1m b     \u001b[0m\n",
       "\u001b[1m     \u001b[0m│\u001b[90m Int64?  \u001b[0m\u001b[90m Int64 \u001b[0m\n",
       "─────┼────────────────\n",
       "   1 │       1      4\n",
       "   2 │\u001b[90m missing \u001b[0m     5"
      ]
     },
     "execution_count": 173,
     "metadata": {},
     "output_type": "execute_result"
    }
   ],
   "source": [
    "df = DataFrame(a=[1,2,missing], b=[4,missing,5])\n",
    "q = df |> @filter(!isna(_.b)) |> @dissallowna(:b) |> DataFrame"
   ]
  },
  {
   "cell_type": "markdown",
   "id": "39874f9f-d2f5-4aa9-99c0-85141603f01e",
   "metadata": {},
   "source": [
    "## 30.16.　欠損値の置き換え　@replacena コマンド\n",
    "\n",
    "欠損値の置き換え\n",
    "\n",
    "`source |> @replacena(replacement_value)`"
   ]
  },
  {
   "cell_type": "code",
   "execution_count": 174,
   "id": "53db8747-1674-443b-8a75-22ff9c9e2033",
   "metadata": {},
   "outputs": [
    {
     "data": {
      "text/html": [
       "<div class=\"data-frame\"><p>3 rows × 2 columns</p><table class=\"data-frame\"><thead><tr><th></th><th>a</th><th>b</th></tr><tr><th></th><th title=\"Int64\">Int64</th><th title=\"Int64\">Int64</th></tr></thead><tbody><tr><th>1</th><td>1</td><td>4</td></tr><tr><th>2</th><td>0</td><td>5</td></tr><tr><th>3</th><td>3</td><td>6</td></tr></tbody></table></div>"
      ],
      "text/latex": [
       "\\begin{tabular}{r|cc}\n",
       "\t& a & b\\\\\n",
       "\t\\hline\n",
       "\t& Int64 & Int64\\\\\n",
       "\t\\hline\n",
       "\t1 & 1 & 4 \\\\\n",
       "\t2 & 0 & 5 \\\\\n",
       "\t3 & 3 & 6 \\\\\n",
       "\\end{tabular}\n"
      ],
      "text/plain": [
       "\u001b[1m3×2 DataFrame\u001b[0m\n",
       "\u001b[1m Row \u001b[0m│\u001b[1m a     \u001b[0m\u001b[1m b     \u001b[0m\n",
       "\u001b[1m     \u001b[0m│\u001b[90m Int64 \u001b[0m\u001b[90m Int64 \u001b[0m\n",
       "─────┼──────────────\n",
       "   1 │     1      4\n",
       "   2 │     0      5\n",
       "   3 │     3      6"
      ]
     },
     "execution_count": 174,
     "metadata": {},
     "output_type": "execute_result"
    }
   ],
   "source": [
    "df = DataFrame(a=[1,missing,3], b=[4,5,6])\n",
    "q = df |> @replacena(0) |> DataFrame"
   ]
  },
  {
   "cell_type": "code",
   "execution_count": 175,
   "id": "8a14dbd8-688f-465f-b1b9-9165f710caff",
   "metadata": {},
   "outputs": [
    {
     "data": {
      "text/html": [
       "<div class=\"data-frame\"><p>3 rows × 2 columns</p><table class=\"data-frame\"><thead><tr><th></th><th>a</th><th>b</th></tr><tr><th></th><th title=\"Int64\">Int64</th><th title=\"String\">String</th></tr></thead><tbody><tr><th>1</th><td>1</td><td>One</td></tr><tr><th>2</th><td>2</td><td>Unknown</td></tr><tr><th>3</th><td>0</td><td>Three</td></tr></tbody></table></div>"
      ],
      "text/latex": [
       "\\begin{tabular}{r|cc}\n",
       "\t& a & b\\\\\n",
       "\t\\hline\n",
       "\t& Int64 & String\\\\\n",
       "\t\\hline\n",
       "\t1 & 1 & One \\\\\n",
       "\t2 & 2 & Unknown \\\\\n",
       "\t3 & 0 & Three \\\\\n",
       "\\end{tabular}\n"
      ],
      "text/plain": [
       "\u001b[1m3×2 DataFrame\u001b[0m\n",
       "\u001b[1m Row \u001b[0m│\u001b[1m a     \u001b[0m\u001b[1m b       \u001b[0m\n",
       "\u001b[1m     \u001b[0m│\u001b[90m Int64 \u001b[0m\u001b[90m String  \u001b[0m\n",
       "─────┼────────────────\n",
       "   1 │     1  One\n",
       "   2 │     2  Unknown\n",
       "   3 │     0  Three"
      ]
     },
     "execution_count": 175,
     "metadata": {},
     "output_type": "execute_result"
    }
   ],
   "source": [
    "df = DataFrame(a=[1,2,missing], b=[\"One\",missing,\"Three\"])\n",
    "q = df |> @replacena(:b=>\"Unknown\", :a=>0) |> DataFrame"
   ]
  },
  {
   "cell_type": "markdown",
   "id": "de27ed94-3c9b-4645-8725-1f445b01e138",
   "metadata": {},
   "source": [
    "# 31.　データフレームを二次元配列に変換する\n",
    "\n",
    "Matrix() を使用する。データフレームの各列の型が違う場合（特に数値型と文字列型が混在するような場合）には，R のように最上位の型に統一されることはない。"
   ]
  },
  {
   "cell_type": "code",
   "execution_count": 176,
   "id": "0ea157ef-bb18-463b-8cdc-292284157c13",
   "metadata": {},
   "outputs": [
    {
     "data": {
      "text/plain": [
       "5×6 Matrix{Float64}:\n",
       " 41.0  190.0   7.4  67.0  5.0  1.0\n",
       " 36.0  118.0   8.0  72.0  5.0  2.0\n",
       " 12.0  149.0  12.6  74.0  5.0  3.0\n",
       " 18.0  313.0  11.5  62.0  5.0  4.0\n",
       " 23.0  299.0   8.6  65.0  5.0  7.0"
      ]
     },
     "execution_count": 176,
     "metadata": {},
     "output_type": "execute_result"
    }
   ],
   "source": [
    "M = Matrix(airquality);\n",
    "M[1:5, :]"
   ]
  },
  {
   "cell_type": "code",
   "execution_count": 177,
   "id": "8e96b39b-c0db-49f1-bb25-6cc04feeef05",
   "metadata": {},
   "outputs": [
    {
     "data": {
      "text/plain": [
       "3×5 Matrix{Any}:\n",
       " 5.1  3.5  1.4  0.2  \"setosa\"\n",
       " 4.9  3.0  1.4  0.2  \"setosa\"\n",
       " 4.7  3.2  1.3  0.2  \"setosa\""
      ]
     },
     "execution_count": 177,
     "metadata": {},
     "output_type": "execute_result"
    }
   ],
   "source": [
    "M2 = Matrix(iris[1:3, :])"
   ]
  }
 ],
 "metadata": {
  "kernelspec": {
   "display_name": "Julia 1.7.2",
   "language": "julia",
   "name": "julia-1.7"
  },
  "language_info": {
   "file_extension": ".jl",
   "mimetype": "application/julia",
   "name": "julia",
   "version": "1.7.2"
  },
  "toc-autonumbering": false,
  "toc-showcode": false
 },
 "nbformat": 4,
 "nbformat_minor": 5
}
