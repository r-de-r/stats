{
 "cells": [
  {
   "cell_type": "markdown",
   "id": "910e8694-f384-4f79-bf01-f204bc56ed58",
   "metadata": {},
   "source": [
    "# データフレームの操作\n",
    "\n",
    "Julia で引用できるデータを例として，データフレームの操作法について述べる。"
   ]
  },
  {
   "cell_type": "code",
   "execution_count": 2,
   "id": "24b62172-04e0-46e5-8a83-abf0c8099a45",
   "metadata": {},
   "outputs": [],
   "source": [
    "using RDatasets"
   ]
  },
  {
   "cell_type": "markdown",
   "id": "e1247dff-078f-419a-b928-14a22c52b01e",
   "metadata": {},
   "source": [
    "RDatasets.dataset(\"datasets\", \"airquality\") のように，第 2 引数で指定したデータセットが利用できる。"
   ]
  },
  {
   "cell_type": "code",
   "execution_count": 7,
   "id": "4a81ff1d-ecbb-467d-837b-42428513b6fb",
   "metadata": {},
   "outputs": [],
   "source": [
    "airquality = RDatasets.dataset(\"datasets\", \"airquality\");"
   ]
  },
  {
   "cell_type": "markdown",
   "id": "165f8eba-42a9-4443-8b8f-4cc7c92ea133",
   "metadata": {},
   "source": [
    "## データフレームの概要\n",
    "\n",
    "### データセットの大きさ\n",
    "\n",
    "データセットの大きさは size() で得られる。結果はタプル (行数, 列数) で返される。"
   ]
  },
  {
   "cell_type": "code",
   "execution_count": 99,
   "id": "41f41a81-f004-4395-95f9-2caf5d70e438",
   "metadata": {},
   "outputs": [
    {
     "data": {
      "text/plain": [
       "(153, 6)"
      ]
     },
     "execution_count": 99,
     "metadata": {},
     "output_type": "execute_result"
    }
   ],
   "source": [
    "size(airquality)"
   ]
  },
  {
   "cell_type": "markdown",
   "id": "124ee758-4a32-4027-aadd-8eea918ca39a",
   "metadata": {},
   "source": [
    "### データフレームの表示\n",
    "\n",
    "データフレームの最初の n 行，最後の m 行を表示するには，first(df, n), last(df, m) のように指定する。\n",
    "n, m が省略された場合は 1 が仮定される。"
   ]
  },
  {
   "cell_type": "code",
   "execution_count": 100,
   "id": "582fe284-1621-4bbe-9703-18c8604986e1",
   "metadata": {},
   "outputs": [
    {
     "data": {
      "text/html": [
       "<div class=\"data-frame\"><p>5 rows × 6 columns</p><table class=\"data-frame\"><thead><tr><th></th><th>Ozone</th><th>Solar.R</th><th>Wind</th><th>Temp</th><th>Month</th><th>Day</th></tr><tr><th></th><th title=\"Union{Missing, Int64}\">Int64?</th><th title=\"Union{Missing, Int64}\">Int64?</th><th title=\"Float64\">Float64</th><th title=\"Int64\">Int64</th><th title=\"Int64\">Int64</th><th title=\"Int64\">Int64</th></tr></thead><tbody><tr><th>1</th><td>41</td><td>190</td><td>7.4</td><td>67</td><td>5</td><td>1</td></tr><tr><th>2</th><td>36</td><td>118</td><td>8.0</td><td>72</td><td>5</td><td>2</td></tr><tr><th>3</th><td>12</td><td>149</td><td>12.6</td><td>74</td><td>5</td><td>3</td></tr><tr><th>4</th><td>18</td><td>313</td><td>11.5</td><td>62</td><td>5</td><td>4</td></tr><tr><th>5</th><td><em>missing</em></td><td><em>missing</em></td><td>14.3</td><td>56</td><td>5</td><td>5</td></tr></tbody></table></div>"
      ],
      "text/latex": [
       "\\begin{tabular}{r|cccccc}\n",
       "\t& Ozone & Solar.R & Wind & Temp & Month & Day\\\\\n",
       "\t\\hline\n",
       "\t& Int64? & Int64? & Float64 & Int64 & Int64 & Int64\\\\\n",
       "\t\\hline\n",
       "\t1 & 41 & 190 & 7.4 & 67 & 5 & 1 \\\\\n",
       "\t2 & 36 & 118 & 8.0 & 72 & 5 & 2 \\\\\n",
       "\t3 & 12 & 149 & 12.6 & 74 & 5 & 3 \\\\\n",
       "\t4 & 18 & 313 & 11.5 & 62 & 5 & 4 \\\\\n",
       "\t5 & \\emph{missing} & \\emph{missing} & 14.3 & 56 & 5 & 5 \\\\\n",
       "\\end{tabular}\n"
      ],
      "text/plain": [
       "\u001b[1m5×6 DataFrame\u001b[0m\n",
       "\u001b[1m Row \u001b[0m│\u001b[1m Ozone   \u001b[0m\u001b[1m Solar.R \u001b[0m\u001b[1m Wind    \u001b[0m\u001b[1m Temp  \u001b[0m\u001b[1m Month \u001b[0m\u001b[1m Day   \u001b[0m\n",
       "\u001b[1m     \u001b[0m│\u001b[90m Int64?  \u001b[0m\u001b[90m Int64?  \u001b[0m\u001b[90m Float64 \u001b[0m\u001b[90m Int64 \u001b[0m\u001b[90m Int64 \u001b[0m\u001b[90m Int64 \u001b[0m\n",
       "─────┼────────────────────────────────────────────────\n",
       "   1 │      41      190      7.4     67      5      1\n",
       "   2 │      36      118      8.0     72      5      2\n",
       "   3 │      12      149     12.6     74      5      3\n",
       "   4 │      18      313     11.5     62      5      4\n",
       "   5 │\u001b[90m missing \u001b[0m\u001b[90m missing \u001b[0m    14.3     56      5      5"
      ]
     },
     "execution_count": 100,
     "metadata": {},
     "output_type": "execute_result"
    }
   ],
   "source": [
    "first(airquality, 5)"
   ]
  },
  {
   "cell_type": "code",
   "execution_count": 101,
   "id": "60144106-d0e6-4cd3-8f02-e7807f0afe54",
   "metadata": {},
   "outputs": [
    {
     "data": {
      "text/html": [
       "<div class=\"data-frame\"><p>3 rows × 6 columns</p><table class=\"data-frame\"><thead><tr><th></th><th>Ozone</th><th>Solar.R</th><th>Wind</th><th>Temp</th><th>Month</th><th>Day</th></tr><tr><th></th><th title=\"Union{Missing, Int64}\">Int64?</th><th title=\"Union{Missing, Int64}\">Int64?</th><th title=\"Float64\">Float64</th><th title=\"Int64\">Int64</th><th title=\"Int64\">Int64</th><th title=\"Int64\">Int64</th></tr></thead><tbody><tr><th>1</th><td>14</td><td>191</td><td>14.3</td><td>75</td><td>9</td><td>28</td></tr><tr><th>2</th><td>18</td><td>131</td><td>8.0</td><td>76</td><td>9</td><td>29</td></tr><tr><th>3</th><td>20</td><td>223</td><td>11.5</td><td>68</td><td>9</td><td>30</td></tr></tbody></table></div>"
      ],
      "text/latex": [
       "\\begin{tabular}{r|cccccc}\n",
       "\t& Ozone & Solar.R & Wind & Temp & Month & Day\\\\\n",
       "\t\\hline\n",
       "\t& Int64? & Int64? & Float64 & Int64 & Int64 & Int64\\\\\n",
       "\t\\hline\n",
       "\t1 & 14 & 191 & 14.3 & 75 & 9 & 28 \\\\\n",
       "\t2 & 18 & 131 & 8.0 & 76 & 9 & 29 \\\\\n",
       "\t3 & 20 & 223 & 11.5 & 68 & 9 & 30 \\\\\n",
       "\\end{tabular}\n"
      ],
      "text/plain": [
       "\u001b[1m3×6 DataFrame\u001b[0m\n",
       "\u001b[1m Row \u001b[0m│\u001b[1m Ozone  \u001b[0m\u001b[1m Solar.R \u001b[0m\u001b[1m Wind    \u001b[0m\u001b[1m Temp  \u001b[0m\u001b[1m Month \u001b[0m\u001b[1m Day   \u001b[0m\n",
       "\u001b[1m     \u001b[0m│\u001b[90m Int64? \u001b[0m\u001b[90m Int64?  \u001b[0m\u001b[90m Float64 \u001b[0m\u001b[90m Int64 \u001b[0m\u001b[90m Int64 \u001b[0m\u001b[90m Int64 \u001b[0m\n",
       "─────┼───────────────────────────────────────────────\n",
       "   1 │     14      191     14.3     75      9     28\n",
       "   2 │     18      131      8.0     76      9     29\n",
       "   3 │     20      223     11.5     68      9     30"
      ]
     },
     "execution_count": 101,
     "metadata": {},
     "output_type": "execute_result"
    }
   ],
   "source": [
    "last(airquality, 3)"
   ]
  },
  {
   "cell_type": "markdown",
   "id": "b3303eae-3406-4acf-88b3-1022673cdba4",
   "metadata": {},
   "source": [
    "データフレームの表示の 1 行目は，列名（変数名），2 行目はそれぞれのデータの型である。\n",
    "Int64 は整数型，Float64 は実数型，String は文字列型である。なお，それぞれの型名の後に ? がついている場合は，データ中に欠損値 missing が含まれることを表している。"
   ]
  },
  {
   "cell_type": "markdown",
   "id": "f8d2b264-c886-4dff-b9b1-09234617a908",
   "metadata": {},
   "source": [
    "### データフレームの変数名\n",
    "\n",
    "変数名は names() で得られる。"
   ]
  },
  {
   "cell_type": "code",
   "execution_count": 102,
   "id": "b365434a-513a-4ecb-a9c3-aa53bd467080",
   "metadata": {},
   "outputs": [
    {
     "data": {
      "text/plain": [
       "6-element Vector{String}:\n",
       " \"Ozone\"\n",
       " \"Solar.R\"\n",
       " \"Wind\"\n",
       " \"Temp\"\n",
       " \"Month\"\n",
       " \"Day\""
      ]
     },
     "execution_count": 102,
     "metadata": {},
     "output_type": "execute_result"
    }
   ],
   "source": [
    "names(airquality)"
   ]
  },
  {
   "cell_type": "markdown",
   "id": "3db6ed36-bfa7-40a3-98f4-8e8fe63e0f7c",
   "metadata": {},
   "source": [
    "### データフレームの列の参照\n",
    "\n",
    "Julia では，列を参照するときに何通りかの方法がある。\n",
    "\n",
    "いかの方法は，1 つの列全体を参照する。\n",
    "列名の前に : を付けたもの，以下の例では :Ozone は Julia では「シンボル」と呼ばれる（必ずしもデータフレームの取り扱いのときだけでなく，整数や文字列のようなものとして扱われる）。"
   ]
  },
  {
   "cell_type": "code",
   "execution_count": 8,
   "id": "ddb93e9a-c541-4239-bc6c-f37742804907",
   "metadata": {},
   "outputs": [],
   "source": [
    "airquality.Ozone;\n",
    "airquality.\"Ozone\"\n",
    "airquality[:, :Ozone];\n",
    "airquality[:, \"Ozone\"];\n",
    "firstcolumn = :Ozone\n",
    "airquality[:, firstcolumn];\n",
    "airquality[:, 1];"
   ]
  },
  {
   "cell_type": "markdown",
   "id": "36ca1d54-a29e-49b1-b330-6bf74fed7622",
   "metadata": {},
   "source": [
    "1 番目の指定法が一番わかり易いと思うが，例からも想像できるように，変数名の中に '.' があるとエラーになる。そのような場合には前もって列名を変更するか 2 番目の方法すなわち引用符でくくればよい。"
   ]
  },
  {
   "cell_type": "code",
   "execution_count": 104,
   "id": "342e6a7c-1df0-493d-b659-72d8486a7a9f",
   "metadata": {},
   "outputs": [],
   "source": [
    "# airquality.Solar.R\n",
    "# ArgumentError: column name :Solar not found in the data frame; existing most similar names are: :Solar.R"
   ]
  },
  {
   "cell_type": "code",
   "execution_count": null,
   "id": "49a60446-e6bc-4a06-be44-9e3ec9a1067c",
   "metadata": {},
   "outputs": [],
   "source": [
    "airquality.\"Solar.R\";"
   ]
  },
  {
   "cell_type": "markdown",
   "id": "a895685d-87a9-48b2-b243-9ee306af74f6",
   "metadata": {},
   "source": [
    "列を範囲でで参照するときには [第 1 引数, 第 2 引数] のように指定する。第 1 引数は行，第 2 引数は列を指定する。\n",
    "\n",
    "「数1:数2」のように表したときは数1から数2までの整数，[数1, 数2, ...]　あるいは [シンボル1, シンボル2, ...]\n",
    " あるいは [文字列1, 文字列2, ...] のように表した場合はそれぞれをまとめたもの（集合）として扱われる。特に，: 一文字が使われる場合はその行や列全部を表す。"
   ]
  },
  {
   "cell_type": "code",
   "execution_count": 12,
   "id": "89deb41f-0e88-4b27-a9ad-b8e6bee813dc",
   "metadata": {},
   "outputs": [
    {
     "data": {
      "text/html": [
       "<div class=\"data-frame\"><p>5 rows × 2 columns</p><table class=\"data-frame\"><thead><tr><th></th><th>Ozone</th><th>Wind</th></tr><tr><th></th><th title=\"Union{Missing, Int64}\">Int64?</th><th title=\"Float64\">Float64</th></tr></thead><tbody><tr><th>1</th><td>41</td><td>7.4</td></tr><tr><th>2</th><td>36</td><td>8.0</td></tr><tr><th>3</th><td>12</td><td>12.6</td></tr><tr><th>4</th><td>18</td><td>11.5</td></tr><tr><th>5</th><td><em>missing</em></td><td>14.3</td></tr></tbody></table></div>"
      ],
      "text/latex": [
       "\\begin{tabular}{r|cc}\n",
       "\t& Ozone & Wind\\\\\n",
       "\t\\hline\n",
       "\t& Int64? & Float64\\\\\n",
       "\t\\hline\n",
       "\t1 & 41 & 7.4 \\\\\n",
       "\t2 & 36 & 8.0 \\\\\n",
       "\t3 & 12 & 12.6 \\\\\n",
       "\t4 & 18 & 11.5 \\\\\n",
       "\t5 & \\emph{missing} & 14.3 \\\\\n",
       "\\end{tabular}\n"
      ],
      "text/plain": [
       "\u001b[1m5×2 DataFrame\u001b[0m\n",
       "\u001b[1m Row \u001b[0m│\u001b[1m Ozone   \u001b[0m\u001b[1m Wind    \u001b[0m\n",
       "\u001b[1m     \u001b[0m│\u001b[90m Int64?  \u001b[0m\u001b[90m Float64 \u001b[0m\n",
       "─────┼──────────────────\n",
       "   1 │      41      7.4\n",
       "   2 │      36      8.0\n",
       "   3 │      12     12.6\n",
       "   4 │      18     11.5\n",
       "   5 │\u001b[90m missing \u001b[0m    14.3"
      ]
     },
     "execution_count": 12,
     "metadata": {},
     "output_type": "execute_result"
    }
   ],
   "source": [
    "airquality[1:5, [1, 3]]"
   ]
  },
  {
   "cell_type": "markdown",
   "id": "0466d535-68f1-4204-84e6-aa99e9ee6a62",
   "metadata": {},
   "source": [
    "第 1 引数は : で表す他に ! で表すこともある。: はデータフレームをコピーして参照するが，! は直接参照する。\n",
    "\n",
    "下の 2 つの例において，test の第 1 列は元のままの Int64? であるが，test2 の第1列は，test2 の第2列と同じ Float64 になる。\n",
    "この違いは，大したことではないこともあるが，大きな落とし穴になることもあるので注意が必要である。\n",
    "\n",
    "たとえば，下の例で 10 倍する代わりに 5 倍するようにすると。test[:, 1] は 「InexactError: Int64(57.5)」というエラーを発生する。つまり，「元のままの Int64? に 57.5 の整数部 Int(57.5) を大入試要素敦賀精度が失われるよ」というエラーである。\n",
    "\n",
    "大雑把な方針としては，左辺のデータフレームには ! を使うほうが自然かもしれない。"
   ]
  },
  {
   "cell_type": "code",
   "execution_count": 33,
   "id": "4f40a4d9-92a7-469b-b83a-5a2a14f1fa2a",
   "metadata": {},
   "outputs": [
    {
     "data": {
      "text/html": [
       "<div class=\"data-frame\"><p>5 rows × 2 columns</p><table class=\"data-frame\"><thead><tr><th></th><th>Ozone</th><th>Wind</th></tr><tr><th></th><th title=\"Union{Missing, Int64}\">Int64?</th><th title=\"Float64\">Float64</th></tr></thead><tbody><tr><th>1</th><td>74</td><td>7.4</td></tr><tr><th>2</th><td>80</td><td>8.0</td></tr><tr><th>3</th><td>126</td><td>12.6</td></tr><tr><th>4</th><td>115</td><td>11.5</td></tr><tr><th>5</th><td>143</td><td>14.3</td></tr></tbody></table></div>"
      ],
      "text/latex": [
       "\\begin{tabular}{r|cc}\n",
       "\t& Ozone & Wind\\\\\n",
       "\t\\hline\n",
       "\t& Int64? & Float64\\\\\n",
       "\t\\hline\n",
       "\t1 & 74 & 7.4 \\\\\n",
       "\t2 & 80 & 8.0 \\\\\n",
       "\t3 & 126 & 12.6 \\\\\n",
       "\t4 & 115 & 11.5 \\\\\n",
       "\t5 & 143 & 14.3 \\\\\n",
       "\\end{tabular}\n"
      ],
      "text/plain": [
       "\u001b[1m5×2 DataFrame\u001b[0m\n",
       "\u001b[1m Row \u001b[0m│\u001b[1m Ozone  \u001b[0m\u001b[1m Wind    \u001b[0m\n",
       "\u001b[1m     \u001b[0m│\u001b[90m Int64? \u001b[0m\u001b[90m Float64 \u001b[0m\n",
       "─────┼─────────────────\n",
       "   1 │     74      7.4\n",
       "   2 │     80      8.0\n",
       "   3 │    126     12.6\n",
       "   4 │    115     11.5\n",
       "   5 │    143     14.3"
      ]
     },
     "execution_count": 33,
     "metadata": {},
     "output_type": "execute_result"
    }
   ],
   "source": [
    "test = airquality[1:5, [1, 3]]\n",
    "test[:, 1] = test[:, 2] .* 10\n",
    "test"
   ]
  },
  {
   "cell_type": "code",
   "execution_count": 34,
   "id": "7213c177-f082-47a4-82b5-9416821a31ef",
   "metadata": {},
   "outputs": [
    {
     "data": {
      "text/html": [
       "<div class=\"data-frame\"><p>5 rows × 2 columns</p><table class=\"data-frame\"><thead><tr><th></th><th>Ozone</th><th>Wind</th></tr><tr><th></th><th title=\"Float64\">Float64</th><th title=\"Float64\">Float64</th></tr></thead><tbody><tr><th>1</th><td>37.0</td><td>7.4</td></tr><tr><th>2</th><td>40.0</td><td>8.0</td></tr><tr><th>3</th><td>63.0</td><td>12.6</td></tr><tr><th>4</th><td>57.5</td><td>11.5</td></tr><tr><th>5</th><td>71.5</td><td>14.3</td></tr></tbody></table></div>"
      ],
      "text/latex": [
       "\\begin{tabular}{r|cc}\n",
       "\t& Ozone & Wind\\\\\n",
       "\t\\hline\n",
       "\t& Float64 & Float64\\\\\n",
       "\t\\hline\n",
       "\t1 & 37.0 & 7.4 \\\\\n",
       "\t2 & 40.0 & 8.0 \\\\\n",
       "\t3 & 63.0 & 12.6 \\\\\n",
       "\t4 & 57.5 & 11.5 \\\\\n",
       "\t5 & 71.5 & 14.3 \\\\\n",
       "\\end{tabular}\n"
      ],
      "text/plain": [
       "\u001b[1m5×2 DataFrame\u001b[0m\n",
       "\u001b[1m Row \u001b[0m│\u001b[1m Ozone   \u001b[0m\u001b[1m Wind    \u001b[0m\n",
       "\u001b[1m     \u001b[0m│\u001b[90m Float64 \u001b[0m\u001b[90m Float64 \u001b[0m\n",
       "─────┼──────────────────\n",
       "   1 │    37.0      7.4\n",
       "   2 │    40.0      8.0\n",
       "   3 │    63.0     12.6\n",
       "   4 │    57.5     11.5\n",
       "   5 │    71.5     14.3"
      ]
     },
     "execution_count": 34,
     "metadata": {},
     "output_type": "execute_result"
    }
   ],
   "source": [
    "test2 = airquality[1:5, [1, 3]]\n",
    "test2[!, 1] = test2[:, 2] .* 5\n",
    "test2"
   ]
  },
  {
   "cell_type": "markdown",
   "id": "7a6b1a3e-6b5d-42da-b1c7-7e74cfaf3b5e",
   "metadata": {},
   "source": [
    "### データフレームの列名の変更\n",
    "\n",
    "列名の変更は rename!() による。\n",
    "関数名の最後が ! になっている場合は，関数への引数が直接変形されるので代入の必要はない。\n",
    "一方で，元の引数が変更されてしまうので，前もってコピーをとっておかない限りもとに戻せなくなるので注意が必要である。"
   ]
  },
  {
   "cell_type": "code",
   "execution_count": 35,
   "id": "aca2dccb-ff51-4c0c-b5bd-1b2eb18af113",
   "metadata": {},
   "outputs": [
    {
     "data": {
      "text/html": [
       "<p>DataFrameRow (6 columns)</p><div class=\"data-frame\"><table class=\"data-frame\"><thead><tr><th></th><th>Ozone</th><th>Solar_R</th><th>Wind</th><th>Temp</th><th>Month</th><th>Day</th></tr><tr><th></th><th title=\"Union{Missing, Int64}\">Int64?</th><th title=\"Union{Missing, Int64}\">Int64?</th><th title=\"Float64\">Float64</th><th title=\"Int64\">Int64</th><th title=\"Int64\">Int64</th><th title=\"Int64\">Int64</th></tr></thead><tbody><tr><th>1</th><td>41</td><td>190</td><td>7.4</td><td>67</td><td>5</td><td>1</td></tr></tbody></table></div>"
      ],
      "text/latex": [
       "\\begin{tabular}{r|cccccc}\n",
       "\t& Ozone & Solar\\_R & Wind & Temp & Month & Day\\\\\n",
       "\t\\hline\n",
       "\t& Int64? & Int64? & Float64 & Int64 & Int64 & Int64\\\\\n",
       "\t\\hline\n",
       "\t1 & 41 & 190 & 7.4 & 67 & 5 & 1 \\\\\n",
       "\\end{tabular}\n"
      ],
      "text/plain": [
       "\u001b[1mDataFrameRow\u001b[0m\n",
       "\u001b[1m Row \u001b[0m│\u001b[1m Ozone  \u001b[0m\u001b[1m Solar_R \u001b[0m\u001b[1m Wind    \u001b[0m\u001b[1m Temp  \u001b[0m\u001b[1m Month \u001b[0m\u001b[1m Day   \u001b[0m\n",
       "\u001b[1m     \u001b[0m│\u001b[90m Int64? \u001b[0m\u001b[90m Int64?  \u001b[0m\u001b[90m Float64 \u001b[0m\u001b[90m Int64 \u001b[0m\u001b[90m Int64 \u001b[0m\u001b[90m Int64 \u001b[0m\n",
       "─────┼───────────────────────────────────────────────\n",
       "   1 │     41      190      7.4     67      5      1"
      ]
     },
     "execution_count": 35,
     "metadata": {},
     "output_type": "execute_result"
    }
   ],
   "source": [
    "airquality2 = rename(airquality, Dict(\"Solar.R\" => \"Solar_R\"));\n",
    "first(airquality2)"
   ]
  },
  {
   "cell_type": "markdown",
   "id": "fbe362ff-5794-4f9f-ae57-797265c0b92b",
   "metadata": {},
   "source": [
    "rename() の場合は，引数として指定した元のデータフレームは変更されない。したがって，もし変更結果を保存したい場合はデータフレーム（自分自身でもよい）に保存しなければならない"
   ]
  },
  {
   "cell_type": "code",
   "execution_count": 38,
   "id": "9dfd371e-9ab5-49bd-8d8f-ba799896e6cb",
   "metadata": {},
   "outputs": [
    {
     "data": {
      "text/html": [
       "<p>DataFrameRow (6 columns)</p><div class=\"data-frame\"><table class=\"data-frame\"><thead><tr><th></th><th>Ozone</th><th>Solar_R</th><th>Wind</th><th>Temp</th><th>Month</th><th>Day</th></tr><tr><th></th><th title=\"Union{Missing, Int64}\">Int64?</th><th title=\"Union{Missing, Int64}\">Int64?</th><th title=\"Float64\">Float64</th><th title=\"Int64\">Int64</th><th title=\"Int64\">Int64</th><th title=\"Int64\">Int64</th></tr></thead><tbody><tr><th>1</th><td>41</td><td>190</td><td>7.4</td><td>67</td><td>5</td><td>1</td></tr></tbody></table></div>"
      ],
      "text/latex": [
       "\\begin{tabular}{r|cccccc}\n",
       "\t& Ozone & Solar\\_R & Wind & Temp & Month & Day\\\\\n",
       "\t\\hline\n",
       "\t& Int64? & Int64? & Float64 & Int64 & Int64 & Int64\\\\\n",
       "\t\\hline\n",
       "\t1 & 41 & 190 & 7.4 & 67 & 5 & 1 \\\\\n",
       "\\end{tabular}\n"
      ],
      "text/plain": [
       "\u001b[1mDataFrameRow\u001b[0m\n",
       "\u001b[1m Row \u001b[0m│\u001b[1m Ozone  \u001b[0m\u001b[1m Solar_R \u001b[0m\u001b[1m Wind    \u001b[0m\u001b[1m Temp  \u001b[0m\u001b[1m Month \u001b[0m\u001b[1m Day   \u001b[0m\n",
       "\u001b[1m     \u001b[0m│\u001b[90m Int64? \u001b[0m\u001b[90m Int64?  \u001b[0m\u001b[90m Float64 \u001b[0m\u001b[90m Int64 \u001b[0m\u001b[90m Int64 \u001b[0m\u001b[90m Int64 \u001b[0m\n",
       "─────┼───────────────────────────────────────────────\n",
       "   1 │     41      190      7.4     67      5      1"
      ]
     },
     "execution_count": 38,
     "metadata": {},
     "output_type": "execute_result"
    }
   ],
   "source": [
    "first(airquality)"
   ]
  },
  {
   "cell_type": "markdown",
   "id": "df04e7ca-9092-4204-b79d-11375c2c7a5e",
   "metadata": {},
   "source": [
    "rename!() では，引数として指定した元のデータフレームが変更される。"
   ]
  },
  {
   "cell_type": "code",
   "execution_count": 39,
   "id": "ea2a89e1-adbf-4d7e-b1d6-7be5b6abbcb5",
   "metadata": {},
   "outputs": [
    {
     "ename": "LoadError",
     "evalue": "ArgumentError: Tried renaming :Solar.R to :Solar_R, when :Solar.R does not exist in the data frame.",
     "output_type": "error",
     "traceback": [
      "ArgumentError: Tried renaming :Solar.R to :Solar_R, when :Solar.R does not exist in the data frame.",
      "",
      "Stacktrace:",
      " [1] rename!(x::DataFrames.Index, nms::Vector{Pair{Symbol, Symbol}})",
      "   @ DataFrames ~/.julia/packages/DataFrames/BM4OQ/src/other/index.jl:91",
      " [2] rename!(df::DataFrame, args::Dict{String, String})",
      "   @ DataFrames ~/.julia/packages/DataFrames/BM4OQ/src/abstractdataframe/abstractdataframe.jl:222",
      " [3] top-level scope",
      "   @ In[39]:1",
      " [4] eval",
      "   @ ./boot.jl:373 [inlined]",
      " [5] include_string(mapexpr::typeof(REPL.softscope), mod::Module, code::String, filename::String)",
      "   @ Base ./loading.jl:1196"
     ]
    }
   ],
   "source": [
    "rename!(airquality, Dict(\"Solar.R\" => \"Solar_R\"));\n",
    "first(airquality)"
   ]
  },
  {
   "cell_type": "markdown",
   "id": "070ae5a1-d0d1-460f-a65d-4f50a8f88012",
   "metadata": {},
   "source": [
    "### 列の抽出\n",
    "\n",
    "select()，select!() は列の抽出を行う。抽出した後の順序は指定したとおりになる。\n",
    "列の指定は何通りかある。"
   ]
  },
  {
   "cell_type": "code",
   "execution_count": 41,
   "id": "42f6628a-6794-4f89-bfa0-2eaf2cde7f2a",
   "metadata": {},
   "outputs": [
    {
     "data": {
      "text/html": [
       "<p>DataFrameRow (4 columns)</p><div class=\"data-frame\"><table class=\"data-frame\"><thead><tr><th></th><th>Temp</th><th>Wind</th><th>Solar_R</th><th>Ozone</th></tr><tr><th></th><th title=\"Int64\">Int64</th><th title=\"Float64\">Float64</th><th title=\"Union{Missing, Int64}\">Int64?</th><th title=\"Union{Missing, Int64}\">Int64?</th></tr></thead><tbody><tr><th>1</th><td>67</td><td>7.4</td><td>190</td><td>41</td></tr></tbody></table></div>"
      ],
      "text/latex": [
       "\\begin{tabular}{r|cccc}\n",
       "\t& Temp & Wind & Solar\\_R & Ozone\\\\\n",
       "\t\\hline\n",
       "\t& Int64 & Float64 & Int64? & Int64?\\\\\n",
       "\t\\hline\n",
       "\t1 & 67 & 7.4 & 190 & 41 \\\\\n",
       "\\end{tabular}\n"
      ],
      "text/plain": [
       "\u001b[1mDataFrameRow\u001b[0m\n",
       "\u001b[1m Row \u001b[0m│\u001b[1m Temp  \u001b[0m\u001b[1m Wind    \u001b[0m\u001b[1m Solar_R \u001b[0m\u001b[1m Ozone  \u001b[0m\n",
       "\u001b[1m     \u001b[0m│\u001b[90m Int64 \u001b[0m\u001b[90m Float64 \u001b[0m\u001b[90m Int64?  \u001b[0m\u001b[90m Int64? \u001b[0m\n",
       "─────┼─────────────────────────────────\n",
       "   1 │    67      7.4      190      41"
      ]
     },
     "execution_count": 41,
     "metadata": {},
     "output_type": "execute_result"
    }
   ],
   "source": [
    "df = select(airquality, [4, 3, 2, 1]); # 列番号で指定\n",
    "first(df)"
   ]
  },
  {
   "cell_type": "code",
   "execution_count": 42,
   "id": "ee4e2e5b-b77c-487b-9028-c394961a721b",
   "metadata": {},
   "outputs": [
    {
     "data": {
      "text/html": [
       "<p>DataFrameRow (4 columns)</p><div class=\"data-frame\"><table class=\"data-frame\"><thead><tr><th></th><th>Ozone</th><th>Solar_R</th><th>Wind</th><th>Temp</th></tr><tr><th></th><th title=\"Union{Missing, Int64}\">Int64?</th><th title=\"Union{Missing, Int64}\">Int64?</th><th title=\"Float64\">Float64</th><th title=\"Int64\">Int64</th></tr></thead><tbody><tr><th>1</th><td>41</td><td>190</td><td>7.4</td><td>67</td></tr></tbody></table></div>"
      ],
      "text/latex": [
       "\\begin{tabular}{r|cccc}\n",
       "\t& Ozone & Solar\\_R & Wind & Temp\\\\\n",
       "\t\\hline\n",
       "\t& Int64? & Int64? & Float64 & Int64\\\\\n",
       "\t\\hline\n",
       "\t1 & 41 & 190 & 7.4 & 67 \\\\\n",
       "\\end{tabular}\n"
      ],
      "text/plain": [
       "\u001b[1mDataFrameRow\u001b[0m\n",
       "\u001b[1m Row \u001b[0m│\u001b[1m Ozone  \u001b[0m\u001b[1m Solar_R \u001b[0m\u001b[1m Wind    \u001b[0m\u001b[1m Temp  \u001b[0m\n",
       "\u001b[1m     \u001b[0m│\u001b[90m Int64? \u001b[0m\u001b[90m Int64?  \u001b[0m\u001b[90m Float64 \u001b[0m\u001b[90m Int64 \u001b[0m\n",
       "─────┼─────────────────────────────────\n",
       "   1 │     41      190      7.4     67"
      ]
     },
     "execution_count": 42,
     "metadata": {},
     "output_type": "execute_result"
    }
   ],
   "source": [
    "df = select(airquality, [:Ozone, :Solar_R, :Wind, :Temp]); # シンボルで指定\n",
    "first(df)"
   ]
  },
  {
   "cell_type": "code",
   "execution_count": null,
   "id": "c8fdfb5c-a50f-4b96-832a-f61e5360f372",
   "metadata": {},
   "outputs": [],
   "source": [
    "列を（名前を変えて）コピーしたり，変数変換することもできる。ByRow() の引数は関数，無名関数である。\n",
    "\n",
    "元の Temp を Fahrenheit，Temp から変換して Celcius を作成する。"
   ]
  },
  {
   "cell_type": "code",
   "execution_count": 127,
   "id": "6f1027f8-a3b1-4b5d-b217-4f5ac733e3b4",
   "metadata": {},
   "outputs": [
    {
     "data": {
      "text/html": [
       "<div class=\"data-frame\"><p>5 rows × 5 columns</p><table class=\"data-frame\"><thead><tr><th></th><th>Ozone</th><th>Solar_R</th><th>Wind</th><th>Fahrenheit</th><th>Celcius</th></tr><tr><th></th><th title=\"Union{Missing, Int64}\">Int64?</th><th title=\"Union{Missing, Int64}\">Int64?</th><th title=\"Float64\">Float64</th><th title=\"Int64\">Int64</th><th title=\"Float64\">Float64</th></tr></thead><tbody><tr><th>1</th><td>41</td><td>190</td><td>7.4</td><td>67</td><td>19.4444</td></tr><tr><th>2</th><td>36</td><td>118</td><td>8.0</td><td>72</td><td>22.2222</td></tr><tr><th>3</th><td>12</td><td>149</td><td>12.6</td><td>74</td><td>23.3333</td></tr><tr><th>4</th><td>18</td><td>313</td><td>11.5</td><td>62</td><td>16.6667</td></tr><tr><th>5</th><td><em>missing</em></td><td><em>missing</em></td><td>14.3</td><td>56</td><td>13.3333</td></tr></tbody></table></div>"
      ],
      "text/latex": [
       "\\begin{tabular}{r|ccccc}\n",
       "\t& Ozone & Solar\\_R & Wind & Fahrenheit & Celcius\\\\\n",
       "\t\\hline\n",
       "\t& Int64? & Int64? & Float64 & Int64 & Float64\\\\\n",
       "\t\\hline\n",
       "\t1 & 41 & 190 & 7.4 & 67 & 19.4444 \\\\\n",
       "\t2 & 36 & 118 & 8.0 & 72 & 22.2222 \\\\\n",
       "\t3 & 12 & 149 & 12.6 & 74 & 23.3333 \\\\\n",
       "\t4 & 18 & 313 & 11.5 & 62 & 16.6667 \\\\\n",
       "\t5 & \\emph{missing} & \\emph{missing} & 14.3 & 56 & 13.3333 \\\\\n",
       "\\end{tabular}\n"
      ],
      "text/plain": [
       "\u001b[1m5×5 DataFrame\u001b[0m\n",
       "\u001b[1m Row \u001b[0m│\u001b[1m Ozone   \u001b[0m\u001b[1m Solar_R \u001b[0m\u001b[1m Wind    \u001b[0m\u001b[1m Fahrenheit \u001b[0m\u001b[1m Celcius \u001b[0m\n",
       "\u001b[1m     \u001b[0m│\u001b[90m Int64?  \u001b[0m\u001b[90m Int64?  \u001b[0m\u001b[90m Float64 \u001b[0m\u001b[90m Int64      \u001b[0m\u001b[90m Float64 \u001b[0m\n",
       "─────┼────────────────────────────────────────────────\n",
       "   1 │      41      190      7.4          67  19.4444\n",
       "   2 │      36      118      8.0          72  22.2222\n",
       "   3 │      12      149     12.6          74  23.3333\n",
       "   4 │      18      313     11.5          62  16.6667\n",
       "   5 │\u001b[90m missing \u001b[0m\u001b[90m missing \u001b[0m    14.3          56  13.3333"
      ]
     },
     "execution_count": 127,
     "metadata": {},
     "output_type": "execute_result"
    }
   ],
   "source": [
    "df = select(airquality, :Ozone, :Solar_R, :Wind,\n",
    "        :Temp => :Fahrenheit, :Temp => ByRow(x -> 5(x-32)/9) => :Celcius);\n",
    "first(df, 5)"
   ]
  },
  {
   "cell_type": "markdown",
   "id": "8227f8a7-5663-4c6e-8694-9d6f58d8d57c",
   "metadata": {},
   "source": [
    "### グループごとの記述統計量\n",
    "\n",
    "データフレームをグループを表す変数でグループ化し，それぞれのサブグループごとに統計量を求める。\n",
    "\n",
    "airquality データセットの :Month でグループ化する。"
   ]
  },
  {
   "cell_type": "code",
   "execution_count": 11,
   "id": "67bd1966-4a7b-4f1c-b8f1-f68334fac397",
   "metadata": {},
   "outputs": [
    {
     "name": "stdout",
     "output_type": "stream",
     "text": [
      "number of subgroup = 5\n"
     ]
    }
   ],
   "source": [
    "using RDatasets\n",
    "\n",
    "airquality = RDatasets.dataset(\"datasets\", \"airquality\");\n",
    "select(airquality, Not(:Day));\n",
    "gdf = groupby(select(airquality, 1:5), :Month);\n",
    "println(\"number of subgroup = \", length(gdf))"
   ]
  },
  {
   "cell_type": "markdown",
   "id": "c4b2dc67-b681-4f4b-b220-19822bdc1b64",
   "metadata": {},
   "source": [
    "gdf[1] は :Month が 5 の場合のサブグループである。\n",
    "\n",
    "それぞれの gdf[i] は，データフレームと同じように扱うことができる。"
   ]
  },
  {
   "cell_type": "code",
   "execution_count": 12,
   "id": "dde58f25-c2d4-4c2d-9409-133927fe64f5",
   "metadata": {},
   "outputs": [
    {
     "data": {
      "text/html": [
       "<div class=\"data-frame\"><p>5 rows × 7 columns</p><table class=\"data-frame\"><thead><tr><th></th><th>variable</th><th>mean</th><th>min</th><th>median</th><th>max</th><th>nmissing</th><th>eltype</th></tr><tr><th></th><th title=\"Symbol\">Symbol</th><th title=\"Float64\">Float64</th><th title=\"Real\">Real</th><th title=\"Float64\">Float64</th><th title=\"Real\">Real</th><th title=\"Int64\">Int64</th><th title=\"Type\">Type</th></tr></thead><tbody><tr><th>1</th><td>Ozone</td><td>23.6154</td><td>1</td><td>18.0</td><td>115</td><td>5</td><td>Union{Missing, Int64}</td></tr><tr><th>2</th><td>Solar.R</td><td>181.296</td><td>8</td><td>194.0</td><td>334</td><td>4</td><td>Union{Missing, Int64}</td></tr><tr><th>3</th><td>Wind</td><td>11.6226</td><td>5.7</td><td>11.5</td><td>20.1</td><td>0</td><td>Float64</td></tr><tr><th>4</th><td>Temp</td><td>65.5484</td><td>56</td><td>66.0</td><td>81</td><td>0</td><td>Int64</td></tr><tr><th>5</th><td>Month</td><td>5.0</td><td>5</td><td>5.0</td><td>5</td><td>0</td><td>Int64</td></tr></tbody></table></div>"
      ],
      "text/latex": [
       "\\begin{tabular}{r|ccccccc}\n",
       "\t& variable & mean & min & median & max & nmissing & eltype\\\\\n",
       "\t\\hline\n",
       "\t& Symbol & Float64 & Real & Float64 & Real & Int64 & Type\\\\\n",
       "\t\\hline\n",
       "\t1 & Ozone & 23.6154 & 1 & 18.0 & 115 & 5 & Union\\{Missing, Int64\\} \\\\\n",
       "\t2 & Solar.R & 181.296 & 8 & 194.0 & 334 & 4 & Union\\{Missing, Int64\\} \\\\\n",
       "\t3 & Wind & 11.6226 & 5.7 & 11.5 & 20.1 & 0 & Float64 \\\\\n",
       "\t4 & Temp & 65.5484 & 56 & 66.0 & 81 & 0 & Int64 \\\\\n",
       "\t5 & Month & 5.0 & 5 & 5.0 & 5 & 0 & Int64 \\\\\n",
       "\\end{tabular}\n"
      ],
      "text/plain": [
       "\u001b[1m5×7 DataFrame\u001b[0m\n",
       "\u001b[1m Row \u001b[0m│\u001b[1m variable \u001b[0m\u001b[1m mean     \u001b[0m\u001b[1m min  \u001b[0m\u001b[1m median  \u001b[0m\u001b[1m max   \u001b[0m\u001b[1m nmissing \u001b[0m\u001b[1m eltype             \u001b[0m ⋯\n",
       "\u001b[1m     \u001b[0m│\u001b[90m Symbol   \u001b[0m\u001b[90m Float64  \u001b[0m\u001b[90m Real \u001b[0m\u001b[90m Float64 \u001b[0m\u001b[90m Real  \u001b[0m\u001b[90m Int64    \u001b[0m\u001b[90m Type               \u001b[0m ⋯\n",
       "─────┼──────────────────────────────────────────────────────────────────────────\n",
       "   1 │ Ozone      23.6154   1       18.0  115           5  Union{Missing, Int6 ⋯\n",
       "   2 │ Solar.R   181.296    8      194.0  334           4  Union{Missing, Int6\n",
       "   3 │ Wind       11.6226   5.7     11.5   20.1         0  Float64\n",
       "   4 │ Temp       65.5484  56       66.0   81           0  Int64\n",
       "   5 │ Month       5.0      5        5.0    5           0  Int64               ⋯\n",
       "\u001b[36m                                                                1 column omitted\u001b[0m"
      ]
     },
     "execution_count": 12,
     "metadata": {},
     "output_type": "execute_result"
    }
   ],
   "source": [
    "describe(gdf[1])"
   ]
  },
  {
   "cell_type": "markdown",
   "id": "6636bc73-6da6-4122-8d2d-5dcaedfe5364",
   "metadata": {},
   "source": [
    "for ループで，すべてのサブグループについて分析できる。"
   ]
  },
  {
   "cell_type": "code",
   "execution_count": 17,
   "id": "edf57115-2fc1-40ad-a39f-c82909dff099",
   "metadata": {},
   "outputs": [
    {
     "name": "stdout",
     "output_type": "stream",
     "text": [
      "\n",
      "Month: 5\n",
      "\u001b[1m5×7 DataFrame\u001b[0m\n",
      "\u001b[1m Row \u001b[0m│\u001b[1m variable \u001b[0m\u001b[1m mean     \u001b[0m\u001b[1m min  \u001b[0m\u001b[1m median  \u001b[0m\u001b[1m max   \u001b[0m\u001b[1m nmissing \u001b[0m\u001b[1m eltype                \u001b[0m\n",
      "\u001b[1m     \u001b[0m│\u001b[90m Symbol   \u001b[0m\u001b[90m Float64  \u001b[0m\u001b[90m Real \u001b[0m\u001b[90m Float64 \u001b[0m\u001b[90m Real  \u001b[0m\u001b[90m Int64    \u001b[0m\u001b[90m Type                  \u001b[0m\n",
      "─────┼───────────────────────────────────────────────────────────────────────────\n",
      "   1 │ Ozone      23.6154   1       18.0  115           5  Union{Missing, Int64}\n",
      "   2 │ Solar.R   181.296    8      194.0  334           4  Union{Missing, Int64}\n",
      "   3 │ Wind       11.6226   5.7     11.5   20.1         0  Float64\n",
      "   4 │ Temp       65.5484  56       66.0   81           0  Int64\n",
      "   5 │ Month       5.0      5        5.0    5           0  Int64\n",
      "\n",
      "Month: 6\n",
      "\u001b[1m5×7 DataFrame\u001b[0m\n",
      "\u001b[1m Row \u001b[0m│\u001b[1m variable \u001b[0m\u001b[1m mean     \u001b[0m\u001b[1m min  \u001b[0m\u001b[1m median  \u001b[0m\u001b[1m max   \u001b[0m\u001b[1m nmissing \u001b[0m\u001b[1m eltype                \u001b[0m\n",
      "\u001b[1m     \u001b[0m│\u001b[90m Symbol   \u001b[0m\u001b[90m Float64  \u001b[0m\u001b[90m Real \u001b[0m\u001b[90m Float64 \u001b[0m\u001b[90m Real  \u001b[0m\u001b[90m Int64    \u001b[0m\u001b[90m Type                  \u001b[0m\n",
      "─────┼───────────────────────────────────────────────────────────────────────────\n",
      "   1 │ Ozone      29.4444  12       23.0   71          21  Union{Missing, Int64}\n",
      "   2 │ Solar.R   190.167   31      188.5  332           0  Union{Missing, Int64}\n",
      "   3 │ Wind       10.2667   1.7      9.7   20.7         0  Float64\n",
      "   4 │ Temp       79.1     65       78.0   93           0  Int64\n",
      "   5 │ Month       6.0      6        6.0    6           0  Int64\n",
      "\n",
      "Month: 7\n",
      "\u001b[1m5×7 DataFrame\u001b[0m\n",
      "\u001b[1m Row \u001b[0m│\u001b[1m variable \u001b[0m\u001b[1m mean      \u001b[0m\u001b[1m min  \u001b[0m\u001b[1m median  \u001b[0m\u001b[1m max   \u001b[0m\u001b[1m nmissing \u001b[0m\u001b[1m eltype                \u001b[0m\n",
      "\u001b[1m     \u001b[0m│\u001b[90m Symbol   \u001b[0m\u001b[90m Float64   \u001b[0m\u001b[90m Real \u001b[0m\u001b[90m Float64 \u001b[0m\u001b[90m Real  \u001b[0m\u001b[90m Int64    \u001b[0m\u001b[90m Type                  \u001b[0m\n",
      "─────┼────────────────────────────────────────────────────────────────────────────\n",
      "   1 │ Ozone      59.1154    7       60.0  135           5  Union{Missing, Int64}\n",
      "   2 │ Solar.R   216.484     7      253.0  314           0  Union{Missing, Int64}\n",
      "   3 │ Wind        8.94194   4.1      8.6   14.9         0  Float64\n",
      "   4 │ Temp       83.9032   73       84.0   92           0  Int64\n",
      "   5 │ Month       7.0       7        7.0    7           0  Int64\n",
      "\n",
      "Month: 8\n",
      "\u001b[1m5×7 DataFrame\u001b[0m\n",
      "\u001b[1m Row \u001b[0m│\u001b[1m variable \u001b[0m\u001b[1m mean      \u001b[0m\u001b[1m min  \u001b[0m\u001b[1m median  \u001b[0m\u001b[1m max   \u001b[0m\u001b[1m nmissing \u001b[0m\u001b[1m eltype                \u001b[0m\n",
      "\u001b[1m     \u001b[0m│\u001b[90m Symbol   \u001b[0m\u001b[90m Float64   \u001b[0m\u001b[90m Real \u001b[0m\u001b[90m Float64 \u001b[0m\u001b[90m Real  \u001b[0m\u001b[90m Int64    \u001b[0m\u001b[90m Type                  \u001b[0m\n",
      "─────┼────────────────────────────────────────────────────────────────────────────\n",
      "   1 │ Ozone      59.9615    9       52.0  168           5  Union{Missing, Int64}\n",
      "   2 │ Solar.R   171.857    24      197.5  273           3  Union{Missing, Int64}\n",
      "   3 │ Wind        8.79355   2.3      8.6   15.5         0  Float64\n",
      "   4 │ Temp       83.9677   72       82.0   97           0  Int64\n",
      "   5 │ Month       8.0       8        8.0    8           0  Int64\n",
      "\n",
      "Month: 9\n",
      "\u001b[1m5×7 DataFrame\u001b[0m\n",
      "\u001b[1m Row \u001b[0m│\u001b[1m variable \u001b[0m\u001b[1m mean     \u001b[0m\u001b[1m min  \u001b[0m\u001b[1m median  \u001b[0m\u001b[1m max   \u001b[0m\u001b[1m nmissing \u001b[0m\u001b[1m eltype                \u001b[0m\n",
      "\u001b[1m     \u001b[0m│\u001b[90m Symbol   \u001b[0m\u001b[90m Float64  \u001b[0m\u001b[90m Real \u001b[0m\u001b[90m Float64 \u001b[0m\u001b[90m Real  \u001b[0m\u001b[90m Int64    \u001b[0m\u001b[90m Type                  \u001b[0m\n",
      "─────┼───────────────────────────────────────────────────────────────────────────\n",
      "   1 │ Ozone      31.4483   7       23.0   96           1  Union{Missing, Int64}\n",
      "   2 │ Solar.R   167.433   14      192.0  259           0  Union{Missing, Int64}\n",
      "   3 │ Wind       10.18     2.8     10.3   16.6         0  Float64\n",
      "   4 │ Temp       76.9     63       76.0   93           0  Int64\n",
      "   5 │ Month       9.0      9        9.0    9           0  Int64\n"
     ]
    }
   ],
   "source": [
    "for df in gdf\n",
    "    println(\"\\nMonth: \", df[1, :Month], \"\\n\", describe(df))\n",
    "end"
   ]
  },
  {
   "cell_type": "markdown",
   "id": "24d46258-0db5-4e87-a645-0fa07c69c23a",
   "metadata": {},
   "source": [
    "変数ごとに一覧表示するには，プログラムを書く必要がある。"
   ]
  },
  {
   "cell_type": "code",
   "execution_count": 18,
   "id": "f83a13d1-da6b-4e13-bd76-a22975ed6c82",
   "metadata": {},
   "outputs": [
    {
     "data": {
      "text/plain": [
       "5-element Vector{DataFrame}:\n",
       " \u001b[1m5×7 DataFrame\u001b[0m\n",
       "\u001b[1m Row \u001b[0m│\u001b[1m variable \u001b[0m\u001b[1m mean     \u001b[0m\u001b[1m min  \u001b[0m\u001b[1m median  \u001b[0m\u001b[1m max   \u001b[0m\u001b[1m nmissing \u001b[0m\u001b[1m eltype             \u001b[0m ⋯\n",
       "\u001b[1m     \u001b[0m│\u001b[90m Symbol   \u001b[0m\u001b[90m Float64  \u001b[0m\u001b[90m Real \u001b[0m\u001b[90m Float64 \u001b[0m\u001b[90m Real  \u001b[0m\u001b[90m Int64    \u001b[0m\u001b[90m Type               \u001b[0m ⋯\n",
       "─────┼──────────────────────────────────────────────────────────────────────────\n",
       "   1 │ Ozone      23.6154   1       18.0  115           5  Union{Missing, Int6 ⋯\n",
       "   2 │ Solar.R   181.296    8      194.0  334           4  Union{Missing, Int6\n",
       "   3 │ Wind       11.6226   5.7     11.5   20.1         0  Float64\n",
       "   4 │ Temp       65.5484  56       66.0   81           0  Int64\n",
       "   5 │ Month       5.0      5        5.0    5           0  Int64               ⋯\n",
       "\u001b[36m                                                                1 column omitted\u001b[0m\n",
       " \u001b[1m5×7 DataFrame\u001b[0m\n",
       "\u001b[1m Row \u001b[0m│\u001b[1m variable \u001b[0m\u001b[1m mean     \u001b[0m\u001b[1m min  \u001b[0m\u001b[1m median  \u001b[0m\u001b[1m max   \u001b[0m\u001b[1m nmissing \u001b[0m\u001b[1m eltype             \u001b[0m ⋯\n",
       "\u001b[1m     \u001b[0m│\u001b[90m Symbol   \u001b[0m\u001b[90m Float64  \u001b[0m\u001b[90m Real \u001b[0m\u001b[90m Float64 \u001b[0m\u001b[90m Real  \u001b[0m\u001b[90m Int64    \u001b[0m\u001b[90m Type               \u001b[0m ⋯\n",
       "─────┼──────────────────────────────────────────────────────────────────────────\n",
       "   1 │ Ozone      29.4444  12       23.0   71          21  Union{Missing, Int6 ⋯\n",
       "   2 │ Solar.R   190.167   31      188.5  332           0  Union{Missing, Int6\n",
       "   3 │ Wind       10.2667   1.7      9.7   20.7         0  Float64\n",
       "   4 │ Temp       79.1     65       78.0   93           0  Int64\n",
       "   5 │ Month       6.0      6        6.0    6           0  Int64               ⋯\n",
       "\u001b[36m                                                                1 column omitted\u001b[0m\n",
       " \u001b[1m5×7 DataFrame\u001b[0m\n",
       "\u001b[1m Row \u001b[0m│\u001b[1m variable \u001b[0m\u001b[1m mean      \u001b[0m\u001b[1m min  \u001b[0m\u001b[1m median  \u001b[0m\u001b[1m max   \u001b[0m\u001b[1m nmissing \u001b[0m\u001b[1m eltype            \u001b[0m ⋯\n",
       "\u001b[1m     \u001b[0m│\u001b[90m Symbol   \u001b[0m\u001b[90m Float64   \u001b[0m\u001b[90m Real \u001b[0m\u001b[90m Float64 \u001b[0m\u001b[90m Real  \u001b[0m\u001b[90m Int64    \u001b[0m\u001b[90m Type              \u001b[0m ⋯\n",
       "─────┼──────────────────────────────────────────────────────────────────────────\n",
       "   1 │ Ozone      59.1154    7       60.0  135           5  Union{Missing, Int ⋯\n",
       "   2 │ Solar.R   216.484     7      253.0  314           0  Union{Missing, Int\n",
       "   3 │ Wind        8.94194   4.1      8.6   14.9         0  Float64\n",
       "   4 │ Temp       83.9032   73       84.0   92           0  Int64\n",
       "   5 │ Month       7.0       7        7.0    7           0  Int64              ⋯\n",
       "\u001b[36m                                                                1 column omitted\u001b[0m\n",
       " \u001b[1m5×7 DataFrame\u001b[0m\n",
       "\u001b[1m Row \u001b[0m│\u001b[1m variable \u001b[0m\u001b[1m mean      \u001b[0m\u001b[1m min  \u001b[0m\u001b[1m median  \u001b[0m\u001b[1m max   \u001b[0m\u001b[1m nmissing \u001b[0m\u001b[1m eltype            \u001b[0m ⋯\n",
       "\u001b[1m     \u001b[0m│\u001b[90m Symbol   \u001b[0m\u001b[90m Float64   \u001b[0m\u001b[90m Real \u001b[0m\u001b[90m Float64 \u001b[0m\u001b[90m Real  \u001b[0m\u001b[90m Int64    \u001b[0m\u001b[90m Type              \u001b[0m ⋯\n",
       "─────┼──────────────────────────────────────────────────────────────────────────\n",
       "   1 │ Ozone      59.9615    9       52.0  168           5  Union{Missing, Int ⋯\n",
       "   2 │ Solar.R   171.857    24      197.5  273           3  Union{Missing, Int\n",
       "   3 │ Wind        8.79355   2.3      8.6   15.5         0  Float64\n",
       "   4 │ Temp       83.9677   72       82.0   97           0  Int64\n",
       "   5 │ Month       8.0       8        8.0    8           0  Int64              ⋯\n",
       "\u001b[36m                                                                1 column omitted\u001b[0m\n",
       " \u001b[1m5×7 DataFrame\u001b[0m\n",
       "\u001b[1m Row \u001b[0m│\u001b[1m variable \u001b[0m\u001b[1m mean     \u001b[0m\u001b[1m min  \u001b[0m\u001b[1m median  \u001b[0m\u001b[1m max   \u001b[0m\u001b[1m nmissing \u001b[0m\u001b[1m eltype             \u001b[0m ⋯\n",
       "\u001b[1m     \u001b[0m│\u001b[90m Symbol   \u001b[0m\u001b[90m Float64  \u001b[0m\u001b[90m Real \u001b[0m\u001b[90m Float64 \u001b[0m\u001b[90m Real  \u001b[0m\u001b[90m Int64    \u001b[0m\u001b[90m Type               \u001b[0m ⋯\n",
       "─────┼──────────────────────────────────────────────────────────────────────────\n",
       "   1 │ Ozone      31.4483   7       23.0   96           1  Union{Missing, Int6 ⋯\n",
       "   2 │ Solar.R   167.433   14      192.0  259           0  Union{Missing, Int6\n",
       "   3 │ Wind       10.18     2.8     10.3   16.6         0  Float64\n",
       "   4 │ Temp       76.9     63       76.0   93           0  Int64\n",
       "   5 │ Month       9.0      9        9.0    9           0  Int64               ⋯\n",
       "\u001b[36m                                                                1 column omitted\u001b[0m"
      ]
     },
     "execution_count": 18,
     "metadata": {},
     "output_type": "execute_result"
    }
   ],
   "source": [
    "a = [describe(df) for df in gdf]\n",
    "variable = [\"Ozone\", \"Solar.R\", \"Wind\", \"Temp\"]\n",
    "for i in variable\n",
    "    df = DataFrame[]\n",
    "    for j in 1:length(a)\n",
    "        pos = indexin([Symbol(i)], a[j][:, 1])[1]\n",
    "        ismissing(pos) && continue\n",
    "        row = a[j][pos, :]"
   ]
  },
  {
   "cell_type": "code",
   "execution_count": 8,
   "id": "0861f1aa-9988-44ad-aa30-a56eb68da0c9",
   "metadata": {},
   "outputs": [
    {
     "name": "stdout",
     "output_type": "stream",
     "text": [
      "\n",
      "Ozone\n",
      "\u001b[1m5×4 DataFrame\u001b[0m\n",
      "\u001b[1m Row \u001b[0m│\u001b[1m Month \u001b[0m\u001b[1m n     \u001b[0m\u001b[1m Mean    \u001b[0m\u001b[1m SD      \u001b[0m\n",
      "\u001b[1m     \u001b[0m│\u001b[90m Int64 \u001b[0m\u001b[90m Int64 \u001b[0m\u001b[90m Float64 \u001b[0m\u001b[90m Float64 \u001b[0m\n",
      "─────┼────────────────────────────────\n",
      "   1 │     5     26  23.6154  22.2244\n",
      "   2 │     6      9  29.4444  18.2079\n",
      "   3 │     7     26  59.1154  31.6358\n",
      "   4 │     8     26  59.9615  39.6812\n",
      "   5 │     9     29  31.4483  24.1418\n",
      "\n",
      "Solar.R\n",
      "\u001b[1m5×4 DataFrame\u001b[0m\n",
      "\u001b[1m Row \u001b[0m│\u001b[1m Month \u001b[0m\u001b[1m n     \u001b[0m\u001b[1m Mean    \u001b[0m\u001b[1m SD       \u001b[0m\n",
      "\u001b[1m     \u001b[0m│\u001b[90m Int64 \u001b[0m\u001b[90m Int64 \u001b[0m\u001b[90m Float64 \u001b[0m\u001b[90m Float64  \u001b[0m\n",
      "─────┼─────────────────────────────────\n",
      "   1 │     5     27  181.296  115.075\n",
      "   2 │     6     30  190.167   92.883\n",
      "   3 │     7     31  216.484   80.5683\n",
      "   4 │     8     28  171.857   76.8349\n",
      "   5 │     9     30  167.433   79.1183\n",
      "\n",
      "Wind\n",
      "\u001b[1m5×4 DataFrame\u001b[0m\n",
      "\u001b[1m Row \u001b[0m│\u001b[1m Month \u001b[0m\u001b[1m n     \u001b[0m\u001b[1m Mean     \u001b[0m\u001b[1m SD      \u001b[0m\n",
      "\u001b[1m     \u001b[0m│\u001b[90m Int64 \u001b[0m\u001b[90m Int64 \u001b[0m\u001b[90m Float64  \u001b[0m\u001b[90m Float64 \u001b[0m\n",
      "─────┼─────────────────────────────────\n",
      "   1 │     5     31  11.6226   3.53145\n",
      "   2 │     6     30  10.2667   3.76923\n",
      "   3 │     7     31   8.94194  3.03598\n",
      "   4 │     8     31   8.79355  3.22593\n",
      "   5 │     9     30  10.18     3.46125\n",
      "\n",
      "Temp\n",
      "\u001b[1m5×4 DataFrame\u001b[0m\n",
      "\u001b[1m Row \u001b[0m│\u001b[1m Month \u001b[0m\u001b[1m n     \u001b[0m\u001b[1m Mean    \u001b[0m\u001b[1m SD      \u001b[0m\n",
      "\u001b[1m     \u001b[0m│\u001b[90m Int64 \u001b[0m\u001b[90m Int64 \u001b[0m\u001b[90m Float64 \u001b[0m\u001b[90m Float64 \u001b[0m\n",
      "─────┼────────────────────────────────\n",
      "   1 │     5     31  65.5484  6.85487\n",
      "   2 │     6     30  79.1     6.59859\n",
      "   3 │     7     31  83.9032  4.31551\n",
      "   4 │     8     31  83.9677  6.58526\n",
      "   5 │     9     30  76.9     8.35567\n"
     ]
    }
   ],
   "source": [
    "using DataFrames, Statistics\n",
    "for variable in [\"Ozone\", \"Solar.R\", \"Wind\", \"Temp\"]\n",
    "    println(\"\\n$variable\")\n",
    "    result = DataFrame[]\n",
    "    for i in 1:length(gdf)\n",
    "        each = dropmissing(select(gdf[i], [\"Month\", variable])) # nrow(each)\n",
    "        res = combine(each, :Month => first => :Month, nrow => :n, variable => mean => :Mean, variable => std => :SD)\n",
    "        if result == []\n",
    "            result = res\n",
    "        else\n",
    "            result = vcat(result, res)\n",
    "        end\n",
    "    end\n",
    "    println(result)\n",
    "end"
   ]
  },
  {
   "cell_type": "code",
   "execution_count": null,
   "id": "dfb07297-ddd1-478c-a5e1-49866509b135",
   "metadata": {},
   "outputs": [],
   "source": [
    "attitude.csv.gz\n",
    "airquality.csv.gz\n",
    "anscombe.csv.gz\n",
    "attenu.csv.gz\n",
    "BOD.csv.gz\n",
    "cars.csv.gz\n",
    "chickwts.rda\n",
    "CO2.rda\n",
    "crimtab.csv.gz\n",
    "esoph.rda\n",
    "euro.csv.gz\n",
    "faithful.csv.gz\n",
    "Formaldehyde.csv.gz\n",
    "freeny.csv.gz\n",
    "HairEyeColor.csv.gz\n",
    "infert.rda\n",
    "InsectSprays.rda\n",
    "iris.rda\n",
    "islands.csv.gz\n",
    "LifeCycleSavings.csv.gz\n",
    "Loblolly.rda\n",
    "longley.csv.gz\n",
    "morley.csv.gz\n",
    "mtcars.csv.gz\n",
    "occupationalStatus.csv.gz\n",
    "OrchardSprays.rda\n",
    "PlantGrowth.rda\n",
    "precip.csv.gz\n",
    "pressure.csv.gz\n",
    "Puromycin.rda\n",
    "quakes.csv.gz\n",
    "randu.csv.gz\n",
    "rivers.csv.gz\n",
    "rock.csv.gz\n",
    "sleep.rda\n",
    "stackloss.csv.gz\n",
    "swiss.csv.gz\n",
    "Theoph.rda\n",
    "Titanic.csv.gz\n",
    "ToothGrowth.rda\n",
    "trees.csv.gz\n",
    "UCBAdmissions.csv.gz\n",
    "USArrests.csv.gz\n",
    "USJudgeRatings.csv.gz\n",
    "USPersonalExpenditure.csv.gz\n",
    "VADeaths.csv.gz\n",
    "volcano.csv.gz\n",
    "warpbreaks.rda\n",
    "women.csv.gz\n",
    "WorldPhones.csv.gz"
   ]
  },
  {
   "cell_type": "code",
   "execution_count": null,
   "id": "2e1dbce3-0d82-42c1-9b23-db06f95e7463",
   "metadata": {},
   "outputs": [],
   "source": []
  }
 ],
 "metadata": {
  "kernelspec": {
   "display_name": "Julia 1.7.1",
   "language": "julia",
   "name": "julia-1.7"
  },
  "language_info": {
   "file_extension": ".jl",
   "mimetype": "application/julia",
   "name": "julia",
   "version": "1.7.1"
  }
 },
 "nbformat": 4,
 "nbformat_minor": 5
}
