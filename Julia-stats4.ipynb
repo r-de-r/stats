{
 "cells": [
  {
   "cell_type": "markdown",
   "id": "910e8694-f384-4f79-bf01-f204bc56ed58",
   "metadata": {},
   "source": [
    "# 1.　一変量統計\n",
    "\n",
    "サンプルサイズ，（算術）平均値，不偏分散，標準偏差は基本統計量と呼ばれる。その他に五数要約値である最小値，第一四分位数，中央値（第二四分位数），第三四分位数，最大値も必要である。\n",
    "\n",
    "RDatasets 中の airquality データセットを用いて例示する。"
   ]
  },
  {
   "cell_type": "code",
   "execution_count": 243,
   "id": "ac580eeb-9dc6-4cae-a18e-77265c539f85",
   "metadata": {},
   "outputs": [
    {
     "name": "stdout",
     "output_type": "stream",
     "text": [
      "size: (153, 6)\n"
     ]
    },
    {
     "data": {
      "text/html": [
       "<div class=\"data-frame\"><p>5 rows × 6 columns</p><table class=\"data-frame\"><thead><tr><th></th><th>Ozone</th><th>Solar_R</th><th>Wind</th><th>Temp</th><th>Month</th><th>Day</th></tr><tr><th></th><th title=\"Union{Missing, Int64}\">Int64?</th><th title=\"Union{Missing, Int64}\">Int64?</th><th title=\"Float64\">Float64</th><th title=\"Int64\">Int64</th><th title=\"Int64\">Int64</th><th title=\"Int64\">Int64</th></tr></thead><tbody><tr><th>1</th><td>41</td><td>190</td><td>7.4</td><td>67</td><td>5</td><td>1</td></tr><tr><th>2</th><td>36</td><td>118</td><td>8.0</td><td>72</td><td>5</td><td>2</td></tr><tr><th>3</th><td>12</td><td>149</td><td>12.6</td><td>74</td><td>5</td><td>3</td></tr><tr><th>4</th><td>18</td><td>313</td><td>11.5</td><td>62</td><td>5</td><td>4</td></tr><tr><th>5</th><td><em>missing</em></td><td><em>missing</em></td><td>14.3</td><td>56</td><td>5</td><td>5</td></tr></tbody></table></div>"
      ],
      "text/latex": [
       "\\begin{tabular}{r|cccccc}\n",
       "\t& Ozone & Solar\\_R & Wind & Temp & Month & Day\\\\\n",
       "\t\\hline\n",
       "\t& Int64? & Int64? & Float64 & Int64 & Int64 & Int64\\\\\n",
       "\t\\hline\n",
       "\t1 & 41 & 190 & 7.4 & 67 & 5 & 1 \\\\\n",
       "\t2 & 36 & 118 & 8.0 & 72 & 5 & 2 \\\\\n",
       "\t3 & 12 & 149 & 12.6 & 74 & 5 & 3 \\\\\n",
       "\t4 & 18 & 313 & 11.5 & 62 & 5 & 4 \\\\\n",
       "\t5 & \\emph{missing} & \\emph{missing} & 14.3 & 56 & 5 & 5 \\\\\n",
       "\\end{tabular}\n"
      ],
      "text/plain": [
       "\u001b[1m5×6 DataFrame\u001b[0m\n",
       "\u001b[1m Row \u001b[0m│\u001b[1m Ozone   \u001b[0m\u001b[1m Solar_R \u001b[0m\u001b[1m Wind    \u001b[0m\u001b[1m Temp  \u001b[0m\u001b[1m Month \u001b[0m\u001b[1m Day   \u001b[0m\n",
       "\u001b[1m     \u001b[0m│\u001b[90m Int64?  \u001b[0m\u001b[90m Int64?  \u001b[0m\u001b[90m Float64 \u001b[0m\u001b[90m Int64 \u001b[0m\u001b[90m Int64 \u001b[0m\u001b[90m Int64 \u001b[0m\n",
       "─────┼────────────────────────────────────────────────\n",
       "   1 │      41      190      7.4     67      5      1\n",
       "   2 │      36      118      8.0     72      5      2\n",
       "   3 │      12      149     12.6     74      5      3\n",
       "   4 │      18      313     11.5     62      5      4\n",
       "   5 │\u001b[90m missing \u001b[0m\u001b[90m missing \u001b[0m    14.3     56      5      5"
      ]
     },
     "execution_count": 243,
     "metadata": {},
     "output_type": "execute_result"
    }
   ],
   "source": [
    "using RDatasets\n",
    "airquality = RDatasets.dataset(\"datasets\", \"airquality\");\n",
    "rename!(airquality, Dict(\"Solar.R\" => \"Solar_R\"));\n",
    "println(\"size: \", size(airquality))\n",
    "first(airquality, 5)"
   ]
  },
  {
   "cell_type": "markdown",
   "id": "6cd90d9a-9ee7-499e-89fb-5cb0db00ab24",
   "metadata": {
    "tags": []
   },
   "source": [
    "Ozone, Solar_R は欠損値を含むので取り扱いに注意が必要である。dropmissing() により欠損値をリストワイズ除去したデータフレームも作っておく。同時に，分析に必要のない変数を「選択しない」（それ以外を選択する）ために select() を使う。"
   ]
  },
  {
   "cell_type": "code",
   "execution_count": 244,
   "id": "b4792fbc-2f1a-40e2-815e-b06ee8fe370c",
   "metadata": {
    "tags": []
   },
   "outputs": [
    {
     "name": "stdout",
     "output_type": "stream",
     "text": [
      "size: (111, 4)\n"
     ]
    },
    {
     "data": {
      "text/html": [
       "<div class=\"data-frame\"><p>5 rows × 4 columns</p><table class=\"data-frame\"><thead><tr><th></th><th>Ozone</th><th>Solar_R</th><th>Wind</th><th>Temp</th></tr><tr><th></th><th title=\"Int64\">Int64</th><th title=\"Int64\">Int64</th><th title=\"Float64\">Float64</th><th title=\"Int64\">Int64</th></tr></thead><tbody><tr><th>1</th><td>41</td><td>190</td><td>7.4</td><td>67</td></tr><tr><th>2</th><td>36</td><td>118</td><td>8.0</td><td>72</td></tr><tr><th>3</th><td>12</td><td>149</td><td>12.6</td><td>74</td></tr><tr><th>4</th><td>18</td><td>313</td><td>11.5</td><td>62</td></tr><tr><th>5</th><td>23</td><td>299</td><td>8.6</td><td>65</td></tr></tbody></table></div>"
      ],
      "text/latex": [
       "\\begin{tabular}{r|cccc}\n",
       "\t& Ozone & Solar\\_R & Wind & Temp\\\\\n",
       "\t\\hline\n",
       "\t& Int64 & Int64 & Float64 & Int64\\\\\n",
       "\t\\hline\n",
       "\t1 & 41 & 190 & 7.4 & 67 \\\\\n",
       "\t2 & 36 & 118 & 8.0 & 72 \\\\\n",
       "\t3 & 12 & 149 & 12.6 & 74 \\\\\n",
       "\t4 & 18 & 313 & 11.5 & 62 \\\\\n",
       "\t5 & 23 & 299 & 8.6 & 65 \\\\\n",
       "\\end{tabular}\n"
      ],
      "text/plain": [
       "\u001b[1m5×4 DataFrame\u001b[0m\n",
       "\u001b[1m Row \u001b[0m│\u001b[1m Ozone \u001b[0m\u001b[1m Solar_R \u001b[0m\u001b[1m Wind    \u001b[0m\u001b[1m Temp  \u001b[0m\n",
       "\u001b[1m     \u001b[0m│\u001b[90m Int64 \u001b[0m\u001b[90m Int64   \u001b[0m\u001b[90m Float64 \u001b[0m\u001b[90m Int64 \u001b[0m\n",
       "─────┼────────────────────────────────\n",
       "   1 │    41      190      7.4     67\n",
       "   2 │    36      118      8.0     72\n",
       "   3 │    12      149     12.6     74\n",
       "   4 │    18      313     11.5     62\n",
       "   5 │    23      299      8.6     65"
      ]
     },
     "execution_count": 244,
     "metadata": {},
     "output_type": "execute_result"
    }
   ],
   "source": [
    "airquality2 = dropmissing(select(airquality, Not([:Month, :Day])))\n",
    "# airquality2 = dropmissing(select(airquality, [1, 2, 3, 4])) などと同じ\n",
    "println(\"size: \", size(airquality2))\n",
    "first(airquality2, 5)"
   ]
  },
  {
   "cell_type": "markdown",
   "id": "416902e5-1560-4330-bba9-beae0941e293",
   "metadata": {},
   "source": [
    "## 1.1.　1 つの変数の場合\n",
    "\n",
    "単変量の基礎統計量を求める関数として，sum(), mean(), var(), std(), median(), quantile() がある。\n",
    "\n",
    "個別の変数に対して適用する場合は以下のようにする。"
   ]
  },
  {
   "cell_type": "code",
   "execution_count": 245,
   "id": "4dab380c-d10c-4f61-9155-a192b7701729",
   "metadata": {},
   "outputs": [
    {
     "data": {
      "text/plain": [
       "missing"
      ]
     },
     "execution_count": 245,
     "metadata": {},
     "output_type": "execute_result"
    }
   ],
   "source": [
    "using Statistics\n",
    "mean(airquality.Ozone)"
   ]
  },
  {
   "cell_type": "markdown",
   "id": "6313860b-b00c-424d-8c09-78fac9090c8b",
   "metadata": {},
   "source": [
    "Ozone には欠損値 missing が含まれているので，平均値を求めるためには前もって skipmissing() を適用しなければならない。"
   ]
  },
  {
   "cell_type": "code",
   "execution_count": 246,
   "id": "c44c1366-52ce-4c12-8ebd-5f9a19bf4899",
   "metadata": {},
   "outputs": [
    {
     "data": {
      "text/plain": [
       "42.12931034482759"
      ]
     },
     "execution_count": 246,
     "metadata": {},
     "output_type": "execute_result"
    }
   ],
   "source": [
    "mean(skipmissing(airquality.Ozone))"
   ]
  },
  {
   "cell_type": "markdown",
   "id": "082e110f-b15e-41cf-94f0-e350383d367a",
   "metadata": {},
   "source": [
    "何回も Ozone について統計処理をする場合，使用するたびに skipmissing() するのは無駄なので，結果を変数に代入しておけばよい。\n",
    "\n",
    "なお，以下の使用例で最後に |> plintln をつけているのはこの資料作成ツールのくせに対応するためなので，REPL モードで実行する場合は不要である。"
   ]
  },
  {
   "cell_type": "code",
   "execution_count": 247,
   "id": "dd58b9d4-9948-4949-a413-6d16bda0a7dd",
   "metadata": {},
   "outputs": [
    {
     "name": "stdout",
     "output_type": "stream",
     "text": [
      "42.12931034482759\n",
      "1088.2005247376317\n",
      "32.98788451443396\n"
     ]
    }
   ],
   "source": [
    "x = skipmissing(airquality.Ozone);\n",
    "mean(x) |> println\n",
    "var(x)  |> println\n",
    "std(x)  |> println"
   ]
  },
  {
   "cell_type": "markdown",
   "id": "2685924e-de62-4ccb-97aa-2c5d7289e231",
   "metadata": {},
   "source": [
    "なお，airquality2 は一つでも欠損値を含む行は削除しているので，airquality2 においては skipmissing() を使う必要はないが，サンプルサイズが異なるので，結果が違うことに注意する必要がある。"
   ]
  },
  {
   "cell_type": "code",
   "execution_count": 248,
   "id": "665a2c68-7033-469e-8d75-562f09d6feb9",
   "metadata": {},
   "outputs": [
    {
     "data": {
      "text/plain": [
       "42.0990990990991"
      ]
     },
     "execution_count": 248,
     "metadata": {},
     "output_type": "execute_result"
    }
   ],
   "source": [
    "mean(airquality2.Ozone)"
   ]
  },
  {
   "cell_type": "markdown",
   "id": "7f36da4c-4308-41ce-b3d0-12b1fbdbf2f4",
   "metadata": {},
   "source": [
    "データの個数は length() で確認できるが skipmissing() で得られるデータは使用できない。以下で定義するような filter() を使う必要がある。filter() は，欠損値を除くデータを作る。skipmissing() は欠損値を含むデータというデータ型を作るだけで，実際に missing が除去されるわけではない。しかし，他の統計関数では skipmissing() による場合も filter(!ismissing, ) による場合も結果は同じである。"
   ]
  },
  {
   "cell_type": "code",
   "execution_count": 249,
   "id": "1cc9bc7c-24a7-4d54-ba26-b7a90cff862b",
   "metadata": {},
   "outputs": [
    {
     "name": "stdout",
     "output_type": "stream",
     "text": [
      "42.12931034482759\n",
      "1088.200524737631\n",
      "32.987884514433944\n",
      "116\n"
     ]
    }
   ],
   "source": [
    "y = filter(!ismissing, airquality.Ozone)\n",
    "mean(y)   |> println\n",
    "var(y)    |> println\n",
    "std(y)    |> println\n",
    "length(y) |> println"
   ]
  },
  {
   "cell_type": "markdown",
   "id": "30d62ea9-3b2a-408c-90bb-c92dabe4c653",
   "metadata": {},
   "source": [
    "パーセンタイル値は quantile() で求める。第 2 引数で 任意の q 値をベクトルで指定できる。"
   ]
  },
  {
   "cell_type": "code",
   "execution_count": 250,
   "id": "fad1640a-190a-4a84-9a2c-1cb4d9bd237f",
   "metadata": {},
   "outputs": [
    {
     "data": {
      "text/plain": [
       "5-element Vector{Float64}:\n",
       "   1.0\n",
       "  18.0\n",
       "  31.5\n",
       "  63.25\n",
       " 168.0"
      ]
     },
     "execution_count": 250,
     "metadata": {},
     "output_type": "execute_result"
    }
   ],
   "source": [
    "using StatsBase\n",
    "quantile(skipmissing(airquality.Ozone), [0, 0.25, 0.5, 0.75, 1])"
   ]
  },
  {
   "cell_type": "code",
   "execution_count": 251,
   "id": "b1a95033-ed11-4212-9595-49ea39a9c2f2",
   "metadata": {},
   "outputs": [
    {
     "data": {
      "text/plain": [
       "5-element Vector{Float64}:\n",
       "   1.0\n",
       "  18.0\n",
       "  31.0\n",
       "  62.0\n",
       " 168.0"
      ]
     },
     "execution_count": 251,
     "metadata": {},
     "output_type": "execute_result"
    }
   ],
   "source": [
    "quantile(airquality2.Ozone, [0, 0.25, 0.5, 0.75, 1])"
   ]
  },
  {
   "cell_type": "markdown",
   "id": "cbf2ae7d-e7f1-4641-97d3-5bc365714726",
   "metadata": {
    "tags": []
   },
   "source": [
    "## 1.2.　複数の変数の場合\n",
    "\n",
    "分析対象が複数の変数の場合に，変数を 1 つずつ分析するのは効率が悪い。\n",
    "\n",
    "まとめて処理するために，eachcol(), describe(), combine() 関数がある。\n",
    "\n",
    "### 1.2.1.　eachcol() を使う\n",
    "\n",
    "eachcol() はデータフレームの各列に対して関数を適用し，結果をベクトルとして返す。\n",
    "\n",
    "mean の後に . がついているのは，mean が複数の要素（データフレームの各列）に対して処理を行うようにするためである。\n"
   ]
  },
  {
   "cell_type": "code",
   "execution_count": 252,
   "id": "a9733495-ee14-4d71-ad17-c213dc6c4e1e",
   "metadata": {},
   "outputs": [
    {
     "data": {
      "text/plain": [
       "6-element Vector{Union{Missing, Float64}}:\n",
       "   missing\n",
       "   missing\n",
       "  9.957516339869283\n",
       " 77.88235294117646\n",
       "  6.993464052287582\n",
       " 15.803921568627452"
      ]
     },
     "execution_count": 252,
     "metadata": {},
     "output_type": "execute_result"
    }
   ],
   "source": [
    "M = mean.(eachcol(airquality));\n",
    "M"
   ]
  },
  {
   "cell_type": "markdown",
   "id": "4ec64051-1ba5-4dc6-ac5f-840ba1258722",
   "metadata": {},
   "source": [
    "REPL での出力と，println() での出力形式が異なるので，DataFrame() にしてから println() すればよい。\n",
    "\n",
    "なお，そのままでは各行の変数名が表示されないので，DataFrame() で，variable=names(データフレーム名) とすれば 1 列目に変数名が付加される。\n",
    "\n",
    "DataFrame() の中での，a=b という指定は，「変数 b を列名 a としてデータフレームに含める」という意味である（a と b が同じでも構わない）。"
   ]
  },
  {
   "cell_type": "code",
   "execution_count": 253,
   "id": "cd961ba7-703b-41de-bf8c-f91534dc3a42",
   "metadata": {},
   "outputs": [
    {
     "name": "stdout",
     "output_type": "stream",
     "text": [
      "\u001b[1m6×2 DataFrame\u001b[0m\n",
      "\u001b[1m Row \u001b[0m│\u001b[1m variable \u001b[0m\u001b[1m Mean          \u001b[0m\n",
      "\u001b[1m     \u001b[0m│\u001b[90m String   \u001b[0m\u001b[90m Float64?      \u001b[0m\n",
      "─────┼─────────────────────────\n",
      "   1 │ Ozone    \u001b[90m missing       \u001b[0m\n",
      "   2 │ Solar_R  \u001b[90m missing       \u001b[0m\n",
      "   3 │ Wind            9.95752\n",
      "   4 │ Temp           77.8824\n",
      "   5 │ Month           6.99346\n",
      "   6 │ Day            15.8039\n"
     ]
    }
   ],
   "source": [
    "DataFrame(variable=names(airquality), Mean=M) |> println"
   ]
  },
  {
   "cell_type": "markdown",
   "id": "293373e7-6d1e-4f0d-8523-a5ef7201a973",
   "metadata": {},
   "source": [
    "各変数に欠損値が含まれる場合には skipmissing() した後に統計関数を適用しなければならないので，以下のようにする。\n",
    "map() は，第 2 引数のそれぞれの要素に対して 第 1 引数で定義される関数を適用する。関数は普通の関数と無名関数の場合がある。無名関数は「仮引数 -> 関数定義」の形をしている。"
   ]
  },
  {
   "cell_type": "code",
   "execution_count": 254,
   "id": "d2e4f491-d514-44d5-918e-8a6dd4650cda",
   "metadata": {},
   "outputs": [
    {
     "data": {
      "text/plain": [
       "6-element Vector{Float64}:\n",
       "  42.12931034482759\n",
       " 185.93150684931507\n",
       "   9.95751633986928\n",
       "  77.88235294117646\n",
       "   6.993464052287582\n",
       "  15.803921568627452"
      ]
     },
     "execution_count": 254,
     "metadata": {},
     "output_type": "execute_result"
    }
   ],
   "source": [
    "M = map(x -> mean(skipmissing(x)), eachcol(airquality))\n",
    "M"
   ]
  },
  {
   "cell_type": "markdown",
   "id": "88d5b146-81fe-49ca-ada4-1144e0d9b129",
   "metadata": {},
   "source": [
    "上の例で使用した無名関数と同じことをする普通の関数として定義し，それを map() で使用する場合は以下のようになる。"
   ]
  },
  {
   "cell_type": "code",
   "execution_count": 255,
   "id": "05236278-9711-40cb-9ee3-40b0616e5d0b",
   "metadata": {},
   "outputs": [
    {
     "data": {
      "text/plain": [
       "6-element Vector{Float64}:\n",
       "  42.12931034482759\n",
       " 185.93150684931507\n",
       "   9.95751633986928\n",
       "  77.88235294117646\n",
       "   6.993464052287582\n",
       "  15.803921568627452"
      ]
     },
     "execution_count": 255,
     "metadata": {},
     "output_type": "execute_result"
    }
   ],
   "source": [
    "mean2(x) = mean(skipmissing(x))\n",
    "M = map(mean2, eachcol(airquality))"
   ]
  },
  {
   "cell_type": "markdown",
   "id": "e4f506e3-2e9e-49d9-b55e-05fc53f5db88",
   "metadata": {},
   "source": [
    "複数の統計量を計算してそれらを DataFtame() でまとめて一覧表にすることができる。"
   ]
  },
  {
   "cell_type": "code",
   "execution_count": 256,
   "id": "1e5ffaa6-d676-48c7-a063-4528d1ae3102",
   "metadata": {},
   "outputs": [
    {
     "data": {
      "text/html": [
       "<div class=\"data-frame\"><p>6 rows × 5 columns</p><table class=\"data-frame\"><thead><tr><th></th><th>variable</th><th>n</th><th>Mean</th><th>Var</th><th>SD</th></tr><tr><th></th><th title=\"String\">String</th><th title=\"Int64\">Int64</th><th title=\"Float64\">Float64</th><th title=\"Float64\">Float64</th><th title=\"Float64\">Float64</th></tr></thead><tbody><tr><th>1</th><td>Ozone</td><td>116</td><td>42.1293</td><td>1088.2</td><td>32.9879</td></tr><tr><th>2</th><td>Solar_R</td><td>146</td><td>185.932</td><td>8110.52</td><td>90.0584</td></tr><tr><th>3</th><td>Wind</td><td>153</td><td>9.95752</td><td>12.4115</td><td>3.523</td></tr><tr><th>4</th><td>Temp</td><td>153</td><td>77.8824</td><td>89.5913</td><td>9.46527</td></tr><tr><th>5</th><td>Month</td><td>153</td><td>6.99346</td><td>2.00654</td><td>1.41652</td></tr><tr><th>6</th><td>Day</td><td>153</td><td>15.8039</td><td>78.5797</td><td>8.86452</td></tr></tbody></table></div>"
      ],
      "text/latex": [
       "\\begin{tabular}{r|ccccc}\n",
       "\t& variable & n & Mean & Var & SD\\\\\n",
       "\t\\hline\n",
       "\t& String & Int64 & Float64 & Float64 & Float64\\\\\n",
       "\t\\hline\n",
       "\t1 & Ozone & 116 & 42.1293 & 1088.2 & 32.9879 \\\\\n",
       "\t2 & Solar\\_R & 146 & 185.932 & 8110.52 & 90.0584 \\\\\n",
       "\t3 & Wind & 153 & 9.95752 & 12.4115 & 3.523 \\\\\n",
       "\t4 & Temp & 153 & 77.8824 & 89.5913 & 9.46527 \\\\\n",
       "\t5 & Month & 153 & 6.99346 & 2.00654 & 1.41652 \\\\\n",
       "\t6 & Day & 153 & 15.8039 & 78.5797 & 8.86452 \\\\\n",
       "\\end{tabular}\n"
      ],
      "text/plain": [
       "\u001b[1m6×5 DataFrame\u001b[0m\n",
       "\u001b[1m Row \u001b[0m│\u001b[1m variable \u001b[0m\u001b[1m n     \u001b[0m\u001b[1m Mean      \u001b[0m\u001b[1m Var        \u001b[0m\u001b[1m SD       \u001b[0m\n",
       "\u001b[1m     \u001b[0m│\u001b[90m String   \u001b[0m\u001b[90m Int64 \u001b[0m\u001b[90m Float64   \u001b[0m\u001b[90m Float64    \u001b[0m\u001b[90m Float64  \u001b[0m\n",
       "─────┼──────────────────────────────────────────────────\n",
       "   1 │ Ozone       116   42.1293   1088.2      32.9879\n",
       "   2 │ Solar_R     146  185.932    8110.52     90.0584\n",
       "   3 │ Wind        153    9.95752    12.4115    3.523\n",
       "   4 │ Temp        153   77.8824     89.5913    9.46527\n",
       "   5 │ Month       153    6.99346     2.00654   1.41652\n",
       "   6 │ Day         153   15.8039     78.5797    8.86452"
      ]
     },
     "execution_count": 256,
     "metadata": {},
     "output_type": "execute_result"
    }
   ],
   "source": [
    "M = map(x -> mean(skipmissing(x)), eachcol(airquality))\n",
    "V = map(x -> var(skipmissing(x)), eachcol(airquality))\n",
    "S = map(x -> std(skipmissing(x)), eachcol(airquality))\n",
    "n = map(x -> length(filter(!ismissing, x)), eachcol(airquality))\n",
    "DataFrame(variable=names(airquality), n=n, Mean=M, Var=V, SD=S)"
   ]
  },
  {
   "cell_type": "markdown",
   "id": "15a2f0c6-3018-43fe-a94f-55bb4523e4a1",
   "metadata": {},
   "source": [
    "このように map() を使う方法は，同じような指定を何回も繰り返さなければならないが，必要な処理をまとめて関数化しておけば 1 行の関数呼び出しで実行できるので簡単に使用できる。"
   ]
  },
  {
   "cell_type": "code",
   "execution_count": 257,
   "id": "5574227e-4d77-43b7-b667-48f62f11c06b",
   "metadata": {},
   "outputs": [
    {
     "data": {
      "text/plain": [
       "describe2 (generic function with 2 methods)"
      ]
     },
     "execution_count": 257,
     "metadata": {},
     "output_type": "execute_result"
    }
   ],
   "source": [
    "using Statistics\n",
    "function describe2(df)\n",
    "    M = map(x -> mean(skipmissing(x)), eachcol(df))\n",
    "    V = map(x -> var(skipmissing(x)), eachcol(df))\n",
    "    S = map(x -> std(skipmissing(x)), eachcol(df))\n",
    "    n = map(x -> length(filter(!ismissing, x)), eachcol(df))\n",
    "    DataFrame(variable=names(df), n=n, Mean=M, Var=V, SD=S)\n",
    "end"
   ]
  },
  {
   "cell_type": "code",
   "execution_count": 258,
   "id": "d4a88b61-fdb4-4b78-a17f-ba1bafa7c14e",
   "metadata": {},
   "outputs": [
    {
     "name": "stdout",
     "output_type": "stream",
     "text": [
      "\u001b[1m6×5 DataFrame\u001b[0m\n",
      "\u001b[1m Row \u001b[0m│\u001b[1m variable \u001b[0m\u001b[1m n     \u001b[0m\u001b[1m Mean      \u001b[0m\u001b[1m Var        \u001b[0m\u001b[1m SD       \u001b[0m\n",
      "\u001b[1m     \u001b[0m│\u001b[90m String   \u001b[0m\u001b[90m Int64 \u001b[0m\u001b[90m Float64   \u001b[0m\u001b[90m Float64    \u001b[0m\u001b[90m Float64  \u001b[0m\n",
      "─────┼──────────────────────────────────────────────────\n",
      "   1 │ Ozone       116   42.1293   1088.2      32.9879\n",
      "   2 │ Solar_R     146  185.932    8110.52     90.0584\n",
      "   3 │ Wind        153    9.95752    12.4115    3.523\n",
      "   4 │ Temp        153   77.8824     89.5913    9.46527\n",
      "   5 │ Month       153    6.99346     2.00654   1.41652\n",
      "   6 │ Day         153   15.8039     78.5797    8.86452\n"
     ]
    }
   ],
   "source": [
    "describe2(airquality) |> println"
   ]
  },
  {
   "cell_type": "code",
   "execution_count": 259,
   "id": "61277db5-46ed-4487-abc8-05437423c829",
   "metadata": {},
   "outputs": [
    {
     "name": "stdout",
     "output_type": "stream",
     "text": [
      "\u001b[1m4×5 DataFrame\u001b[0m\n",
      "\u001b[1m Row \u001b[0m│\u001b[1m variable \u001b[0m\u001b[1m n     \u001b[0m\u001b[1m Mean      \u001b[0m\u001b[1m Var       \u001b[0m\u001b[1m SD       \u001b[0m\n",
      "\u001b[1m     \u001b[0m│\u001b[90m String   \u001b[0m\u001b[90m Int64 \u001b[0m\u001b[90m Float64   \u001b[0m\u001b[90m Float64   \u001b[0m\u001b[90m Float64  \u001b[0m\n",
      "─────┼─────────────────────────────────────────────────\n",
      "   1 │ Ozone       111   42.0991   1107.29    33.276\n",
      "   2 │ Solar_R     111  184.802    8308.74    91.1523\n",
      "   3 │ Wind        111    9.93964    12.6573   3.55771\n",
      "   4 │ Temp        111   77.7928     90.8203   9.52997\n"
     ]
    }
   ],
   "source": [
    "describe2(airquality2) |> println"
   ]
  },
  {
   "cell_type": "markdown",
   "id": "b5052a1b-9bc1-47f6-bb71-ff0131597529",
   "metadata": {},
   "source": [
    "### 1.2.2.　describe() を使う\n",
    "\n",
    "describe() では，より簡単に複数の変数に対して複数の統計量をまとめて求めることができる。\n",
    "\n",
    "必要な統計量は第 2 引数以降に任意の順序でシンボルによって列挙する。指定できるのは :mean, :std, :min, :q25, :median, :q75, :max, :nunique, :nmissing, :first, :last, :eltype である。\n",
    "\n",
    "すべての統計量を計算するときは :all を指定すればよい。\n",
    "\n",
    "describe() には総和 sum()，不偏分散 var() は実装されていない。\n",
    "\n",
    "describe() ではパーセンタイル値は q0(min), q25, q50(median), q75, q100(max) を求めることができる。\n",
    "\n",
    "なお，REPL では結果の出力桁数（幅）により表示が打ち切られる。\n",
    "以下のように printlins() で明示的に出力すれば打ち切られることはない。\n",
    "ただし，物理的な出力桁数の制限により折り返し表示されるので見にくくなることはある。"
   ]
  },
  {
   "cell_type": "code",
   "execution_count": 260,
   "id": "7966ae45-ba80-4422-ba57-66afc3d4576d",
   "metadata": {},
   "outputs": [
    {
     "name": "stdout",
     "output_type": "stream",
     "text": [
      "\u001b[1m6×13 DataFrame\u001b[0m\n",
      "\u001b[1m Row \u001b[0m│\u001b[1m variable \u001b[0m\u001b[1m mean      \u001b[0m\u001b[1m std      \u001b[0m\u001b[1m min  \u001b[0m\u001b[1m q25     \u001b[0m\u001b[1m median  \u001b[0m\u001b[1m q75     \u001b[0m\u001b[1m max   \u001b[0m\u001b[1m nunique \u001b[0m\u001b[1m nmissing \u001b[0m\u001b[1m first \u001b[0m\u001b[1m last  \u001b[0m\u001b[1m eltype                \u001b[0m\n",
      "\u001b[1m     \u001b[0m│\u001b[90m Symbol   \u001b[0m\u001b[90m Float64   \u001b[0m\u001b[90m Float64  \u001b[0m\u001b[90m Real \u001b[0m\u001b[90m Float64 \u001b[0m\u001b[90m Float64 \u001b[0m\u001b[90m Float64 \u001b[0m\u001b[90m Real  \u001b[0m\u001b[90m Nothing \u001b[0m\u001b[90m Int64    \u001b[0m\u001b[90m Real  \u001b[0m\u001b[90m Real  \u001b[0m\u001b[90m Type                  \u001b[0m\n",
      "─────┼───────────────────────────────────────────────────────────────────────────────────────────────────────────────────────────────\n",
      "   1 │ Ozone      42.1293   32.9879    1      18.0      31.5    63.25  168   \u001b[90m         \u001b[0m       37   41     20    Union{Missing, Int64}\n",
      "   2 │ Solar_R   185.932    90.0584    7     115.75    205.0   258.75  334   \u001b[90m         \u001b[0m        7  190    223    Union{Missing, Int64}\n",
      "   3 │ Wind        9.95752   3.523     1.7     7.4       9.7    11.5    20.7 \u001b[90m         \u001b[0m        0    7.4   11.5  Float64\n",
      "   4 │ Temp       77.8824    9.46527  56      72.0      79.0    85.0    97   \u001b[90m         \u001b[0m        0   67     68    Int64\n",
      "   5 │ Month       6.99346   1.41652   5       6.0       7.0     8.0     9   \u001b[90m         \u001b[0m        0    5      9    Int64\n",
      "   6 │ Day        15.8039    8.86452   1       8.0      16.0    23.0    31   \u001b[90m         \u001b[0m        0    1     30    Int64\n"
     ]
    }
   ],
   "source": [
    "println(describe(airquality, :all))"
   ]
  },
  {
   "cell_type": "markdown",
   "id": "4d7d8fb2-76ef-4b9c-b598-3d57ed32db89",
   "metadata": {},
   "source": [
    "sum(), var() に対応する関数を定義しておく。指定できるのは :sum, :mean, :var, :std, :min, :q25, :median, :q75, :max, :nmissing である。\n",
    "\n",
    "すべての統計量を計算するときは，統計量の指定をしないようにするか :all を指定すればよい。"
   ]
  },
  {
   "cell_type": "code",
   "execution_count": 261,
   "id": "c6119562-d223-46db-b28c-71bc039a3c8f",
   "metadata": {},
   "outputs": [
    {
     "name": "stdout",
     "output_type": "stream",
     "text": [
      "\u001b[1m6×11 DataFrame\u001b[0m\n",
      "\u001b[1m Row \u001b[0m│\u001b[1m variable \u001b[0m\u001b[1m sum     \u001b[0m\u001b[1m mean      \u001b[0m\u001b[1m var        \u001b[0m\u001b[1m std      \u001b[0m\u001b[1m minimum \u001b[0m\u001b[1m q25     \u001b[0m\u001b[1m median  \u001b[0m\u001b[1m q75     \u001b[0m\u001b[1m maximum \u001b[0m\u001b[1m nmissing \u001b[0m\n",
      "\u001b[1m     \u001b[0m│\u001b[90m Symbol   \u001b[0m\u001b[90m Float64 \u001b[0m\u001b[90m Float64   \u001b[0m\u001b[90m Float64    \u001b[0m\u001b[90m Float64  \u001b[0m\u001b[90m Float64 \u001b[0m\u001b[90m Float64 \u001b[0m\u001b[90m Float64 \u001b[0m\u001b[90m Float64 \u001b[0m\u001b[90m Float64 \u001b[0m\u001b[90m Int64    \u001b[0m\n",
      "─────┼───────────────────────────────────────────────────────────────────────────────────────────────────────────\n",
      "   1 │ Ozone      4887.0   42.1293   1088.2      32.9879       1.0    18.0      31.5    63.25    168.0        37\n",
      "   2 │ Solar_R   27146.0  185.932    8110.52     90.0584       7.0   115.75    205.0   258.75    334.0         7\n",
      "   3 │ Wind       1523.5    9.95752    12.4115    3.523        1.7     7.4       9.7    11.5      20.7         0\n",
      "   4 │ Temp      11916.0   77.8824     89.5913    9.46527     56.0    72.0      79.0    85.0      97.0         0\n",
      "   5 │ Month      1070.0    6.99346     2.00654   1.41652      5.0     6.0       7.0     8.0       9.0         0\n",
      "   6 │ Day        2418.0   15.8039     78.5797    8.86452      1.0     8.0      16.0    23.0      31.0         0\n",
      "\n",
      "\u001b[1m6×11 DataFrame\u001b[0m\n",
      "\u001b[1m Row \u001b[0m│\u001b[1m variable \u001b[0m\u001b[1m sum     \u001b[0m\u001b[1m mean      \u001b[0m\u001b[1m var        \u001b[0m\u001b[1m std      \u001b[0m\u001b[1m minimum \u001b[0m\u001b[1m q25     \u001b[0m\u001b[1m median  \u001b[0m\u001b[1m q75     \u001b[0m\u001b[1m maximum \u001b[0m\u001b[1m nmissing \u001b[0m\n",
      "\u001b[1m     \u001b[0m│\u001b[90m Symbol   \u001b[0m\u001b[90m Float64 \u001b[0m\u001b[90m Float64   \u001b[0m\u001b[90m Float64    \u001b[0m\u001b[90m Float64  \u001b[0m\u001b[90m Float64 \u001b[0m\u001b[90m Float64 \u001b[0m\u001b[90m Float64 \u001b[0m\u001b[90m Float64 \u001b[0m\u001b[90m Float64 \u001b[0m\u001b[90m Int64    \u001b[0m\n",
      "─────┼───────────────────────────────────────────────────────────────────────────────────────────────────────────\n",
      "   1 │ Ozone      4887.0   42.1293   1088.2      32.9879       1.0    18.0      31.5    63.25    168.0        37\n",
      "   2 │ Solar_R   27146.0  185.932    8110.52     90.0584       7.0   115.75    205.0   258.75    334.0         7\n",
      "   3 │ Wind       1523.5    9.95752    12.4115    3.523        1.7     7.4       9.7    11.5      20.7         0\n",
      "   4 │ Temp      11916.0   77.8824     89.5913    9.46527     56.0    72.0      79.0    85.0      97.0         0\n",
      "   5 │ Month      1070.0    6.99346     2.00654   1.41652      5.0     6.0       7.0     8.0       9.0         0\n",
      "   6 │ Day        2418.0   15.8039     78.5797    8.86452      1.0     8.0      16.0    23.0      31.0         0\n",
      "\n",
      "\u001b[1m6×4 DataFrame\u001b[0m\n",
      "\u001b[1m Row \u001b[0m│\u001b[1m variable \u001b[0m\u001b[1m q25     \u001b[0m\u001b[1m q75     \u001b[0m\u001b[1m nmissing \u001b[0m\n",
      "\u001b[1m     \u001b[0m│\u001b[90m Symbol   \u001b[0m\u001b[90m Float64 \u001b[0m\u001b[90m Float64 \u001b[0m\u001b[90m Int64    \u001b[0m\n",
      "─────┼──────────────────────────────────────\n",
      "   1 │ Ozone       18.0     63.25        37\n",
      "   2 │ Solar_R    115.75   258.75         7\n",
      "   3 │ Wind         7.4     11.5          0\n",
      "   4 │ Temp        72.0     85.0          0\n",
      "   5 │ Month        6.0      8.0          0\n",
      "   6 │ Day          8.0     23.0          0\n",
      "\n",
      "\u001b[1m4×4 DataFrame\u001b[0m\n",
      "\u001b[1m Row \u001b[0m│\u001b[1m variable \u001b[0m\u001b[1m q25     \u001b[0m\u001b[1m q75     \u001b[0m\u001b[1m nmissing \u001b[0m\n",
      "\u001b[1m     \u001b[0m│\u001b[90m Symbol   \u001b[0m\u001b[90m Float64 \u001b[0m\u001b[90m Float64 \u001b[0m\u001b[90m Int64    \u001b[0m\n",
      "─────┼──────────────────────────────────────\n",
      "   1 │ Ozone        18.0     62.0         0\n",
      "   2 │ Solar_R     113.5    255.5         0\n",
      "   3 │ Wind          7.4     11.5         0\n",
      "   4 │ Temp         71.0     84.5         0\n",
      "\n"
     ]
    }
   ],
   "source": [
    "function describe2(df, arg...=:all)\n",
    "    q25(x) = quantile(x, 0.25)\n",
    "    q75(x) = quantile(x, 0.75)\n",
    "    nmissing(x) = nrow(df) - length(ismissing.(x))\n",
    "    arg0 = [:sum, :mean, :var, :std, :min, :q25, :median, :q75, :max, :nmissing]\n",
    "    func = [sum, mean, var, std, minimum, q25, median, q75, maximum, nmissing]\n",
    "    funcname = [\"sum\", \"mean\", \"var\", \"std\", \"minimum\", \"q25\", \"median\", \"q75\", \"maximum\", \"nmissing\"]\n",
    "    arg[1] == :all && (arg = arg0)\n",
    "    res = DataFrame(variable = Symbol.(names(df)))\n",
    "    n = ncol(df)\n",
    "    m = length(arg)\n",
    "    body = Array{Float64, 2}(undef, n, m)\n",
    "    loc = indexin(arg, arg0)\n",
    "    for i in 1:n\n",
    "        x = skipmissing(df[!, i])\n",
    "        body[i, :] = [func[j](x) for j in loc]\n",
    "    end\n",
    "    bodydf = DataFrame(body, funcname[loc])\n",
    "    pos = indexin([\"nmissing\"], funcname[loc])[1]\n",
    "    isnothing(pos) || (bodydf[!, pos] = Int.(bodydf[:, pos]))\n",
    "    hcat(res, bodydf)\n",
    "end\n",
    "\n",
    "describe2(airquality) |> println; println()\n",
    "describe2(airquality, :all) |> println; println()\n",
    "describe2(airquality, :q25, :q75, :nmissing) |> println; println()\n",
    "describe2(airquality2, :q25, :q75, :nmissing) |> println; println()"
   ]
  },
  {
   "cell_type": "markdown",
   "id": "9c842bef-bc9d-43d7-a4b0-8a29b69a11a3",
   "metadata": {},
   "source": [
    "元の describe() に :sum と :var　にも対応する別バージョンの関数を呈示しておく。"
   ]
  },
  {
   "cell_type": "code",
   "execution_count": 262,
   "id": "96cf2803-8262-4e5d-8b64-63846590ec2f",
   "metadata": {},
   "outputs": [
    {
     "data": {
      "text/html": [
       "<div class=\"data-frame\"><p>6 rows × 15 columns (omitted printing of 5 columns)</p><table class=\"data-frame\"><thead><tr><th></th><th>variable</th><th>sum</th><th>mean</th><th>var</th><th>std</th><th>min</th><th>q25</th><th>median</th><th>q75</th><th>max</th></tr><tr><th></th><th title=\"Symbol\">Symbol</th><th title=\"Float64\">Float64</th><th title=\"Float64\">Float64</th><th title=\"Float64\">Float64</th><th title=\"Float64\">Float64</th><th title=\"Real\">Real</th><th title=\"Float64\">Float64</th><th title=\"Float64\">Float64</th><th title=\"Float64\">Float64</th><th title=\"Real\">Real</th></tr></thead><tbody><tr><th>1</th><td>Ozone</td><td>4887.0</td><td>42.1293</td><td>1088.2</td><td>32.9879</td><td>1</td><td>18.0</td><td>31.5</td><td>63.25</td><td>168</td></tr><tr><th>2</th><td>Solar_R</td><td>27146.0</td><td>185.932</td><td>8110.52</td><td>90.0584</td><td>7</td><td>115.75</td><td>205.0</td><td>258.75</td><td>334</td></tr><tr><th>3</th><td>Wind</td><td>1523.5</td><td>9.95752</td><td>12.4115</td><td>3.523</td><td>1.7</td><td>7.4</td><td>9.7</td><td>11.5</td><td>20.7</td></tr><tr><th>4</th><td>Temp</td><td>11916.0</td><td>77.8824</td><td>89.5913</td><td>9.46527</td><td>56</td><td>72.0</td><td>79.0</td><td>85.0</td><td>97</td></tr><tr><th>5</th><td>Month</td><td>1070.0</td><td>6.99346</td><td>2.00654</td><td>1.41652</td><td>5</td><td>6.0</td><td>7.0</td><td>8.0</td><td>9</td></tr><tr><th>6</th><td>Day</td><td>2418.0</td><td>15.8039</td><td>78.5797</td><td>8.86452</td><td>1</td><td>8.0</td><td>16.0</td><td>23.0</td><td>31</td></tr></tbody></table></div>"
      ],
      "text/latex": [
       "\\begin{tabular}{r|ccccccccccc}\n",
       "\t& variable & sum & mean & var & std & min & q25 & median & q75 & max & \\\\\n",
       "\t\\hline\n",
       "\t& Symbol & Float64 & Float64 & Float64 & Float64 & Real & Float64 & Float64 & Float64 & Real & \\\\\n",
       "\t\\hline\n",
       "\t1 & Ozone & 4887.0 & 42.1293 & 1088.2 & 32.9879 & 1 & 18.0 & 31.5 & 63.25 & 168 & $\\dots$ \\\\\n",
       "\t2 & Solar\\_R & 27146.0 & 185.932 & 8110.52 & 90.0584 & 7 & 115.75 & 205.0 & 258.75 & 334 & $\\dots$ \\\\\n",
       "\t3 & Wind & 1523.5 & 9.95752 & 12.4115 & 3.523 & 1.7 & 7.4 & 9.7 & 11.5 & 20.7 & $\\dots$ \\\\\n",
       "\t4 & Temp & 11916.0 & 77.8824 & 89.5913 & 9.46527 & 56 & 72.0 & 79.0 & 85.0 & 97 & $\\dots$ \\\\\n",
       "\t5 & Month & 1070.0 & 6.99346 & 2.00654 & 1.41652 & 5 & 6.0 & 7.0 & 8.0 & 9 & $\\dots$ \\\\\n",
       "\t6 & Day & 2418.0 & 15.8039 & 78.5797 & 8.86452 & 1 & 8.0 & 16.0 & 23.0 & 31 & $\\dots$ \\\\\n",
       "\\end{tabular}\n"
      ],
      "text/plain": [
       "\u001b[1m6×15 DataFrame\u001b[0m\n",
       "\u001b[1m Row \u001b[0m│\u001b[1m variable \u001b[0m\u001b[1m sum     \u001b[0m\u001b[1m mean      \u001b[0m\u001b[1m var        \u001b[0m\u001b[1m std      \u001b[0m\u001b[1m min  \u001b[0m\u001b[1m q25     \u001b[0m\u001b[1m medi\u001b[0m ⋯\n",
       "\u001b[1m     \u001b[0m│\u001b[90m Symbol   \u001b[0m\u001b[90m Float64 \u001b[0m\u001b[90m Float64   \u001b[0m\u001b[90m Float64    \u001b[0m\u001b[90m Float64  \u001b[0m\u001b[90m Real \u001b[0m\u001b[90m Float64 \u001b[0m\u001b[90m Floa\u001b[0m ⋯\n",
       "─────┼──────────────────────────────────────────────────────────────────────────\n",
       "   1 │ Ozone      4887.0   42.1293   1088.2      32.9879    1      18.0      3 ⋯\n",
       "   2 │ Solar_R   27146.0  185.932    8110.52     90.0584    7     115.75    20\n",
       "   3 │ Wind       1523.5    9.95752    12.4115    3.523     1.7     7.4\n",
       "   4 │ Temp      11916.0   77.8824     89.5913    9.46527  56      72.0      7\n",
       "   5 │ Month      1070.0    6.99346     2.00654   1.41652   5       6.0        ⋯\n",
       "   6 │ Day        2418.0   15.8039     78.5797    8.86452   1       8.0      1\n",
       "\u001b[36m                                                               8 columns omitted\u001b[0m"
      ]
     },
     "execution_count": 262,
     "metadata": {},
     "output_type": "execute_result"
    }
   ],
   "source": [
    "function getcol(df, sym, newsym)\n",
    "    df2 = describe(df, sym, :nmissing)\n",
    "    if sym == :mean\n",
    "        n = nrow(df)\n",
    "        df2[!, sym] .*= (n .- df2.nmissing)\n",
    "    else\n",
    "        df2[!, sym] .*= df2[:, sym]\n",
    "    end\n",
    "    rename!(df2, sym => newsym)\n",
    "end\n",
    "\n",
    "function describe3(df, arg...)\n",
    "    length(arg) == 1 && arg[1] == :all && (arg = (:sum, :mean, :var, :std, :min, :q25, :median, :q75, :max, :nunique, :nmissing, :first, :last, :eltype))\n",
    "    df2 = DataFrame(variable = Symbol.(names(df)))\n",
    "    for a in arg\n",
    "        if a == :sum\n",
    "            df3 = getcol(df, :mean, :sum)\n",
    "        elseif a == :var\n",
    "            df3 = getcol(df, :std, :var)\n",
    "        else\n",
    "            df3 = describe(df, a)\n",
    "        end\n",
    "        df2 = hcat(df2, select(df3, 2))\n",
    "    end\n",
    "    df2\n",
    "end\n",
    "\n",
    "describe3(airquality, :all)"
   ]
  },
  {
   "cell_type": "markdown",
   "id": "21027137-a2f5-430c-a293-33f7bc590691",
   "metadata": {},
   "source": [
    "airquality2 = dropmissing(select(airquality, [1, 2, 3, 4]))\n",
    "複数の変数に対して，任意の q 値に対するパーセンタイル値を求めるには，以下のような関数を定義すればよい。missing を除去して計算される。"
   ]
  },
  {
   "cell_type": "code",
   "execution_count": 263,
   "id": "786f32ec-39de-4959-8161-afbe570c8d28",
   "metadata": {},
   "outputs": [
    {
     "name": "stdout",
     "output_type": "stream",
     "text": [
      "\u001b[1m6×7 DataFrame\u001b[0m\n",
      "\u001b[1m Row \u001b[0m│\u001b[1m variable \u001b[0m\u001b[1m n     \u001b[0m\u001b[1m min     \u001b[0m\u001b[1m q25     \u001b[0m\u001b[1m median  \u001b[0m\u001b[1m q75     \u001b[0m\u001b[1m max     \u001b[0m\n",
      "\u001b[1m     \u001b[0m│\u001b[90m String   \u001b[0m\u001b[90m Int64 \u001b[0m\u001b[90m Float64 \u001b[0m\u001b[90m Float64 \u001b[0m\u001b[90m Float64 \u001b[0m\u001b[90m Float64 \u001b[0m\u001b[90m Float64 \u001b[0m\n",
      "─────┼──────────────────────────────────────────────────────────────\n",
      "   1 │ Ozone       116      1.0    18.0      31.5    63.25    168.0\n",
      "   2 │ Solar_R     146      7.0   115.75    205.0   258.75    334.0\n",
      "   3 │ Wind        153      1.7     7.4       9.7    11.5      20.7\n",
      "   4 │ Temp        153     56.0    72.0      79.0    85.0      97.0\n",
      "   5 │ Month       153      5.0     6.0       7.0     8.0       9.0\n",
      "   6 │ Day         153      1.0     8.0      16.0    23.0      31.0\n",
      "\n",
      "\u001b[1m6×6 DataFrame\u001b[0m\n",
      "\u001b[1m Row \u001b[0m│\u001b[1m variable \u001b[0m\u001b[1m n     \u001b[0m\u001b[1m q5      \u001b[0m\u001b[1m q25     \u001b[0m\u001b[1m q75     \u001b[0m\u001b[1m q95     \u001b[0m\n",
      "\u001b[1m     \u001b[0m│\u001b[90m String   \u001b[0m\u001b[90m Int64 \u001b[0m\u001b[90m Float64 \u001b[0m\u001b[90m Float64 \u001b[0m\u001b[90m Float64 \u001b[0m\u001b[90m Float64 \u001b[0m\n",
      "─────┼─────────────────────────────────────────────────────\n",
      "   1 │ Ozone       116     7.75    18.0     63.25    108.5\n",
      "   2 │ Solar_R     146    24.25   115.75   258.75    311.5\n",
      "   3 │ Wind        153     4.6      7.4     11.5      15.5\n",
      "   4 │ Temp        153    60.2     72.0     85.0      92.0\n",
      "   5 │ Month       153     5.0      6.0      8.0       9.0\n",
      "   6 │ Day         153     2.0      8.0     23.0      29.4\n",
      "\n"
     ]
    }
   ],
   "source": [
    "function quantile2(df, qs=[0, 0.25, 0.5, 0.75, 1])\n",
    "    Names =[\"q$(Int(100q))\" for q in qs]\n",
    "    Names = replace(Names, \"q0\" => \"min\", \"q50\" => \"median\", \"q100\" => \"max\")\n",
    "    qtile = map(x -> quantile(skipmissing(x), qs), eachcol(df))\n",
    "    df2 = DataFrame(Matrix(reshape(vcat(qtile...), length(qs), :)'), Names)\n",
    "    n = map(x -> length(filter(!ismissing, x)), eachcol(df))\n",
    "    insertcols!(df2, 1, :variable => names(df), :n => n)\n",
    "    df2\n",
    "end\n",
    "\n",
    "quantile2(airquality) |> println; println()\n",
    "quantile2(airquality, [0.05, 0.25, 0.75, 0.95]) |> println; println()"
   ]
  },
  {
   "cell_type": "code",
   "execution_count": 264,
   "id": "372bf5ca-06ec-4c0d-b4c0-4f856f1a2178",
   "metadata": {},
   "outputs": [
    {
     "name": "stdout",
     "output_type": "stream",
     "text": [
      "\u001b[1m6×6 DataFrame\u001b[0m\n",
      "\u001b[1m Row \u001b[0m│\u001b[1m variable \u001b[0m\u001b[1m min     \u001b[0m\u001b[1m q25     \u001b[0m\u001b[1m median  \u001b[0m\u001b[1m q75     \u001b[0m\u001b[1m max     \u001b[0m\n",
      "\u001b[1m     \u001b[0m│\u001b[90m Symbol   \u001b[0m\u001b[90m Float64 \u001b[0m\u001b[90m Float64 \u001b[0m\u001b[90m Float64 \u001b[0m\u001b[90m Float64 \u001b[0m\u001b[90m Float64 \u001b[0m\n",
      "─────┼───────────────────────────────────────────────────────\n",
      "   1 │ Ozone         1.0    18.0      31.5    63.25    168.0\n",
      "   2 │ Solar_R       7.0   115.75    205.0   258.75    334.0\n",
      "   3 │ Wind          1.7     7.4       9.7    11.5      20.7\n",
      "   4 │ Temp         56.0    72.0      79.0    85.0      97.0\n",
      "   5 │ Month         5.0     6.0       7.0     8.0       9.0\n",
      "   6 │ Day           1.0     8.0      16.0    23.0      31.0\n",
      "\n",
      "\u001b[1m4×6 DataFrame\u001b[0m\n",
      "\u001b[1m Row \u001b[0m│\u001b[1m variable \u001b[0m\u001b[1m min     \u001b[0m\u001b[1m q25     \u001b[0m\u001b[1m median  \u001b[0m\u001b[1m q75     \u001b[0m\u001b[1m max     \u001b[0m\n",
      "\u001b[1m     \u001b[0m│\u001b[90m Symbol   \u001b[0m\u001b[90m Float64 \u001b[0m\u001b[90m Float64 \u001b[0m\u001b[90m Float64 \u001b[0m\u001b[90m Float64 \u001b[0m\u001b[90m Float64 \u001b[0m\n",
      "─────┼───────────────────────────────────────────────────────\n",
      "   1 │ Ozone         1.0     18.0     31.0     62.0    168.0\n",
      "   2 │ Solar_R       7.0    113.5    207.0    255.5    334.0\n",
      "   3 │ Wind          2.3      7.4      9.7     11.5     20.7\n",
      "   4 │ Temp         57.0     71.0     79.0     84.5     97.0\n",
      "\n"
     ]
    }
   ],
   "source": [
    "function quantile3(df, q=[0, 0.25, 0.5, 0.75, 1])\n",
    "    res = DataFrame(variable = Symbol.(names(df)))\n",
    "    n = ncol(df)\n",
    "    m = length(q)\n",
    "    body = Array{Float64, 2}(undef, n, m)\n",
    "    for i in 1:n\n",
    "        body[i, :] = quantile(skipmissing(df[!, i]), q)\n",
    "    end\n",
    "    colnames = [\"q$(Int(q0*100))\" for q0 in q]\n",
    "    replace!(colnames, \"q0\" =>  \"min\", \"q50\" => \"median\", \"q100\" => \"max\")\n",
    "    hcat(res, DataFrame(body, colnames))\n",
    "end\n",
    "\n",
    "quantile3(airquality) |> println; println()\n",
    "quantile3(airquality2) |> println; println()"
   ]
  },
  {
   "cell_type": "markdown",
   "id": "305eaaa0-479b-48cd-a597-79a815134519",
   "metadata": {},
   "source": [
    "パーセンタイル値を求める q 値を指定できる。"
   ]
  },
  {
   "cell_type": "code",
   "execution_count": 265,
   "id": "fe98135e-a8d7-4a8f-81e7-f5cb48a8768f",
   "metadata": {},
   "outputs": [
    {
     "data": {
      "text/html": [
       "<div class=\"data-frame\"><p>4 rows × 7 columns</p><table class=\"data-frame\"><thead><tr><th></th><th>variable</th><th>n</th><th>q10</th><th>q30</th><th>median</th><th>q70</th><th>q90</th></tr><tr><th></th><th title=\"String\">String</th><th title=\"Int64\">Int64</th><th title=\"Float64\">Float64</th><th title=\"Float64\">Float64</th><th title=\"Float64\">Float64</th><th title=\"Float64\">Float64</th><th title=\"Float64\">Float64</th></tr></thead><tbody><tr><th>1</th><td>Ozone</td><td>111</td><td>11.0</td><td>20.0</td><td>31.0</td><td>49.0</td><td>89.0</td></tr><tr><th>2</th><td>Solar_R</td><td>111</td><td>37.0</td><td>137.0</td><td>207.0</td><td>248.0</td><td>285.0</td></tr><tr><th>3</th><td>Wind</td><td>111</td><td>5.7</td><td>8.0</td><td>9.7</td><td>11.5</td><td>14.9</td></tr><tr><th>4</th><td>Temp</td><td>111</td><td>64.0</td><td>73.0</td><td>79.0</td><td>83.0</td><td>90.0</td></tr></tbody></table></div>"
      ],
      "text/latex": [
       "\\begin{tabular}{r|ccccccc}\n",
       "\t& variable & n & q10 & q30 & median & q70 & q90\\\\\n",
       "\t\\hline\n",
       "\t& String & Int64 & Float64 & Float64 & Float64 & Float64 & Float64\\\\\n",
       "\t\\hline\n",
       "\t1 & Ozone & 111 & 11.0 & 20.0 & 31.0 & 49.0 & 89.0 \\\\\n",
       "\t2 & Solar\\_R & 111 & 37.0 & 137.0 & 207.0 & 248.0 & 285.0 \\\\\n",
       "\t3 & Wind & 111 & 5.7 & 8.0 & 9.7 & 11.5 & 14.9 \\\\\n",
       "\t4 & Temp & 111 & 64.0 & 73.0 & 79.0 & 83.0 & 90.0 \\\\\n",
       "\\end{tabular}\n"
      ],
      "text/plain": [
       "\u001b[1m4×7 DataFrame\u001b[0m\n",
       "\u001b[1m Row \u001b[0m│\u001b[1m variable \u001b[0m\u001b[1m n     \u001b[0m\u001b[1m q10     \u001b[0m\u001b[1m q30     \u001b[0m\u001b[1m median  \u001b[0m\u001b[1m q70     \u001b[0m\u001b[1m q90     \u001b[0m\n",
       "\u001b[1m     \u001b[0m│\u001b[90m String   \u001b[0m\u001b[90m Int64 \u001b[0m\u001b[90m Float64 \u001b[0m\u001b[90m Float64 \u001b[0m\u001b[90m Float64 \u001b[0m\u001b[90m Float64 \u001b[0m\u001b[90m Float64 \u001b[0m\n",
       "─────┼──────────────────────────────────────────────────────────────\n",
       "   1 │ Ozone       111     11.0     20.0     31.0     49.0     89.0\n",
       "   2 │ Solar_R     111     37.0    137.0    207.0    248.0    285.0\n",
       "   3 │ Wind        111      5.7      8.0      9.7     11.5     14.9\n",
       "   4 │ Temp        111     64.0     73.0     79.0     83.0     90.0"
      ]
     },
     "execution_count": 265,
     "metadata": {},
     "output_type": "execute_result"
    }
   ],
   "source": [
    "quantile2(airquality2, (1:2:9)./10)"
   ]
  },
  {
   "cell_type": "markdown",
   "id": "f226505b-3376-48e9-bfba-fb6ece2e0273",
   "metadata": {},
   "source": [
    "分析に使用する変数は以下のように指定できるので，新しくデータフレームを作る必要はない。"
   ]
  },
  {
   "cell_type": "code",
   "execution_count": 266,
   "id": "b1aaa961-5113-4392-b38e-2a8665faae2c",
   "metadata": {},
   "outputs": [
    {
     "data": {
      "text/html": [
       "<div class=\"data-frame\"><p>3 rows × 7 columns</p><table class=\"data-frame\"><thead><tr><th></th><th>variable</th><th>n</th><th>min</th><th>q25</th><th>median</th><th>q75</th><th>max</th></tr><tr><th></th><th title=\"String\">String</th><th title=\"Int64\">Int64</th><th title=\"Float64\">Float64</th><th title=\"Float64\">Float64</th><th title=\"Float64\">Float64</th><th title=\"Float64\">Float64</th><th title=\"Float64\">Float64</th></tr></thead><tbody><tr><th>1</th><td>Ozone</td><td>116</td><td>1.0</td><td>18.0</td><td>31.5</td><td>63.25</td><td>168.0</td></tr><tr><th>2</th><td>Wind</td><td>153</td><td>1.7</td><td>7.4</td><td>9.7</td><td>11.5</td><td>20.7</td></tr><tr><th>3</th><td>Temp</td><td>153</td><td>56.0</td><td>72.0</td><td>79.0</td><td>85.0</td><td>97.0</td></tr></tbody></table></div>"
      ],
      "text/latex": [
       "\\begin{tabular}{r|ccccccc}\n",
       "\t& variable & n & min & q25 & median & q75 & max\\\\\n",
       "\t\\hline\n",
       "\t& String & Int64 & Float64 & Float64 & Float64 & Float64 & Float64\\\\\n",
       "\t\\hline\n",
       "\t1 & Ozone & 116 & 1.0 & 18.0 & 31.5 & 63.25 & 168.0 \\\\\n",
       "\t2 & Wind & 153 & 1.7 & 7.4 & 9.7 & 11.5 & 20.7 \\\\\n",
       "\t3 & Temp & 153 & 56.0 & 72.0 & 79.0 & 85.0 & 97.0 \\\\\n",
       "\\end{tabular}\n"
      ],
      "text/plain": [
       "\u001b[1m3×7 DataFrame\u001b[0m\n",
       "\u001b[1m Row \u001b[0m│\u001b[1m variable \u001b[0m\u001b[1m n     \u001b[0m\u001b[1m min     \u001b[0m\u001b[1m q25     \u001b[0m\u001b[1m median  \u001b[0m\u001b[1m q75     \u001b[0m\u001b[1m max     \u001b[0m\n",
       "\u001b[1m     \u001b[0m│\u001b[90m String   \u001b[0m\u001b[90m Int64 \u001b[0m\u001b[90m Float64 \u001b[0m\u001b[90m Float64 \u001b[0m\u001b[90m Float64 \u001b[0m\u001b[90m Float64 \u001b[0m\u001b[90m Float64 \u001b[0m\n",
       "─────┼──────────────────────────────────────────────────────────────\n",
       "   1 │ Ozone       116      1.0     18.0     31.5    63.25    168.0\n",
       "   2 │ Wind        153      1.7      7.4      9.7    11.5      20.7\n",
       "   3 │ Temp        153     56.0     72.0     79.0    85.0      97.0"
      ]
     },
     "execution_count": 266,
     "metadata": {},
     "output_type": "execute_result"
    }
   ],
   "source": [
    "quantile2(airquality[:, [1, 3, 4]])"
   ]
  },
  {
   "cell_type": "markdown",
   "id": "b8719d9b-c0a9-4df5-b536-48c8a2564e81",
   "metadata": {},
   "source": [
    "### 1.2.3.　combine(), select()/select!(), transform()/transform!() を使う\n",
    "\n",
    "Hadley Wickham が書いた論文 \"The Split-Apply-Combine Strategy for Data Analysis\" にあるように，統計解析は「データをグループ化し(split)，それぞれのグループに関数を適用し(apply)，結果をまとめ上げる(combine)」という三段階からなる。\n",
    "\n",
    "Julia ではこれを，combin2, select/select!, transform/transform! で行う。\n",
    "\n",
    "combine() は，第 1 引数で渡されたデータフレームについて，第 2 引数以降で指示された関数を適用し，結果をデータフレームにまとめる。\n",
    "本来は複数のサブグループに対して用いるものであるが，データフレーム全体も 1 個のサブグループに過ぎないので，適用してもなんの問題もない。\n",
    "\n",
    "第 2 引数は何通りかの書き方がある。\n",
    "\n",
    "- nrow のようにデータフレームを引数とする関数名だけを書く場合。nrow() はデータフレームに作用する関数で，データフレームの行数を返す。結果のデータフレームで，nrow 列に 153 が書かれている。結果は 1 個の数値に限らない。たとえば size() はデータフレームの行数と列数をタプルで返すので，結果の x1 の列に (153, 6) が書かれている。列名の x1 はデフォルトである。quantil() はベクトルを返すが，tuple に変換しないと結果が見にくくなる。\n",
    "- nrow => :名前　のように書くと，列名を定義できる。:nrow と書いたので，結果のデータフレームで，列名が n になっている。\n",
    "- 最初の => の左にあるものはデータフレームの列を示す。シンボル(: がついている）や文字列（\" \" で囲まれている）や数字（列の番号）などの場合もある。\n",
    "- 最初の => の右にあるのものは関数（自作の関数も可）または無名関数である。\n",
    "- 関数を何段階か順番に適用するときには無名関数で定義する（=> で関数を数珠つなぎにすることはできない）。\n",
    "- 関数/無名関数の後に => に続くものがある場合は，それは結果のデータフレームの列名になる（重複する名前は指定できない）。ない場合にはデフォルトでもっともらしい名前が付けられる。"
   ]
  },
  {
   "cell_type": "code",
   "execution_count": 267,
   "id": "2ebc312c-74c8-46ca-a70a-5dccc773cb4f",
   "metadata": {},
   "outputs": [
    {
     "name": "stdout",
     "output_type": "stream",
     "text": [
      "DataFrame\n",
      "\n",
      "\u001b[1m1×11 DataFrame\u001b[0m\n",
      "\u001b[1m Row \u001b[0m│\u001b[1m nrow  \u001b[0m\u001b[1m x1       \u001b[0m\u001b[1m n     \u001b[0m\u001b[1m Wind_std \u001b[0m\u001b[1m var_wind \u001b[0m\u001b[1m var-wind \u001b[0m\u001b[1m std-wind \u001b[0m\u001b[1m std-wind-2 \u001b[0m\u001b[1m valid cases \u001b[0m\u001b[1m Mean    \u001b[0m\u001b[1m %-tiles(25, 50, 75)   \u001b[0m\n",
      "\u001b[1m     \u001b[0m│\u001b[90m Int64 \u001b[0m\u001b[90m Tuple…   \u001b[0m\u001b[90m Int64 \u001b[0m\u001b[90m Float64  \u001b[0m\u001b[90m Float64  \u001b[0m\u001b[90m Float64  \u001b[0m\u001b[90m Float64  \u001b[0m\u001b[90m Float64    \u001b[0m\u001b[90m Int64       \u001b[0m\u001b[90m Float64 \u001b[0m\u001b[90m Tuple…                \u001b[0m\n",
      "─────┼─────────────────────────────────────────────────────────────────────────────────────────────────────────────────────────\n",
      "   1 │   153  (153, 6)    153     3.523   12.4115   12.4115     3.523       3.523          116  42.1293  ([72.0, 79.0, 85.0],)\n"
     ]
    }
   ],
   "source": [
    "function my_std(x)\n",
    "    mean = sum(x) / length(x)\n",
    "    var = sum((x .- mean).^2) / (length(x) - 1)\n",
    "    sqrt(var)\n",
    "end\n",
    "\n",
    "results = combine(airquality,\n",
    "    nrow,\n",
    "    size,\n",
    "    nrow => :n,\n",
    "    :Wind => std,\n",
    "    \"Wind\" => var => :var_wind,\n",
    "    3 => var => \"var-wind\",\n",
    "    3 => (x -> sqrt(var(x))) => \"std-wind\",\n",
    "    :Wind => my_std => \"std-wind-2\",\n",
    "    :Ozone => (x -> length(filter(!ismissing, x))) => \"valid cases\",\n",
    "    :Ozone => (x -> mean(skipmissing(x))) => :Mean,\n",
    "    :Temp => (x -> tuple(quantile(x, [0.25, 0.5, 0.75]))) => \"%-tiles(25, 50, 75)\"\n",
    ")\n",
    "typeof(results) |> println; println()\n",
    "results |> println"
   ]
  },
  {
   "cell_type": "markdown",
   "id": "d8a31851-6aef-446b-be82-bcb1bb627839",
   "metadata": {},
   "source": [
    "## 1.3.　グループごとの記述統計量\n",
    "\n",
    "データフレームをグループを表す変数でグループ化し，それぞれのサブグループごとに統計量を求める。\n",
    "\n",
    "airquality データセットの :Month でグループ化する。\n",
    "\n",
    "select()/select!() はデータフレームの列を選択する。Not(シンボル)，Not(シンボルベクトル) はそれらを含まないことを表す。\n",
    "\n",
    "groupby(データフレーム，グループ化に使う列の指定) でグループ化する。列の指定はベクトルでもよい。"
   ]
  },
  {
   "cell_type": "code",
   "execution_count": 268,
   "id": "6e60ea86-372f-4803-9906-7330d7ff740c",
   "metadata": {},
   "outputs": [
    {
     "name": "stdout",
     "output_type": "stream",
     "text": [
      "number of subgroup = 5\n"
     ]
    }
   ],
   "source": [
    "using RDatasets\n",
    "\n",
    "airquality = RDatasets.dataset(\"datasets\", \"airquality\");\n",
    "rename!(airquality, Dict(\"Solar.R\" => \"Solar_R\"));\n",
    "gdf = groupby(select(airquality, Not(:Day)), :Month);\n",
    "println(\"number of subgroup = \", length(gdf))"
   ]
  },
  {
   "cell_type": "markdown",
   "id": "23f3bb1c-7227-4a08-93dd-c069a4dfac02",
   "metadata": {},
   "source": [
    "gdf[1] は :Month が 5 の場合のサブグループである。"
   ]
  },
  {
   "cell_type": "code",
   "execution_count": 269,
   "id": "c77115e1-006b-462a-9472-1f2d341e012b",
   "metadata": {},
   "outputs": [
    {
     "data": {
      "text/html": [
       "<div class=\"data-frame\"><p>5 rows × 5 columns</p><table class=\"data-frame\"><thead><tr><th></th><th>Ozone</th><th>Solar_R</th><th>Wind</th><th>Temp</th><th>Month</th></tr><tr><th></th><th title=\"Union{Missing, Int64}\">Int64?</th><th title=\"Union{Missing, Int64}\">Int64?</th><th title=\"Float64\">Float64</th><th title=\"Int64\">Int64</th><th title=\"Int64\">Int64</th></tr></thead><tbody><tr><th>1</th><td>41</td><td>190</td><td>7.4</td><td>67</td><td>5</td></tr><tr><th>2</th><td>36</td><td>118</td><td>8.0</td><td>72</td><td>5</td></tr><tr><th>3</th><td>12</td><td>149</td><td>12.6</td><td>74</td><td>5</td></tr><tr><th>4</th><td>18</td><td>313</td><td>11.5</td><td>62</td><td>5</td></tr><tr><th>5</th><td><em>missing</em></td><td><em>missing</em></td><td>14.3</td><td>56</td><td>5</td></tr></tbody></table></div>"
      ],
      "text/latex": [
       "\\begin{tabular}{r|ccccc}\n",
       "\t& Ozone & Solar\\_R & Wind & Temp & Month\\\\\n",
       "\t\\hline\n",
       "\t& Int64? & Int64? & Float64 & Int64 & Int64\\\\\n",
       "\t\\hline\n",
       "\t1 & 41 & 190 & 7.4 & 67 & 5 \\\\\n",
       "\t2 & 36 & 118 & 8.0 & 72 & 5 \\\\\n",
       "\t3 & 12 & 149 & 12.6 & 74 & 5 \\\\\n",
       "\t4 & 18 & 313 & 11.5 & 62 & 5 \\\\\n",
       "\t5 & \\emph{missing} & \\emph{missing} & 14.3 & 56 & 5 \\\\\n",
       "\\end{tabular}\n"
      ],
      "text/plain": [
       "\u001b[1m5×5 DataFrame\u001b[0m\n",
       "\u001b[1m Row \u001b[0m│\u001b[1m Ozone   \u001b[0m\u001b[1m Solar_R \u001b[0m\u001b[1m Wind    \u001b[0m\u001b[1m Temp  \u001b[0m\u001b[1m Month \u001b[0m\n",
       "\u001b[1m     \u001b[0m│\u001b[90m Int64?  \u001b[0m\u001b[90m Int64?  \u001b[0m\u001b[90m Float64 \u001b[0m\u001b[90m Int64 \u001b[0m\u001b[90m Int64 \u001b[0m\n",
       "─────┼─────────────────────────────────────────\n",
       "   1 │      41      190      7.4     67      5\n",
       "   2 │      36      118      8.0     72      5\n",
       "   3 │      12      149     12.6     74      5\n",
       "   4 │      18      313     11.5     62      5\n",
       "   5 │\u001b[90m missing \u001b[0m\u001b[90m missing \u001b[0m    14.3     56      5"
      ]
     },
     "execution_count": 269,
     "metadata": {},
     "output_type": "execute_result"
    }
   ],
   "source": [
    "first(gdf[1], 5)"
   ]
  },
  {
   "cell_type": "markdown",
   "id": "24a48fe1-b52b-4af7-8313-06f7b58b89b3",
   "metadata": {},
   "source": [
    "## 1.3.1.　describe() を使う"
   ]
  },
  {
   "cell_type": "markdown",
   "id": "a9832d0c-6e42-420f-a248-5560e0c31ef7",
   "metadata": {},
   "source": [
    "groupby() により分割されたそれぞれの gdf[i] は，データフレームなので，前節に述べた方法をそのまま適用できる。"
   ]
  },
  {
   "cell_type": "code",
   "execution_count": 270,
   "id": "45c8440e-c007-4625-9f89-39b9e4947f5a",
   "metadata": {},
   "outputs": [
    {
     "data": {
      "text/html": [
       "<div class=\"data-frame\"><p>4 rows × 7 columns</p><table class=\"data-frame\"><thead><tr><th></th><th>variable</th><th>mean</th><th>min</th><th>median</th><th>max</th><th>nmissing</th><th>eltype</th></tr><tr><th></th><th title=\"Symbol\">Symbol</th><th title=\"Float64\">Float64</th><th title=\"Real\">Real</th><th title=\"Float64\">Float64</th><th title=\"Real\">Real</th><th title=\"Int64\">Int64</th><th title=\"Type\">Type</th></tr></thead><tbody><tr><th>1</th><td>Ozone</td><td>23.6154</td><td>1</td><td>18.0</td><td>115</td><td>5</td><td>Union{Missing, Int64}</td></tr><tr><th>2</th><td>Solar_R</td><td>181.296</td><td>8</td><td>194.0</td><td>334</td><td>4</td><td>Union{Missing, Int64}</td></tr><tr><th>3</th><td>Wind</td><td>11.6226</td><td>5.7</td><td>11.5</td><td>20.1</td><td>0</td><td>Float64</td></tr><tr><th>4</th><td>Temp</td><td>65.5484</td><td>56</td><td>66.0</td><td>81</td><td>0</td><td>Int64</td></tr></tbody></table></div>"
      ],
      "text/latex": [
       "\\begin{tabular}{r|ccccccc}\n",
       "\t& variable & mean & min & median & max & nmissing & eltype\\\\\n",
       "\t\\hline\n",
       "\t& Symbol & Float64 & Real & Float64 & Real & Int64 & Type\\\\\n",
       "\t\\hline\n",
       "\t1 & Ozone & 23.6154 & 1 & 18.0 & 115 & 5 & Union\\{Missing, Int64\\} \\\\\n",
       "\t2 & Solar\\_R & 181.296 & 8 & 194.0 & 334 & 4 & Union\\{Missing, Int64\\} \\\\\n",
       "\t3 & Wind & 11.6226 & 5.7 & 11.5 & 20.1 & 0 & Float64 \\\\\n",
       "\t4 & Temp & 65.5484 & 56 & 66.0 & 81 & 0 & Int64 \\\\\n",
       "\\end{tabular}\n"
      ],
      "text/plain": [
       "\u001b[1m4×7 DataFrame\u001b[0m\n",
       "\u001b[1m Row \u001b[0m│\u001b[1m variable \u001b[0m\u001b[1m mean     \u001b[0m\u001b[1m min  \u001b[0m\u001b[1m median  \u001b[0m\u001b[1m max   \u001b[0m\u001b[1m nmissing \u001b[0m\u001b[1m eltype             \u001b[0m ⋯\n",
       "\u001b[1m     \u001b[0m│\u001b[90m Symbol   \u001b[0m\u001b[90m Float64  \u001b[0m\u001b[90m Real \u001b[0m\u001b[90m Float64 \u001b[0m\u001b[90m Real  \u001b[0m\u001b[90m Int64    \u001b[0m\u001b[90m Type               \u001b[0m ⋯\n",
       "─────┼──────────────────────────────────────────────────────────────────────────\n",
       "   1 │ Ozone      23.6154   1       18.0  115           5  Union{Missing, Int6 ⋯\n",
       "   2 │ Solar_R   181.296    8      194.0  334           4  Union{Missing, Int6\n",
       "   3 │ Wind       11.6226   5.7     11.5   20.1         0  Float64\n",
       "   4 │ Temp       65.5484  56       66.0   81           0  Int64\n",
       "\u001b[36m                                                                1 column omitted\u001b[0m"
      ]
     },
     "execution_count": 270,
     "metadata": {},
     "output_type": "execute_result"
    }
   ],
   "source": [
    "describe(select(gdf[1], Not(:Month)))"
   ]
  },
  {
   "cell_type": "code",
   "execution_count": 271,
   "id": "aa42f681-e689-4ba5-9f44-207a9db1cded",
   "metadata": {},
   "outputs": [
    {
     "data": {
      "text/html": [
       "<div class=\"data-frame\"><p>4 rows × 11 columns (omitted printing of 2 columns)</p><table class=\"data-frame\"><thead><tr><th></th><th>variable</th><th>sum</th><th>mean</th><th>var</th><th>std</th><th>minimum</th><th>q25</th><th>median</th><th>q75</th></tr><tr><th></th><th title=\"Symbol\">Symbol</th><th title=\"Float64\">Float64</th><th title=\"Float64\">Float64</th><th title=\"Float64\">Float64</th><th title=\"Float64\">Float64</th><th title=\"Float64\">Float64</th><th title=\"Float64\">Float64</th><th title=\"Float64\">Float64</th><th title=\"Float64\">Float64</th></tr></thead><tbody><tr><th>1</th><td>Ozone</td><td>614.0</td><td>23.6154</td><td>493.926</td><td>22.2244</td><td>1.0</td><td>11.0</td><td>18.0</td><td>31.5</td></tr><tr><th>2</th><td>Solar_R</td><td>4895.0</td><td>181.296</td><td>13242.4</td><td>115.075</td><td>8.0</td><td>72.0</td><td>194.0</td><td>284.5</td></tr><tr><th>3</th><td>Wind</td><td>360.3</td><td>11.6226</td><td>12.4711</td><td>3.53145</td><td>5.7</td><td>8.9</td><td>11.5</td><td>14.05</td></tr><tr><th>4</th><td>Temp</td><td>2032.0</td><td>65.5484</td><td>46.9892</td><td>6.85487</td><td>56.0</td><td>60.0</td><td>66.0</td><td>69.0</td></tr></tbody></table></div>"
      ],
      "text/latex": [
       "\\begin{tabular}{r|cccccccccc}\n",
       "\t& variable & sum & mean & var & std & minimum & q25 & median & q75 & \\\\\n",
       "\t\\hline\n",
       "\t& Symbol & Float64 & Float64 & Float64 & Float64 & Float64 & Float64 & Float64 & Float64 & \\\\\n",
       "\t\\hline\n",
       "\t1 & Ozone & 614.0 & 23.6154 & 493.926 & 22.2244 & 1.0 & 11.0 & 18.0 & 31.5 & $\\dots$ \\\\\n",
       "\t2 & Solar\\_R & 4895.0 & 181.296 & 13242.4 & 115.075 & 8.0 & 72.0 & 194.0 & 284.5 & $\\dots$ \\\\\n",
       "\t3 & Wind & 360.3 & 11.6226 & 12.4711 & 3.53145 & 5.7 & 8.9 & 11.5 & 14.05 & $\\dots$ \\\\\n",
       "\t4 & Temp & 2032.0 & 65.5484 & 46.9892 & 6.85487 & 56.0 & 60.0 & 66.0 & 69.0 & $\\dots$ \\\\\n",
       "\\end{tabular}\n"
      ],
      "text/plain": [
       "\u001b[1m4×11 DataFrame\u001b[0m\n",
       "\u001b[1m Row \u001b[0m│\u001b[1m variable \u001b[0m\u001b[1m sum     \u001b[0m\u001b[1m mean     \u001b[0m\u001b[1m var        \u001b[0m\u001b[1m std       \u001b[0m\u001b[1m minimum \u001b[0m\u001b[1m q25     \u001b[0m\u001b[1m m\u001b[0m ⋯\n",
       "\u001b[1m     \u001b[0m│\u001b[90m Symbol   \u001b[0m\u001b[90m Float64 \u001b[0m\u001b[90m Float64  \u001b[0m\u001b[90m Float64    \u001b[0m\u001b[90m Float64   \u001b[0m\u001b[90m Float64 \u001b[0m\u001b[90m Float64 \u001b[0m\u001b[90m F\u001b[0m ⋯\n",
       "─────┼──────────────────────────────────────────────────────────────────────────\n",
       "   1 │ Ozone       614.0   23.6154    493.926    22.2244       1.0     11.0    ⋯\n",
       "   2 │ Solar_R    4895.0  181.296   13242.4     115.075        8.0     72.0\n",
       "   3 │ Wind        360.3   11.6226     12.4711    3.53145      5.7      8.9\n",
       "   4 │ Temp       2032.0   65.5484     46.9892    6.85487     56.0     60.0\n",
       "\u001b[36m                                                               4 columns omitted\u001b[0m"
      ]
     },
     "execution_count": 271,
     "metadata": {},
     "output_type": "execute_result"
    }
   ],
   "source": [
    "describe2(select(gdf[1], Not(:Month)))"
   ]
  },
  {
   "cell_type": "code",
   "execution_count": 272,
   "id": "0424f588-2164-4617-a72f-e1dd5155b76c",
   "metadata": {},
   "outputs": [
    {
     "data": {
      "text/plain": [
       "5-element Vector{Float64}:\n",
       "  2.8\n",
       "  7.550000000000001\n",
       " 10.3\n",
       " 12.325\n",
       " 16.6"
      ]
     },
     "execution_count": 272,
     "metadata": {},
     "output_type": "execute_result"
    }
   ],
   "source": [
    "quantile(select(gdf[end], Not(:Month)).Wind)"
   ]
  },
  {
   "cell_type": "code",
   "execution_count": 273,
   "id": "10ee7903-221c-4bbb-bd38-f7ad917c1a6f",
   "metadata": {},
   "outputs": [
    {
     "data": {
      "text/html": [
       "<div class=\"data-frame\"><p>4 rows × 7 columns</p><table class=\"data-frame\"><thead><tr><th></th><th>variable</th><th>n</th><th>min</th><th>q25</th><th>median</th><th>q75</th><th>max</th></tr><tr><th></th><th title=\"String\">String</th><th title=\"Int64\">Int64</th><th title=\"Float64\">Float64</th><th title=\"Float64\">Float64</th><th title=\"Float64\">Float64</th><th title=\"Float64\">Float64</th><th title=\"Float64\">Float64</th></tr></thead><tbody><tr><th>1</th><td>Ozone</td><td>29</td><td>7.0</td><td>16.0</td><td>23.0</td><td>36.0</td><td>96.0</td></tr><tr><th>2</th><td>Solar_R</td><td>30</td><td>14.0</td><td>116.75</td><td>192.0</td><td>234.5</td><td>259.0</td></tr><tr><th>3</th><td>Wind</td><td>30</td><td>2.8</td><td>7.55</td><td>10.3</td><td>12.325</td><td>16.6</td></tr><tr><th>4</th><td>Temp</td><td>30</td><td>63.0</td><td>71.0</td><td>76.0</td><td>81.0</td><td>93.0</td></tr></tbody></table></div>"
      ],
      "text/latex": [
       "\\begin{tabular}{r|ccccccc}\n",
       "\t& variable & n & min & q25 & median & q75 & max\\\\\n",
       "\t\\hline\n",
       "\t& String & Int64 & Float64 & Float64 & Float64 & Float64 & Float64\\\\\n",
       "\t\\hline\n",
       "\t1 & Ozone & 29 & 7.0 & 16.0 & 23.0 & 36.0 & 96.0 \\\\\n",
       "\t2 & Solar\\_R & 30 & 14.0 & 116.75 & 192.0 & 234.5 & 259.0 \\\\\n",
       "\t3 & Wind & 30 & 2.8 & 7.55 & 10.3 & 12.325 & 16.6 \\\\\n",
       "\t4 & Temp & 30 & 63.0 & 71.0 & 76.0 & 81.0 & 93.0 \\\\\n",
       "\\end{tabular}\n"
      ],
      "text/plain": [
       "\u001b[1m4×7 DataFrame\u001b[0m\n",
       "\u001b[1m Row \u001b[0m│\u001b[1m variable \u001b[0m\u001b[1m n     \u001b[0m\u001b[1m min     \u001b[0m\u001b[1m q25     \u001b[0m\u001b[1m median  \u001b[0m\u001b[1m q75     \u001b[0m\u001b[1m max     \u001b[0m\n",
       "\u001b[1m     \u001b[0m│\u001b[90m String   \u001b[0m\u001b[90m Int64 \u001b[0m\u001b[90m Float64 \u001b[0m\u001b[90m Float64 \u001b[0m\u001b[90m Float64 \u001b[0m\u001b[90m Float64 \u001b[0m\u001b[90m Float64 \u001b[0m\n",
       "─────┼──────────────────────────────────────────────────────────────\n",
       "   1 │ Ozone        29      7.0    16.0      23.0   36.0       96.0\n",
       "   2 │ Solar_R      30     14.0   116.75    192.0  234.5      259.0\n",
       "   3 │ Wind         30      2.8     7.55     10.3   12.325     16.6\n",
       "   4 │ Temp         30     63.0    71.0      76.0   81.0       93.0"
      ]
     },
     "execution_count": 273,
     "metadata": {},
     "output_type": "execute_result"
    }
   ],
   "source": [
    "quantile2(select(gdf[end], Not(:Month)))"
   ]
  },
  {
   "cell_type": "markdown",
   "id": "6b36abb8-900c-450b-b3e5-481200d40cb6",
   "metadata": {},
   "source": [
    "for ループで，すべてのサブグループについて分析できる。"
   ]
  },
  {
   "cell_type": "code",
   "execution_count": 274,
   "id": "e12150fa-14bb-4df6-a044-83e9e0eb3749",
   "metadata": {},
   "outputs": [
    {
     "name": "stdout",
     "output_type": "stream",
     "text": [
      "\n",
      "Month: 5\n",
      "\u001b[1m4×7 DataFrame\u001b[0m\n",
      "\u001b[1m Row \u001b[0m│\u001b[1m variable \u001b[0m\u001b[1m mean     \u001b[0m\u001b[1m min  \u001b[0m\u001b[1m median  \u001b[0m\u001b[1m max   \u001b[0m\u001b[1m nmissing \u001b[0m\u001b[1m eltype                \u001b[0m\n",
      "\u001b[1m     \u001b[0m│\u001b[90m Symbol   \u001b[0m\u001b[90m Float64  \u001b[0m\u001b[90m Real \u001b[0m\u001b[90m Float64 \u001b[0m\u001b[90m Real  \u001b[0m\u001b[90m Int64    \u001b[0m\u001b[90m Type                  \u001b[0m\n",
      "─────┼───────────────────────────────────────────────────────────────────────────\n",
      "   1 │ Ozone      23.6154   1       18.0  115           5  Union{Missing, Int64}\n",
      "   2 │ Solar_R   181.296    8      194.0  334           4  Union{Missing, Int64}\n",
      "   3 │ Wind       11.6226   5.7     11.5   20.1         0  Float64\n",
      "   4 │ Temp       65.5484  56       66.0   81           0  Int64\n",
      "\n",
      "Month: 6\n",
      "\u001b[1m4×7 DataFrame\u001b[0m\n",
      "\u001b[1m Row \u001b[0m│\u001b[1m variable \u001b[0m\u001b[1m mean     \u001b[0m\u001b[1m min  \u001b[0m\u001b[1m median  \u001b[0m\u001b[1m max   \u001b[0m\u001b[1m nmissing \u001b[0m\u001b[1m eltype                \u001b[0m\n",
      "\u001b[1m     \u001b[0m│\u001b[90m Symbol   \u001b[0m\u001b[90m Float64  \u001b[0m\u001b[90m Real \u001b[0m\u001b[90m Float64 \u001b[0m\u001b[90m Real  \u001b[0m\u001b[90m Int64    \u001b[0m\u001b[90m Type                  \u001b[0m\n",
      "─────┼───────────────────────────────────────────────────────────────────────────\n",
      "   1 │ Ozone      29.4444  12       23.0   71          21  Union{Missing, Int64}\n",
      "   2 │ Solar_R   190.167   31      188.5  332           0  Union{Missing, Int64}\n",
      "   3 │ Wind       10.2667   1.7      9.7   20.7         0  Float64\n",
      "   4 │ Temp       79.1     65       78.0   93           0  Int64\n",
      "\n",
      "Month: 7\n",
      "\u001b[1m4×7 DataFrame\u001b[0m\n",
      "\u001b[1m Row \u001b[0m│\u001b[1m variable \u001b[0m\u001b[1m mean      \u001b[0m\u001b[1m min  \u001b[0m\u001b[1m median  \u001b[0m\u001b[1m max   \u001b[0m\u001b[1m nmissing \u001b[0m\u001b[1m eltype                \u001b[0m\n",
      "\u001b[1m     \u001b[0m│\u001b[90m Symbol   \u001b[0m\u001b[90m Float64   \u001b[0m\u001b[90m Real \u001b[0m\u001b[90m Float64 \u001b[0m\u001b[90m Real  \u001b[0m\u001b[90m Int64    \u001b[0m\u001b[90m Type                  \u001b[0m\n",
      "─────┼────────────────────────────────────────────────────────────────────────────\n",
      "   1 │ Ozone      59.1154    7       60.0  135           5  Union{Missing, Int64}\n",
      "   2 │ Solar_R   216.484     7      253.0  314           0  Union{Missing, Int64}\n",
      "   3 │ Wind        8.94194   4.1      8.6   14.9         0  Float64\n",
      "   4 │ Temp       83.9032   73       84.0   92           0  Int64\n",
      "\n",
      "Month: 8\n",
      "\u001b[1m4×7 DataFrame\u001b[0m\n",
      "\u001b[1m Row \u001b[0m│\u001b[1m variable \u001b[0m\u001b[1m mean      \u001b[0m\u001b[1m min  \u001b[0m\u001b[1m median  \u001b[0m\u001b[1m max   \u001b[0m\u001b[1m nmissing \u001b[0m\u001b[1m eltype                \u001b[0m\n",
      "\u001b[1m     \u001b[0m│\u001b[90m Symbol   \u001b[0m\u001b[90m Float64   \u001b[0m\u001b[90m Real \u001b[0m\u001b[90m Float64 \u001b[0m\u001b[90m Real  \u001b[0m\u001b[90m Int64    \u001b[0m\u001b[90m Type                  \u001b[0m\n",
      "─────┼────────────────────────────────────────────────────────────────────────────\n",
      "   1 │ Ozone      59.9615    9       52.0  168           5  Union{Missing, Int64}\n",
      "   2 │ Solar_R   171.857    24      197.5  273           3  Union{Missing, Int64}\n",
      "   3 │ Wind        8.79355   2.3      8.6   15.5         0  Float64\n",
      "   4 │ Temp       83.9677   72       82.0   97           0  Int64\n",
      "\n",
      "Month: 9\n",
      "\u001b[1m4×7 DataFrame\u001b[0m\n",
      "\u001b[1m Row \u001b[0m│\u001b[1m variable \u001b[0m\u001b[1m mean     \u001b[0m\u001b[1m min  \u001b[0m\u001b[1m median  \u001b[0m\u001b[1m max   \u001b[0m\u001b[1m nmissing \u001b[0m\u001b[1m eltype                \u001b[0m\n",
      "\u001b[1m     \u001b[0m│\u001b[90m Symbol   \u001b[0m\u001b[90m Float64  \u001b[0m\u001b[90m Real \u001b[0m\u001b[90m Float64 \u001b[0m\u001b[90m Real  \u001b[0m\u001b[90m Int64    \u001b[0m\u001b[90m Type                  \u001b[0m\n",
      "─────┼───────────────────────────────────────────────────────────────────────────\n",
      "   1 │ Ozone      31.4483   7       23.0   96           1  Union{Missing, Int64}\n",
      "   2 │ Solar_R   167.433   14      192.0  259           0  Union{Missing, Int64}\n",
      "   3 │ Wind       10.18     2.8     10.3   16.6         0  Float64\n",
      "   4 │ Temp       76.9     63       76.0   93           0  Int64\n"
     ]
    }
   ],
   "source": [
    "for df in gdf\n",
    "    println(\"\\nMonth: \", df[1, :Month], \"\\n\", describe(select(df, Not(:Month))))\n",
    "end"
   ]
  },
  {
   "cell_type": "markdown",
   "id": "e625ae03-9ede-4df9-bbf2-6fc0d67afbed",
   "metadata": {},
   "source": [
    "## 1.3.2.　変数ごとに統計量を一覧表示\n",
    "\n",
    "変数ごとに一覧表示するには，いわゆるロングフォーマットにして処理をする必要がある。"
   ]
  },
  {
   "cell_type": "code",
   "execution_count": 275,
   "id": "adfe875e-7ef5-41be-83d8-c4f026e7e7e6",
   "metadata": {},
   "outputs": [
    {
     "data": {
      "text/html": [
       "<div class=\"data-frame\"><p>5 rows × 3 columns</p><table class=\"data-frame\"><thead><tr><th></th><th>Month</th><th>variable</th><th>value</th></tr><tr><th></th><th title=\"Int64\">Int64</th><th title=\"String\">String</th><th title=\"Union{Missing, Float64}\">Float64?</th></tr></thead><tbody><tr><th>1</th><td>5</td><td>Ozone</td><td>41.0</td></tr><tr><th>2</th><td>5</td><td>Ozone</td><td>36.0</td></tr><tr><th>3</th><td>5</td><td>Ozone</td><td>12.0</td></tr><tr><th>4</th><td>5</td><td>Ozone</td><td>18.0</td></tr><tr><th>5</th><td>5</td><td>Ozone</td><td><em>missing</em></td></tr></tbody></table></div>"
      ],
      "text/latex": [
       "\\begin{tabular}{r|ccc}\n",
       "\t& Month & variable & value\\\\\n",
       "\t\\hline\n",
       "\t& Int64 & String & Float64?\\\\\n",
       "\t\\hline\n",
       "\t1 & 5 & Ozone & 41.0 \\\\\n",
       "\t2 & 5 & Ozone & 36.0 \\\\\n",
       "\t3 & 5 & Ozone & 12.0 \\\\\n",
       "\t4 & 5 & Ozone & 18.0 \\\\\n",
       "\t5 & 5 & Ozone & \\emph{missing} \\\\\n",
       "\\end{tabular}\n"
      ],
      "text/plain": [
       "\u001b[1m5×3 DataFrame\u001b[0m\n",
       "\u001b[1m Row \u001b[0m│\u001b[1m Month \u001b[0m\u001b[1m variable \u001b[0m\u001b[1m value     \u001b[0m\n",
       "\u001b[1m     \u001b[0m│\u001b[90m Int64 \u001b[0m\u001b[90m String   \u001b[0m\u001b[90m Float64?  \u001b[0m\n",
       "─────┼────────────────────────────\n",
       "   1 │     5  Ozone          41.0\n",
       "   2 │     5  Ozone          36.0\n",
       "   3 │     5  Ozone          12.0\n",
       "   4 │     5  Ozone          18.0\n",
       "   5 │     5  Ozone    \u001b[90m missing   \u001b[0m"
      ]
     },
     "execution_count": 275,
     "metadata": {},
     "output_type": "execute_result"
    }
   ],
   "source": [
    "long = stack(select(airquality, Not(:Day)), [:Ozone, :Solar_R, :Wind, :Temp])\n",
    "gdf2 = groupby(long, [:variable, :Month]);\n",
    "first(gdf2[1], 5)"
   ]
  },
  {
   "cell_type": "code",
   "execution_count": 276,
   "id": "d0be92b3-635b-4f0e-b7e8-097f4c6f56d5",
   "metadata": {},
   "outputs": [
    {
     "name": "stdout",
     "output_type": "stream",
     "text": [
      "\u001b[1m20×6 DataFrame\u001b[0m\n",
      "\u001b[1m Row \u001b[0m│\u001b[1m variable \u001b[0m\u001b[1m Month \u001b[0m\u001b[1m nrow  \u001b[0m\u001b[1m n     \u001b[0m\u001b[1m Mean      \u001b[0m\u001b[1m SD        \u001b[0m\n",
      "\u001b[1m     \u001b[0m│\u001b[90m String   \u001b[0m\u001b[90m Int64 \u001b[0m\u001b[90m Int64 \u001b[0m\u001b[90m Int64 \u001b[0m\u001b[90m Float64   \u001b[0m\u001b[90m Float64   \u001b[0m\n",
      "─────┼─────────────────────────────────────────────────────\n",
      "   1 │ Ozone         5     31     26   23.6154    22.2244\n",
      "   2 │ Ozone         6     30      9   29.4444    18.2079\n",
      "   3 │ Ozone         7     31     26   59.1154    31.6358\n",
      "   4 │ Ozone         8     31     26   59.9615    39.6812\n",
      "   5 │ Ozone         9     30     29   31.4483    24.1418\n",
      "   6 │ Solar_R       5     31     27  181.296    115.075\n",
      "   7 │ Solar_R       6     30     30  190.167     92.883\n",
      "   8 │ Solar_R       7     31     31  216.484     80.5683\n",
      "   9 │ Solar_R       8     31     28  171.857     76.8349\n",
      "  10 │ Solar_R       9     30     30  167.433     79.1183\n",
      "  11 │ Wind          5     31     31   11.6226     3.53145\n",
      "  12 │ Wind          6     30     30   10.2667     3.76923\n",
      "  13 │ Wind          7     31     31    8.94194    3.03598\n",
      "  14 │ Wind          8     31     31    8.79355    3.22593\n",
      "  15 │ Wind          9     30     30   10.18       3.46125\n",
      "  16 │ Temp          5     31     31   65.5484     6.85487\n",
      "  17 │ Temp          6     30     30   79.1        6.59859\n",
      "  18 │ Temp          7     31     31   83.9032     4.31551\n",
      "  19 │ Temp          8     31     31   83.9677     6.58526\n",
      "  20 │ Temp          9     30     30   76.9        8.35567\n"
     ]
    }
   ],
   "source": [
    "result = combine(gdf2, nrow,\n",
    "    :value => (x -> length(filter(!ismissing, x))) => :n,\n",
    "    :value => (x -> mean(skipmissing(x))) => :Mean,\n",
    "    :value => (x -> std(skipmissing(x))) => :SD,\n",
    "    );\n",
    "result |> println"
   ]
  },
  {
   "cell_type": "markdown",
   "id": "d25413bd-38f8-4be3-bf45-54656335edc6",
   "metadata": {},
   "source": [
    "必要なら小分けにして表示すればよい。\n",
    "\n",
    "result.variable の型は String なので，Wind の結果だけを抽出するには result.variable .== \"Wind\" とする（:Wind ではないので注意）。"
   ]
  },
  {
   "cell_type": "code",
   "execution_count": 277,
   "id": "cdca3b90-aa1e-4056-b52d-410a01cd4d1d",
   "metadata": {},
   "outputs": [
    {
     "data": {
      "text/html": [
       "<div class=\"data-frame\"><p>5 rows × 3 columns</p><table class=\"data-frame\"><thead><tr><th></th><th>n</th><th>Mean</th><th>SD</th></tr><tr><th></th><th title=\"Int64\">Int64</th><th title=\"Float64\">Float64</th><th title=\"Float64\">Float64</th></tr></thead><tbody><tr><th>1</th><td>31</td><td>11.6226</td><td>3.53145</td></tr><tr><th>2</th><td>30</td><td>10.2667</td><td>3.76923</td></tr><tr><th>3</th><td>31</td><td>8.94194</td><td>3.03598</td></tr><tr><th>4</th><td>31</td><td>8.79355</td><td>3.22593</td></tr><tr><th>5</th><td>30</td><td>10.18</td><td>3.46125</td></tr></tbody></table></div>"
      ],
      "text/latex": [
       "\\begin{tabular}{r|ccc}\n",
       "\t& n & Mean & SD\\\\\n",
       "\t\\hline\n",
       "\t& Int64 & Float64 & Float64\\\\\n",
       "\t\\hline\n",
       "\t1 & 31 & 11.6226 & 3.53145 \\\\\n",
       "\t2 & 30 & 10.2667 & 3.76923 \\\\\n",
       "\t3 & 31 & 8.94194 & 3.03598 \\\\\n",
       "\t4 & 31 & 8.79355 & 3.22593 \\\\\n",
       "\t5 & 30 & 10.18 & 3.46125 \\\\\n",
       "\\end{tabular}\n"
      ],
      "text/plain": [
       "\u001b[1m5×3 DataFrame\u001b[0m\n",
       "\u001b[1m Row \u001b[0m│\u001b[1m n     \u001b[0m\u001b[1m Mean     \u001b[0m\u001b[1m SD      \u001b[0m\n",
       "\u001b[1m     \u001b[0m│\u001b[90m Int64 \u001b[0m\u001b[90m Float64  \u001b[0m\u001b[90m Float64 \u001b[0m\n",
       "─────┼──────────────────────────\n",
       "   1 │    31  11.6226   3.53145\n",
       "   2 │    30  10.2667   3.76923\n",
       "   3 │    31   8.94194  3.03598\n",
       "   4 │    31   8.79355  3.22593\n",
       "   5 │    30  10.18     3.46125"
      ]
     },
     "execution_count": 277,
     "metadata": {},
     "output_type": "execute_result"
    }
   ],
   "source": [
    "result[result.variable .== \"Wind\", [:n, :Mean, :SD]]"
   ]
  },
  {
   "cell_type": "code",
   "execution_count": 278,
   "id": "87bf94b5-4cc5-47bc-9c8b-297e5c8ae74f",
   "metadata": {},
   "outputs": [
    {
     "data": {
      "text/html": [
       "<div class=\"data-frame\"><p>5 rows × 3 columns</p><table class=\"data-frame\"><thead><tr><th></th><th>n</th><th>Wind_mean</th><th>Wind_std</th></tr><tr><th></th><th title=\"Int64\">Int64</th><th title=\"Float64\">Float64</th><th title=\"Float64\">Float64</th></tr></thead><tbody><tr><th>1</th><td>31</td><td>11.6226</td><td>3.53145</td></tr><tr><th>2</th><td>30</td><td>10.2667</td><td>3.76923</td></tr><tr><th>3</th><td>31</td><td>8.94194</td><td>3.03598</td></tr><tr><th>4</th><td>31</td><td>8.79355</td><td>3.22593</td></tr><tr><th>5</th><td>30</td><td>10.18</td><td>3.46125</td></tr></tbody></table></div>"
      ],
      "text/latex": [
       "\\begin{tabular}{r|ccc}\n",
       "\t& n & Wind\\_mean & Wind\\_std\\\\\n",
       "\t\\hline\n",
       "\t& Int64 & Float64 & Float64\\\\\n",
       "\t\\hline\n",
       "\t1 & 31 & 11.6226 & 3.53145 \\\\\n",
       "\t2 & 30 & 10.2667 & 3.76923 \\\\\n",
       "\t3 & 31 & 8.94194 & 3.03598 \\\\\n",
       "\t4 & 31 & 8.79355 & 3.22593 \\\\\n",
       "\t5 & 30 & 10.18 & 3.46125 \\\\\n",
       "\\end{tabular}\n"
      ],
      "text/plain": [
       "\u001b[1m5×3 DataFrame\u001b[0m\n",
       "\u001b[1m Row \u001b[0m│\u001b[1m n     \u001b[0m\u001b[1m Wind_mean \u001b[0m\u001b[1m Wind_std \u001b[0m\n",
       "\u001b[1m     \u001b[0m│\u001b[90m Int64 \u001b[0m\u001b[90m Float64   \u001b[0m\u001b[90m Float64  \u001b[0m\n",
       "─────┼────────────────────────────\n",
       "   1 │    31   11.6226    3.53145\n",
       "   2 │    30   10.2667    3.76923\n",
       "   3 │    31    8.94194   3.03598\n",
       "   4 │    31    8.79355   3.22593\n",
       "   5 │    30   10.18      3.46125"
      ]
     },
     "execution_count": 278,
     "metadata": {},
     "output_type": "execute_result"
    }
   ],
   "source": [
    "function temp(i, sym1, df)\n",
    "    combine(filter(x -> x[sym1] == i, df),\n",
    "    :Wind => (x -> length(filter(!ismissing, x))) => :n,\n",
    "    :Wind => mean,\n",
    "    :Wind => std)\n",
    "end\n",
    "result2 = temp(5, :Month, airquality);\n",
    "for i in 6:9\n",
    "    append!(result2, temp(i, :Month, airquality))\n",
    "end\n",
    "result2"
   ]
  },
  {
   "cell_type": "markdown",
   "id": "b2101e53-a34b-49ce-807b-2b21dca78e6d",
   "metadata": {},
   "source": [
    "月ごとの結果が必要なら Month でソートして表示する。"
   ]
  },
  {
   "cell_type": "code",
   "execution_count": 279,
   "id": "6e484452-266e-4a6e-ba34-6cc4a5d425a2",
   "metadata": {},
   "outputs": [
    {
     "data": {
      "text/html": [
       "<div class=\"data-frame\"><p>20 rows × 6 columns</p><table class=\"data-frame\"><thead><tr><th></th><th>variable</th><th>Month</th><th>nrow</th><th>n</th><th>Mean</th><th>SD</th></tr><tr><th></th><th title=\"String\">String</th><th title=\"Int64\">Int64</th><th title=\"Int64\">Int64</th><th title=\"Int64\">Int64</th><th title=\"Float64\">Float64</th><th title=\"Float64\">Float64</th></tr></thead><tbody><tr><th>1</th><td>Ozone</td><td>5</td><td>31</td><td>26</td><td>23.6154</td><td>22.2244</td></tr><tr><th>2</th><td>Solar_R</td><td>5</td><td>31</td><td>27</td><td>181.296</td><td>115.075</td></tr><tr><th>3</th><td>Wind</td><td>5</td><td>31</td><td>31</td><td>11.6226</td><td>3.53145</td></tr><tr><th>4</th><td>Temp</td><td>5</td><td>31</td><td>31</td><td>65.5484</td><td>6.85487</td></tr><tr><th>5</th><td>Ozone</td><td>6</td><td>30</td><td>9</td><td>29.4444</td><td>18.2079</td></tr><tr><th>6</th><td>Solar_R</td><td>6</td><td>30</td><td>30</td><td>190.167</td><td>92.883</td></tr><tr><th>7</th><td>Wind</td><td>6</td><td>30</td><td>30</td><td>10.2667</td><td>3.76923</td></tr><tr><th>8</th><td>Temp</td><td>6</td><td>30</td><td>30</td><td>79.1</td><td>6.59859</td></tr><tr><th>9</th><td>Ozone</td><td>7</td><td>31</td><td>26</td><td>59.1154</td><td>31.6358</td></tr><tr><th>10</th><td>Solar_R</td><td>7</td><td>31</td><td>31</td><td>216.484</td><td>80.5683</td></tr><tr><th>11</th><td>Wind</td><td>7</td><td>31</td><td>31</td><td>8.94194</td><td>3.03598</td></tr><tr><th>12</th><td>Temp</td><td>7</td><td>31</td><td>31</td><td>83.9032</td><td>4.31551</td></tr><tr><th>13</th><td>Ozone</td><td>8</td><td>31</td><td>26</td><td>59.9615</td><td>39.6812</td></tr><tr><th>14</th><td>Solar_R</td><td>8</td><td>31</td><td>28</td><td>171.857</td><td>76.8349</td></tr><tr><th>15</th><td>Wind</td><td>8</td><td>31</td><td>31</td><td>8.79355</td><td>3.22593</td></tr><tr><th>16</th><td>Temp</td><td>8</td><td>31</td><td>31</td><td>83.9677</td><td>6.58526</td></tr><tr><th>17</th><td>Ozone</td><td>9</td><td>30</td><td>29</td><td>31.4483</td><td>24.1418</td></tr><tr><th>18</th><td>Solar_R</td><td>9</td><td>30</td><td>30</td><td>167.433</td><td>79.1183</td></tr><tr><th>19</th><td>Wind</td><td>9</td><td>30</td><td>30</td><td>10.18</td><td>3.46125</td></tr><tr><th>20</th><td>Temp</td><td>9</td><td>30</td><td>30</td><td>76.9</td><td>8.35567</td></tr></tbody></table></div>"
      ],
      "text/latex": [
       "\\begin{tabular}{r|cccccc}\n",
       "\t& variable & Month & nrow & n & Mean & SD\\\\\n",
       "\t\\hline\n",
       "\t& String & Int64 & Int64 & Int64 & Float64 & Float64\\\\\n",
       "\t\\hline\n",
       "\t1 & Ozone & 5 & 31 & 26 & 23.6154 & 22.2244 \\\\\n",
       "\t2 & Solar\\_R & 5 & 31 & 27 & 181.296 & 115.075 \\\\\n",
       "\t3 & Wind & 5 & 31 & 31 & 11.6226 & 3.53145 \\\\\n",
       "\t4 & Temp & 5 & 31 & 31 & 65.5484 & 6.85487 \\\\\n",
       "\t5 & Ozone & 6 & 30 & 9 & 29.4444 & 18.2079 \\\\\n",
       "\t6 & Solar\\_R & 6 & 30 & 30 & 190.167 & 92.883 \\\\\n",
       "\t7 & Wind & 6 & 30 & 30 & 10.2667 & 3.76923 \\\\\n",
       "\t8 & Temp & 6 & 30 & 30 & 79.1 & 6.59859 \\\\\n",
       "\t9 & Ozone & 7 & 31 & 26 & 59.1154 & 31.6358 \\\\\n",
       "\t10 & Solar\\_R & 7 & 31 & 31 & 216.484 & 80.5683 \\\\\n",
       "\t11 & Wind & 7 & 31 & 31 & 8.94194 & 3.03598 \\\\\n",
       "\t12 & Temp & 7 & 31 & 31 & 83.9032 & 4.31551 \\\\\n",
       "\t13 & Ozone & 8 & 31 & 26 & 59.9615 & 39.6812 \\\\\n",
       "\t14 & Solar\\_R & 8 & 31 & 28 & 171.857 & 76.8349 \\\\\n",
       "\t15 & Wind & 8 & 31 & 31 & 8.79355 & 3.22593 \\\\\n",
       "\t16 & Temp & 8 & 31 & 31 & 83.9677 & 6.58526 \\\\\n",
       "\t17 & Ozone & 9 & 30 & 29 & 31.4483 & 24.1418 \\\\\n",
       "\t18 & Solar\\_R & 9 & 30 & 30 & 167.433 & 79.1183 \\\\\n",
       "\t19 & Wind & 9 & 30 & 30 & 10.18 & 3.46125 \\\\\n",
       "\t20 & Temp & 9 & 30 & 30 & 76.9 & 8.35567 \\\\\n",
       "\\end{tabular}\n"
      ],
      "text/plain": [
       "\u001b[1m20×6 DataFrame\u001b[0m\n",
       "\u001b[1m Row \u001b[0m│\u001b[1m variable \u001b[0m\u001b[1m Month \u001b[0m\u001b[1m nrow  \u001b[0m\u001b[1m n     \u001b[0m\u001b[1m Mean      \u001b[0m\u001b[1m SD        \u001b[0m\n",
       "\u001b[1m     \u001b[0m│\u001b[90m String   \u001b[0m\u001b[90m Int64 \u001b[0m\u001b[90m Int64 \u001b[0m\u001b[90m Int64 \u001b[0m\u001b[90m Float64   \u001b[0m\u001b[90m Float64   \u001b[0m\n",
       "─────┼─────────────────────────────────────────────────────\n",
       "   1 │ Ozone         5     31     26   23.6154    22.2244\n",
       "   2 │ Solar_R       5     31     27  181.296    115.075\n",
       "   3 │ Wind          5     31     31   11.6226     3.53145\n",
       "   4 │ Temp          5     31     31   65.5484     6.85487\n",
       "   5 │ Ozone         6     30      9   29.4444    18.2079\n",
       "   6 │ Solar_R       6     30     30  190.167     92.883\n",
       "   7 │ Wind          6     30     30   10.2667     3.76923\n",
       "   8 │ Temp          6     30     30   79.1        6.59859\n",
       "   9 │ Ozone         7     31     26   59.1154    31.6358\n",
       "  10 │ Solar_R       7     31     31  216.484     80.5683\n",
       "  11 │ Wind          7     31     31    8.94194    3.03598\n",
       "  12 │ Temp          7     31     31   83.9032     4.31551\n",
       "  13 │ Ozone         8     31     26   59.9615    39.6812\n",
       "  14 │ Solar_R       8     31     28  171.857     76.8349\n",
       "  15 │ Wind          8     31     31    8.79355    3.22593\n",
       "  16 │ Temp          8     31     31   83.9677     6.58526\n",
       "  17 │ Ozone         9     30     29   31.4483    24.1418\n",
       "  18 │ Solar_R       9     30     30  167.433     79.1183\n",
       "  19 │ Wind          9     30     30   10.18       3.46125\n",
       "  20 │ Temp          9     30     30   76.9        8.35567"
      ]
     },
     "execution_count": 279,
     "metadata": {},
     "output_type": "execute_result"
    }
   ],
   "source": [
    "sort(result, :Month)"
   ]
  },
  {
   "cell_type": "markdown",
   "id": "84f30efb-d4ff-4af7-ac9d-0c7ca0709702",
   "metadata": {},
   "source": [
    "以下のようなプログラムを書くこともできる。"
   ]
  },
  {
   "cell_type": "code",
   "execution_count": 280,
   "id": "b21e6304-3a74-4dfc-ba6a-efdd674cdbbc",
   "metadata": {},
   "outputs": [
    {
     "name": "stdout",
     "output_type": "stream",
     "text": [
      "\n",
      "Ozone\n",
      "\u001b[1m5×7 DataFrame\u001b[0m\n",
      "\u001b[1m Row \u001b[0m│\u001b[1m GroupKey     \u001b[0m\u001b[1m mean    \u001b[0m\u001b[1m min  \u001b[0m\u001b[1m median  \u001b[0m\u001b[1m max  \u001b[0m\u001b[1m nmissing \u001b[0m\u001b[1m eltype                \u001b[0m\n",
      "\u001b[1m     \u001b[0m│\u001b[90m String       \u001b[0m\u001b[90m Float64 \u001b[0m\u001b[90m Real \u001b[0m\u001b[90m Float64 \u001b[0m\u001b[90m Real \u001b[0m\u001b[90m Int64    \u001b[0m\u001b[90m Type                  \u001b[0m\n",
      "─────┼─────────────────────────────────────────────────────────────────────────────\n",
      "   1 │ (Month = 5,)  23.6154     1     18.0   115         5  Union{Missing, Int64}\n",
      "   2 │ (Month = 6,)  29.4444    12     23.0    71        21  Union{Missing, Int64}\n",
      "   3 │ (Month = 7,)  59.1154     7     60.0   135         5  Union{Missing, Int64}\n",
      "   4 │ (Month = 8,)  59.9615     9     52.0   168         5  Union{Missing, Int64}\n",
      "   5 │ (Month = 9,)  31.4483     7     23.0    96         1  Union{Missing, Int64}\n",
      "\n",
      "Solar_R\n",
      "\u001b[1m5×7 DataFrame\u001b[0m\n",
      "\u001b[1m Row \u001b[0m│\u001b[1m GroupKey     \u001b[0m\u001b[1m mean    \u001b[0m\u001b[1m min  \u001b[0m\u001b[1m median  \u001b[0m\u001b[1m max  \u001b[0m\u001b[1m nmissing \u001b[0m\u001b[1m eltype                \u001b[0m\n",
      "\u001b[1m     \u001b[0m│\u001b[90m String       \u001b[0m\u001b[90m Float64 \u001b[0m\u001b[90m Real \u001b[0m\u001b[90m Float64 \u001b[0m\u001b[90m Real \u001b[0m\u001b[90m Int64    \u001b[0m\u001b[90m Type                  \u001b[0m\n",
      "─────┼─────────────────────────────────────────────────────────────────────────────\n",
      "   1 │ (Month = 5,)  181.296     8    194.0   334         4  Union{Missing, Int64}\n",
      "   2 │ (Month = 6,)  190.167    31    188.5   332         0  Union{Missing, Int64}\n",
      "   3 │ (Month = 7,)  216.484     7    253.0   314         0  Union{Missing, Int64}\n",
      "   4 │ (Month = 8,)  171.857    24    197.5   273         3  Union{Missing, Int64}\n",
      "   5 │ (Month = 9,)  167.433    14    192.0   259         0  Union{Missing, Int64}\n",
      "\n",
      "Wind\n",
      "\u001b[1m5×7 DataFrame\u001b[0m\n",
      "\u001b[1m Row \u001b[0m│\u001b[1m GroupKey     \u001b[0m\u001b[1m mean     \u001b[0m\u001b[1m min  \u001b[0m\u001b[1m median  \u001b[0m\u001b[1m max  \u001b[0m\u001b[1m nmissing \u001b[0m\u001b[1m eltype  \u001b[0m\n",
      "\u001b[1m     \u001b[0m│\u001b[90m String       \u001b[0m\u001b[90m Float64  \u001b[0m\u001b[90m Real \u001b[0m\u001b[90m Float64 \u001b[0m\u001b[90m Real \u001b[0m\u001b[90m Int64    \u001b[0m\u001b[90m Type    \u001b[0m\n",
      "─────┼────────────────────────────────────────────────────────────────\n",
      "   1 │ (Month = 5,)  11.6226    5.7     11.5  20.1         0  Float64\n",
      "   2 │ (Month = 6,)  10.2667    1.7      9.7  20.7         0  Float64\n",
      "   3 │ (Month = 7,)   8.94194   4.1      8.6  14.9         0  Float64\n",
      "   4 │ (Month = 8,)   8.79355   2.3      8.6  15.5         0  Float64\n",
      "   5 │ (Month = 9,)  10.18      2.8     10.3  16.6         0  Float64\n",
      "\n",
      "Temp\n",
      "\u001b[1m5×7 DataFrame\u001b[0m\n",
      "\u001b[1m Row \u001b[0m│\u001b[1m GroupKey     \u001b[0m\u001b[1m mean    \u001b[0m\u001b[1m min  \u001b[0m\u001b[1m median  \u001b[0m\u001b[1m max  \u001b[0m\u001b[1m nmissing \u001b[0m\u001b[1m eltype \u001b[0m\n",
      "\u001b[1m     \u001b[0m│\u001b[90m String       \u001b[0m\u001b[90m Float64 \u001b[0m\u001b[90m Real \u001b[0m\u001b[90m Float64 \u001b[0m\u001b[90m Real \u001b[0m\u001b[90m Int64    \u001b[0m\u001b[90m Type   \u001b[0m\n",
      "─────┼──────────────────────────────────────────────────────────────\n",
      "   1 │ (Month = 5,)  65.5484    56     66.0    81         0  Int64\n",
      "   2 │ (Month = 6,)  79.1       65     78.0    93         0  Int64\n",
      "   3 │ (Month = 7,)  83.9032    73     84.0    92         0  Int64\n",
      "   4 │ (Month = 8,)  83.9677    72     82.0    97         0  Int64\n",
      "   5 │ (Month = 9,)  76.9       63     76.0    93         0  Int64\n"
     ]
    }
   ],
   "source": [
    "a = [describe(df) for df in gdf]\n",
    "variable = [:Ozone, :Solar_R, :Wind, :Temp]\n",
    "for i in variable\n",
    "    df = DataFrame[]\n",
    "    for j in 1:length(a)\n",
    "        pos = indexin([Symbol(i)], a[j][:, 1])[1]\n",
    "        ismissing(pos) && continue\n",
    "        row = DataFrame(a[j][pos, :])\n",
    "        if df == [] # first\n",
    "            df = row\n",
    "        else\n",
    "            append!(df, row)\n",
    "        end\n",
    "    end\n",
    "    println(\"\\n\", df[1,1])\n",
    "    rename!(df, 1 => :GroupKey)\n",
    "    nam = [replace(\"$key\", \"GroupKey: \" => \"\") for key in keys(gdf)]\n",
    "    df[!, 1] = nam\n",
    "    println(df)\n",
    "end"
   ]
  },
  {
   "cell_type": "code",
   "execution_count": 281,
   "id": "fa1b6a18-a6bb-4c6e-b46d-36a545664bd0",
   "metadata": {},
   "outputs": [
    {
     "name": "stdout",
     "output_type": "stream",
     "text": [
      "\n",
      "Ozone\n",
      "\u001b[1m5×4 DataFrame\u001b[0m\n",
      "\u001b[1m Row \u001b[0m│\u001b[1m Month \u001b[0m\u001b[1m n     \u001b[0m\u001b[1m Mean    \u001b[0m\u001b[1m SD      \u001b[0m\n",
      "\u001b[1m     \u001b[0m│\u001b[90m Int64 \u001b[0m\u001b[90m Int64 \u001b[0m\u001b[90m Float64 \u001b[0m\u001b[90m Float64 \u001b[0m\n",
      "─────┼────────────────────────────────\n",
      "   1 │     5     26  23.6154  22.2244\n",
      "   2 │     6      9  29.4444  18.2079\n",
      "   3 │     7     26  59.1154  31.6358\n",
      "   4 │     8     26  59.9615  39.6812\n",
      "   5 │     9     29  31.4483  24.1418\n",
      "\n",
      "Solar_R\n",
      "\u001b[1m5×4 DataFrame\u001b[0m\n",
      "\u001b[1m Row \u001b[0m│\u001b[1m Month \u001b[0m\u001b[1m n     \u001b[0m\u001b[1m Mean    \u001b[0m\u001b[1m SD       \u001b[0m\n",
      "\u001b[1m     \u001b[0m│\u001b[90m Int64 \u001b[0m\u001b[90m Int64 \u001b[0m\u001b[90m Float64 \u001b[0m\u001b[90m Float64  \u001b[0m\n",
      "─────┼─────────────────────────────────\n",
      "   1 │     5     27  181.296  115.075\n",
      "   2 │     6     30  190.167   92.883\n",
      "   3 │     7     31  216.484   80.5683\n",
      "   4 │     8     28  171.857   76.8349\n",
      "   5 │     9     30  167.433   79.1183\n",
      "\n",
      "Wind\n",
      "\u001b[1m5×4 DataFrame\u001b[0m\n",
      "\u001b[1m Row \u001b[0m│\u001b[1m Month \u001b[0m\u001b[1m n     \u001b[0m\u001b[1m Mean     \u001b[0m\u001b[1m SD      \u001b[0m\n",
      "\u001b[1m     \u001b[0m│\u001b[90m Int64 \u001b[0m\u001b[90m Int64 \u001b[0m\u001b[90m Float64  \u001b[0m\u001b[90m Float64 \u001b[0m\n",
      "─────┼─────────────────────────────────\n",
      "   1 │     5     31  11.6226   3.53145\n",
      "   2 │     6     30  10.2667   3.76923\n",
      "   3 │     7     31   8.94194  3.03598\n",
      "   4 │     8     31   8.79355  3.22593\n",
      "   5 │     9     30  10.18     3.46125\n",
      "\n",
      "Temp\n",
      "\u001b[1m5×4 DataFrame\u001b[0m\n",
      "\u001b[1m Row \u001b[0m│\u001b[1m Month \u001b[0m\u001b[1m n     \u001b[0m\u001b[1m Mean    \u001b[0m\u001b[1m SD      \u001b[0m\n",
      "\u001b[1m     \u001b[0m│\u001b[90m Int64 \u001b[0m\u001b[90m Int64 \u001b[0m\u001b[90m Float64 \u001b[0m\u001b[90m Float64 \u001b[0m\n",
      "─────┼────────────────────────────────\n",
      "   1 │     5     31  65.5484  6.85487\n",
      "   2 │     6     30  79.1     6.59859\n",
      "   3 │     7     31  83.9032  4.31551\n",
      "   4 │     8     31  83.9677  6.58526\n",
      "   5 │     9     30  76.9     8.35567\n"
     ]
    }
   ],
   "source": [
    "using DataFrames, Statistics\n",
    "for variable in [:Ozone, :Solar_R, :Wind, :Temp]\n",
    "    println(\"\\n$variable\")\n",
    "    result = DataFrame[]\n",
    "    for i in 1:length(gdf)\n",
    "        each = dropmissing(select(gdf[i], [:Month, variable]))\n",
    "        res = combine(each, :Month => first => :Month, nrow => :n, variable => mean => :Mean, variable => std => :SD)\n",
    "        if result == []\n",
    "            result = res\n",
    "        else\n",
    "            result = vcat(result, res)\n",
    "        end\n",
    "    end\n",
    "    println(result)\n",
    "end"
   ]
  },
  {
   "cell_type": "markdown",
   "id": "8a137a67-c751-49dc-b4ee-8784c419380e",
   "metadata": {},
   "source": [
    "# 2.　二変量統計\n",
    "\n",
    "2変量の統計量は，ピアソンの積率相関係数 cor()，スピアマンの順位相関係数 corspearman()，ケンドールの順位相関係数 corkendall()，共分散 var() がある。"
   ]
  },
  {
   "cell_type": "code",
   "execution_count": 282,
   "id": "d837e0c2-c1f7-42dc-bb89-f8261346b1f7",
   "metadata": {},
   "outputs": [],
   "source": [
    "using RDatasets\n",
    "airquality = RDatasets.dataset(\"datasets\", \"airquality\");\n",
    "rename!(airquality, Dict(\"Solar.R\" => \"Solar_R\"));\n",
    "airquality2 = dropmissing(select(airquality, Not([:Month, :Day])));"
   ]
  },
  {
   "cell_type": "markdown",
   "id": "4467a3ec-fdd8-4d81-96df-ca6b313d620d",
   "metadata": {},
   "source": [
    "## 2.1.　欠損値を含まない場合\n",
    "\n",
    "### 2.1.1.　それぞれの関数を使う\n",
    "\n",
    "変数の対ごとに，関数を適用する。変数の指定法は色々ある。"
   ]
  },
  {
   "cell_type": "code",
   "execution_count": 283,
   "id": "63d0126b-8993-473e-8d5f-e83787edddb1",
   "metadata": {},
   "outputs": [
    {
     "name": "stdout",
     "output_type": "stream",
     "text": [
      "0.6985414096486389\n",
      "0.7729319330689582\n",
      "0.5861471249834473\n",
      "221.52072072072067\n",
      "221.52072072072067\n",
      "221.52072072072067\n",
      "221.52072072072067\n"
     ]
    }
   ],
   "source": [
    "cor(airquality2.Ozone, airquality2.Temp)         |> println\n",
    "corspearman(airquality2.Ozone, airquality2.Temp) |> println\n",
    "corkendall(airquality2.Ozone, airquality2.Temp)  |> println\n",
    "cov(airquality2.Ozone, airquality2.Temp)         |> println\n",
    "cov(airquality2[!, :Ozone], airquality2.Temp)    |> println\n",
    "cov(airquality2[!, \"Ozone\"], airquality2.Temp)   |> println\n",
    "cov(airquality2[!, 1], airquality2.Temp)         |> println"
   ]
  },
  {
   "cell_type": "markdown",
   "id": "5e10ca4d-2b7a-4ff2-b28e-121cf16d64b3",
   "metadata": {},
   "source": [
    "### 2.1.2　combine() を使う"
   ]
  },
  {
   "cell_type": "code",
   "execution_count": 284,
   "id": "9582ab17-a6a5-4e8f-87b4-d3d380478c91",
   "metadata": {},
   "outputs": [
    {
     "data": {
      "text/html": [
       "<div class=\"data-frame\"><p>1 rows × 4 columns</p><table class=\"data-frame\"><thead><tr><th></th><th>Ozone_Temp_cor</th><th>Ozone_Wind_cor</th><th>Ozone_Solar_R_cor</th><th>Ozone_Solar_R_corspearman</th></tr><tr><th></th><th title=\"Float64\">Float64</th><th title=\"Float64\">Float64</th><th title=\"Float64\">Float64</th><th title=\"Float64\">Float64</th></tr></thead><tbody><tr><th>1</th><td>0.698541</td><td>-0.612497</td><td>0.348342</td><td>0.348186</td></tr></tbody></table></div>"
      ],
      "text/latex": [
       "\\begin{tabular}{r|cccc}\n",
       "\t& Ozone\\_Temp\\_cor & Ozone\\_Wind\\_cor & Ozone\\_Solar\\_R\\_cor & Ozone\\_Solar\\_R\\_corspearman\\\\\n",
       "\t\\hline\n",
       "\t& Float64 & Float64 & Float64 & Float64\\\\\n",
       "\t\\hline\n",
       "\t1 & 0.698541 & -0.612497 & 0.348342 & 0.348186 \\\\\n",
       "\\end{tabular}\n"
      ],
      "text/plain": [
       "\u001b[1m1×4 DataFrame\u001b[0m\n",
       "\u001b[1m Row \u001b[0m│\u001b[1m Ozone_Temp_cor \u001b[0m\u001b[1m Ozone_Wind_cor \u001b[0m\u001b[1m Ozone_Solar_R_cor \u001b[0m\u001b[1m Ozone_Solar_R_corspe\u001b[0m ⋯\n",
       "\u001b[1m     \u001b[0m│\u001b[90m Float64        \u001b[0m\u001b[90m Float64        \u001b[0m\u001b[90m Float64           \u001b[0m\u001b[90m Float64             \u001b[0m ⋯\n",
       "─────┼──────────────────────────────────────────────────────────────────────────\n",
       "   1 │       0.698541       -0.612497           0.348342                   0.3 ⋯\n",
       "\u001b[36m                                                                1 column omitted\u001b[0m"
      ]
     },
     "execution_count": 284,
     "metadata": {},
     "output_type": "execute_result"
    }
   ],
   "source": [
    "combine(airquality2,\n",
    "    [:Ozone, :Temp] => cor,\n",
    "    [:Ozone, :Wind] => cor,\n",
    "    [:Ozone, :Solar_R] => cor,\n",
    "    [:Ozone, :Solar_R] => corspearman,\n",
    "    )"
   ]
  },
  {
   "cell_type": "markdown",
   "id": "e88c611f-804a-43f8-b381-dc437de7fcf7",
   "metadata": {},
   "source": [
    "## 2.2.　欠損値を含む場合\n",
    "\n",
    "### 2.2.1.　それぞれの関数を使う\n",
    "\n",
    "欠損値が含まれるデータの場合は，両方の変数がともに missing でないデータ対のみが分析に使われる。\n",
    "\n",
    "方法はいくつかあるが，airquality2 を作ったときと同じように，select() で 2 変数のみを含むデータフレームを作り，dropmissing() で欠損値を含むデータを除くのがもっとも簡単であろう。"
   ]
  },
  {
   "cell_type": "code",
   "execution_count": 285,
   "id": "141b5a6c-bbdc-4c57-8ab6-ecf0d15e15c8",
   "metadata": {},
   "outputs": [
    {
     "data": {
      "text/html": [
       "<div class=\"data-frame\"><p>3 rows × 2 columns</p><table class=\"data-frame\"><thead><tr><th></th><th>Ozone</th><th>Temp</th></tr><tr><th></th><th title=\"Int64\">Int64</th><th title=\"Int64\">Int64</th></tr></thead><tbody><tr><th>1</th><td>41</td><td>67</td></tr><tr><th>2</th><td>36</td><td>72</td></tr><tr><th>3</th><td>12</td><td>74</td></tr></tbody></table></div>"
      ],
      "text/latex": [
       "\\begin{tabular}{r|cc}\n",
       "\t& Ozone & Temp\\\\\n",
       "\t\\hline\n",
       "\t& Int64 & Int64\\\\\n",
       "\t\\hline\n",
       "\t1 & 41 & 67 \\\\\n",
       "\t2 & 36 & 72 \\\\\n",
       "\t3 & 12 & 74 \\\\\n",
       "\\end{tabular}\n"
      ],
      "text/plain": [
       "\u001b[1m3×2 DataFrame\u001b[0m\n",
       "\u001b[1m Row \u001b[0m│\u001b[1m Ozone \u001b[0m\u001b[1m Temp  \u001b[0m\n",
       "\u001b[1m     \u001b[0m│\u001b[90m Int64 \u001b[0m\u001b[90m Int64 \u001b[0m\n",
       "─────┼──────────────\n",
       "   1 │    41     67\n",
       "   2 │    36     72\n",
       "   3 │    12     74"
      ]
     },
     "execution_count": 285,
     "metadata": {},
     "output_type": "execute_result"
    }
   ],
   "source": [
    "df = dropmissing(airquality[:, [:Ozone, :Temp]]);\n",
    "first(df, 3)"
   ]
  },
  {
   "cell_type": "code",
   "execution_count": 286,
   "id": "d6eb1dc0-f5f9-484b-9000-7d5fb9da83bc",
   "metadata": {},
   "outputs": [
    {
     "name": "stdout",
     "output_type": "stream",
     "text": [
      "0.6983603421509318\n",
      "0.7740429554613014\n",
      "0.5862988215264407\n",
      "218.52121439280359\n"
     ]
    }
   ],
   "source": [
    "cor(df.Ozone, df.Temp)         |> println\n",
    "corspearman(df.Ozone, df.Temp) |> println\n",
    "corkendall(df.Ozone, df.Temp)  |> println\n",
    "cov(df.Ozone, df.Temp)         |> println"
   ]
  },
  {
   "cell_type": "markdown",
   "id": "9d4bb5e6-3aa3-4f53-a3f9-42ab8becd407",
   "metadata": {},
   "source": [
    "### 2.2.2.　combine() を使う\n",
    "\n",
    "欠損値処理を行う無名関数の記述が長いので，何回も使う場合は関数定義をしておくとよい。"
   ]
  },
  {
   "cell_type": "code",
   "execution_count": 287,
   "id": "c5b85e39-0ebb-4e44-ada6-c878e8537750",
   "metadata": {},
   "outputs": [
    {
     "data": {
      "text/html": [
       "<div class=\"data-frame\"><p>1 rows × 5 columns</p><table class=\"data-frame\"><thead><tr><th></th><th>Ozone_Temp_function</th><th>Ozone_Temp_cor2</th><th>Ozone_Wind_cor2</th><th>Ozone_Wind_function</th><th>Ozone_Wind_cov2</th></tr><tr><th></th><th title=\"Float64\">Float64</th><th title=\"Float64\">Float64</th><th title=\"Float64\">Float64</th><th title=\"Float64\">Float64</th><th title=\"Float64\">Float64</th></tr></thead><tbody><tr><th>1</th><td>0.69836</td><td>0.69836</td><td>-0.601547</td><td>-70.9385</td><td>-70.9385</td></tr></tbody></table></div>"
      ],
      "text/latex": [
       "\\begin{tabular}{r|ccccc}\n",
       "\t& Ozone\\_Temp\\_function & Ozone\\_Temp\\_cor2 & Ozone\\_Wind\\_cor2 & Ozone\\_Wind\\_function & Ozone\\_Wind\\_cov2\\\\\n",
       "\t\\hline\n",
       "\t& Float64 & Float64 & Float64 & Float64 & Float64\\\\\n",
       "\t\\hline\n",
       "\t1 & 0.69836 & 0.69836 & -0.601547 & -70.9385 & -70.9385 \\\\\n",
       "\\end{tabular}\n"
      ],
      "text/plain": [
       "\u001b[1m1×5 DataFrame\u001b[0m\n",
       "\u001b[1m Row \u001b[0m│\u001b[1m Ozone_Temp_function \u001b[0m\u001b[1m Ozone_Temp_cor2 \u001b[0m\u001b[1m Ozone_Wind_cor2 \u001b[0m\u001b[1m Ozone_Wind_funct\u001b[0m ⋯\n",
       "\u001b[1m     \u001b[0m│\u001b[90m Float64             \u001b[0m\u001b[90m Float64         \u001b[0m\u001b[90m Float64         \u001b[0m\u001b[90m Float64         \u001b[0m ⋯\n",
       "─────┼──────────────────────────────────────────────────────────────────────────\n",
       "   1 │             0.69836          0.69836        -0.601547             -70.9 ⋯\n",
       "\u001b[36m                                                               2 columns omitted\u001b[0m"
      ]
     },
     "execution_count": 287,
     "metadata": {},
     "output_type": "execute_result"
    }
   ],
   "source": [
    "cor2(x, y) = cor(Matrix(dropmissing(DataFrame(x=x, y=y))))[1,2]\n",
    "cov2(x, y) = cov(Matrix(dropmissing(DataFrame(x=x, y=y))))[1,2]\n",
    "combine(airquality,\n",
    "    [:Ozone, :Temp] => ((x, y) -> cor(Matrix(dropmissing(DataFrame(x=x, y=y))))[1,2]),\n",
    "    [:Ozone, :Temp] => cor2,\n",
    "    [:Ozone, :Wind] => cor2,\n",
    "    [:Ozone, :Wind] => ((x, y) -> cov(Matrix(dropmissing(DataFrame(x=x, y=y))))[1,2]),\n",
    "    [:Ozone, :Wind] => cov2,\n",
    "    )"
   ]
  },
  {
   "cell_type": "code",
   "execution_count": 288,
   "id": "4813f6f0-0f27-4c99-8ccf-316f78744c40",
   "metadata": {},
   "outputs": [
    {
     "name": "stdout",
     "output_type": "stream",
     "text": [
      "0.7729319330689582\n",
      "0.7740429554613014\n"
     ]
    }
   ],
   "source": [
    "corspearman(airquality2.Ozone, airquality2.Temp) |> println\n",
    "corspearman(df.Ozone, df.Temp) |> println"
   ]
  },
  {
   "cell_type": "markdown",
   "id": "45e0e709-5393-40ff-a865-38a3807f30ed",
   "metadata": {},
   "source": [
    "# 3.　相関係数行列，分散・共分散行列\n",
    "\n",
    "3 個以上の変数を含むデータにおいて，すべての2変数の組み合わせにおける統計量は，相関係数行列，分散共分散行列として得られる。\n",
    "\n",
    "## 3.1.　欠損値を含まない場合\n",
    "\n",
    "関連する変数すべてに欠損値がない場合はそれぞれの関数に行列変換したデータフレームを与えればよい。"
   ]
  },
  {
   "cell_type": "code",
   "execution_count": 289,
   "id": "1aeac9ca-17b7-4135-aa26-b4c7a2320fc0",
   "metadata": {},
   "outputs": [
    {
     "data": {
      "text/plain": [
       "4×4 Matrix{Float64}:\n",
       "  1.0        0.348342  -0.612497   0.698541\n",
       "  0.348342   1.0       -0.127183   0.294088\n",
       " -0.612497  -0.127183   1.0       -0.49719\n",
       "  0.698541   0.294088  -0.49719    1.0"
      ]
     },
     "metadata": {},
     "output_type": "display_data"
    }
   ],
   "source": [
    "cor(Matrix(airquality2)) |> display"
   ]
  },
  {
   "cell_type": "code",
   "execution_count": 290,
   "id": "c8d5b063-40e5-44d8-af4c-179d93971683",
   "metadata": {},
   "outputs": [
    {
     "data": {
      "text/plain": [
       "4×4 Matrix{Float64}:\n",
       "  1.0        0.348186   -0.605136    0.772932\n",
       "  0.348186   1.0        -0.0616964   0.209537\n",
       " -0.605136  -0.0616964   1.0        -0.499323\n",
       "  0.772932   0.209537   -0.499323    1.0"
      ]
     },
     "metadata": {},
     "output_type": "display_data"
    }
   ],
   "source": [
    "corspearman(Matrix(airquality2)) |> display"
   ]
  },
  {
   "cell_type": "code",
   "execution_count": 291,
   "id": "ba34d256-898a-4ac0-9005-5661794f7ea9",
   "metadata": {},
   "outputs": [
    {
     "data": {
      "text/plain": [
       "4×4 Matrix{Float64}:\n",
       "  1.0        0.240319   -0.440459    0.586147\n",
       "  0.240319   1.0        -0.0430135   0.142902\n",
       " -0.440459  -0.0430135   1.0        -0.362387\n",
       "  0.586147   0.142902   -0.362387    1.0"
      ]
     },
     "metadata": {},
     "output_type": "display_data"
    }
   ],
   "source": [
    "corkendall(Matrix(airquality2)) |> display"
   ]
  },
  {
   "cell_type": "code",
   "execution_count": 292,
   "id": "fccf3505-9b04-45e0-872a-1024ecfdcf81",
   "metadata": {},
   "outputs": [
    {
     "data": {
      "text/plain": [
       "4×4 Matrix{Float64}:\n",
       " 1107.29    1056.58    -72.5112  221.521\n",
       " 1056.58    8308.74    -41.2448  255.468\n",
       "  -72.5112   -41.2448   12.6573  -16.8572\n",
       "  221.521    255.468   -16.8572   90.8203"
      ]
     },
     "metadata": {},
     "output_type": "display_data"
    }
   ],
   "source": [
    "cov(Matrix(airquality2)) |> display"
   ]
  },
  {
   "cell_type": "markdown",
   "id": "8e25cde6-aee6-4631-bc0b-579c80b12ec6",
   "metadata": {},
   "source": [
    "## 3.2.　欠損値を含む場合\n",
    "\n",
    "対処法は 2 つある。1 つは，dropmissing() によって欠損値を含まない（リストワイズ除去）データフレームにして 「3.1.　欠損値を含まない場合」 を適用する。\n",
    "\n",
    "もう 1 つは，すべての 2 変数の組み合わせにおいて，2 変数の場合に示したペアワイズ除去により統計量を計算する。\n",
    "\n",
    "そのための関数を以下に示しておく。"
   ]
  },
  {
   "cell_type": "code",
   "execution_count": 293,
   "id": "3621d197-5f9a-4015-a5b0-9c51bef177bc",
   "metadata": {},
   "outputs": [
    {
     "data": {
      "text/plain": [
       "multi (generic function with 2 methods)"
      ]
     },
     "execution_count": 293,
     "metadata": {},
     "output_type": "execute_result"
    }
   ],
   "source": [
    "function multi(df, FUNC; samplesize=false)\n",
    "    n = ncol(df)\n",
    "    A = ones(n, n)\n",
    "    N = zeros(Int, n, n)\n",
    "    for i in 1:n\n",
    "        x = filter(!ismissing, df[:, i])\n",
    "        FUNC == cov && (A[i, i] = var(x))\n",
    "        N[i, i] = length(x)\n",
    "    end\n",
    "    for i in 1:n-1\n",
    "        for j in i+1:n\n",
    "            df2 = Matrix(dropmissing(df[:, [i, j]]))\n",
    "            A[j, i] = A[i, j] = FUNC(df2[:, 1], df2[:, 2])\n",
    "            N[j, i] = N[i, j] = size(df2, 1)\n",
    "        end\n",
    "    end\n",
    "    return (samplesize ? (A, N) : A)\n",
    "end"
   ]
  },
  {
   "cell_type": "markdown",
   "id": "f2c7a6ae-0174-456c-8ea1-714e17a6f75a",
   "metadata": {},
   "source": [
    "samplesize=false を指定すれば，2変数の組み合わせにおける有効サンプルサイズの行列を返す。そのときには，戻り値を 2 個受け取るので，左辺には 2 個の変数を指定しなければならない。1 つ目は統計量の行列，2 つ目がサンプルサイズ行列である。"
   ]
  },
  {
   "cell_type": "code",
   "execution_count": 294,
   "id": "5f08a505-8218-42b9-8422-4177edbc17d1",
   "metadata": {},
   "outputs": [
    {
     "data": {
      "text/plain": [
       "4×4 Matrix{Float64}:\n",
       "  1.0        0.348342   -0.601547    0.69836\n",
       "  0.348342   1.0        -0.0567917   0.27584\n",
       " -0.601547  -0.0567917   1.0        -0.457988\n",
       "  0.69836    0.27584    -0.457988    1.0"
      ]
     },
     "metadata": {},
     "output_type": "display_data"
    },
    {
     "data": {
      "text/plain": [
       "4×4 Matrix{Int64}:\n",
       " 116  111  116  116\n",
       " 111  146  146  146\n",
       " 116  146  153  153\n",
       " 116  146  153  153"
      ]
     },
     "metadata": {},
     "output_type": "display_data"
    }
   ],
   "source": [
    "df = select(airquality, Not([:Month, :Day]))\n",
    "A, N = multi(df, cor, samplesize=true)\n",
    "A|> display\n",
    "N|> display"
   ]
  },
  {
   "cell_type": "code",
   "execution_count": 295,
   "id": "c452471e-8c7f-4c2d-8db0-3dd8364c010d",
   "metadata": {},
   "outputs": [
    {
     "data": {
      "text/plain": [
       "4×4 Matrix{Float64}:\n",
       "  1.0        0.348186     -0.590155      0.774043\n",
       "  0.348186   1.0          -0.000977333   0.207428\n",
       " -0.590155  -0.000977333   1.0          -0.446541\n",
       "  0.774043   0.207428     -0.446541      1.0"
      ]
     },
     "metadata": {},
     "output_type": "display_data"
    }
   ],
   "source": [
    "multi(df, corspearman) |> display"
   ]
  },
  {
   "cell_type": "code",
   "execution_count": 296,
   "id": "5d449e4a-71b8-4e65-a874-383ba7a54986",
   "metadata": {},
   "outputs": [
    {
     "data": {
      "text/plain": [
       "4×4 Matrix{Float64}:\n",
       "  1.0       0.240319    -0.42836      0.586299\n",
       "  0.240319  1.0          0.00067856   0.144234\n",
       " -0.42836   0.00067856   1.0         -0.322242\n",
       "  0.586299  0.144234    -0.322242     1.0"
      ]
     },
     "metadata": {},
     "output_type": "display_data"
    }
   ],
   "source": [
    "multi(df, corkendall) |> display"
   ]
  },
  {
   "cell_type": "code",
   "execution_count": 297,
   "id": "b5f1989f-76c9-40d3-8879-09838b4b4f16",
   "metadata": {},
   "outputs": [
    {
     "data": {
      "text/plain": [
       "4×4 Matrix{Float64}:\n",
       " 1088.2     1056.58   -70.9385  218.521\n",
       " 1056.58    8110.52   -17.946   229.16\n",
       "  -70.9385   -17.946   12.4115  -15.2721\n",
       "  218.521    229.16   -15.2721   89.5913"
      ]
     },
     "metadata": {},
     "output_type": "display_data"
    }
   ],
   "source": [
    "multi(df, cov) |> display"
   ]
  }
 ],
 "metadata": {
  "kernelspec": {
   "display_name": "Julia 1.7.1",
   "language": "julia",
   "name": "julia-1.7"
  },
  "language_info": {
   "file_extension": ".jl",
   "mimetype": "application/julia",
   "name": "julia",
   "version": "1.7.1"
  }
 },
 "nbformat": 4,
 "nbformat_minor": 5
}
